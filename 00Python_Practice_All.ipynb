{
 "cells": [
  {
   "cell_type": "markdown",
   "id": "222569d1",
   "metadata": {
    "jp-MarkdownHeadingCollapsed": true
   },
   "source": [
    "### 1) Introduction to Python\n",
    "### 2) Applications of Pythob\n",
    "### 3) IDE's\n",
    "### 4) Python Interpreter\n",
    "### 5) indentation & Comments\n",
    "### 6) Keywords\n",
    "### 7) variables - Identifiers\n",
    "### 8) Built-in Types\n",
    "### 9) Assigning Values to Variables\n",
    "### 10) Input & Output Statements\n",
    "### 11) Type Conversion\n",
    "### 12) Operators\n",
    "### 13) Control Structures --> i)Conditional Statements ii) Jumping Statements iii) Loops\n",
    "### 14) Math & Random Modules\n",
    "### 15) List\n",
    "### 16) Tuple\n",
    "### 17) Strings\n",
    "### 18) Set\n",
    "### 19) Dictionary\n",
    "### 20) Functions\n",
    "### 21) Shallow copy vs deep copy in python\n",
    "### 22) List and Dictionary Comprehension\n",
    "### 23) Exception Handling\n",
    "### 24) Regular Expressions \n",
    "### *) Numpy\n",
    "### *) Pandas"
   ]
  },
  {
   "cell_type": "markdown",
   "id": "4abed862-83cd-4868-bfa6-3462744c16de",
   "metadata": {},
   "source": [
    "# 1. Introduction to Python\n",
    "Python is a high-level, interpreted programming language known for its simplicity and readability. It supports multiple programming paradigms like procedural, object-oriented, and functional programming."
   ]
  },
  {
   "cell_type": "markdown",
   "id": "646f6d84-c2af-4170-890f-e0b34833b294",
   "metadata": {},
   "source": [
    "# 2. Applications of Python\n",
    "Python is widely used in web development, data science, machine learning, automation, game development, and scripting. Its vast library ecosystem makes it suitable for diverse applications."
   ]
  },
  {
   "cell_type": "markdown",
   "id": "140f3f41-ddd6-4fce-9297-d295e30b9c31",
   "metadata": {},
   "source": [
    "# 3. IDEs for Python\n",
    "Integrated Development Environments (IDEs) like PyCharm, VS Code, Jupyter Notebook, and Spyder provide tools like debugging, code completion, and version control to enhance Python development."
   ]
  },
  {
   "cell_type": "markdown",
   "id": "092ae586-acae-463f-afa4-4be34a9bddf9",
   "metadata": {},
   "source": [
    "# 4. Python Interpreter\n",
    "The Python interpreter executes Python code line by line. It converts high-level code into machine code, allowing users to run Python scripts interactively or from saved files."
   ]
  },
  {
   "cell_type": "markdown",
   "id": "7c4b4639-b14d-47e0-8403-1adbc71194f0",
   "metadata": {},
   "source": [
    "# 5. Indentation & Comments in Python\n",
    "Indentation: Python uses indentation (spaces or tabs) to define the structure of code blocks instead of braces {} like other languages. It is mandatory for functions, loops, and conditional blocks.                                                                       \n",
    "Comments: Comments start with # and are used to add explanations or notes in the code. They are ignored by the Python interpreter.                 \n",
    "- Single-line Comments: Begin with # and explain a single line of code.\n",
    "- Multi-line Comments: Use triple quotes (''' or \"\"\") for multiple lines of explanatory text. Technically, they are docstrings but often used as comments."
   ]
  },
  {
   "cell_type": "code",
   "execution_count": 1,
   "id": "b0c6cd24-8cd0-479b-893c-03d13f9644f3",
   "metadata": {},
   "outputs": [
    {
     "name": "stdout",
     "output_type": "stream",
     "text": [
      "Hello, Hari!\n"
     ]
    }
   ],
   "source": [
    "# This is a comment explaining the code\n",
    "def greet(name):  # Function definition\n",
    "    if name:  # Indentation defines this block as part of 'if'\n",
    "        print(f\"Hello, {name}!\")  # Indentation defines this as part of 'if'\n",
    "    else:\n",
    "        print(\"Hello, Stranger!\")  # Part of 'else'\n",
    "\n",
    "greet(\"Hari\")  # Calling the function"
   ]
  },
  {
   "cell_type": "code",
   "execution_count": 2,
   "id": "82e36d47-2db4-4ad1-a14e-2027272bc56a",
   "metadata": {},
   "outputs": [
    {
     "name": "stdout",
     "output_type": "stream",
     "text": [
      "8\n"
     ]
    }
   ],
   "source": [
    "# This is a single-line comment explaining the function\n",
    "def add_numbers(a, b):  # Adds two numbers\n",
    "    \"\"\"\n",
    "    This is a multi-line comment or docstring.\n",
    "    It explains what the function does:\n",
    "    - Takes two inputs `a` and `b`.\n",
    "    - Returns their sum.\n",
    "    \"\"\"\n",
    "    return a + b\n",
    "\n",
    "# Calling the function and printing the result\n",
    "result = add_numbers(3, 5)  # Adding 3 and 5\n",
    "print(result)  # Output: 8\n"
   ]
  },
  {
   "cell_type": "markdown",
   "id": "b217c10d-524d-44ff-8edb-f24bc0755222",
   "metadata": {},
   "source": [
    "# 6. Keywords in Python.\n",
    "Keywords are reserved words in Python with predefined meanings. They cannot be used as variable names. Here’s a list of Python keywords and their uses with examples \n",
    "\n",
    "1. Control Flow Keywords\n",
    "    - if, elif, else: For conditional statements.\n",
    "    - for, while, break, continue: For loops and flow control.\n",
    "2. Variable Declaration and Value Keywords\n",
    "    - True, False, None: Boolean and null values\n",
    "3. Function and Class Keywords\n",
    "    - def: Defines a function.\n",
    "    - return: Returns a value from a function.\n",
    "    - class: Defines a class.\n",
    "4. Exception Handling Keywords\n",
    "    - try, except, finally, raise: Handle exceptions.\n",
    "5. Import and Module Keywords\n",
    "    - import, from, as: Import modules and alias names.\n",
    "6. Logical and Membership Keywords\n",
    "    - and, or, not: Logical operators.\n",
    "    - in, not in: Check membership.\n",
    "7. Iteration and Object Handling Keywords\n",
    "    - is, is not: Check object identity.\n",
    "    - with: Context manager, often used for files.\n",
    "8. Miscellaneous Keywords\n",
    "    - global: Declares a global variable.\n",
    "    - nonlocal: Accesses variables in the enclosing scope.\n",
    "    - lambda: Defines anonymous functions.\n",
    "    - pass: A placeholder for future code.\n",
    "    - assert: Debugging checks."
   ]
  },
  {
   "cell_type": "code",
   "execution_count": 3,
   "id": "3801a43b-d8b6-49a1-aa96-13454accdcd8",
   "metadata": {},
   "outputs": [
    {
     "name": "stdout",
     "output_type": "stream",
     "text": [
      "x is greater than 5\n"
     ]
    }
   ],
   "source": [
    "# Control Flow Keywords  if, elif, else: For conditional statements.\n",
    "\n",
    "x = 10\n",
    "if x > 5:\n",
    "    print(\"x is greater than 5\")\n",
    "elif x == 5:\n",
    "    print(\"x is equal to 5\")\n",
    "else:\n",
    "    print(\"x is less than 5\")"
   ]
  },
  {
   "cell_type": "code",
   "execution_count": 4,
   "id": "85fe3195-0c7e-45c7-976f-2e756bbc09f3",
   "metadata": {},
   "outputs": [
    {
     "name": "stdout",
     "output_type": "stream",
     "text": [
      "0\n",
      "2\n"
     ]
    }
   ],
   "source": [
    "# for, while, break, continue: For loops and flow control.\n",
    "\n",
    "for i in range(5):\n",
    "    if i == 3:\n",
    "        break  # Exit the loop\n",
    "    if i == 1:\n",
    "        continue  # Skip to next iteration\n",
    "    print(i)"
   ]
  },
  {
   "cell_type": "code",
   "execution_count": 5,
   "id": "87de040e-465b-43b0-a3fc-0a61ced6655a",
   "metadata": {},
   "outputs": [],
   "source": [
    "# 2) Variable Declaration and Value Keywords : True, False, None: Boolean and null values.\n",
    "\n",
    "is_active = True\n",
    "is_disabled = False\n",
    "data = None  # Represents no value"
   ]
  },
  {
   "cell_type": "code",
   "execution_count": 6,
   "id": "91c474f4-1cb6-4cf3-9ee1-274c0f8b3ea4",
   "metadata": {},
   "outputs": [],
   "source": [
    "# 3) Function and Class Keywords\n",
    "# def: Defines a function.\n",
    "\n",
    "def greet(name):\n",
    "    return f\"Hello, {name}!\"\n",
    "\n",
    "# return: Returns a value from a function.\n",
    "def square(num):\n",
    "    return num * num\n",
    "\n",
    "#class: Defines a class.\n",
    "class Animal:\n",
    "    pass"
   ]
  },
  {
   "cell_type": "code",
   "execution_count": 7,
   "id": "75dae160-9f73-4907-a59e-6a137a943b91",
   "metadata": {},
   "outputs": [
    {
     "name": "stdout",
     "output_type": "stream",
     "text": [
      "Cannot divide by zero!\n",
      "Execution completed.\n"
     ]
    }
   ],
   "source": [
    "# 4. Exception Handling Keywords : try, except, finally, raise: Handle exceptions.\n",
    "try:\n",
    "    result = 10 / 0\n",
    "except ZeroDivisionError:\n",
    "    print(\"Cannot divide by zero!\")\n",
    "finally:\n",
    "    print(\"Execution completed.\")"
   ]
  },
  {
   "cell_type": "code",
   "execution_count": 8,
   "id": "c48545c5-7bfa-477e-a2d2-f72608a497ce",
   "metadata": {},
   "outputs": [
    {
     "name": "stdout",
     "output_type": "stream",
     "text": [
      "4.0\n"
     ]
    }
   ],
   "source": [
    "# 5. Import and Module Keywords : import, from, as: Import modules and alias names.\n",
    "\n",
    "import math as m\n",
    "print(m.sqrt(16))"
   ]
  },
  {
   "cell_type": "code",
   "execution_count": 9,
   "id": "8fd9b8ea-7c23-4237-b36e-4ade357a2dda",
   "metadata": {},
   "outputs": [
    {
     "name": "stdout",
     "output_type": "stream",
     "text": [
      "Condition is True\n",
      "Apple is in the list\n"
     ]
    }
   ],
   "source": [
    "# 6. Logical and Membership Keywords : \n",
    "\n",
    "#and, or, not: Logical operators.\n",
    "if True and not False:\n",
    "    print(\"Condition is True\")\n",
    "\n",
    "# in, not in: Check membership.\n",
    "fruits = [\"apple\", \"banana\"]\n",
    "if \"apple\" in fruits:\n",
    "    print(\"Apple is in the list\")"
   ]
  },
  {
   "cell_type": "code",
   "execution_count": 10,
   "id": "728a0ad0-25d5-49da-81c1-24ec1e1d1a49",
   "metadata": {},
   "outputs": [
    {
     "name": "stdout",
     "output_type": "stream",
     "text": [
      "True\n"
     ]
    }
   ],
   "source": [
    "# 7. Iteration and Object Handling Keywords\n",
    "#is, is not: Check object identity.\n",
    "x = [1, 2, 3]\n",
    "y = x\n",
    "print(x is y)  # True\n",
    "\n",
    "# with: Context manager, often used for files.\n",
    "with open(\"example.txt\", \"w\") as file:\n",
    "    file.write(\"Hello, World!\")"
   ]
  },
  {
   "cell_type": "code",
   "execution_count": 11,
   "id": "7ca6a8d3-a535-44e5-b593-20949128f683",
   "metadata": {},
   "outputs": [
    {
     "name": "stdout",
     "output_type": "stream",
     "text": [
      "16\n"
     ]
    }
   ],
   "source": [
    "# 8. Miscellaneous Keywords\n",
    "#global: Declares a global variable.\n",
    "global_var = 10\n",
    "def modify_global():\n",
    "    global global_var\n",
    "    global_var += 1\n",
    "\n",
    "#nonlocal: Accesses variables in the enclosing scope.\n",
    "def outer():\n",
    "    x = 10\n",
    "    def inner():\n",
    "        nonlocal x\n",
    "        x += 1\n",
    "    inner()\n",
    "    print(x)  # 11\n",
    "\n",
    "#lambda: Defines anonymous functions.\n",
    "square = lambda x: x * x\n",
    "print(square(4))  # 16\n",
    "\n",
    "#pass: A placeholder for future code.\n",
    "def placeholder():\n",
    "    pass\n",
    "    \n",
    "#assert: Debugging checks.\n",
    "x = 5\n",
    "assert x > 0, \"x must be positive\""
   ]
  },
  {
   "cell_type": "markdown",
   "id": "054b823b-0630-4b4e-ba46-3a12601cd415",
   "metadata": {},
   "source": [
    "# 7. variables - Identifiers"
   ]
  },
  {
   "cell_type": "markdown",
   "id": "f75391bd-5710-4356-aeae-c34eb91125ab",
   "metadata": {},
   "source": [
    "##### What are Variables?\n",
    "- Variables are used to store data that can be used and manipulated in a program.\n",
    "- They act as containers for values.\n",
    "- You assign a value to a variable using the = operator.\n",
    "##### What are Identifiers?\n",
    "- Identifiers are the names given to variables, functions, classes, etc.\n",
    "- They must follow these rules:\n",
    "    - Must begin with a letter (A-Z or a-z) or an underscore _.\n",
    "    - Can be followed by letters, digits (0-9), or underscores.\n",
    "    - Cannot be a Python keyword (e.g., if, else).\n",
    "    - Are case-sensitive (name and Name are different)."
   ]
  },
  {
   "cell_type": "code",
   "execution_count": 12,
   "id": "ff04ee2e-7d7f-4aa6-9f77-13bfedae150e",
   "metadata": {},
   "outputs": [
    {
     "name": "stdout",
     "output_type": "stream",
     "text": [
      "Name: Alice\n",
      "Age: 25\n",
      "Height: 160.5\n",
      "Age with uppercase: 30\n"
     ]
    }
   ],
   "source": [
    "# Variable Assignment\n",
    "age = 25  # 'age' is an identifier for the variable storing the value 25\n",
    "name = \"Alice\"  # 'name' is an identifier for the variable storing a string\n",
    "height_in_cm = 160.5  # Variable name with underscores\n",
    "\n",
    "# Print the variables\n",
    "print(\"Name:\", name)\n",
    "print(\"Age:\", age)\n",
    "print(\"Height:\", height_in_cm)\n",
    "\n",
    "# Case Sensitivity\n",
    "Age = 30  # Different from 'age'\n",
    "print(\"Age with uppercase:\", Age)"
   ]
  },
  {
   "cell_type": "markdown",
   "id": "bfc74703-4154-4274-ba3f-d6adea85b045",
   "metadata": {},
   "source": [
    "# 8. Built-in Types"
   ]
  },
  {
   "cell_type": "markdown",
   "id": "fe9c0dfd-c941-436e-b075-641d64785d6a",
   "metadata": {},
   "source": [
    "Python provides several built-in data types to store and manipulate different kinds of data. These are grouped into categories:\n",
    "- Numeric types: int, float, complex\n",
    "- Sequence types: str, list, tuple\n",
    "- Mapping types: dict\n",
    "- Set types: set, frozenset\n",
    "- Boolean type: bool\n",
    "- None type: NoneType"
   ]
  },
  {
   "cell_type": "code",
   "execution_count": 13,
   "id": "34c68529-fcdf-447a-aa87-57ce49334da6",
   "metadata": {},
   "outputs": [
    {
     "name": "stdout",
     "output_type": "stream",
     "text": [
      "<class 'int'> <class 'float'> <class 'complex'>\n",
      "--------------------------------\n",
      "<class 'str'> <class 'list'> <class 'tuple'>\n",
      "--------------------------------\n",
      "Alice\n",
      "<class 'dict'>\n",
      "--------------------------------\n",
      "{1, 2, 3}\n",
      "--------------------------------\n",
      "<class 'frozenset'>\n",
      "<class 'bool'>\n",
      "--------------------------------\n",
      "<class 'NoneType'>\n"
     ]
    }
   ],
   "source": [
    "# 1. Numeric Types :- int: Integer numbers. float: Decimal numbers. complex: Complex numbers.\n",
    "x = 10       # int\n",
    "y = 3.14     # float\n",
    "z = 2 + 3j   # complex\n",
    "print(type(x), type(y), type(z))  # Output: <class 'int'> <class 'float'> <class 'complex'>\n",
    "print('--------------------------------')\n",
    "# 2. Sequence Types :- str: Text (string). list: Ordered collection of items (mutable). tuple: Ordered collection of items (immutable).\n",
    "name = \"Python\"           # str\n",
    "numbers = [1, 2, 3, 4]    # list\n",
    "coordinates = (5, 10)     # tuple\n",
    "print(type(name), type(numbers), type(coordinates))  # Output: <class 'str'> <class 'list'> <class 'tuple'>\n",
    "print('--------------------------------')\n",
    "# 3. Mapping Type :- dict: Key-value pairs.\n",
    "person = {\"name\": \"Alice\", \"age\": 25}  # dict\n",
    "print(person[\"name\"])  # Output: Alice\n",
    "print(type(person))    # Output: <class 'dict'>\n",
    "print('--------------------------------')\n",
    "# 4. Set Types :- set: Unordered, unique items. frozenset: Immutable version of a set.\n",
    "unique_numbers = {1, 2, 3, 3}  # set\n",
    "print(unique_numbers)  # Output: {1, 2, 3}\n",
    "print('--------------------------------')\n",
    "immutable_set = frozenset(unique_numbers)\n",
    "print(type(immutable_set))  # Output: <class 'frozenset'>\n",
    "# 5. Boolean Type :- bool: Represents True or False.\n",
    "is_active = True  # bool\n",
    "is_admin = False  # bool\n",
    "print(type(is_active))  # Output: <class 'bool'>\n",
    "print('--------------------------------')\n",
    "# 6. None Type :- NoneType: Represents the absence of a value.\n",
    "value = None\n",
    "print(type(value))  # Output: <class 'NoneType'>"
   ]
  },
  {
   "cell_type": "markdown",
   "id": "c17ca469-47b4-4540-b3f3-da6008975dc8",
   "metadata": {},
   "source": [
    "### are Built-in Types and data types are same...?\n",
    "Yes, built-in types and data types in Python are closely related but are used in slightly different contexts. Here's how they connect and differ:\n",
    "\n",
    "- Built-in Types\n",
    "    - Refers specifically to the data types that come pre-defined with Python.\n",
    "    - These are implemented directly in Python and do not require any additional imports.\n",
    "- Data Types\n",
    "    - A broader term referring to the kind of value a variable can hold or represent.\n",
    "    - Can include built-in types and any user-defined types (like classes).\n",
    "    - Includes all built-in types, plus:\n",
    "        - Custom classes: Created by the user.\n",
    "        - Abstract types: Created through modules like collections.\n",
    "- Key Difference\n",
    "    - Built-in types are a subset of all data types.\n",
    "    - All built-in types are data types, but not all data types are built-in types.\n",
    "\n",
    "In short, built-in types are Python's default data types, whereas data types encompass both built-in and user-defined types."
   ]
  },
  {
   "cell_type": "code",
   "execution_count": 14,
   "id": "a9fe2469-5952-4414-b25b-b6a3c94fcfd0",
   "metadata": {},
   "outputs": [
    {
     "name": "stdout",
     "output_type": "stream",
     "text": [
      "<class 'int'>\n",
      "<class 'str'>\n",
      "<class '__main__.CustomType'>\n"
     ]
    }
   ],
   "source": [
    "# Built-in types\n",
    "num = 10          # int\n",
    "text = \"Hello\"    # str\n",
    "\n",
    "# User-defined type (a custom data type)\n",
    "class CustomType:\n",
    "    pass\n",
    "\n",
    "obj = CustomType()  # obj is of user-defined type\n",
    "\n",
    "print(type(num))    # Output: <class 'int'>\n",
    "print(type(text))   # Output: <class 'str'>\n",
    "print(type(obj))    # Output: <class '__main__.CustomType'>"
   ]
  },
  {
   "cell_type": "markdown",
   "id": "20ca7c7c-49f9-4b68-8e65-a1dddf3d4b93",
   "metadata": {},
   "source": [
    "# 9. Assigning Values to Variables"
   ]
  },
  {
   "cell_type": "markdown",
   "id": "695bdbd7-60b9-4240-a531-8e413af25cbd",
   "metadata": {},
   "source": [
    "In Python, assigning values to variables means storing data in a variable so it can be reused. The assignment operator (=) is used to assign a value to a variable.      Syntax: variable_name = value      # variable_name: The name of the variable. #value: The data you want to store in the variable.                                                                  \n",
    "- Rules for Assignment:\n",
    "    - Variable names must start with a letter or an underscore (_).\n",
    "    - They can contain letters, numbers, and underscores.\n",
    "    - Variable names are case-sensitive (age and Age are different)."
   ]
  },
  {
   "cell_type": "code",
   "execution_count": 15,
   "id": "41751123-b5e0-4be8-9316-ed31a2fb9a65",
   "metadata": {},
   "outputs": [
    {
     "name": "stdout",
     "output_type": "stream",
     "text": [
      "Name: Alice\n",
      "Age: 25\n",
      "Height: 5.7\n"
     ]
    }
   ],
   "source": [
    "# Assigning values to variables\n",
    "name = \"Alice\"    # String value\n",
    "age = 25          # Integer value\n",
    "height = 5.7      # Float value\n",
    "\n",
    "# Printing the values\n",
    "print(\"Name:\", name)       # Output: Name: Alice\n",
    "print(\"Age:\", age)         # Output: Age: 25\n",
    "print(\"Height:\", height)   # Output: Height: 5.7"
   ]
  },
  {
   "cell_type": "markdown",
   "id": "a7fab359-157a-4d50-a293-7301efa98f55",
   "metadata": {},
   "source": [
    "##### Multiple Assignments:"
   ]
  },
  {
   "cell_type": "code",
   "execution_count": 16,
   "id": "4d0ed559-51b6-4338-8909-0421b6b6ef3c",
   "metadata": {},
   "outputs": [
    {
     "name": "stdout",
     "output_type": "stream",
     "text": [
      "1 2 3\n",
      "-------------------------------\n",
      "10 10 10\n"
     ]
    }
   ],
   "source": [
    "# we can assign values to multiple variables in one line\n",
    "x, y, z = 1, 2, 3\n",
    "print(x, y, z)  # Output: 1 2 3\n",
    "print(\"-------------------------------\")\n",
    "# we can also assign the same value to multiple variables:\n",
    "a = b = c = 10\n",
    "print(a, b, c)  # Output: 10 10 10"
   ]
  },
  {
   "cell_type": "markdown",
   "id": "58fac24d-3af5-4901-80fb-e60530052840",
   "metadata": {},
   "source": [
    "# 10. Input & Output Statements"
   ]
  },
  {
   "cell_type": "markdown",
   "id": "f19c52bb-5353-459c-b466-20897aaf87ec",
   "metadata": {},
   "source": [
    "Python provides simple and intuitive ways to accept input from users and display output.\n",
    "\n",
    "1. Input Statements\n",
    "    - The input() function is used to accept input from the user. It always returns the input as a string.\n",
    "    - Syntax : variable = input(prompt_message)\n",
    "    - prompt_message: A message displayed to the user before they enter input.\n",
    "\n",
    "2. Output Statements\n",
    "    - The print() function is used to display output to the console.\n",
    "    - Syntax : print(message, variable, ...)\n",
    "    - message: A string or expression to display.\n",
    "    - Multiple items can be printed by separating them with commas.\n",
    "      \n",
    "3. Key Points:\n",
    "    - Input: Always returned as a string, so type conversion may be necessary (e.g., int(input())).\n",
    "    - Output: Can format and combine multiple data types using print()."
   ]
  },
  {
   "cell_type": "raw",
   "id": "143b29d1-0200-4519-8279-8c33798e836d",
   "metadata": {},
   "source": []
  },
  {
   "cell_type": "code",
   "execution_count": 17,
   "id": "ae2a8abb-4ccb-4dcf-bb23-b391654b9fe5",
   "metadata": {},
   "outputs": [
    {
     "name": "stdin",
     "output_type": "stream",
     "text": [
      "Enter your name:  hari\n"
     ]
    },
    {
     "name": "stdout",
     "output_type": "stream",
     "text": [
      "Hello, hari\n"
     ]
    }
   ],
   "source": [
    "# example for : Input\n",
    "name = input(\"Enter your name: \")  # User enters: Alice\n",
    "print(\"Hello,\", name)             # Output: Hello, Alice"
   ]
  },
  {
   "cell_type": "code",
   "execution_count": 18,
   "id": "013aa923-0e36-4137-9e17-ecdce2d0efca",
   "metadata": {},
   "outputs": [
    {
     "name": "stdout",
     "output_type": "stream",
     "text": [
      "Your age is 25\n"
     ]
    }
   ],
   "source": [
    "# Example for : Output\n",
    "age = 25\n",
    "print(\"Your age is\", age)  # Output: Your age is 25"
   ]
  },
  {
   "cell_type": "code",
   "execution_count": 19,
   "id": "54d0becd-bc75-480e-96fc-2baab503419b",
   "metadata": {},
   "outputs": [
    {
     "name": "stdin",
     "output_type": "stream",
     "text": [
      "What's your name?  hari\n",
      "How old are you?  26\n"
     ]
    },
    {
     "name": "stdout",
     "output_type": "stream",
     "text": [
      "Hello, hari!\n",
      "You are 26 years old.\n"
     ]
    }
   ],
   "source": [
    "# Example: Combined Input and Output\n",
    "\n",
    "# Taking user input\n",
    "name = input(\"What's your name? \")\n",
    "age = input(\"How old are you? \")\n",
    "\n",
    "# Displaying the output\n",
    "print(\"Hello,\", name + \"!\")\n",
    "print(\"You are\", age, \"years old.\")"
   ]
  },
  {
   "cell_type": "code",
   "execution_count": 20,
   "id": "d9ebede9-63ac-4f00-b138-144f20f4fe86",
   "metadata": {},
   "outputs": [
    {
     "name": "stdin",
     "output_type": "stream",
     "text": [
      "Enter the first number:  23\n",
      "Enter the second number:  54\n"
     ]
    },
    {
     "name": "stdout",
     "output_type": "stream",
     "text": [
      "The sum is: 77\n"
     ]
    }
   ],
   "source": [
    "# Example with Type Conversion:\n",
    "# Accept two numbers and calculate their sum\n",
    "num1 = int(input(\"Enter the first number: \"))  # Converts input to integer\n",
    "num2 = int(input(\"Enter the second number: \"))\n",
    "sum = num1 + num2\n",
    "print(\"The sum is:\", sum)  # Output: The sum is: <sum>"
   ]
  },
  {
   "cell_type": "markdown",
   "id": "c16b606e-4ec0-4aa3-8034-ba21bed881c9",
   "metadata": {},
   "source": [
    "# 11. Type Conversion in Python"
   ]
  },
  {
   "cell_type": "markdown",
   "id": "88e10be0-29f1-4dcc-bdf1-9a9a0ee4c744",
   "metadata": {},
   "source": [
    "Type conversion refers to converting one data type into another. Python provides two types of type conversion:                                          \n",
    "    - Implicit Type Conversion (Automatic)                                                                  \n",
    "    - Explicit Type Conversion (Manual)    \n",
    "Implicit conversion happens automatically, typically when the data types are compatible (like combining integers and floats).                        \n",
    "Explicit conversion requires the use of conversion functions like int(), float(), and str().                                                       \n",
    "Type conversion may result in loss of data (e.g., converting a float with decimals to an integer)."
   ]
  },
  {
   "cell_type": "code",
   "execution_count": 21,
   "id": "2d97e95f-a1d1-44b1-b839-e2d273e6443d",
   "metadata": {},
   "outputs": [
    {
     "name": "stdout",
     "output_type": "stream",
     "text": [
      "7.0\n"
     ]
    }
   ],
   "source": [
    "# 1. Implicit Type Conversion (Automatic)\n",
    "# This is automatically performed by Python when you try to assign or use a variable of one data type in an expression that requires another data type. Python handles this conversion for you.\n",
    "\n",
    "# Implicit type conversion (int to float)\n",
    "x = 5      # int\n",
    "y = 2.0    # float\n",
    "result = x + y  # Python converts 5 to float and performs the addition\n",
    "print(result)  # Output: 7.0 (float)\n",
    "# In this example, Python automatically converts the integer x to a float before performing the addition."
   ]
  },
  {
   "cell_type": "code",
   "execution_count": 22,
   "id": "54b3a04d-a04b-4358-9da5-a29520f3b3fa",
   "metadata": {},
   "outputs": [
    {
     "name": "stdout",
     "output_type": "stream",
     "text": [
      "15\n"
     ]
    }
   ],
   "source": [
    "# 2. Explicit Type Conversion (Manual)\n",
    "# Explicit type conversion requires the use of built-in functions to convert one type into another. This is done using functions like int(), float(), str(), etc.\n",
    "\n",
    "#Common Functions:\n",
    "#   int(): Converts a value to an integer.\n",
    "#   float(): Converts a value to a floating-point number.\n",
    "#   str(): Converts a value to a string.\n",
    "\n",
    "# Explicit type conversion\n",
    "x = \"10\"        # string\n",
    "y = 5           # integer\n",
    "\n",
    "x = int(x) # Convert string to integer\n",
    "\n",
    "# Now x and y are both integers\n",
    "sum = x + y\n",
    "print(sum)  # Output: 15\n",
    "# In this case, the string \"10\" is explicitly converted to an integer using int().\n",
    "\n"
   ]
  },
  {
   "cell_type": "markdown",
   "id": "641291f6-aae1-485b-901f-f0eacc638c4d",
   "metadata": {},
   "source": [
    "#####  Type Conversion for Different Data Types"
   ]
  },
  {
   "cell_type": "code",
   "execution_count": 23,
   "id": "9f322f6e-c1f3-4144-a8d0-277f646e631a",
   "metadata": {},
   "outputs": [
    {
     "name": "stdout",
     "output_type": "stream",
     "text": [
      "15\n",
      "15.0\n",
      "------------------------------------\n",
      "10\n",
      "<class 'str'>\n",
      "------------------------------------\n",
      "3\n"
     ]
    }
   ],
   "source": [
    "# String to Integer/Float:\n",
    "\n",
    "x = \"15\"\n",
    "x_int = int(x)     # Converts string \"15\" to integer\n",
    "x_float = float(x) # Converts string \"15\" to float\n",
    "\n",
    "print(x_int)    # Output: 15\n",
    "print(x_float)  # Output: 15.0\n",
    "print(\"------------------------------------\")\n",
    "# Integer to String:\n",
    "x = 10\n",
    "x_str = str(x)  # Converts integer 10 to string \"10\"\n",
    "print(x_str)    # Output: \"10\n",
    "print(type(x_str))\n",
    "print(\"------------------------------------\")\n",
    "# Float to Integer:\n",
    "\n",
    "x = 3.75\n",
    "x_int = int(x)  # Converts float 3.75 to integer 3 (truncates the decimal part)\n",
    "print(x_int)    # Output: 3\n"
   ]
  },
  {
   "cell_type": "markdown",
   "id": "f3ed697f-5b56-4835-a861-d21ca617e96f",
   "metadata": {},
   "source": [
    "##### Example: Handling Invalid Conversion"
   ]
  },
  {
   "cell_type": "code",
   "execution_count": 28,
   "id": "8ba3298d-3c39-45e7-a447-a0da874a8011",
   "metadata": {},
   "outputs": [
    {
     "name": "stdout",
     "output_type": "stream",
     "text": [
      "Cannot convert 'hello' to an integer.\n"
     ]
    }
   ],
   "source": [
    "# Invalid conversion (string to integer)\n",
    "x = \"hello\"\n",
    "try:\n",
    "    x_int = int(x)  # This will raise an error\n",
    "except ValueError:\n",
    "    print(\"Cannot convert 'hello' to an integer.\")\n",
    "# In this case, attempting to convert a non-numeric string (\"hello\") to an integer will raise a ValueError, which can be caught using exception handling"
   ]
  },
  {
   "cell_type": "markdown",
   "id": "7a5358bd-d077-49f2-8f1f-5d7f7f1f1c58",
   "metadata": {},
   "source": [
    "# 12. Operators\n",
    "- Operators are symbols used to perform operations on variables and values. Python supports several types of operators"
   ]
  },
  {
   "attachments": {
    "69623c76-9efd-44bb-af7b-b13da023b279.png": {
     "image/png": "[encoded data removed]"
    }
   },
   "cell_type": "markdown",
   "id": "ce24f990-2f41-4d60-be8d-9b0744cb93b5",
   "metadata": {},
   "source": [
    "![image.png](attachment:69623c76-9efd-44bb-af7b-b13da023b279.png)"
   ]
  },
  {
   "cell_type": "code",
   "execution_count": 35,
   "id": "ba6f7062-28e3-464c-a4d3-4f228ce2174a",
   "metadata": {},
   "outputs": [
    {
     "name": "stdout",
     "output_type": "stream",
     "text": [
      "8\n",
      "2\n",
      "15\n",
      "1.6666666666666667\n",
      "1\n",
      "2\n",
      "125\n"
     ]
    }
   ],
   "source": [
    "x = 5\n",
    "y = 3\n",
    "\n",
    "print(x + y)   # 5 + 3 = 8\n",
    "print(x - y)   # 5 - 3 = 2\n",
    "print(x * y)   # 5 * 3 = 15\n",
    "print(x / y)   # 5 / 3 = 1.6667\n",
    "print(x // y)  # 5 // 3 = 1\n",
    "print(x % y)   # 5 % 3 = 2 (remainder)\n",
    "print(x ** y)  # 5 raised to the power of 3 = 125"
   ]
  },
  {
   "attachments": {
    "6a6e20aa-1d4d-4ab6-b550-a9d9ecb94016.png": {
     "image/png": "[encoded data removed]"
    }
   },
   "cell_type": "markdown",
   "id": "24153d7e-ffd4-47e6-add0-8b10cd390838",
   "metadata": {},
   "source": [
    "![image.png](attachment:6a6e20aa-1d4d-4ab6-b550-a9d9ecb94016.png)"
   ]
  },
  {
   "cell_type": "code",
   "execution_count": 36,
   "id": "60728154-4a70-4508-9ebd-44940b1e88c3",
   "metadata": {},
   "outputs": [
    {
     "name": "stdout",
     "output_type": "stream",
     "text": [
      "False\n",
      "True\n",
      "True\n",
      "False\n",
      "True\n",
      "False\n"
     ]
    }
   ],
   "source": [
    "x = 5\n",
    "y = 3\n",
    "\n",
    "print(x == y)  # 5 == 3? False\n",
    "print(x != y)  # 5 != 3? True\n",
    "print(x > y)   # 5 > 3? True\n",
    "print(x < y)   # 5 < 3? False\n",
    "print(x >= y)  # 5 >= 3? True\n",
    "print(x <= y)  # 5 <= 3? False"
   ]
  },
  {
   "attachments": {
    "552f7c24-dacc-435c-9718-ea078d10ede8.png": {
     "image/png": "[encoded data removed]"
    }
   },
   "cell_type": "markdown",
   "id": "4d166d4a-c89f-4fec-bff0-2317c61617b0",
   "metadata": {},
   "source": [
    "![image.png](attachment:552f7c24-dacc-435c-9718-ea078d10ede8.png)"
   ]
  },
  {
   "cell_type": "code",
   "execution_count": 37,
   "id": "a56cb33b-597f-47e9-a98a-a43d82bbb6c0",
   "metadata": {},
   "outputs": [
    {
     "name": "stdout",
     "output_type": "stream",
     "text": [
      "False\n",
      "True\n",
      "False\n"
     ]
    }
   ],
   "source": [
    "x = True\n",
    "y = False\n",
    "\n",
    "print(x and y)  # True and False = False\n",
    "print(x or y)   # True or False = True\n",
    "print(not x)    # not True = False"
   ]
  },
  {
   "attachments": {
    "b87caaf8-1502-4e60-9ce2-f30525660d0e.png": {
     "image/png": "[encoded data removed]"
    }
   },
   "cell_type": "markdown",
   "id": "083e62bc-415c-4497-998a-c5b852ad86a5",
   "metadata": {},
   "source": [
    "![image.png](attachment:b87caaf8-1502-4e60-9ce2-f30525660d0e.png)"
   ]
  },
  {
   "cell_type": "code",
   "execution_count": 39,
   "id": "908828c8-927f-4ca7-8a34-675f7b836199",
   "metadata": {},
   "outputs": [
    {
     "name": "stdout",
     "output_type": "stream",
     "text": [
      "5\n",
      "8\n",
      "5\n",
      "15\n",
      "5.0\n"
     ]
    }
   ],
   "source": [
    "x = 5\n",
    "print(x)\n",
    "x += 3  # x = x + 3\n",
    "print(x)  # Output: 8\n",
    "\n",
    "x -= 3  # x = x - 3\n",
    "print(x)  # Output: 5\n",
    "\n",
    "x *= 3  # x = x * 3\n",
    "print(x)  # Output: 15\n",
    "\n",
    "x /= 3  # x = x / 3\n",
    "print(x)  # Output: 5.0"
   ]
  },
  {
   "attachments": {
    "1c08b3a7-b6db-43f0-9ef2-b19e998ec624.png": {
     "image/png": "[encoded data removed]"
    }
   },
   "cell_type": "markdown",
   "id": "01f33f79-f3f6-4fc8-a78c-e4e601bf3d74",
   "metadata": {},
   "source": [
    "![image.png](attachment:1c08b3a7-b6db-43f0-9ef2-b19e998ec624.png)"
   ]
  },
  {
   "cell_type": "code",
   "execution_count": 40,
   "id": "04f3cb1d-41dc-4100-a7b2-9d56555db9fd",
   "metadata": {},
   "outputs": [
    {
     "name": "stdout",
     "output_type": "stream",
     "text": [
      "1\n",
      "7\n",
      "6\n",
      "-6\n",
      "10\n",
      "2\n"
     ]
    }
   ],
   "source": [
    "x = 5  # Binary: 101\n",
    "y = 3  # Binary: 011\n",
    "\n",
    "print(x & y)  # AND: 101 & 011 = 001 (1 in decimal)\n",
    "print(x | y)  # OR: 101 | 011 = 111 (7 in decimal)\n",
    "print(x ^ y)  # XOR: 101 ^ 011 = 110 (6 in decimal)\n",
    "print(~x)     # NOT: ~101 = -110 (in decimal, it's -6)\n",
    "print(x << 1) # Left shift: 101 << 1 = 1010 (10 in decimal)\n",
    "print(x >> 1) # Right shift: 101 >> 1 = 010 (2 in decimal)"
   ]
  },
  {
   "attachments": {
    "e24d99aa-f260-48d1-9708-5bb282c15b13.png": {
     "image/png": "[encoded data removed]"
    }
   },
   "cell_type": "markdown",
   "id": "9b7267c0-72c9-4749-be43-dd234ce0caf1",
   "metadata": {},
   "source": [
    "![image.png](attachment:e24d99aa-f260-48d1-9708-5bb282c15b13.png)"
   ]
  },
  {
   "cell_type": "code",
   "execution_count": 41,
   "id": "bfbc904c-4637-4459-9090-491ca609875c",
   "metadata": {},
   "outputs": [
    {
     "name": "stdout",
     "output_type": "stream",
     "text": [
      "True\n",
      "True\n"
     ]
    }
   ],
   "source": [
    "word = \"apple\"\n",
    "\n",
    "print('a' in word)  # 'a' in 'apple'? True\n",
    "print('b' not in word)  # 'b' not in 'apple'? True"
   ]
  },
  {
   "attachments": {
    "11b3844b-e753-4707-9268-cdb8646937b3.png": {
     "image/png": "[encoded data removed]"
    }
   },
   "cell_type": "markdown",
   "id": "d6f19bf6-69bd-48b6-9184-1a5647f10eae",
   "metadata": {},
   "source": [
    "![image.png](attachment:11b3844b-e753-4707-9268-cdb8646937b3.png)"
   ]
  },
  {
   "cell_type": "code",
   "execution_count": 42,
   "id": "be4a00d9-bb31-422c-a99d-3375ffebc467",
   "metadata": {},
   "outputs": [
    {
     "name": "stdout",
     "output_type": "stream",
     "text": [
      "False\n",
      "True\n"
     ]
    }
   ],
   "source": [
    "x = [1, 2, 3]\n",
    "y = [1, 2, 3]\n",
    "\n",
    "print(x is y)     # False, because they are different objects in memory\n",
    "print(x is not y) # True, because they are different objects"
   ]
  },
  {
   "cell_type": "code",
   "execution_count": null,
   "id": "dc6cd50b-1f3e-4d9d-a1e5-fe4773a3c9c6",
   "metadata": {},
   "outputs": [],
   "source": []
  },
  {
   "cell_type": "markdown",
   "id": "da9beb49-9459-4cb0-9490-0d15de32b9ec",
   "metadata": {},
   "source": [
    "# 13) Control Structures \n",
    "    - i)Conditional Statements : Conditional Statements: Use if, elif, and else to execute code based on conditions.\n",
    "    - ii) Jumping Statements   : Jumping Statements: Control the flow in loops or functions with break, continue, and pass.\n",
    "    - iii) Loop                : Use for and while to repeat codes"
   ]
  },
  {
   "cell_type": "markdown",
   "id": "e0c07ab8-d571-44ae-96bb-7f2e5c12c9c9",
   "metadata": {},
   "source": [
    "### i. Conditional Statements:\n",
    "    - Conditional statements in Python are used to execute certain blocks of code based on a condition or a set of conditions. The most common conditional statements are if, elif, and else."
   ]
  },
  {
   "cell_type": "code",
   "execution_count": 30,
   "id": "3dd851c0-98c3-4429-b627-314bf66e08a7",
   "metadata": {},
   "outputs": [
    {
     "name": "stdout",
     "output_type": "stream",
     "text": [
      "You are an adult.\n"
     ]
    }
   ],
   "source": [
    "age = 25\n",
    "\n",
    "if age < 13:\n",
    "    print(\"You are a child.\")\n",
    "elif age >= 13 and age < 18:\n",
    "    print(\"You are a teenager.\")\n",
    "else:\n",
    "    print(\"You are an adult.\")"
   ]
  },
  {
   "cell_type": "markdown",
   "id": "09b445b5-817d-433a-9877-d2764b6b61f7",
   "metadata": {},
   "source": [
    "### ii. Jumping Statements:\n",
    "    - Jumping statements allow the program to jump to different parts of the code. The most common jumping statements are break, continue, and pass.\n",
    "        - break: Exits the loop prematurely.\n",
    "        - continue: Skips the current iteration of the loop and proceeds to the next iteration.\n",
    "        - pass: Does nothing; it's a placeholder."
   ]
  },
  {
   "cell_type": "code",
   "execution_count": 32,
   "id": "f02f7a8e-f47b-4bf7-bfef-2c728efb84bd",
   "metadata": {},
   "outputs": [
    {
     "name": "stdout",
     "output_type": "stream",
     "text": [
      "0\n",
      "1\n",
      "2\n",
      "----------------------------------\n",
      "0\n",
      "1\n",
      "2\n",
      "4\n",
      "----------------------------------\n",
      "0\n",
      "1\n",
      "2\n",
      "3\n",
      "4\n"
     ]
    }
   ],
   "source": [
    "# break example\n",
    "for i in range(5):\n",
    "    if i == 3:\n",
    "        break  # Exit the loop when i is 3\n",
    "    print(i)\n",
    "print('----------------------------------')\n",
    "# continue example\n",
    "for i in range(5):\n",
    "    if i == 3:\n",
    "        continue  # Skip when i is 3\n",
    "    print(i)\n",
    "print('----------------------------------')\n",
    "# pass example\n",
    "for i in range(5):\n",
    "    if i == 3:\n",
    "        pass  # Do nothing when i is 3\n",
    "    print(i)"
   ]
  },
  {
   "cell_type": "markdown",
   "id": "078cc53e-1cb6-4e03-8237-df9bb8ed1729",
   "metadata": {},
   "source": [
    "### iii. Loops:\n",
    "    - Loops allow you to repeat a block of code multiple times. The two types of loops in Python are for loops and while loops."
   ]
  },
  {
   "cell_type": "code",
   "execution_count": 34,
   "id": "6884b456-6aca-4316-83ed-5f2d06873db7",
   "metadata": {},
   "outputs": [
    {
     "name": "stdout",
     "output_type": "stream",
     "text": [
      "0\n",
      "1\n",
      "2\n",
      "3\n",
      "4\n",
      "------------------\n",
      "0\n",
      "1\n",
      "2\n",
      "3\n",
      "4\n"
     ]
    }
   ],
   "source": [
    "\n",
    "\n",
    "\n",
    "# for loop: Used for iterating over a sequence (like a list, string, or range).\n",
    "for i in range(5):\n",
    "    print(i)\n",
    "\n",
    "print(\"------------------\")\n",
    "# ii) while loop: Repeats the code as long as a specified condition is True.\n",
    "i = 0\n",
    "while i < 5:\n",
    "    print(i)\n",
    "    i += 1\n",
    "\n"
   ]
  },
  {
   "cell_type": "code",
   "execution_count": null,
   "id": "f3e7a0c7-d13a-45c6-9068-2e7679e40118",
   "metadata": {},
   "outputs": [],
   "source": []
  },
  {
   "cell_type": "code",
   "execution_count": null,
   "id": "4251b6f8-d0c8-4ab4-96c1-6c04b85798b4",
   "metadata": {},
   "outputs": [],
   "source": []
  },
  {
   "cell_type": "code",
   "execution_count": null,
   "id": "b8873d90-aa7d-4fad-a265-2efe9a6c04d5",
   "metadata": {},
   "outputs": [],
   "source": []
  },
  {
   "cell_type": "code",
   "execution_count": null,
   "id": "87b72844-a35b-4057-bf8c-471b24130aa2",
   "metadata": {},
   "outputs": [],
   "source": []
  },
  {
   "cell_type": "code",
   "execution_count": null,
   "id": "bb0311a1-3817-4322-8e93-1d238d0f079e",
   "metadata": {},
   "outputs": [],
   "source": []
  },
  {
   "cell_type": "code",
   "execution_count": null,
   "id": "c9d2c568-fcca-4137-915f-2a5005005976",
   "metadata": {},
   "outputs": [],
   "source": []
  },
  {
   "cell_type": "code",
   "execution_count": null,
   "id": "c34fd0ff-ad79-4f7d-95f1-5179113553a7",
   "metadata": {},
   "outputs": [],
   "source": []
  },
  {
   "cell_type": "code",
   "execution_count": null,
   "id": "41c08305-0e2c-4629-a7d2-aa1acfb9e13e",
   "metadata": {},
   "outputs": [],
   "source": []
  },
  {
   "cell_type": "code",
   "execution_count": null,
   "id": "47bf01cb-3b05-4b57-8d29-264bda4a933f",
   "metadata": {},
   "outputs": [],
   "source": []
  },
  {
   "cell_type": "code",
   "execution_count": null,
   "id": "bf496238-0e17-42ba-85bd-42dc05bb170c",
   "metadata": {},
   "outputs": [],
   "source": []
  },
  {
   "cell_type": "code",
   "execution_count": null,
   "id": "d6219083-28d1-4384-8d25-83a89cd70724",
   "metadata": {},
   "outputs": [],
   "source": []
  },
  {
   "cell_type": "code",
   "execution_count": null,
   "id": "a95cd693-6619-402b-ba8f-32c00d74bcbd",
   "metadata": {},
   "outputs": [],
   "source": []
  },
  {
   "cell_type": "code",
   "execution_count": null,
   "id": "397a9de7-b6c1-4249-a43f-a4bbec2f42a1",
   "metadata": {},
   "outputs": [],
   "source": []
  },
  {
   "cell_type": "code",
   "execution_count": null,
   "id": "3ad88634-7709-4e75-a41c-2602037ff594",
   "metadata": {},
   "outputs": [],
   "source": []
  },
  {
   "cell_type": "code",
   "execution_count": null,
   "id": "d55901d0-a02b-44d4-912c-00f835fcb206",
   "metadata": {},
   "outputs": [],
   "source": []
  },
  {
   "cell_type": "code",
   "execution_count": null,
   "id": "bf9e37e2-3c8f-43dd-830b-f5de7bb3a267",
   "metadata": {},
   "outputs": [],
   "source": []
  },
  {
   "cell_type": "code",
   "execution_count": null,
   "id": "4d967d1e-2eb4-4805-a1b8-2f7a2fa1bfe8",
   "metadata": {},
   "outputs": [],
   "source": []
  },
  {
   "cell_type": "code",
   "execution_count": null,
   "id": "f80a6ec3-5926-4718-bf59-a7fa61afe126",
   "metadata": {},
   "outputs": [],
   "source": []
  },
  {
   "cell_type": "code",
   "execution_count": null,
   "id": "b1a0d26e-95ef-4d4b-be6c-6dc27cd43647",
   "metadata": {},
   "outputs": [],
   "source": []
  },
  {
   "cell_type": "markdown",
   "id": "a83d354a",
   "metadata": {},
   "source": [
    "# 14. Math Module & Random Module"
   ]
  },
  {
   "cell_type": "markdown",
   "id": "f43818d5",
   "metadata": {},
   "source": [
    "### Mathematical Functions\n",
    "    - ceil(x)\n",
    "    - copysign(x,y)\n",
    "    - fabs(x)\n",
    "    - factorial(x)\n",
    "    - floor(x)\n",
    "    - fsum(iterable)\n",
    "    - gcd(x,y)\n",
    "    - pow(x,y)\n",
    "    - sqrt(x)\n",
    "    - sin(x)\n",
    "    - cos(x)\n",
    "    - tan(x)\n",
    "    - pi\n",
    "    - e\n",
    "    - tau\n",
    "    - inf\n",
    "    - nan"
   ]
  },
  {
   "cell_type": "code",
   "execution_count": null,
   "id": "460893a4",
   "metadata": {},
   "outputs": [],
   "source": [
    "import math "
   ]
  },
  {
   "cell_type": "code",
   "execution_count": null,
   "id": "9e0b5938",
   "metadata": {},
   "outputs": [],
   "source": [
    "math.ceil(10.3)"
   ]
  },
  {
   "cell_type": "code",
   "execution_count": null,
   "id": "fe9d0ca7",
   "metadata": {},
   "outputs": [],
   "source": [
    "math.floor(10.4)"
   ]
  },
  {
   "cell_type": "code",
   "execution_count": null,
   "id": "eb135306",
   "metadata": {},
   "outputs": [],
   "source": [
    "a=10\n",
    "b=20\n",
    "math.copysign(a,b)"
   ]
  },
  {
   "cell_type": "code",
   "execution_count": null,
   "id": "1e05f1e9",
   "metadata": {},
   "outputs": [],
   "source": [
    "math.fabs(-12)"
   ]
  },
  {
   "cell_type": "code",
   "execution_count": null,
   "id": "1cfa0340",
   "metadata": {},
   "outputs": [],
   "source": [
    "math.factorial(5)"
   ]
  },
  {
   "cell_type": "code",
   "execution_count": null,
   "id": "e2e6d7ee",
   "metadata": {},
   "outputs": [],
   "source": [
    "math.fsum([10,20,5,5.5])  # iterable for only numeriacl values"
   ]
  },
  {
   "cell_type": "code",
   "execution_count": null,
   "id": "33b0b2fb",
   "metadata": {},
   "outputs": [],
   "source": [
    "math.gcd(3,10)"
   ]
  },
  {
   "cell_type": "code",
   "execution_count": null,
   "id": "936e8429",
   "metadata": {},
   "outputs": [],
   "source": [
    "math.pow(2,5) # function it will give float value most probably"
   ]
  },
  {
   "cell_type": "code",
   "execution_count": null,
   "id": "995d9386",
   "metadata": {},
   "outputs": [],
   "source": [
    "2**5        # "
   ]
  },
  {
   "cell_type": "code",
   "execution_count": null,
   "id": "f25c4e7f",
   "metadata": {},
   "outputs": [],
   "source": [
    "math.sqrt(16)"
   ]
  },
  {
   "cell_type": "code",
   "execution_count": null,
   "id": "0a560ce7",
   "metadata": {},
   "outputs": [],
   "source": [
    "math.sin(10)"
   ]
  },
  {
   "cell_type": "code",
   "execution_count": null,
   "id": "4d0d331e",
   "metadata": {},
   "outputs": [],
   "source": [
    "math.cos(10)"
   ]
  },
  {
   "cell_type": "code",
   "execution_count": null,
   "id": "1c786849",
   "metadata": {},
   "outputs": [],
   "source": [
    "math.tan(10)"
   ]
  },
  {
   "cell_type": "code",
   "execution_count": null,
   "id": "10cd25b2",
   "metadata": {},
   "outputs": [],
   "source": [
    "math.pi"
   ]
  },
  {
   "cell_type": "code",
   "execution_count": null,
   "id": "773f170b",
   "metadata": {},
   "outputs": [],
   "source": [
    "math.tau"
   ]
  },
  {
   "cell_type": "code",
   "execution_count": null,
   "id": "a4636ded",
   "metadata": {},
   "outputs": [],
   "source": [
    "math.e"
   ]
  },
  {
   "cell_type": "code",
   "execution_count": null,
   "id": "7744ae21",
   "metadata": {},
   "outputs": [],
   "source": [
    "math.inf"
   ]
  },
  {
   "cell_type": "code",
   "execution_count": null,
   "id": "36370c11",
   "metadata": {},
   "outputs": [],
   "source": [
    "math.nan"
   ]
  },
  {
   "cell_type": "markdown",
   "id": "47b75052",
   "metadata": {},
   "source": [
    "### Random Functions\n",
    "    - choice(seq)\n",
    "    - randrange(start,stop,step)\n",
    "    - random()\n",
    "    - shuffle()\n",
    "    - uniform()"
   ]
  },
  {
   "cell_type": "code",
   "execution_count": null,
   "id": "b6cd87a0",
   "metadata": {},
   "outputs": [],
   "source": [
    "import random"
   ]
  },
  {
   "cell_type": "code",
   "execution_count": null,
   "id": "b1ff98e3",
   "metadata": {},
   "outputs": [],
   "source": [
    "random.choice([1,2,3,4,5])"
   ]
  },
  {
   "cell_type": "code",
   "execution_count": null,
   "id": "97b27e4a",
   "metadata": {},
   "outputs": [],
   "source": [
    "random.randrange(1,20,2) # it will give integer value b/w ranges"
   ]
  },
  {
   "cell_type": "code",
   "execution_count": null,
   "id": "b3255f0e",
   "metadata": {},
   "outputs": [],
   "source": [
    "random.random()  # random it will give float value b/w 0 to 1"
   ]
  },
  {
   "cell_type": "code",
   "execution_count": null,
   "id": "7d75e65e",
   "metadata": {},
   "outputs": [],
   "source": [
    "l=[1,2,3,4,5,6]\n",
    "random.shuffle(l)\n",
    "l"
   ]
  },
  {
   "cell_type": "code",
   "execution_count": null,
   "id": "87d4ac9a",
   "metadata": {},
   "outputs": [],
   "source": [
    "random.uniform(1,20)   # samle like random it will give float value b/w ranges"
   ]
  },
  {
   "cell_type": "code",
   "execution_count": null,
   "id": "64fbb9dd",
   "metadata": {},
   "outputs": [],
   "source": []
  },
  {
   "cell_type": "markdown",
   "id": "7d86f812",
   "metadata": {},
   "source": [
    "# 15. List\n",
    "    - list it can access multiple data-types\n",
    "    - list we can enclosed with square-braces([])\n",
    "    - we can define values with help of comma separated values\n",
    "    - list is a mutable :- we can modify a list as per our requirements"
   ]
  },
  {
   "cell_type": "markdown",
   "id": "1d47351c",
   "metadata": {},
   "source": [
    "    - creating List\n",
    "    - Accessing elements from list\n",
    "    - Slicing              :- extracting some portion from all ready existing data\n",
    "    - Reassigning List elements\n",
    "    - Deleting elements\n",
    "    - multidimentional List\n",
    "    - Basc Operations :- +, *, len, min, max, sum, membership, iterations\n",
    "    - list comprehension\n",
    "    - Built-in methods\n",
    "        * append() :- Adds an element 'x' to the end of the list.\n",
    "        * extend() :- Extends the list by appending elements from the iterable.\n",
    "        * insert() :- Inserts an element 'x' at a specified position 'i' in the list.\n",
    "        * remove() :- Removes the first occurrence of element 'x' from the list.\n",
    "        * pop()    :- Removes and returns the element at index 'i'. If 'i' is not provided, it removes and returns the \n",
    "                      last element.\n",
    "        * sort()   :- Sorts the elements of the list in ascending order. Optional parameters 'key' and 'reverse' \n",
    "                      allow customization.\n",
    "        * count()  :- Returns the number of occurrences of element 'x' in the list.\n",
    "        * index()  :- Returns the index of the first occurrence of element 'x'. Optional parameters 'start' and 'end'\n",
    "                      specify the search range.\n",
    "        * reverse():- Reverses the order of elements in the list in-place."
   ]
  },
  {
   "cell_type": "code",
   "execution_count": null,
   "id": "6aa4f1a9",
   "metadata": {},
   "outputs": [],
   "source": [
    "# Creating a List\n",
    "a=[]"
   ]
  },
  {
   "cell_type": "code",
   "execution_count": null,
   "id": "740ee7bc",
   "metadata": {},
   "outputs": [],
   "source": [
    "type(a)"
   ]
  },
  {
   "cell_type": "code",
   "execution_count": null,
   "id": "b75c4258",
   "metadata": {},
   "outputs": [],
   "source": [
    "a=list()"
   ]
  },
  {
   "cell_type": "code",
   "execution_count": null,
   "id": "af3b7a23",
   "metadata": {},
   "outputs": [],
   "source": [
    "type(a)"
   ]
  },
  {
   "cell_type": "code",
   "execution_count": null,
   "id": "11b23a6f",
   "metadata": {},
   "outputs": [],
   "source": [
    "a=[10,20,30,40,\"hari\",3.556]  # sequence of elements :- multiple elements we are givong to a List "
   ]
  },
  {
   "cell_type": "code",
   "execution_count": null,
   "id": "6695eef9",
   "metadata": {},
   "outputs": [],
   "source": [
    "type(a)"
   ]
  },
  {
   "cell_type": "code",
   "execution_count": null,
   "id": "8c607079",
   "metadata": {},
   "outputs": [],
   "source": [
    "a"
   ]
  },
  {
   "cell_type": "code",
   "execution_count": null,
   "id": "1a557f22",
   "metadata": {},
   "outputs": [],
   "source": [
    "# List is Mutable"
   ]
  },
  {
   "cell_type": "code",
   "execution_count": null,
   "id": "921df1bd",
   "metadata": {},
   "outputs": [],
   "source": [
    "# Forword Index\n",
    "a[0] # accessing a element"
   ]
  },
  {
   "cell_type": "code",
   "execution_count": null,
   "id": "87ae2463",
   "metadata": {},
   "outputs": [],
   "source": [
    "a[0]=100  # Modifying list index as per our required element"
   ]
  },
  {
   "cell_type": "code",
   "execution_count": null,
   "id": "68875cab",
   "metadata": {},
   "outputs": [],
   "source": [
    "a"
   ]
  },
  {
   "cell_type": "code",
   "execution_count": null,
   "id": "3818ba60",
   "metadata": {},
   "outputs": [],
   "source": [
    "# Backword Index\n",
    "a[-1]"
   ]
  },
  {
   "cell_type": "code",
   "execution_count": null,
   "id": "a8b02832",
   "metadata": {},
   "outputs": [],
   "source": [
    "a[-2]"
   ]
  },
  {
   "cell_type": "code",
   "execution_count": null,
   "id": "27752cff",
   "metadata": {},
   "outputs": [],
   "source": [
    "# Slicing[start(default it will take 0):stop(by default it will take length of(list))]\n",
    "a[0:2]  # stop is excluding"
   ]
  },
  {
   "cell_type": "code",
   "execution_count": null,
   "id": "f6517871",
   "metadata": {},
   "outputs": [],
   "source": [
    "a[:]  "
   ]
  },
  {
   "cell_type": "markdown",
   "id": "b6116d49",
   "metadata": {},
   "source": [
    "###### Reassigning List Elements"
   ]
  },
  {
   "cell_type": "code",
   "execution_count": null,
   "id": "49cd7f7a",
   "metadata": {},
   "outputs": [],
   "source": [
    "a[0]"
   ]
  },
  {
   "cell_type": "code",
   "execution_count": null,
   "id": "d1070889",
   "metadata": {},
   "outputs": [],
   "source": [
    "a[0]=1000"
   ]
  },
  {
   "cell_type": "code",
   "execution_count": null,
   "id": "bd0f20b7",
   "metadata": {},
   "outputs": [],
   "source": [
    "a"
   ]
  },
  {
   "cell_type": "code",
   "execution_count": null,
   "id": "63139316",
   "metadata": {},
   "outputs": [],
   "source": [
    "# Deleting element\n",
    "del a[2]"
   ]
  },
  {
   "cell_type": "code",
   "execution_count": null,
   "id": "8fe00600",
   "metadata": {},
   "outputs": [],
   "source": [
    "a"
   ]
  },
  {
   "cell_type": "markdown",
   "id": "b48a0863",
   "metadata": {},
   "source": [
    "###### Multidimentional List"
   ]
  },
  {
   "cell_type": "code",
   "execution_count": null,
   "id": "66af062b",
   "metadata": {},
   "outputs": [],
   "source": [
    "a=[[1,2,3],[4,5,6]]"
   ]
  },
  {
   "cell_type": "code",
   "execution_count": null,
   "id": "82d30c70",
   "metadata": {},
   "outputs": [],
   "source": [
    "a"
   ]
  },
  {
   "cell_type": "code",
   "execution_count": null,
   "id": "c24b3b38",
   "metadata": {},
   "outputs": [],
   "source": [
    "a[0]"
   ]
  },
  {
   "cell_type": "code",
   "execution_count": null,
   "id": "50cab5ce",
   "metadata": {},
   "outputs": [],
   "source": [
    "a[0][1]  # 2 sub-scripts"
   ]
  },
  {
   "cell_type": "markdown",
   "id": "1a473fbf",
   "metadata": {},
   "source": [
    "### Basic Operations"
   ]
  },
  {
   "cell_type": "code",
   "execution_count": null,
   "id": "779dccdb",
   "metadata": {},
   "outputs": [],
   "source": [
    "a=[10,20,30]\n",
    "b=[40,50,60]"
   ]
  },
  {
   "cell_type": "code",
   "execution_count": null,
   "id": "b71ea5a4",
   "metadata": {},
   "outputs": [],
   "source": [
    "a+b # Concatination"
   ]
  },
  {
   "cell_type": "code",
   "execution_count": null,
   "id": "64a5cffd",
   "metadata": {},
   "outputs": [],
   "source": [
    "a*4 # repitation"
   ]
  },
  {
   "cell_type": "code",
   "execution_count": null,
   "id": "4418563f",
   "metadata": {},
   "outputs": [],
   "source": [
    "b*2"
   ]
  },
  {
   "cell_type": "code",
   "execution_count": null,
   "id": "08b71d86",
   "metadata": {},
   "outputs": [],
   "source": [
    "a"
   ]
  },
  {
   "cell_type": "code",
   "execution_count": null,
   "id": "29eb5923",
   "metadata": {},
   "outputs": [],
   "source": [
    "len(a)"
   ]
  },
  {
   "cell_type": "code",
   "execution_count": null,
   "id": "df46c91f",
   "metadata": {},
   "outputs": [],
   "source": [
    "min(a)"
   ]
  },
  {
   "cell_type": "code",
   "execution_count": null,
   "id": "9f924ebe",
   "metadata": {},
   "outputs": [],
   "source": [
    "max(a)"
   ]
  },
  {
   "cell_type": "code",
   "execution_count": null,
   "id": "f973a32c",
   "metadata": {},
   "outputs": [],
   "source": [
    "sum(a)"
   ]
  },
  {
   "cell_type": "code",
   "execution_count": null,
   "id": "e474704a",
   "metadata": {},
   "outputs": [],
   "source": [
    "# Membership :- in, not in\n",
    "10 in a"
   ]
  },
  {
   "cell_type": "code",
   "execution_count": null,
   "id": "9e42591e",
   "metadata": {},
   "outputs": [],
   "source": [
    "100 in a"
   ]
  },
  {
   "cell_type": "code",
   "execution_count": null,
   "id": "20a65cef",
   "metadata": {},
   "outputs": [],
   "source": [
    "100 not in a"
   ]
  },
  {
   "cell_type": "code",
   "execution_count": null,
   "id": "05098730",
   "metadata": {},
   "outputs": [],
   "source": [
    "for i in range(len(a)):\n",
    "    print(a[i])"
   ]
  },
  {
   "cell_type": "code",
   "execution_count": null,
   "id": "7f64b4a2",
   "metadata": {},
   "outputs": [],
   "source": [
    "for i in a:\n",
    "    print(i)"
   ]
  },
  {
   "cell_type": "markdown",
   "id": "7b40c0e7",
   "metadata": {},
   "source": [
    "### Built in functions"
   ]
  },
  {
   "cell_type": "code",
   "execution_count": null,
   "id": "870a28bd",
   "metadata": {},
   "outputs": [],
   "source": [
    "a=[]"
   ]
  },
  {
   "cell_type": "code",
   "execution_count": null,
   "id": "6d43b44b",
   "metadata": {},
   "outputs": [],
   "source": [
    "a"
   ]
  },
  {
   "cell_type": "code",
   "execution_count": null,
   "id": "bb7b3fd9",
   "metadata": {},
   "outputs": [],
   "source": [
    "a.append(10)"
   ]
  },
  {
   "cell_type": "code",
   "execution_count": null,
   "id": "2743a0df",
   "metadata": {},
   "outputs": [],
   "source": [
    "a"
   ]
  },
  {
   "cell_type": "code",
   "execution_count": null,
   "id": "e425776e",
   "metadata": {},
   "outputs": [],
   "source": [
    "a.append(10)"
   ]
  },
  {
   "cell_type": "code",
   "execution_count": null,
   "id": "2e16ab43",
   "metadata": {},
   "outputs": [],
   "source": [
    "a"
   ]
  },
  {
   "cell_type": "code",
   "execution_count": null,
   "id": "c1f9dd30",
   "metadata": {},
   "outputs": [],
   "source": [
    "a.append(20)"
   ]
  },
  {
   "cell_type": "code",
   "execution_count": null,
   "id": "4c8c44c1",
   "metadata": {},
   "outputs": [],
   "source": [
    "a.extend([30,60,50,40])"
   ]
  },
  {
   "cell_type": "code",
   "execution_count": null,
   "id": "30539118",
   "metadata": {},
   "outputs": [],
   "source": [
    "a"
   ]
  },
  {
   "cell_type": "code",
   "execution_count": null,
   "id": "f69f2559",
   "metadata": {},
   "outputs": [],
   "source": [
    "a.append([10,20])"
   ]
  },
  {
   "cell_type": "code",
   "execution_count": null,
   "id": "f8d9a765",
   "metadata": {},
   "outputs": [],
   "source": [
    "a"
   ]
  },
  {
   "cell_type": "code",
   "execution_count": null,
   "id": "be1e2747",
   "metadata": {},
   "outputs": [],
   "source": [
    "# Insert for specified index location :- insert(index,value)\n",
    "a.insert(1,222)"
   ]
  },
  {
   "cell_type": "code",
   "execution_count": null,
   "id": "e01a609b",
   "metadata": {},
   "outputs": [],
   "source": [
    "a"
   ]
  },
  {
   "cell_type": "code",
   "execution_count": null,
   "id": "33318a8d",
   "metadata": {},
   "outputs": [],
   "source": [
    "a.remove(10)     # 1st occurance will be removed"
   ]
  },
  {
   "cell_type": "code",
   "execution_count": null,
   "id": "4043924b",
   "metadata": {},
   "outputs": [],
   "source": [
    "a"
   ]
  },
  {
   "cell_type": "code",
   "execution_count": null,
   "id": "2fd07478",
   "metadata": {},
   "outputs": [],
   "source": [
    "a.pop()  # last added element will be removed (or) we can mention index number"
   ]
  },
  {
   "cell_type": "code",
   "execution_count": null,
   "id": "f42dd8fd",
   "metadata": {},
   "outputs": [],
   "source": [
    "a"
   ]
  },
  {
   "cell_type": "code",
   "execution_count": null,
   "id": "2bfc1481",
   "metadata": {},
   "outputs": [],
   "source": [
    "a.pop(0)"
   ]
  },
  {
   "cell_type": "code",
   "execution_count": null,
   "id": "ce7e61d5",
   "metadata": {},
   "outputs": [],
   "source": [
    "a"
   ]
  },
  {
   "cell_type": "code",
   "execution_count": null,
   "id": "e4764513",
   "metadata": {},
   "outputs": [],
   "source": [
    "del a[0]  # here also we can give index number"
   ]
  },
  {
   "cell_type": "code",
   "execution_count": null,
   "id": "9d13cd07",
   "metadata": {},
   "outputs": [],
   "source": [
    "a"
   ]
  },
  {
   "cell_type": "code",
   "execution_count": null,
   "id": "f084eba2",
   "metadata": {},
   "outputs": [],
   "source": [
    "del a # it will drop completely"
   ]
  },
  {
   "cell_type": "code",
   "execution_count": null,
   "id": "411388a5",
   "metadata": {},
   "outputs": [],
   "source": [
    "a"
   ]
  },
  {
   "cell_type": "code",
   "execution_count": null,
   "id": "52355c83",
   "metadata": {},
   "outputs": [],
   "source": [
    "a=[1,2,3,4,5,6,7,8,9]"
   ]
  },
  {
   "cell_type": "code",
   "execution_count": null,
   "id": "8ec8a1a2",
   "metadata": {},
   "outputs": [],
   "source": [
    "a"
   ]
  },
  {
   "cell_type": "code",
   "execution_count": null,
   "id": "44f75a4e",
   "metadata": {},
   "outputs": [],
   "source": [
    "import random"
   ]
  },
  {
   "cell_type": "code",
   "execution_count": null,
   "id": "ffc7f25e",
   "metadata": {},
   "outputs": [],
   "source": [
    "random.shuffle(a)"
   ]
  },
  {
   "cell_type": "code",
   "execution_count": null,
   "id": "a07c17d4",
   "metadata": {},
   "outputs": [],
   "source": [
    "a"
   ]
  },
  {
   "cell_type": "code",
   "execution_count": null,
   "id": "300ecc57",
   "metadata": {},
   "outputs": [],
   "source": [
    "a.sort()"
   ]
  },
  {
   "cell_type": "code",
   "execution_count": null,
   "id": "faa5e422",
   "metadata": {},
   "outputs": [],
   "source": [
    "a"
   ]
  },
  {
   "cell_type": "code",
   "execution_count": null,
   "id": "36f3364d",
   "metadata": {},
   "outputs": [],
   "source": [
    "random.shuffle(a)"
   ]
  },
  {
   "cell_type": "code",
   "execution_count": null,
   "id": "cb71431f",
   "metadata": {},
   "outputs": [],
   "source": [
    "a"
   ]
  },
  {
   "cell_type": "code",
   "execution_count": null,
   "id": "8540ef7c",
   "metadata": {},
   "outputs": [],
   "source": [
    "a.sort(reverse=True)"
   ]
  },
  {
   "cell_type": "code",
   "execution_count": null,
   "id": "af37c55c",
   "metadata": {},
   "outputs": [],
   "source": [
    "a"
   ]
  },
  {
   "cell_type": "code",
   "execution_count": null,
   "id": "c462f380",
   "metadata": {},
   "outputs": [],
   "source": [
    "a*3"
   ]
  },
  {
   "cell_type": "code",
   "execution_count": null,
   "id": "8458bdf3",
   "metadata": {},
   "outputs": [],
   "source": [
    "a"
   ]
  },
  {
   "cell_type": "code",
   "execution_count": null,
   "id": "9f960a40",
   "metadata": {},
   "outputs": [],
   "source": [
    "a=a*2"
   ]
  },
  {
   "cell_type": "code",
   "execution_count": null,
   "id": "839f1349",
   "metadata": {},
   "outputs": [],
   "source": [
    "a"
   ]
  },
  {
   "cell_type": "code",
   "execution_count": null,
   "id": "7692239d",
   "metadata": {},
   "outputs": [],
   "source": [
    "a.count(2)"
   ]
  },
  {
   "cell_type": "code",
   "execution_count": null,
   "id": "dfdc7e6e",
   "metadata": {},
   "outputs": [],
   "source": [
    "a.pop()"
   ]
  },
  {
   "cell_type": "code",
   "execution_count": null,
   "id": "8268c9d9",
   "metadata": {},
   "outputs": [],
   "source": [
    "a.count(1)"
   ]
  },
  {
   "cell_type": "code",
   "execution_count": null,
   "id": "c22e35e6",
   "metadata": {},
   "outputs": [],
   "source": [
    "a.index(9)   # 1st occurance element index "
   ]
  },
  {
   "cell_type": "code",
   "execution_count": null,
   "id": "1a1beca0",
   "metadata": {},
   "outputs": [],
   "source": [
    "a.reverse()"
   ]
  },
  {
   "cell_type": "code",
   "execution_count": null,
   "id": "329ddbdf",
   "metadata": {},
   "outputs": [],
   "source": [
    "a"
   ]
  },
  {
   "cell_type": "code",
   "execution_count": null,
   "id": "9e4077dd",
   "metadata": {},
   "outputs": [],
   "source": [
    "# List Comprehention\n",
    "a=[i**2 for i in range(0,100) if i%2==0]"
   ]
  },
  {
   "cell_type": "code",
   "execution_count": null,
   "id": "9ee71787",
   "metadata": {},
   "outputs": [],
   "source": [
    "a"
   ]
  },
  {
   "cell_type": "markdown",
   "id": "bbf4f5ba",
   "metadata": {},
   "source": [
    "# 16. Tuple\n",
    "    - set same like list data structure\n",
    "    - in tuple is a immutable :- we annot cahnge as per our requirement # cannot change, cannot add,cannot reassign\n",
    "    - in tuple we can given values with help of open paranthesis\n",
    "    - in tuple also we can store multiple datatypes\n",
    "    - in tuple we cannot modify structure, as per our requirements, still if we want to modify we need to convert list \n",
    "      and make modify and later again we will converted into tuple"
   ]
  },
  {
   "cell_type": "markdown",
   "id": "948a57cc",
   "metadata": {},
   "source": [
    "    - a[0] it is called subscript"
   ]
  },
  {
   "cell_type": "markdown",
   "id": "a18246ee",
   "metadata": {},
   "source": [
    "    - Creating a Tuple\n",
    "    - Accessing elements from Tuple\n",
    "    - Slicing\n",
    "    - Reassigning Tuple elements\n",
    "    - Deleting elements\n",
    "    - Nested Tuples\n",
    "    - Basic Operations :- +, *, len, min, max, sum, membership, iterations \n",
    "    - Built-In Methods\n",
    "        * count()\n",
    "        * index()\n",
    "        * enumarate()"
   ]
  },
  {
   "cell_type": "code",
   "execution_count": null,
   "id": "70528765",
   "metadata": {},
   "outputs": [],
   "source": [
    "t=()"
   ]
  },
  {
   "cell_type": "code",
   "execution_count": null,
   "id": "77a8b173",
   "metadata": {},
   "outputs": [],
   "source": [
    "type(t)"
   ]
  },
  {
   "cell_type": "code",
   "execution_count": null,
   "id": "a011a7fa",
   "metadata": {},
   "outputs": [],
   "source": [
    "t=tuple()"
   ]
  },
  {
   "cell_type": "code",
   "execution_count": null,
   "id": "ad399df2",
   "metadata": {},
   "outputs": [],
   "source": [
    "type(t)"
   ]
  },
  {
   "cell_type": "code",
   "execution_count": null,
   "id": "1c62263b",
   "metadata": {},
   "outputs": [],
   "source": [
    "t.append(10)"
   ]
  },
  {
   "cell_type": "code",
   "execution_count": null,
   "id": "6c83f5e6",
   "metadata": {},
   "outputs": [],
   "source": [
    "t=(10,20,30,40,50)"
   ]
  },
  {
   "cell_type": "code",
   "execution_count": null,
   "id": "2e9654bf",
   "metadata": {},
   "outputs": [],
   "source": [
    "t"
   ]
  },
  {
   "cell_type": "code",
   "execution_count": null,
   "id": "af5f569e",
   "metadata": {},
   "outputs": [],
   "source": [
    "t[0]"
   ]
  },
  {
   "cell_type": "code",
   "execution_count": null,
   "id": "cbe1846c",
   "metadata": {},
   "outputs": [],
   "source": [
    "t[-1]"
   ]
  },
  {
   "cell_type": "code",
   "execution_count": null,
   "id": "bd589e72",
   "metadata": {},
   "outputs": [],
   "source": [
    "t[1:3]"
   ]
  },
  {
   "cell_type": "code",
   "execution_count": null,
   "id": "e541a1c4",
   "metadata": {},
   "outputs": [],
   "source": [
    "# Reassigining not supported in tuple if we want convert list\n",
    "t"
   ]
  },
  {
   "cell_type": "code",
   "execution_count": null,
   "id": "a97fe23c",
   "metadata": {},
   "outputs": [],
   "source": [
    "t[0]=100"
   ]
  },
  {
   "cell_type": "code",
   "execution_count": null,
   "id": "2ad77f5e",
   "metadata": {},
   "outputs": [],
   "source": [
    "l=list(t)"
   ]
  },
  {
   "cell_type": "code",
   "execution_count": null,
   "id": "330649fd",
   "metadata": {},
   "outputs": [],
   "source": [
    "l"
   ]
  },
  {
   "cell_type": "code",
   "execution_count": null,
   "id": "cc1fe46d",
   "metadata": {},
   "outputs": [],
   "source": [
    "l[0]=100"
   ]
  },
  {
   "cell_type": "code",
   "execution_count": null,
   "id": "67b015cd",
   "metadata": {},
   "outputs": [],
   "source": [
    "l"
   ]
  },
  {
   "cell_type": "code",
   "execution_count": null,
   "id": "34163e52",
   "metadata": {},
   "outputs": [],
   "source": [
    "t=tuple(l)"
   ]
  },
  {
   "cell_type": "code",
   "execution_count": null,
   "id": "a381f557",
   "metadata": {},
   "outputs": [],
   "source": [
    "t"
   ]
  },
  {
   "cell_type": "code",
   "execution_count": null,
   "id": "6e6ba9fa",
   "metadata": {},
   "outputs": [],
   "source": [
    "# Basic operations\n",
    "t1=(10,20,30)\n",
    "t2=(1,2,3)"
   ]
  },
  {
   "cell_type": "code",
   "execution_count": null,
   "id": "6c9ce934",
   "metadata": {},
   "outputs": [],
   "source": [
    "t1+t2"
   ]
  },
  {
   "cell_type": "code",
   "execution_count": null,
   "id": "5aba13cb",
   "metadata": {},
   "outputs": [],
   "source": [
    "t1*2"
   ]
  },
  {
   "cell_type": "code",
   "execution_count": null,
   "id": "12512fee",
   "metadata": {},
   "outputs": [],
   "source": [
    "t1"
   ]
  },
  {
   "cell_type": "code",
   "execution_count": null,
   "id": "d230d992",
   "metadata": {},
   "outputs": [],
   "source": [
    "len(t1)"
   ]
  },
  {
   "cell_type": "code",
   "execution_count": null,
   "id": "f165cee2",
   "metadata": {},
   "outputs": [],
   "source": [
    "min(t1)"
   ]
  },
  {
   "cell_type": "code",
   "execution_count": null,
   "id": "a8ef03d7",
   "metadata": {},
   "outputs": [],
   "source": [
    "max(t1)"
   ]
  },
  {
   "cell_type": "code",
   "execution_count": null,
   "id": "6e863fab",
   "metadata": {},
   "outputs": [],
   "source": [
    "sum(t2)"
   ]
  },
  {
   "cell_type": "code",
   "execution_count": null,
   "id": "6d364161",
   "metadata": {},
   "outputs": [],
   "source": [
    "10 in t1"
   ]
  },
  {
   "cell_type": "code",
   "execution_count": null,
   "id": "e8fd882d",
   "metadata": {},
   "outputs": [],
   "source": [
    "for i in t1:\n",
    "    print(i)"
   ]
  },
  {
   "cell_type": "code",
   "execution_count": null,
   "id": "a192bfc9",
   "metadata": {},
   "outputs": [],
   "source": [
    "for i in range(len(t1)):\n",
    "    print(t1[i])"
   ]
  },
  {
   "cell_type": "code",
   "execution_count": null,
   "id": "f490fc9d",
   "metadata": {},
   "outputs": [],
   "source": [
    "t2=t2*3"
   ]
  },
  {
   "cell_type": "code",
   "execution_count": null,
   "id": "2a5ee4a3",
   "metadata": {},
   "outputs": [],
   "source": [
    "t2"
   ]
  },
  {
   "cell_type": "code",
   "execution_count": null,
   "id": "bc90167b",
   "metadata": {},
   "outputs": [],
   "source": [
    "t2.count(2)"
   ]
  },
  {
   "cell_type": "code",
   "execution_count": null,
   "id": "872b23b9",
   "metadata": {},
   "outputs": [],
   "source": [
    "t2.index(2) # index(element)"
   ]
  },
  {
   "cell_type": "code",
   "execution_count": null,
   "id": "17c5d534",
   "metadata": {},
   "outputs": [],
   "source": [
    "# Nested Tuples\n",
    "t3=((10,20),(30,40,50))"
   ]
  },
  {
   "cell_type": "code",
   "execution_count": null,
   "id": "bee92f8d",
   "metadata": {},
   "outputs": [],
   "source": [
    "t3[1][2]"
   ]
  },
  {
   "cell_type": "code",
   "execution_count": null,
   "id": "46f75036",
   "metadata": {},
   "outputs": [],
   "source": [
    "# inserting multiuple data types\n",
    "t4=(1,\"hari\",None,1.5,'k')"
   ]
  },
  {
   "cell_type": "code",
   "execution_count": null,
   "id": "09fbbf11",
   "metadata": {},
   "outputs": [],
   "source": [
    "t4"
   ]
  },
  {
   "cell_type": "code",
   "execution_count": null,
   "id": "940f4860",
   "metadata": {},
   "outputs": [],
   "source": [
    "del t1[0]"
   ]
  },
  {
   "cell_type": "code",
   "execution_count": null,
   "id": "b46a8d55",
   "metadata": {},
   "outputs": [],
   "source": [
    "del t2"
   ]
  },
  {
   "cell_type": "code",
   "execution_count": null,
   "id": "3d75d0ca",
   "metadata": {},
   "outputs": [],
   "source": [
    "t2"
   ]
  },
  {
   "cell_type": "markdown",
   "id": "7c7ca8a6",
   "metadata": {},
   "source": [
    "###### NOTE in only Tuple:-"
   ]
  },
  {
   "cell_type": "code",
   "execution_count": null,
   "id": "1b6ac0cb",
   "metadata": {},
   "outputs": [],
   "source": [
    "t5=(23)  # it treate like a integer if we want to act this like a Tuple just place a , after inserting one leemnt"
   ]
  },
  {
   "cell_type": "code",
   "execution_count": null,
   "id": "eb783311",
   "metadata": {},
   "outputs": [],
   "source": [
    "type(t5)"
   ]
  },
  {
   "cell_type": "code",
   "execution_count": null,
   "id": "5cfe7953",
   "metadata": {},
   "outputs": [],
   "source": [
    "t6=(56,)"
   ]
  },
  {
   "cell_type": "code",
   "execution_count": null,
   "id": "a5c17874",
   "metadata": {},
   "outputs": [],
   "source": [
    "type(t6)"
   ]
  },
  {
   "cell_type": "code",
   "execution_count": null,
   "id": "d922b2a1",
   "metadata": {},
   "outputs": [],
   "source": [
    "l=(10,20,10,30,40,\"hari\")\n",
    "for i,j in enumerate(l):\n",
    "    print(i,\"-->\",j)"
   ]
  },
  {
   "cell_type": "markdown",
   "id": "d756589c",
   "metadata": {},
   "source": [
    "# 17. String\n",
    "    - String is nothing but if we want to store a set of characters into one group it is called a sString\n",
    "    - String is a Immutable \n",
    "    - in string each character treated like a 1 element"
   ]
  },
  {
   "cell_type": "markdown",
   "id": "cdd93004",
   "metadata": {},
   "source": [
    "    - Creating a String\n",
    "    - Accessing elements from Strings\n",
    "    - Slicing\n",
    "    - Single, Double, Triple Quotes\n",
    "    - Format Method\n",
    "    - Basic Operations :- +, *, len, min, max, sum, membership, iterations\n",
    "    - Buil-In Methods\n",
    "        * capitalize(): Converts the first character to uppercase.\n",
    "        * center(width): Returns a centered string of specified width.\n",
    "        * count(substring, start, end): Returns the number of occurrences of a substring.\n",
    "        * endswith(suffix, start, end): Returns True if the string ends with the specified suffix.\n",
    "        * startswith(prefix, start, end): Returns True if the string starts with the specified prefix.\n",
    "        * find(substring, start, end): Returns the lowest index of the substring. Returns -1 if not found.\n",
    "        * index(substring, start, end): Like find(), but raises an exception if the substring is not found.\n",
    "        * rfind(substring, start, end): Returns the highest index of the substring.\n",
    "        * rindex(substring, start, end): Like rfind(), but raises an exception if the substring is not found.\n",
    "        * isalnum(): Returns True if all characters in the string are alphanumeric.\n",
    "        * isalpha(): Returns True if all characters in the string are alphabetic.\n",
    "        * isdigit(): Returns True if all characters in the string are digits.\n",
    "        * isspace(): Returns True if all characters in the string are whitespace.\n",
    "        * islower(): Returns True if all characters in the string are lowercase.\n",
    "        * isupper(): Returns True if all characters in the string are uppercase.\n",
    "        * istitle(): Returns True if the string is a titlecased string.\n",
    "        * ljust(width): Returns a left-justified version of the string.\n",
    "        * rjust(width): Returns a right-justified version of the string.\n",
    "        * lower(): Converts all characters to lowercase.\n",
    "        * upper(): Converts all characters to uppercase.\n",
    "        * strip(chars): Removes leading and trailing characters specified in the argument (defaults to whitespace).\n",
    "        * lstrip(chars): Removes leading characters specified in the argument (defaults to whitespace).\n",
    "        * rstrip(chars): Removes trailing characters specified in the argument (defaults to whitespace).\n",
    "        * max(): Returns the character with the highest ASCII value.\n",
    "        * min(): Returns the character with the lowest ASCII value.\n",
    "        * replace(old, new, count): Replaces occurrences of a substring with another substring.\n",
    "        * split(sep, maxsplit): Splits the string into a list of substrings.\n",
    "        * swapcase(): Swaps case of each character in the string.\n",
    "        * title(): Returns a titlecased version of the string.\n",
    "        * zfill(width): Pads the string with zeros on the left until it reaches the specified width."
   ]
  },
  {
   "cell_type": "code",
   "execution_count": null,
   "id": "21e38ac5",
   "metadata": {},
   "outputs": [],
   "source": [
    "str=\"Python\""
   ]
  },
  {
   "cell_type": "code",
   "execution_count": null,
   "id": "a9f7373c",
   "metadata": {},
   "outputs": [],
   "source": [
    "type(str)"
   ]
  },
  {
   "cell_type": "code",
   "execution_count": null,
   "id": "4a5e2f93",
   "metadata": {},
   "outputs": [],
   "source": [
    "str[0]"
   ]
  },
  {
   "cell_type": "code",
   "execution_count": null,
   "id": "e0d8ec6c",
   "metadata": {},
   "outputs": [],
   "source": [
    "str[-1]"
   ]
  },
  {
   "cell_type": "code",
   "execution_count": null,
   "id": "1a074b12",
   "metadata": {},
   "outputs": [],
   "source": [
    "str[0:3]"
   ]
  },
  {
   "cell_type": "code",
   "execution_count": null,
   "id": "ab4f407b",
   "metadata": {},
   "outputs": [],
   "source": [
    "str[-2]"
   ]
  },
  {
   "cell_type": "code",
   "execution_count": null,
   "id": "de11ee11",
   "metadata": {},
   "outputs": [],
   "source": [
    "str='Welcome to python Programming'\n",
    "str[0:4]"
   ]
  },
  {
   "cell_type": "code",
   "execution_count": null,
   "id": "e1fff294",
   "metadata": {},
   "outputs": [],
   "source": [
    "# Single, Double, Triple Quotes\n",
    "str='hari your's'"
   ]
  },
  {
   "cell_type": "code",
   "execution_count": null,
   "id": "13c35428",
   "metadata": {},
   "outputs": [],
   "source": [
    "str=\"hari your's\""
   ]
  },
  {
   "cell_type": "code",
   "execution_count": null,
   "id": "c9e0d49b",
   "metadata": {},
   "outputs": [],
   "source": [
    "str"
   ]
  },
  {
   "cell_type": "code",
   "execution_count": null,
   "id": "6ba9a360",
   "metadata": {},
   "outputs": [],
   "source": [
    "str=\"\"\"hari\n",
    "krishna\n",
    "kandukuru\"\"\"\n",
    "str"
   ]
  },
  {
   "cell_type": "code",
   "execution_count": null,
   "id": "986f4df3",
   "metadata": {},
   "outputs": [],
   "source": [
    "# Formt Methods\n",
    "str=\"hari krishna python practice\"\n",
    "print(f\"given string is : {str}\")"
   ]
  },
  {
   "cell_type": "code",
   "execution_count": null,
   "id": "fda022ff",
   "metadata": {},
   "outputs": [],
   "source": [
    "# Basic operations\n",
    "s1='hari'\n",
    "s2='python'\n",
    "s1+s2"
   ]
  },
  {
   "cell_type": "code",
   "execution_count": null,
   "id": "55a0a239",
   "metadata": {},
   "outputs": [],
   "source": [
    "s1+\" \"+s2"
   ]
  },
  {
   "cell_type": "code",
   "execution_count": null,
   "id": "144bb7a2",
   "metadata": {},
   "outputs": [],
   "source": [
    "s1*3"
   ]
  },
  {
   "cell_type": "code",
   "execution_count": null,
   "id": "19966c7f",
   "metadata": {},
   "outputs": [],
   "source": [
    "s1"
   ]
  },
  {
   "cell_type": "code",
   "execution_count": null,
   "id": "e6907d38",
   "metadata": {},
   "outputs": [],
   "source": [
    "len(s2)"
   ]
  },
  {
   "cell_type": "code",
   "execution_count": null,
   "id": "18fecb82",
   "metadata": {},
   "outputs": [],
   "source": [
    "s1"
   ]
  },
  {
   "cell_type": "code",
   "execution_count": null,
   "id": "7e553ea5",
   "metadata": {},
   "outputs": [],
   "source": [
    "min(s1)"
   ]
  },
  {
   "cell_type": "code",
   "execution_count": null,
   "id": "d9e843c9",
   "metadata": {},
   "outputs": [],
   "source": [
    "max(s1)"
   ]
  },
  {
   "cell_type": "code",
   "execution_count": null,
   "id": "fab26dbd",
   "metadata": {},
   "outputs": [],
   "source": [
    "sum(s1)"
   ]
  },
  {
   "cell_type": "code",
   "execution_count": null,
   "id": "a22cf340",
   "metadata": {},
   "outputs": [],
   "source": [
    "'a' in s1"
   ]
  },
  {
   "cell_type": "code",
   "execution_count": null,
   "id": "c316e502",
   "metadata": {},
   "outputs": [],
   "source": [
    "for i in s1:\n",
    "    print(i)"
   ]
  },
  {
   "cell_type": "code",
   "execution_count": null,
   "id": "d619fa12",
   "metadata": {},
   "outputs": [],
   "source": [
    "for i in range(len(s1)):\n",
    "    print(s1[i])"
   ]
  },
  {
   "cell_type": "code",
   "execution_count": null,
   "id": "9eda5e8c",
   "metadata": {},
   "outputs": [],
   "source": [
    "s1"
   ]
  },
  {
   "cell_type": "code",
   "execution_count": null,
   "id": "9eb2b85f",
   "metadata": {},
   "outputs": [],
   "source": [
    "s1[0]"
   ]
  },
  {
   "cell_type": "code",
   "execution_count": null,
   "id": "c3bf7afe",
   "metadata": {},
   "outputs": [],
   "source": [
    "s1[0]='k'  # reassignment is not accepted because it is immutable"
   ]
  },
  {
   "cell_type": "code",
   "execution_count": null,
   "id": "34d1d48b",
   "metadata": {},
   "outputs": [],
   "source": [
    "del s1[0]"
   ]
  },
  {
   "cell_type": "code",
   "execution_count": null,
   "id": "bf21c72e",
   "metadata": {},
   "outputs": [],
   "source": [
    "del s1"
   ]
  },
  {
   "cell_type": "code",
   "execution_count": null,
   "id": "77cfa031",
   "metadata": {},
   "outputs": [],
   "source": [
    "s1"
   ]
  },
  {
   "cell_type": "code",
   "execution_count": null,
   "id": "ae50cbe1",
   "metadata": {},
   "outputs": [],
   "source": [
    "# Built-in Methods\n",
    "# 1) capitalize(): Converts the first character to uppercase.\n",
    "s=\"welcome to python programming\"\n",
    "print(s.capitalize())"
   ]
  },
  {
   "cell_type": "code",
   "execution_count": null,
   "id": "0ba07288",
   "metadata": {},
   "outputs": [],
   "source": [
    "# 2) center(width): Returns a centered string of specified width.\n",
    "s=\"welcome to python programming\"\n",
    "print(s.center(50,\"*\"))"
   ]
  },
  {
   "cell_type": "code",
   "execution_count": null,
   "id": "81ec9fb2",
   "metadata": {},
   "outputs": [],
   "source": [
    "# 3) count(substring, start, end): Returns the number of occurrences of a substring.\n",
    "s=\"welcome to python programming\"\n",
    "print(s.count('o',1,10))"
   ]
  },
  {
   "cell_type": "code",
   "execution_count": null,
   "id": "8697614f",
   "metadata": {},
   "outputs": [],
   "source": [
    "# 4) endswith(suffix, start, end): Returns True if the string ends with the specified suffix.\n",
    "s=\"welcome to python programming\"\n",
    "print(s.endswith('a',1,10))"
   ]
  },
  {
   "cell_type": "code",
   "execution_count": null,
   "id": "977d6013",
   "metadata": {},
   "outputs": [],
   "source": [
    "s[9]"
   ]
  },
  {
   "cell_type": "code",
   "execution_count": null,
   "id": "31e72944",
   "metadata": {},
   "outputs": [],
   "source": [
    "# 5) startswith(prefix, start, end): Returns True if the string starts with the specified prefix.\n",
    "s=\"welcome to python programming\"\n",
    "print(s.startswith('a',1,10))"
   ]
  },
  {
   "cell_type": "code",
   "execution_count": null,
   "id": "94e73179",
   "metadata": {},
   "outputs": [],
   "source": [
    "# 6) find(substring, start, end): Returns the lowest index of the substring. Returns -1 if not found.\n",
    "s=\"welcome to python programming\"\n",
    "print(s.find('hari'))"
   ]
  },
  {
   "cell_type": "markdown",
   "id": "0dbe528c",
   "metadata": {},
   "source": [
    "NOTE :- difference b/w find and index if the substring is not present in string find will throw as -1 output and index will throw an error as output"
   ]
  },
  {
   "cell_type": "code",
   "execution_count": null,
   "id": "699415cd",
   "metadata": {},
   "outputs": [],
   "source": [
    "s=\"welcome to python programming\"\n",
    "print(s.index('hari'))"
   ]
  },
  {
   "cell_type": "code",
   "execution_count": null,
   "id": "a372137e",
   "metadata": {},
   "outputs": [],
   "source": [
    "s=\"welcome to python programming\"\n",
    "print(s.find('m'))"
   ]
  },
  {
   "cell_type": "code",
   "execution_count": null,
   "id": "de89495c",
   "metadata": {},
   "outputs": [],
   "source": [
    "# 7) index(substring, start, end): Like find(), but raises an exception if the substring is not found.\n",
    "s=\"welcome to python programming\"\n",
    "print(s.index('m'))"
   ]
  },
  {
   "cell_type": "code",
   "execution_count": null,
   "id": "d7f8b5c3",
   "metadata": {},
   "outputs": [],
   "source": [
    "# 8) rfind(substring, start, end): Returns the highest index of the substring.\n",
    "s=\"welcome to python programming\"\n",
    "print(s.rfind('m'))"
   ]
  },
  {
   "cell_type": "code",
   "execution_count": null,
   "id": "3422bf7b",
   "metadata": {},
   "outputs": [],
   "source": [
    "s[25]"
   ]
  },
  {
   "cell_type": "code",
   "execution_count": null,
   "id": "ded58d1c",
   "metadata": {},
   "outputs": [],
   "source": [
    "# 9) rindex(substring, start, end): Like rfind(), but raises an exception if the substring is not found.\n",
    "s=\"welcome to python programming\"\n",
    "print(s.rindex('m'))"
   ]
  },
  {
   "cell_type": "code",
   "execution_count": null,
   "id": "a570dfbb",
   "metadata": {},
   "outputs": [],
   "source": [
    "# 10) isalnum(): Returns True if all characters in the string are alphanumeric.\n",
    "s='Haricme1325@gmail.com'\n",
    "print(s.isalnum())"
   ]
  },
  {
   "cell_type": "code",
   "execution_count": null,
   "id": "bbe8e9ca",
   "metadata": {},
   "outputs": [],
   "source": [
    "s=\"welcome to python programming 123\"\n",
    "print(s.isalnum())"
   ]
  },
  {
   "cell_type": "markdown",
   "id": "05ccd067",
   "metadata": {},
   "source": [
    "#### Note above program is getting error why, because space also caliculated as special character "
   ]
  },
  {
   "cell_type": "code",
   "execution_count": null,
   "id": "82d942a9",
   "metadata": {},
   "outputs": [],
   "source": [
    "s=\"programming123\"\n",
    "print(s.isalnum())"
   ]
  },
  {
   "cell_type": "code",
   "execution_count": null,
   "id": "c1f1dd5f",
   "metadata": {},
   "outputs": [],
   "source": [
    "s=\"programming\"\n",
    "print(s.isalnum())"
   ]
  },
  {
   "cell_type": "code",
   "execution_count": null,
   "id": "ba549f36",
   "metadata": {},
   "outputs": [],
   "source": [
    "s=\"123\"\n",
    "print(s.isalnum())"
   ]
  },
  {
   "cell_type": "code",
   "execution_count": null,
   "id": "7d913959",
   "metadata": {},
   "outputs": [],
   "source": [
    "# 11) isalpha(): Returns True if all characters in the string are alphabetic.\n",
    "s=\"programming\"\n",
    "print(s.isalpha())"
   ]
  },
  {
   "cell_type": "code",
   "execution_count": null,
   "id": "4aebdaf7",
   "metadata": {},
   "outputs": [],
   "source": [
    "s=\"programming123\"\n",
    "print(s.isalpha())"
   ]
  },
  {
   "cell_type": "code",
   "execution_count": null,
   "id": "ad71cea8",
   "metadata": {},
   "outputs": [],
   "source": [
    "# 12) isdigit(): Returns True if all characters in the string are digits.\n",
    "s=\"programming123\"\n",
    "print(s.isdigit())"
   ]
  },
  {
   "cell_type": "code",
   "execution_count": null,
   "id": "becf756d",
   "metadata": {},
   "outputs": [],
   "source": [
    "s=\"123\"\n",
    "print(s.isdigit())"
   ]
  },
  {
   "cell_type": "code",
   "execution_count": null,
   "id": "45c58e8f",
   "metadata": {},
   "outputs": [],
   "source": [
    "# 13) isspace(): Returns True if all characters in the string are whitespace.\n",
    "s=\"programming123\"\n",
    "print(s.isspace())"
   ]
  },
  {
   "cell_type": "code",
   "execution_count": null,
   "id": "f7f4aa02",
   "metadata": {},
   "outputs": [],
   "source": [
    "s=\" programming123\"\n",
    "print(s.isspace())"
   ]
  },
  {
   "cell_type": "code",
   "execution_count": null,
   "id": "d1a0577f",
   "metadata": {},
   "outputs": [],
   "source": [
    "s=\"  programming hari  \"\n",
    "print(s.isspace())"
   ]
  },
  {
   "cell_type": "code",
   "execution_count": null,
   "id": "af09f302",
   "metadata": {},
   "outputs": [],
   "source": [
    "s=\"  \"\n",
    "print(s.isspace())"
   ]
  },
  {
   "cell_type": "code",
   "execution_count": null,
   "id": "d72bf133",
   "metadata": {},
   "outputs": [],
   "source": [
    "# 14) islower(): Returns True if all characters in the string are lowercase.\n",
    "s=\"  programming hari  \"\n",
    "print(s.islower())"
   ]
  },
  {
   "cell_type": "code",
   "execution_count": null,
   "id": "2235bc6a",
   "metadata": {},
   "outputs": [],
   "source": [
    "s=\"programming hari123\"\n",
    "print(s.islower())"
   ]
  },
  {
   "cell_type": "code",
   "execution_count": null,
   "id": "6564c5d3",
   "metadata": {},
   "outputs": [],
   "source": [
    "s=\"Programming hari123\"\n",
    "print(s.islower())"
   ]
  },
  {
   "cell_type": "code",
   "execution_count": null,
   "id": "fffc1e0c",
   "metadata": {},
   "outputs": [],
   "source": [
    "# 15 isupper(): Returns True if all characters in the string are uppercase.\n",
    "s=\"Programming hari123\"\n",
    "print(s.isupper())"
   ]
  },
  {
   "cell_type": "code",
   "execution_count": null,
   "id": "a66ea180",
   "metadata": {},
   "outputs": [],
   "source": [
    "s=\"P123\"\n",
    "print(s.isupper())"
   ]
  },
  {
   "cell_type": "code",
   "execution_count": null,
   "id": "978b5766",
   "metadata": {},
   "outputs": [],
   "source": [
    "# 16) istitle(): Returns True if the string is a titlecased string.\n",
    "s=\"Programming Hari123\"\n",
    "print(s.istitle())"
   ]
  },
  {
   "cell_type": "code",
   "execution_count": null,
   "id": "58d90863",
   "metadata": {},
   "outputs": [],
   "source": [
    "s=\"Programming hari123\"\n",
    "print(s.istitle())"
   ]
  },
  {
   "cell_type": "code",
   "execution_count": null,
   "id": "89ddead9",
   "metadata": {},
   "outputs": [],
   "source": [
    "# 17) ljust(width): Returns a left-justified version of the string. justified means same like center\n",
    "s=\"Programming hari123\"\n",
    "print(s.ljust(30,\"9\"))"
   ]
  },
  {
   "cell_type": "code",
   "execution_count": null,
   "id": "ef40d3ed",
   "metadata": {},
   "outputs": [],
   "source": [
    "# 18) rjust(width): Returns a right-justified version of the string.\n",
    "s=\"Programming hari123\"\n",
    "print(s.rjust(30,\"9\"))"
   ]
  },
  {
   "cell_type": "code",
   "execution_count": null,
   "id": "1926c7ea",
   "metadata": {},
   "outputs": [],
   "source": [
    "# 19) lower(): Converts all characters to lowercase.\n",
    "s=\"Harikrishna KANDUKURU 1325@\"\n",
    "print(s.lower())"
   ]
  },
  {
   "cell_type": "code",
   "execution_count": null,
   "id": "cb2fbe0c",
   "metadata": {},
   "outputs": [],
   "source": [
    "# 20) upper(): Converts all characters to uppercase.\n",
    "s=\"Harikrishna KANDUKURU 1325@\"\n",
    "print(s.upper())"
   ]
  },
  {
   "cell_type": "code",
   "execution_count": null,
   "id": "bc2d007a",
   "metadata": {},
   "outputs": [],
   "source": [
    "# 21) strip(chars): Removes all the right & left side whitespacess\n",
    "s=\"      Harikrishna KANDUKURU 1325@  \"\n",
    "print(\"before removing whiteSpacess length of String is : \",len(s))\n",
    "print(s.strip())\n",
    "print(\"after removing whiteSpacess length of String is : \",len(s.strip()))"
   ]
  },
  {
   "cell_type": "code",
   "execution_count": null,
   "id": "b511e53d",
   "metadata": {},
   "outputs": [],
   "source": [
    "# 22) lstrip(chars): Removes leading characters specified in the argument (defaults to whitespace).\n",
    "s=\"      Harikrishna KANDUKURU 1325@  \"\n",
    "print(\"before removing whiteSpacess length of String is : \",len(s))\n",
    "print(s.lstrip())\n",
    "print(\"after removing whiteSpacess length of String is : \",len(s.lstrip()))"
   ]
  },
  {
   "cell_type": "code",
   "execution_count": null,
   "id": "ea74e843",
   "metadata": {},
   "outputs": [],
   "source": [
    "# 23) rstrip(chars): Removes trailing characters specified in the argument (defaults to whitespace).\n",
    "s=\"      Harikrishna KANDUKURU 1325@  \"\n",
    "print(\"before removing whiteSpacess length of String is : \",len(s))\n",
    "print(s.rstrip())\n",
    "print(\"after removing whiteSpacess length of String is : \",len(s.rstrip()))"
   ]
  },
  {
   "cell_type": "code",
   "execution_count": null,
   "id": "0a3a8f23",
   "metadata": {},
   "outputs": [],
   "source": [
    "# 24)  max(): Returns the character with the highest ASCII value\n",
    "s=\"Harikrishna KANDUKURU123\"\n",
    "print(max(s))"
   ]
  },
  {
   "cell_type": "code",
   "execution_count": null,
   "id": "93be74c8",
   "metadata": {},
   "outputs": [],
   "source": [
    "# 25)  min(): Returns the character with the lowest ASCII value\n",
    "s=\"HarikrishnaKANDUKURU123\"\n",
    "print(min(s))"
   ]
  },
  {
   "cell_type": "code",
   "execution_count": null,
   "id": "5f274dd4",
   "metadata": {},
   "outputs": [],
   "source": [
    "# 26) replace(old, new, count): Replaces occurrences of a substring with another substring.\n",
    "s=\"Hari krishna KANDUKURU 123 @ gmail.com\"\n",
    "print(s.replace('.','%'))"
   ]
  },
  {
   "cell_type": "code",
   "execution_count": null,
   "id": "5a6bada0",
   "metadata": {},
   "outputs": [],
   "source": [
    "s=\"Hari kri.shna. KAN.DUK.URU 123 @ gmail.com\"\n",
    "print(s.replace('.','%',2))"
   ]
  },
  {
   "cell_type": "code",
   "execution_count": null,
   "id": "7f0d4670",
   "metadata": {},
   "outputs": [],
   "source": [
    "# 27) split(sep, maxsplit): Splits the string into a list of substrings.\n",
    "s=\"Hari kri.shna. KAN.DUK.URU 123 @ gmail.com\"\n",
    "print(s.split('.'))"
   ]
  },
  {
   "cell_type": "code",
   "execution_count": null,
   "id": "265520e4",
   "metadata": {},
   "outputs": [],
   "source": [
    "s=\"Hari kri.shna. KAN.DUK.URU 123 @ gmail.com\"\n",
    "print(s.split('.',4))"
   ]
  },
  {
   "cell_type": "code",
   "execution_count": null,
   "id": "0580f4a9",
   "metadata": {},
   "outputs": [],
   "source": [
    "# 28) swapcase(): Swaps case of each character in the string. # lowers are converted into upper and upper are converted into lower\n",
    "s=\"Hari kri.shna. KAN.DUK.URU 123 @ gmail.com\"\n",
    "print(s.swapcase())"
   ]
  },
  {
   "cell_type": "code",
   "execution_count": null,
   "id": "dd8511ab",
   "metadata": {},
   "outputs": [],
   "source": [
    "# 29) title(): Returns a titlecased version of the string.\n",
    "s=\"Hari kri.shna. KAN.DUK.URU 123 @ gmail.com\"\n",
    "print(s.title())"
   ]
  },
  {
   "cell_type": "code",
   "execution_count": null,
   "id": "9a0a5395",
   "metadata": {
    "scrolled": true
   },
   "outputs": [],
   "source": [
    "# 30) zfill(width): Pads the string with zeros on the left until it reaches the specified width.\n",
    "s=\"Hari kri.shna. KAN.DUK.URU 123 @ gmail.com\"\n",
    "print(s.zfill(60))"
   ]
  },
  {
   "cell_type": "markdown",
   "id": "e91d9f30",
   "metadata": {},
   "source": [
    "# 18. Sets\n",
    "    - set is a data sctucture in python\n",
    "    - and sets are unOrdered\n",
    "    - sets wont support the indexing So no slicing\n",
    "    - sets are mutable we can change as per our requirements\n",
    "    - we can store multiple data types by providing comma separated values with curly braces{}\n",
    "    - sets wont allow duplicates and if we convert list into set that time may be duplicates are present in list, \n",
    "      set automatically drop duplicates\n",
    "    - Some performing mathematical operations we will use Sets like"
   ]
  },
  {
   "cell_type": "markdown",
   "id": "e0f39647",
   "metadata": {},
   "source": [
    "    - Creating Sets\n",
    "    - Set as an iterable\n",
    "    - Basec Operations\n",
    "        * add(element): Adds an element to the set.\n",
    "        * remove(element): Removes the specified element from the set. Raises an error if the element is not present.\n",
    "        * discard(element): Removes the specified element from the set. Does nothing if the element is not present.\n",
    "        * pop(): Removes and returns an arbitrary element from the set. Raises an error if the set is empty.\n",
    "        * clear(): Removes all elements from the set.\n",
    "        * len(): Returns the number of elements in the set.\n",
    "        * membership(element): Returns True if the element is present in the set, False otherwise.\n",
    "        * issubset(other_set): Returns True if the set is a subset of the specified set.\n",
    "        * issuperset(other_set): Returns True if the set is a superset of the specified set.\n",
    "        * union(other_set, ...): Returns a new set containing elements from the set and all specified sets.\n",
    "        * intersection(other_set, ...): Returns a new set containing common elements of the set and all specified sets.\n",
    "        * difference(other_set, ..): Returns a new set containing elements present in the set but not in the specified sets.\n",
    "        * copy(): Returns a shallow copy of the set.\n",
    "        * symmetric_difference(other_set): Returns a new set containing elements that are in either set, but not in both.\n",
    "        * update(other_set, ...): Updates the set with elements from itself and all specified sets.\n",
    "        * intersection_update(other_set, ...): Updates the set with the intersection of itself and all specified sets.\n",
    "        * difference_update(other_set, ...): Updates the set with the difference of itself and all specified sets.\n",
    "        * symmetric_difference_update(other_set): Updates the set with the symmetric difference of itself and the \n",
    "          specified set."
   ]
  },
  {
   "cell_type": "code",
   "execution_count": null,
   "id": "ac5f9524",
   "metadata": {},
   "outputs": [],
   "source": [
    "s=()"
   ]
  },
  {
   "cell_type": "code",
   "execution_count": null,
   "id": "a7615688",
   "metadata": {},
   "outputs": [],
   "source": [
    "type(s)"
   ]
  },
  {
   "cell_type": "code",
   "execution_count": null,
   "id": "88f6ee52",
   "metadata": {},
   "outputs": [],
   "source": [
    "s=set()"
   ]
  },
  {
   "cell_type": "code",
   "execution_count": null,
   "id": "a2044921",
   "metadata": {},
   "outputs": [],
   "source": [
    "type(s)"
   ]
  },
  {
   "cell_type": "code",
   "execution_count": null,
   "id": "a7bbad94",
   "metadata": {},
   "outputs": [],
   "source": [
    "# or\n",
    "s={10,20,30,40,50,1,2,3,4,5}\n",
    "print(s,\"\\n\",type(s))"
   ]
  },
  {
   "cell_type": "code",
   "execution_count": null,
   "id": "2df531bf",
   "metadata": {},
   "outputs": [],
   "source": [
    "# or\n",
    "s={10,20,30,40,40,40,50,1,2,3,4,5}\n",
    "print(s,\"\\n\",type(s))"
   ]
  },
  {
   "cell_type": "code",
   "execution_count": null,
   "id": "0c8ca802",
   "metadata": {},
   "outputs": [],
   "source": [
    "s.add(99)"
   ]
  },
  {
   "cell_type": "code",
   "execution_count": null,
   "id": "66fc4742",
   "metadata": {},
   "outputs": [],
   "source": [
    "s.add(100)"
   ]
  },
  {
   "cell_type": "code",
   "execution_count": null,
   "id": "de953380",
   "metadata": {},
   "outputs": [],
   "source": [
    "s"
   ]
  },
  {
   "cell_type": "code",
   "execution_count": null,
   "id": "7546d37e",
   "metadata": {},
   "outputs": [],
   "source": [
    "s.remove(2)"
   ]
  },
  {
   "cell_type": "code",
   "execution_count": null,
   "id": "39621904",
   "metadata": {},
   "outputs": [],
   "source": [
    "s"
   ]
  },
  {
   "cell_type": "code",
   "execution_count": null,
   "id": "87c53649",
   "metadata": {},
   "outputs": [],
   "source": [
    "s.discard(3)"
   ]
  },
  {
   "cell_type": "code",
   "execution_count": null,
   "id": "28da7b8a",
   "metadata": {},
   "outputs": [],
   "source": [
    "s"
   ]
  },
  {
   "cell_type": "markdown",
   "id": "ba182b68",
   "metadata": {},
   "source": [
    "Difference b/w remove and discard is :- remove Raises an error if the element is not present & discard Does nothing if the element is not present."
   ]
  },
  {
   "cell_type": "code",
   "execution_count": null,
   "id": "4d0f013c",
   "metadata": {},
   "outputs": [],
   "source": [
    "s.remove(1000)"
   ]
  },
  {
   "cell_type": "code",
   "execution_count": null,
   "id": "358696e0",
   "metadata": {},
   "outputs": [],
   "source": [
    "s.discard(1000)"
   ]
  },
  {
   "cell_type": "code",
   "execution_count": null,
   "id": "8454cd7f",
   "metadata": {},
   "outputs": [],
   "source": [
    "s"
   ]
  },
  {
   "cell_type": "code",
   "execution_count": null,
   "id": "ba1dfdd2",
   "metadata": {},
   "outputs": [],
   "source": [
    "s.pop()   # based on set point of view it will remove the last element"
   ]
  },
  {
   "cell_type": "code",
   "execution_count": null,
   "id": "c919d701",
   "metadata": {},
   "outputs": [],
   "source": [
    "s"
   ]
  },
  {
   "cell_type": "code",
   "execution_count": null,
   "id": "7a006adb",
   "metadata": {},
   "outputs": [],
   "source": [
    "s.clear()"
   ]
  },
  {
   "cell_type": "code",
   "execution_count": null,
   "id": "df01f016",
   "metadata": {},
   "outputs": [],
   "source": [
    "s"
   ]
  },
  {
   "cell_type": "code",
   "execution_count": null,
   "id": "2c79c9fe",
   "metadata": {},
   "outputs": [],
   "source": [
    "s={10,20,30}"
   ]
  },
  {
   "cell_type": "code",
   "execution_count": null,
   "id": "967a1343",
   "metadata": {},
   "outputs": [],
   "source": [
    "type(s)"
   ]
  },
  {
   "cell_type": "code",
   "execution_count": null,
   "id": "ae072b1f",
   "metadata": {},
   "outputs": [],
   "source": [
    "del s[0]"
   ]
  },
  {
   "cell_type": "code",
   "execution_count": null,
   "id": "bd779511",
   "metadata": {},
   "outputs": [],
   "source": [
    "del s"
   ]
  },
  {
   "cell_type": "code",
   "execution_count": null,
   "id": "b38466f6",
   "metadata": {},
   "outputs": [],
   "source": [
    "s"
   ]
  },
  {
   "cell_type": "code",
   "execution_count": null,
   "id": "bccfea03",
   "metadata": {},
   "outputs": [],
   "source": [
    "s={10,20,30,1000,40,1,2,3,4}\n",
    "s"
   ]
  },
  {
   "cell_type": "code",
   "execution_count": null,
   "id": "046cd8c1",
   "metadata": {},
   "outputs": [],
   "source": [
    "len(s)"
   ]
  },
  {
   "cell_type": "code",
   "execution_count": null,
   "id": "5b8b97c4",
   "metadata": {},
   "outputs": [],
   "source": [
    "# membership\n",
    "10 in s"
   ]
  },
  {
   "cell_type": "code",
   "execution_count": null,
   "id": "5467e186",
   "metadata": {},
   "outputs": [],
   "source": [
    "2000 not in s"
   ]
  },
  {
   "cell_type": "code",
   "execution_count": null,
   "id": "53fcedca",
   "metadata": {},
   "outputs": [],
   "source": [
    "s[0]"
   ]
  },
  {
   "cell_type": "code",
   "execution_count": null,
   "id": "abbbeed0",
   "metadata": {},
   "outputs": [],
   "source": [
    "for i in s:\n",
    "    print(i)"
   ]
  },
  {
   "cell_type": "code",
   "execution_count": null,
   "id": "c56c142f",
   "metadata": {},
   "outputs": [],
   "source": [
    "for i in range(len(s)):\n",
    "    print(s[i])"
   ]
  },
  {
   "cell_type": "code",
   "execution_count": null,
   "id": "9e1b8c1f",
   "metadata": {},
   "outputs": [],
   "source": [
    "# issubset(other_set): Returns True if the set is a subset of the specified set.\n",
    "s1={10,20,30}\n",
    "s2={10,20,30,40,50,60}\n",
    "s1.issubset(s2)"
   ]
  },
  {
   "cell_type": "code",
   "execution_count": null,
   "id": "88157f11",
   "metadata": {},
   "outputs": [],
   "source": [
    "# issuperset(other_set): Returns True if the set is a superset of the specified set.\n",
    "s1={10,20,30}\n",
    "s2={10,20,30,40,50,60}\n",
    "s1.issuperset(s2)"
   ]
  },
  {
   "cell_type": "code",
   "execution_count": null,
   "id": "30318bb6",
   "metadata": {},
   "outputs": [],
   "source": [
    "# union(other_set, ...): Returns a new set containing elements from the set and all specified sets.\n",
    "s1={10,20,30}\n",
    "s2={10,20,30,40,50,60}\n",
    "s1.union(s2)"
   ]
  },
  {
   "cell_type": "code",
   "execution_count": null,
   "id": "251ce474",
   "metadata": {},
   "outputs": [],
   "source": [
    "# intersection(other_set, ...): Returns a new set containing common elements of the set and all specified sets.\n",
    "s1={10,20,30}\n",
    "s2={10,20,30,40,50,60}\n",
    "s1.intersection(s2)"
   ]
  },
  {
   "cell_type": "code",
   "execution_count": null,
   "id": "7587b232",
   "metadata": {},
   "outputs": [],
   "source": [
    "# difference(other_set, ..): Returns a new set containing elements present in the set but not in the specified sets.\n",
    "s1={10,20,30}\n",
    "s2={10,20,30,40,50,60}\n",
    "s2.difference(s1)"
   ]
  },
  {
   "cell_type": "code",
   "execution_count": null,
   "id": "d34b9f61",
   "metadata": {},
   "outputs": [],
   "source": [
    "# symmetric_difference(other_set): Returns a new set containing elements that are in either set, but not in both.\n",
    "s1={10,20,30,100}\n",
    "s2={10,20,30,40,50,60}\n",
    "s1.symmetric_difference(s2)"
   ]
  },
  {
   "cell_type": "code",
   "execution_count": null,
   "id": "fde6226a",
   "metadata": {},
   "outputs": [],
   "source": [
    "# update(other_set, ...): Updates the set with elements from itself and all specified sets.\n",
    "s1={10,20,30,100}\n",
    "s2={10,20,30,40,50,60}\n",
    "s1.update(s2)"
   ]
  },
  {
   "cell_type": "code",
   "execution_count": null,
   "id": "1a714df3",
   "metadata": {},
   "outputs": [],
   "source": [
    "s1"
   ]
  },
  {
   "cell_type": "code",
   "execution_count": null,
   "id": "db1ddfab",
   "metadata": {},
   "outputs": [],
   "source": [
    "# intersection_update(other_set, ...): Updates the set with the intersection of itself and all specified sets.\n",
    "s1={10,20,30,100}\n",
    "s2={10,20,30,40,50,60}\n",
    "s1.intersection_update(s2)"
   ]
  },
  {
   "cell_type": "code",
   "execution_count": null,
   "id": "1ffa58be",
   "metadata": {},
   "outputs": [],
   "source": [
    "s1"
   ]
  },
  {
   "cell_type": "code",
   "execution_count": null,
   "id": "bbced1b0",
   "metadata": {},
   "outputs": [],
   "source": [
    "# difference_update(other_set, ...): Updates the set with the difference of itself and all specified sets.\n",
    "s1={10,20,30,100}\n",
    "s2={10,20,30,40,50,60}\n",
    "s1.difference_update(s2)"
   ]
  },
  {
   "cell_type": "code",
   "execution_count": null,
   "id": "561884c8",
   "metadata": {},
   "outputs": [],
   "source": [
    "s1"
   ]
  },
  {
   "cell_type": "code",
   "execution_count": null,
   "id": "5072df30",
   "metadata": {},
   "outputs": [],
   "source": [
    "# symmetric_difference_update(other_set): Updates the set with the symmetric difference of itself and the specified set.\n",
    "s1={10,20,30,100}\n",
    "s2={10,20,30,40,50,60}\n",
    "s1.symmetric_difference_update(s2)"
   ]
  },
  {
   "cell_type": "code",
   "execution_count": null,
   "id": "b030f96c",
   "metadata": {},
   "outputs": [],
   "source": [
    "s1"
   ]
  },
  {
   "cell_type": "markdown",
   "id": "1da71706",
   "metadata": {},
   "source": [
    "# 19. Dictionaries\n",
    "    - in dictionarys we will store elements(items) like key value pairs\n",
    "    - dictionary is a mutable \n",
    "    - in dictionary it can accept multiple data types\n",
    "    - in dictionary it won'nt accept duplicated keys\n",
    "    - we can access elements throuth keys "
   ]
  },
  {
   "cell_type": "markdown",
   "id": "b583acd1",
   "metadata": {},
   "source": [
    "    - Creating a Dictionary\n",
    "    - Accessing items from dictionary\n",
    "    - Updating Dictionary\n",
    "    - Reassigning items\n",
    "    - Deleting items\n",
    "    - Dictionary Comprehension\n",
    "    - Built-In Methods\n",
    "        * clear()\n",
    "        * copy()\n",
    "        * items()\n",
    "        * values()\n",
    "        * keys()\n",
    "        * update()"
   ]
  },
  {
   "cell_type": "code",
   "execution_count": null,
   "id": "3b5140cd",
   "metadata": {},
   "outputs": [],
   "source": [
    "d={}"
   ]
  },
  {
   "cell_type": "code",
   "execution_count": null,
   "id": "c8e7c419",
   "metadata": {},
   "outputs": [],
   "source": [
    "type(d)"
   ]
  },
  {
   "cell_type": "code",
   "execution_count": null,
   "id": "454fa5ce",
   "metadata": {},
   "outputs": [],
   "source": [
    "d=dict()"
   ]
  },
  {
   "cell_type": "code",
   "execution_count": null,
   "id": "a40f2875",
   "metadata": {},
   "outputs": [],
   "source": [
    "type(d)"
   ]
  },
  {
   "cell_type": "code",
   "execution_count": null,
   "id": "530bf29b",
   "metadata": {},
   "outputs": [],
   "source": [
    "d={\"name\":'Hari',\"perc\":1000}"
   ]
  },
  {
   "cell_type": "code",
   "execution_count": null,
   "id": "9cbd54d7",
   "metadata": {},
   "outputs": [],
   "source": [
    "d"
   ]
  },
  {
   "cell_type": "code",
   "execution_count": null,
   "id": "dd1dfc17",
   "metadata": {},
   "outputs": [],
   "source": [
    "d.items()"
   ]
  },
  {
   "cell_type": "code",
   "execution_count": null,
   "id": "c601c49f",
   "metadata": {},
   "outputs": [],
   "source": [
    "d.keys()"
   ]
  },
  {
   "cell_type": "code",
   "execution_count": null,
   "id": "ac84736f",
   "metadata": {},
   "outputs": [],
   "source": [
    "d.values()"
   ]
  },
  {
   "cell_type": "code",
   "execution_count": null,
   "id": "8e5ac414",
   "metadata": {},
   "outputs": [],
   "source": [
    "d['name']"
   ]
  },
  {
   "cell_type": "code",
   "execution_count": null,
   "id": "660f9681",
   "metadata": {},
   "outputs": [],
   "source": [
    "d['perc']"
   ]
  },
  {
   "cell_type": "code",
   "execution_count": null,
   "id": "ca6b0e1d",
   "metadata": {},
   "outputs": [],
   "source": [
    "d['perc']=70"
   ]
  },
  {
   "cell_type": "code",
   "execution_count": null,
   "id": "76e5087d",
   "metadata": {},
   "outputs": [],
   "source": [
    "d"
   ]
  },
  {
   "cell_type": "code",
   "execution_count": null,
   "id": "a2c6f7a4",
   "metadata": {},
   "outputs": [],
   "source": [
    "d['collage']='Imarticus Learning'"
   ]
  },
  {
   "cell_type": "code",
   "execution_count": null,
   "id": "66911e6b",
   "metadata": {},
   "outputs": [],
   "source": [
    "d"
   ]
  },
  {
   "cell_type": "code",
   "execution_count": null,
   "id": "1623046a",
   "metadata": {},
   "outputs": [],
   "source": [
    "len(d)"
   ]
  },
  {
   "cell_type": "code",
   "execution_count": null,
   "id": "e0587b6a",
   "metadata": {},
   "outputs": [],
   "source": [
    "del d['collage']"
   ]
  },
  {
   "cell_type": "code",
   "execution_count": null,
   "id": "d62f51f1",
   "metadata": {},
   "outputs": [],
   "source": [
    "d"
   ]
  },
  {
   "cell_type": "code",
   "execution_count": null,
   "id": "376bed31",
   "metadata": {},
   "outputs": [],
   "source": [
    "len(d)"
   ]
  },
  {
   "cell_type": "code",
   "execution_count": null,
   "id": "0b0e14ad",
   "metadata": {},
   "outputs": [],
   "source": [
    "del d"
   ]
  },
  {
   "cell_type": "code",
   "execution_count": null,
   "id": "c93ecf45",
   "metadata": {},
   "outputs": [],
   "source": [
    "d"
   ]
  },
  {
   "cell_type": "code",
   "execution_count": null,
   "id": "2b95852e",
   "metadata": {},
   "outputs": [],
   "source": [
    "d={\"name\":'Hari',\"perc\":1000}"
   ]
  },
  {
   "cell_type": "code",
   "execution_count": null,
   "id": "b483ba4a",
   "metadata": {},
   "outputs": [],
   "source": [
    "d"
   ]
  },
  {
   "cell_type": "code",
   "execution_count": null,
   "id": "0ca6dc8e",
   "metadata": {},
   "outputs": [],
   "source": [
    "d.clear()"
   ]
  },
  {
   "cell_type": "code",
   "execution_count": null,
   "id": "38ef1001",
   "metadata": {},
   "outputs": [],
   "source": [
    "d"
   ]
  },
  {
   "cell_type": "code",
   "execution_count": null,
   "id": "b459a9cb",
   "metadata": {},
   "outputs": [],
   "source": [
    "d={\"name\":'Hari',\"perc\":1000}"
   ]
  },
  {
   "cell_type": "code",
   "execution_count": null,
   "id": "a87de8dd",
   "metadata": {},
   "outputs": [],
   "source": [
    "d1={'collage':'Imarticus Learning'}"
   ]
  },
  {
   "cell_type": "code",
   "execution_count": null,
   "id": "a85fcb4d",
   "metadata": {},
   "outputs": [],
   "source": [
    "d.update(d1)"
   ]
  },
  {
   "cell_type": "code",
   "execution_count": null,
   "id": "5cca4722",
   "metadata": {},
   "outputs": [],
   "source": [
    "d"
   ]
  },
  {
   "cell_type": "code",
   "execution_count": null,
   "id": "f75e1ca5",
   "metadata": {},
   "outputs": [],
   "source": [
    "d={i:i*2 for i in range(11)}"
   ]
  },
  {
   "cell_type": "code",
   "execution_count": null,
   "id": "aa19dedb",
   "metadata": {},
   "outputs": [],
   "source": [
    "d"
   ]
  },
  {
   "cell_type": "markdown",
   "id": "05d72d71-8a77-4233-ad8d-f6c4c863ee26",
   "metadata": {},
   "source": [
    "# 20. Functions"
   ]
  },
  {
   "cell_type": "markdown",
   "id": "3638ff93-7b2d-46c8-b4c8-72f79f964169",
   "metadata": {},
   "source": [
    "##### What is Function\n",
    "The Function is a block of code which only runs when it is called         \n",
    "It is Basically an oranized set of rules or instructions, that you wish to perform multiple number of times\n",
    "\n",
    "There are 4 Types of Function\n",
    "1. Python Built-in Functions.\r",
    "2. \n",
    "Python Recursion Functions\n",
    "3. Python Lambda Functions.\n",
    "4. Python User-defined Functions                                       ns.\n",
    "##### Why do we use function\n",
    "We use function to Re-usability of code, and Minimizes redundancy (repeating the same code again and again)\n",
    "\n",
    "##### Steps involved in a function \n",
    "1. defining a function\n",
    "2. calling a function"
   ]
  },
  {
   "cell_type": "markdown",
   "id": "e1fc9aa4-8bb7-45a9-9bc7-40146839e7e1",
   "metadata": {},
   "source": [
    "### i) Built-in Functions"
   ]
  },
  {
   "cell_type": "raw",
   "id": "235b6efb-9d65-41b3-a64d-60cfbc72427e",
   "metadata": {},
   "source": [
    "syntax\n",
    "\n",
    "def greet():                # greet -- is a function name,   () -- the python should know it's not a variable it's a function,  \n",
    "    print('Hello')                      # : -- coloun indicates we have multiple statements\n",
    "    print('Good Morning')\n",
    "    \n",
    "greet()      # calling a function"
   ]
  },
  {
   "cell_type": "markdown",
   "id": "9050a761-67ca-4eec-b634-0166fa669990",
   "metadata": {},
   "source": [
    "#### Types of Arguments in Python\n",
    "1. Formal Arguments\n",
    "2. Actual Arguments\n",
    "    1. Position Argument\n",
    "    2. Keyword Argument\n",
    "    3. Default Argument\n",
    "    4. Variable length Argument\n",
    "    5. Keyword variable length argument"
   ]
  },
  {
   "cell_type": "code",
   "execution_count": 44,
   "id": "f7450f07-4cee-42ed-af5d-0e883d2e390d",
   "metadata": {},
   "outputs": [
    {
     "name": "stdout",
     "output_type": "stream",
     "text": [
      "Jeevan Raj\n"
     ]
    }
   ],
   "source": [
    "# 1. Position Argument\n",
    "\n",
    "def name(first_name,last_name):            # (formal argument)\n",
    "    print(first_name,last_name)\n",
    "name('Jeevan','Raj')                       # In this position of argument is most important     (actual argument)"
   ]
  },
  {
   "cell_type": "code",
   "execution_count": 45,
   "id": "c5e1fc39-5a17-43b5-955b-32a007b5bd13",
   "metadata": {},
   "outputs": [
    {
     "name": "stdout",
     "output_type": "stream",
     "text": [
      "Name = Jeevan\n",
      "Age = 25\n"
     ]
    }
   ],
   "source": [
    "# 2. Keyword Argument\n",
    "def info(name,age):\n",
    "    print('Name =',name)\n",
    "    print('Age =',age)\n",
    "info(age=25,name='Jeevan')"
   ]
  },
  {
   "cell_type": "code",
   "execution_count": 46,
   "id": "9b31d519-e65f-4242-8e6e-438f04554322",
   "metadata": {},
   "outputs": [
    {
     "name": "stdout",
     "output_type": "stream",
     "text": [
      "Name = Jeevan\n",
      "Age = 18\n",
      "Name = Jagruti\n",
      "Age = 23\n"
     ]
    }
   ],
   "source": [
    "# 3. Default Argument\n",
    "def info(name,age=18):\n",
    "    print('Name =',name)\n",
    "    print('Age =',age)\n",
    "info('Jeevan')\n",
    "info('Jagruti',23)"
   ]
  },
  {
   "cell_type": "code",
   "execution_count": 47,
   "id": "8b83e498-be69-4d0e-b6c8-f257a6452f78",
   "metadata": {},
   "outputs": [
    {
     "name": "stdout",
     "output_type": "stream",
     "text": [
      "35\n"
     ]
    }
   ],
   "source": [
    "# 4. Variable Length Argument\n",
    "def add(*a):\n",
    "    b=0\n",
    "    for i in a:\n",
    "        b+=i\n",
    "    print(b)\n",
    "\n",
    "add(12,4,4,15)"
   ]
  },
  {
   "cell_type": "markdown",
   "id": "d1667817-da9b-49f3-b790-26467def07a2",
   "metadata": {},
   "source": [
    "###### In Tupple we can't use the keyword so we use **a (where it convert tupple to dictionary), If we use *a (where it will be in tupple)"
   ]
  },
  {
   "cell_type": "code",
   "execution_count": 48,
   "id": "4e0e67ef-466f-4333-8c40-c412a566cdba",
   "metadata": {},
   "outputs": [
    {
     "ename": "TypeError",
     "evalue": "info() got an unexpected keyword argument 'Name'",
     "output_type": "error",
     "traceback": [
      "\u001b[1;31m---------------------------------------------------------------------------\u001b[0m",
      "\u001b[1;31mTypeError\u001b[0m                                 Traceback (most recent call last)",
      "Cell \u001b[1;32mIn[48], line 4\u001b[0m\n\u001b[0;32m      1\u001b[0m \u001b[38;5;28;01mdef\u001b[39;00m \u001b[38;5;21minfo\u001b[39m(\u001b[38;5;241m*\u001b[39mdata):\n\u001b[0;32m      2\u001b[0m     \u001b[38;5;28mprint\u001b[39m(data)\n\u001b[1;32m----> 4\u001b[0m info(Name\u001b[38;5;241m=\u001b[39m\u001b[38;5;124m'\u001b[39m\u001b[38;5;124mJeevan\u001b[39m\u001b[38;5;124m'\u001b[39m,Age\u001b[38;5;241m=\u001b[39m\u001b[38;5;241m25\u001b[39m)\n",
      "\u001b[1;31mTypeError\u001b[0m: info() got an unexpected keyword argument 'Name'"
     ]
    }
   ],
   "source": [
    "def info(*data):\n",
    "    print(data)\n",
    "\n",
    "info(Name='Jeevan',Age=25)"
   ]
  },
  {
   "cell_type": "code",
   "execution_count": 49,
   "id": "7ce41440-e9e6-48dc-88b6-e9d28f51e7a9",
   "metadata": {},
   "outputs": [
    {
     "name": "stdout",
     "output_type": "stream",
     "text": [
      "{'Name': 'Jeevan Raj', 'Age': 25, 'Location': 'Bangalore'}\n"
     ]
    }
   ],
   "source": [
    "# 5. Keyworded variable length argument\n",
    "def info(**data):\n",
    "    print(data)\n",
    "\n",
    "info(Name='Jeevan Raj',Age = 25,Location ='Bangalore')"
   ]
  },
  {
   "cell_type": "code",
   "execution_count": 50,
   "id": "e06345a5-911c-46f3-bd5e-58ff945707bb",
   "metadata": {},
   "outputs": [
    {
     "name": "stdout",
     "output_type": "stream",
     "text": [
      "Name = Jeevan Raj\n",
      "Age = 25\n",
      "Location = Bangalore\n"
     ]
    }
   ],
   "source": [
    "def info(**data):\n",
    "    for i,j in data.items():\n",
    "        print(i,'=',j)\n",
    "\n",
    "info(Name='Jeevan Raj',Age = 25,Location ='Bangalore')"
   ]
  },
  {
   "attachments": {
    "104fea73-325a-46a7-b630-fade499928aa.png": {
     "image/png": "[encoded data removed]"
    }
   },
   "cell_type": "markdown",
   "id": "ebaeaed9-e001-4586-b6dd-3495c27995f0",
   "metadata": {},
   "source": [
    "#### What is the difference between print() and return in Python\n",
    "- when ever you want to just print the values you can use print function, \n",
    "And when ever you want to return some value and store it in a variable and later on if you want to use that variable you can use return keywor\n",
    "- ![image.png](attachment:104fea73-325a-46a7-b630-fade499928aa.png)d"
   ]
  },
  {
   "cell_type": "code",
   "execution_count": 51,
   "id": "2b3130ef-f31b-4b29-91f7-291fc0e07437",
   "metadata": {},
   "outputs": [
    {
     "name": "stdout",
     "output_type": "stream",
     "text": [
      "5\n"
     ]
    }
   ],
   "source": [
    "def printsum(num1,num2):\n",
    "    addition = num1 + num2\n",
    "    print(addition)\n",
    "printsum(2,3)"
   ]
  },
  {
   "cell_type": "code",
   "execution_count": 52,
   "id": "08d85dd4-9134-4e1e-9890-3741c4b628ab",
   "metadata": {},
   "outputs": [
    {
     "data": {
      "text/plain": [
       "5"
      ]
     },
     "execution_count": 52,
     "metadata": {},
     "output_type": "execute_result"
    }
   ],
   "source": [
    "def returnsum(num1,num2):\n",
    "    addition = num1 + num2\n",
    "    return addition\n",
    "returnsum(2,3)"
   ]
  },
  {
   "cell_type": "code",
   "execution_count": 55,
   "id": "4ef6c68b-fd7a-45d9-8b56-6985468b1056",
   "metadata": {},
   "outputs": [
    {
     "name": "stdout",
     "output_type": "stream",
     "text": [
      "8\n"
     ]
    }
   ],
   "source": [
    "# You can observe that both does the same work but will see if we are going save the values in variable what happens\n",
    "x = printsum(3,5)"
   ]
  },
  {
   "cell_type": "code",
   "execution_count": 57,
   "id": "c2c02f00-3544-4a71-a969-3e93f360c325",
   "metadata": {},
   "outputs": [
    {
     "name": "stdout",
     "output_type": "stream",
     "text": [
      "None\n"
     ]
    }
   ],
   "source": [
    "print(x)     # we are used print statement so it just prints it does not returns the value"
   ]
  },
  {
   "cell_type": "code",
   "execution_count": 58,
   "id": "78a6fe4c-cf9a-4f8c-a43e-1213d81e6b8d",
   "metadata": {},
   "outputs": [],
   "source": [
    "y = returnsum(3,5)"
   ]
  },
  {
   "cell_type": "code",
   "execution_count": 59,
   "id": "377af92f-ec9f-4d0d-a4f3-f8effa191728",
   "metadata": {},
   "outputs": [
    {
     "name": "stdout",
     "output_type": "stream",
     "text": [
      "8\n"
     ]
    }
   ],
   "source": [
    "print(y)"
   ]
  },
  {
   "cell_type": "markdown",
   "id": "c0e07299-7b4f-4293-a438-e486022d93a2",
   "metadata": {},
   "source": [
    "### ii) Recursion Functions"
   ]
  },
  {
   "cell_type": "markdown",
   "id": "56e32323-3a50-4a63-9eee-5aa25ec53c1a",
   "metadata": {},
   "source": [
    "- Recursion in Python refers to a function calling itself to solve a smaller instance of the same problem. A recursive function typically has two main components:\n",
    "\n",
    "1. Base Case: A condition that stops the recursion and prevents the function from calling itself infinitely.\n",
    "2. Recursive Case: The function calls itself with a smaller or simpler argument to approach the base case."
   ]
  },
  {
   "cell_type": "markdown",
   "id": "f5e84e2d-f351-4373-bf8b-076e1084156a",
   "metadata": {},
   "source": [
    "##### Example: Factorial of a Number\n",
    "A factorial of a number n is defined as:\n",
    "\n",
    "n! = n * (n-1) * (n-2) * ... * 1 for n > 0\n",
    "0! = 1 (Base case)"
   ]
  },
  {
   "cell_type": "markdown",
   "id": "5ead2344-8e62-49a9-8f65-c19790e477fe",
   "metadata": {},
   "source": [
    "### Recursive function to find the factorial of a number:"
   ]
  },
  {
   "cell_type": "code",
   "execution_count": 62,
   "id": "51c7fd7d-5999-4763-8ed6-122fcb110042",
   "metadata": {},
   "outputs": [
    {
     "name": "stdout",
     "output_type": "stream",
     "text": [
      "120\n"
     ]
    }
   ],
   "source": [
    "# Recursive function to find the factorial of a number:\n",
    "def factorial(n):\n",
    "    # Base case: If n is 0, return 1 (factorial of 0 is 1)\n",
    "    if n == 0:\n",
    "        return 1\n",
    "    else:\n",
    "        # Recursive case: n * factorial(n-1)\n",
    "        return n * factorial(n - 1)\n",
    "# Testing the function\n",
    "result = factorial(5)  # 5! = 5 * 4 * 3 * 2 * 1 = 120\n",
    "print(result)  # Output: 120"
   ]
  },
  {
   "cell_type": "markdown",
   "id": "bf7745db-b81b-4dd9-abea-432230919b89",
   "metadata": {},
   "source": [
    "##### Explanation:\n",
    "1. Base Case:\n",
    "    - When n == 0, the function returns 1, stopping the recursion.\n",
    "2. Recursive Case:\n",
    "    - For any n > 0, the function calls itself with n-1 and multiplies the result with n. This continues until n reaches 0, where the base case is reached.\n",
    "##### How it works:\n",
    "    - First, factorial(5) calls factorial(4).\n",
    "    - Then, factorial(4) calls factorial(3).\n",
    "    - This process continues until factorial(0) is called, which returns 1.\n",
    "    - The recursion then \"unwinds\" and multiplies the returned values back up the chain:\n",
    "        - factorial(1) returns 1 * 1 = 1\n",
    "        - factorial(2) returns 2 * 1 = 2\n",
    "        - factorial(3) returns 3 * 2 = 6\n",
    "        - factorial(4) returns 4 * 6 = 24\n",
    "        - factorial(5) returns 5 * 24 = 120\n",
    "        - Thus, the factorial of 5 is 120.\n",
    "\n",
    "##### Advantages of Recursion:\n",
    "    - Makes the code more concise and elegant, especially for problems like tree traversals, factorials, etc.\n",
    "    - Useful for problems that can be broken down into similar subproblems (divide and conquer).\n",
    "##### Disadvantages of Recursion:\n",
    "    - Recursion can consume more memory, especially if the base case is not reached soon enough.\n",
    "    - If recursion depth is too large, Python will throw a RecursionError. To handle larger recursions, Python provides the sys.setrecursionlimit() method to increase the recursion depth limit."
   ]
  },
  {
   "cell_type": "markdown",
   "id": "31b58bde-8c06-44a4-afff-5f8e23a5db80",
   "metadata": {},
   "source": [
    "### iii) Lambda Functions"
   ]
  },
  {
   "cell_type": "markdown",
   "id": "d1de1ef3-aa9d-4b11-a1eb-471f37406780",
   "metadata": {},
   "source": [
    "##### what is Lambda Function\n",
    "- A lambda function is an anonymous function (i.e., defined without a name) that can take any number of arguments but, unlike normal functions, evaluates and returns only one expression.\n",
    "##### Will look how to work on Map, Filter, Reduce\n",
    "\n",
    "### Syntax\n",
    "\n",
    "## lambda arguments : expression\n",
    "The expression is executed and the result is returned"
   ]
  },
  {
   "cell_type": "markdown",
   "id": "79bcd186-93a7-42e9-80c1-ef38a3544203",
   "metadata": {},
   "source": [
    "##### Example 1:"
   ]
  },
  {
   "cell_type": "code",
   "execution_count": 63,
   "id": "52f6645a-38a6-4fbd-a448-1e5d637e4dd1",
   "metadata": {},
   "outputs": [
    {
     "name": "stdout",
     "output_type": "stream",
     "text": [
      "15\n"
     ]
    }
   ],
   "source": [
    "# Add 10 to argument a, and return the result:\n",
    "\n",
    "x = lambda a : a + 10\n",
    "print(x(5))"
   ]
  },
  {
   "cell_type": "markdown",
   "id": "0423c40f-de3a-4314-a6e7-b9732d7e191e",
   "metadata": {},
   "source": [
    "##### Example 2:\r\n",
    "Lambda functions can take any number of arguments:"
   ]
  },
  {
   "cell_type": "code",
   "execution_count": 64,
   "id": "c427e1d8-00a3-4960-9659-ff3d823a5575",
   "metadata": {},
   "outputs": [
    {
     "name": "stdout",
     "output_type": "stream",
     "text": [
      "30\n"
     ]
    }
   ],
   "source": [
    "# Multiply argument a with argument b and return the result:\n",
    "\n",
    "x = lambda a, b : a * b\n",
    "print(x(5, 6))"
   ]
  },
  {
   "cell_type": "code",
   "execution_count": 65,
   "id": "974433a9-aff7-41d5-b174-61ed4b52ea71",
   "metadata": {},
   "outputs": [
    {
     "name": "stdout",
     "output_type": "stream",
     "text": [
      "13\n"
     ]
    }
   ],
   "source": [
    "# Summarize argument a, b, and c and return the result:\n",
    "\n",
    "x = lambda a, b, c : a + b + c\n",
    "print(x(5, 6, 2))"
   ]
  },
  {
   "cell_type": "markdown",
   "id": "7842e625-f999-4559-9cf4-689d63cf6c73",
   "metadata": {},
   "source": [
    "##### Why Use Lambda Functions?\r\n",
    "The power of lambda is better shown when you use them as an anonymous function inside another function.\r\n",
    "\r\n",
    "Say you have a function definition that takes one argument, and that argument will be multiplied with an unknown number:"
   ]
  },
  {
   "cell_type": "code",
   "execution_count": 66,
   "id": "b0354ec3-1e1d-4088-978a-cca315a0bf8f",
   "metadata": {},
   "outputs": [
    {
     "data": {
      "text/plain": [
       "22"
      ]
     },
     "execution_count": 66,
     "metadata": {},
     "output_type": "execute_result"
    }
   ],
   "source": [
    "def myfunc(n):\n",
    "    return lambda a:a*n\n",
    "mydoubler = myfunc(2)\n",
    "mydoubler(11)"
   ]
  },
  {
   "cell_type": "code",
   "execution_count": 67,
   "id": "3540c06f-cf64-4a5a-b274-8bd237ce0168",
   "metadata": {},
   "outputs": [
    {
     "name": "stdout",
     "output_type": "stream",
     "text": [
      "33\n"
     ]
    }
   ],
   "source": [
    "def myfunc(n):\n",
    "    return lambda a : a*n\n",
    "tripler = myfunc(3)\n",
    "print(tripler(11))"
   ]
  },
  {
   "cell_type": "code",
   "execution_count": 68,
   "id": "039cb735-56a1-426f-9a09-bc73088437a4",
   "metadata": {},
   "outputs": [
    {
     "name": "stdout",
     "output_type": "stream",
     "text": [
      "22\n",
      "33\n"
     ]
    }
   ],
   "source": [
    "def myfunc(n):\n",
    "    return lambda a : a * n\n",
    "\n",
    "mydoubler = myfunc(2)\n",
    "mytripler = myfunc(3)\n",
    "\n",
    "print(mydoubler(11))\n",
    "print(mytripler(11))"
   ]
  },
  {
   "cell_type": "markdown",
   "id": "d399a330-b906-49e3-b387-fa9155821e9a",
   "metadata": {},
   "source": [
    "##### Example's"
   ]
  },
  {
   "cell_type": "code",
   "execution_count": 69,
   "id": "0d0f5603-51c8-4b6d-9bb7-55d0ca1b3ee6",
   "metadata": {},
   "outputs": [
    {
     "data": {
      "text/plain": [
       "7"
      ]
     },
     "execution_count": 69,
     "metadata": {},
     "output_type": "execute_result"
    }
   ],
   "source": [
    "# Now will add 2 numbers using lambda function \n",
    "add = lambda x,y: x+y\n",
    "add(3,4)"
   ]
  },
  {
   "cell_type": "code",
   "execution_count": 70,
   "id": "28547bb3-7a5d-4831-9baa-3a4b2fbf316a",
   "metadata": {},
   "outputs": [
    {
     "data": {
      "text/plain": [
       "6"
      ]
     },
     "execution_count": 70,
     "metadata": {},
     "output_type": "execute_result"
    }
   ],
   "source": [
    "# Now will double a number\n",
    "double = lambda x:x+x\n",
    "double(3)"
   ]
  },
  {
   "cell_type": "code",
   "execution_count": 71,
   "id": "47f66653-012b-4928-9d33-4af3e89c2faf",
   "metadata": {},
   "outputs": [
    {
     "data": {
      "text/plain": [
       "9"
      ]
     },
     "execution_count": 71,
     "metadata": {},
     "output_type": "execute_result"
    }
   ],
   "source": [
    "# Now will write a power of a number\n",
    "power = lambda x,y: x**y\n",
    "power(3,2)"
   ]
  },
  {
   "cell_type": "markdown",
   "id": "f3477919-d754-4b96-920d-c527f7cee568",
   "metadata": {},
   "source": [
    "##### Now will Perform Map in Lambda Function\r\n",
    "Map in Python is a function that works as an iterator to return a result after applying a function to every item of an iterabl\n",
    "\n",
    "Syntax\n",
    "- \n",
    "map(func,*iterables¶e"
   ]
  },
  {
   "cell_type": "code",
   "execution_count": 72,
   "id": "fd6f7a15-6621-4a20-8c56-f0c4a9e22dba",
   "metadata": {},
   "outputs": [
    {
     "data": {
      "text/plain": [
       "[4, 16, 36, 64, 100]"
      ]
     },
     "execution_count": 72,
     "metadata": {},
     "output_type": "execute_result"
    }
   ],
   "source": [
    "# Now will square the number using lambda function \n",
    "num = [2,4,6,8,10]\n",
    "square_output = list(map(lambda x:x**2,num))\n",
    "square_output"
   ]
  },
  {
   "cell_type": "code",
   "execution_count": 1,
   "id": "3ecb3edd-c69e-4959-8262-9bd42e56fb3e",
   "metadata": {},
   "outputs": [
    {
     "data": {
      "text/plain": [
       "['JEEVAN', 'RAHUL', 'SAM', 'SHRAVANI']"
      ]
     },
     "execution_count": 1,
     "metadata": {},
     "output_type": "execute_result"
    }
   ],
   "source": [
    "# Now will make a list of words in capital letter\n",
    "Names = ['Jeevan','Rahul','Sam','Shravani']\n",
    "cap_output=list(map(lambda x: x.upper(),Names))\n",
    "cap_output"
   ]
  },
  {
   "cell_type": "markdown",
   "id": "d5605bba-a129-40e5-866d-de9d455ac46a",
   "metadata": {},
   "source": [
    "##### Sorting with lambda function\r\n",
    "\n",
    "Sorting can be done in 2 types\r",
    "    - \n",
    "\r\n",
    "sort will directly affect the original l                                                                                                  i    - st\r\n",
    "sorted sort the list but it does not affect the original list you can save to the different variable"
   ]
  },
  {
   "cell_type": "code",
   "execution_count": 2,
   "id": "31e30f75-ab2c-41b9-80e7-3529281a0289",
   "metadata": {},
   "outputs": [],
   "source": [
    "student_details = [('raju',90),('varun',89),('akash',70),('lokesh',92),('amrutha',45),('chandana',80),('mita',50)]"
   ]
  },
  {
   "cell_type": "code",
   "execution_count": 3,
   "id": "ae5d3fe6-930a-49da-8fa4-5877b980b183",
   "metadata": {},
   "outputs": [
    {
     "data": {
      "text/plain": [
       "[('akash', 70),\n",
       " ('amrutha', 45),\n",
       " ('chandana', 80),\n",
       " ('lokesh', 92),\n",
       " ('mita', 50),\n",
       " ('raju', 90),\n",
       " ('varun', 89)]"
      ]
     },
     "execution_count": 3,
     "metadata": {},
     "output_type": "execute_result"
    }
   ],
   "source": [
    "# Now will perform sorted to sort the values\n",
    "sorted(student_details)"
   ]
  },
  {
   "cell_type": "code",
   "execution_count": 4,
   "id": "0c813ae4-1ad5-46cd-b25d-5b6c65ede2ff",
   "metadata": {},
   "outputs": [
    {
     "data": {
      "text/plain": [
       "[('raju', 90),\n",
       " ('varun', 89),\n",
       " ('akash', 70),\n",
       " ('lokesh', 92),\n",
       " ('amrutha', 45),\n",
       " ('chandana', 80),\n",
       " ('mita', 50)]"
      ]
     },
     "execution_count": 4,
     "metadata": {},
     "output_type": "execute_result"
    }
   ],
   "source": [
    "# Note you can see it is not affecting the original list\n",
    "student_details"
   ]
  },
  {
   "cell_type": "code",
   "execution_count": 6,
   "id": "3101c6be-6e89-4719-9d51-f0bd0432df33",
   "metadata": {},
   "outputs": [],
   "source": [
    "# Now will perform using sort function\n",
    "student_details.sort()"
   ]
  },
  {
   "cell_type": "code",
   "execution_count": 7,
   "id": "6606cfcc-a060-4476-acf4-52c7059d221b",
   "metadata": {},
   "outputs": [
    {
     "data": {
      "text/plain": [
       "[('akash', 70),\n",
       " ('amrutha', 45),\n",
       " ('chandana', 80),\n",
       " ('lokesh', 92),\n",
       " ('mita', 50),\n",
       " ('raju', 90),\n",
       " ('varun', 89)]"
      ]
     },
     "execution_count": 7,
     "metadata": {},
     "output_type": "execute_result"
    }
   ],
   "source": [
    "# Now you can see the original list got affected \n",
    "student_details"
   ]
  },
  {
   "cell_type": "code",
   "execution_count": 8,
   "id": "4df23399-f789-431c-8d56-5b140db311f4",
   "metadata": {},
   "outputs": [
    {
     "data": {
      "text/plain": [
       "[('amrutha', 45),\n",
       " ('mita', 50),\n",
       " ('akash', 70),\n",
       " ('chandana', 80),\n",
       " ('varun', 89),\n",
       " ('raju', 90),\n",
       " ('lokesh', 92)]"
      ]
     },
     "execution_count": 8,
     "metadata": {},
     "output_type": "execute_result"
    }
   ],
   "source": [
    "# Now i want to sort based on student marks not by names so will use lambda function to perform the operation\n",
    "sorted(student_details,key=lambda x:x[1])"
   ]
  },
  {
   "cell_type": "code",
   "execution_count": 9,
   "id": "5ba27e52-ccbd-4921-ac82-94942ad9d6a2",
   "metadata": {},
   "outputs": [
    {
     "data": {
      "text/plain": [
       "[('lokesh', 92),\n",
       " ('raju', 90),\n",
       " ('varun', 89),\n",
       " ('chandana', 80),\n",
       " ('akash', 70),\n",
       " ('mita', 50),\n",
       " ('amrutha', 45)]"
      ]
     },
     "execution_count": 9,
     "metadata": {},
     "output_type": "execute_result"
    }
   ],
   "source": [
    "# Now if you want to sort the marks based on higest to lowest use reverse = True, By default it is false\n",
    "sorted(student_details,key=lambda x:x[1],reverse=True)"
   ]
  },
  {
   "cell_type": "markdown",
   "id": "3b427bc8-7dd9-4ad0-9415-d695a5261ec3",
   "metadata": {},
   "source": [
    "### Now will understand Filter in Lambda Function\n",
    "filter out all the elements of a sequence"
   ]
  },
  {
   "cell_type": "markdown",
   "id": "799ae65a-8001-44d1-98a2-4610357b99f0",
   "metadata": {},
   "source": [
    "### Syntax\n",
    "\n",
    "### filter(function,iterable)"
   ]
  },
  {
   "cell_type": "markdown",
   "id": "6c6d0fad-f6b4-4715-b9b0-7c947290642a",
   "metadata": {},
   "source": [
    "#### Example 1:"
   ]
  },
  {
   "cell_type": "code",
   "execution_count": 10,
   "id": "e0ac5b04-465b-4959-a3da-03e1d80cf866",
   "metadata": {},
   "outputs": [
    {
     "name": "stdout",
     "output_type": "stream",
     "text": [
      "even = [56, 24, 66, 4, 54, 34]\n",
      "odd = [1, 23, 7, 3, 67]\n"
     ]
    }
   ],
   "source": [
    "# Now will find only even numbers using filters\n",
    "lis=[1,23,56,7,3,24,66,4,67,54,34]\n",
    "even = list(filter(lambda x:x%2==0,lis))\n",
    "odd = list(filter(lambda x:x%2!=0,lis))\n",
    "print('even =',even)\n",
    "print('odd =',odd)"
   ]
  },
  {
   "cell_type": "markdown",
   "id": "55340c89-803a-4032-9e6b-c3c352bbbf83",
   "metadata": {},
   "source": [
    "##### \n",
    "Example 2:"
   ]
  },
  {
   "cell_type": "code",
   "execution_count": 11,
   "id": "f8893760-2ba4-4bf7-b014-73a4b001e9c3",
   "metadata": {},
   "outputs": [
    {
     "data": {
      "text/plain": [
       "[('akash', 70),\n",
       " ('amrutha', 45),\n",
       " ('chandana', 80),\n",
       " ('lokesh', 92),\n",
       " ('mita', 50),\n",
       " ('raju', 90),\n",
       " ('varun', 89)]"
      ]
     },
     "execution_count": 11,
     "metadata": {},
     "output_type": "execute_result"
    }
   ],
   "source": [
    "student_details"
   ]
  },
  {
   "cell_type": "code",
   "execution_count": 12,
   "id": "66217568-e12e-4fa0-95f6-edcec5519cdf",
   "metadata": {},
   "outputs": [
    {
     "data": {
      "text/plain": [
       "[('akash', 70), ('chandana', 80), ('lokesh', 92), ('raju', 90), ('varun', 89)]"
      ]
     },
     "execution_count": 12,
     "metadata": {},
     "output_type": "execute_result"
    }
   ],
   "source": [
    "# Now if we want to print only passed student which is greater than 60 marks \n",
    "passed_student = list(filter(lambda x: x[1]>60,student_details))\n",
    "passed_student"
   ]
  },
  {
   "cell_type": "markdown",
   "id": "5ce4c568-e318-4a31-b485-1ec2cf5ee450",
   "metadata": {},
   "source": [
    "### Reduce Function\n",
    "Reduce returns a single output value from a sequence data structure because it reduces the elements by applying a given function it is used to perform some aggregate function"
   ]
  },
  {
   "cell_type": "code",
   "execution_count": 14,
   "id": "9b38a0bc-a9a6-48a6-bf51-54a08e19385f",
   "metadata": {},
   "outputs": [],
   "source": [
    "from functools import reduce            # Always if you want to use Reduce function you want to import reduce from functools library "
   ]
  },
  {
   "cell_type": "code",
   "execution_count": 15,
   "id": "1d124b3b-acf1-4cbd-bc6a-1e75c9c4b72c",
   "metadata": {},
   "outputs": [
    {
     "data": {
      "text/plain": [
       "86"
      ]
     },
     "execution_count": 15,
     "metadata": {},
     "output_type": "execute_result"
    }
   ],
   "source": [
    "nums = [1,2,3,4,5,6,7,8,9,12,19,10]\n",
    "summed_up = reduce(lambda x,y:x+y,nums)\n",
    "summed_up"
   ]
  },
  {
   "cell_type": "code",
   "execution_count": 16,
   "id": "ff7db0c7-2ea0-4793-adec-1e4271eb7f44",
   "metadata": {},
   "outputs": [
    {
     "data": {
      "text/plain": [
       "19"
      ]
     },
     "execution_count": 16,
     "metadata": {},
     "output_type": "execute_result"
    }
   ],
   "source": [
    "# Now to find the max values from the list \n",
    "max_values = reduce(lambda x,y: x if x>y else y,nums)\n",
    "max_values"
   ]
  },
  {
   "cell_type": "code",
   "execution_count": 17,
   "id": "4a3ac794-e528-46e1-a045-12a2edcd337c",
   "metadata": {},
   "outputs": [
    {
     "data": {
      "text/plain": [
       "1"
      ]
     },
     "execution_count": 17,
     "metadata": {},
     "output_type": "execute_result"
    }
   ],
   "source": [
    "# Now to find the min values from the list \n",
    "min_values = reduce(lambda x,y: x if x<y else y,nums)\n",
    "min_values"
   ]
  },
  {
   "cell_type": "markdown",
   "id": "36e8b946-e6a0-40c4-8866-77b6770d5d8e",
   "metadata": {},
   "source": [
    "# 21. Shallow copy vs deep copy in pythonn"
   ]
  },
  {
   "cell_type": "code",
   "execution_count": 18,
   "id": "470ccc55-23c4-4473-9530-02bebf041c67",
   "metadata": {},
   "outputs": [],
   "source": [
    "# In this secession we are going to cover     = ,copy(),deepcopy()\n",
    "\n",
    "# when ever we are going to work on copy the data should be collection (because the collection of element is mutiable)"
   ]
  },
  {
   "cell_type": "code",
   "execution_count": 19,
   "id": "82372e1f-f19b-4e2c-902a-27e59c25bfb5",
   "metadata": {},
   "outputs": [
    {
     "name": "stdout",
     "output_type": "stream",
     "text": [
      "before modification \n",
      "lis1= [4, 23, 6, 9] \n",
      "lis2= [4, 23, 6, 9]\n",
      "after modification \n",
      "lis1= [4, 12, 6, 9] \n",
      "lis2= [4, 12, 6, 9]\n",
      "2159877887872\n",
      "2159877887872\n",
      "Both are assigned for same memory location\n"
     ]
    }
   ],
   "source": [
    "#1 . working on (=) operation\n",
    "\n",
    "lis1=[4,23,6,9]\n",
    "lis2=lis1       #  now if i want to do some modification in lis2 it will affect to the list1\n",
    "print('before modification \\nlis1=',lis1 ,'\\nlis2=',lis2)\n",
    "lis2[1]=12\n",
    "print('after modification \\nlis1=',lis1 ,'\\nlis2=',lis2)   # both values are got changed because it is reffering for same memory location\n",
    "\n",
    "# now let we check the memory location of lis1 and lis2\n",
    "print(id(lis1))\n",
    "print(id(lis2))\n",
    "if id(lis1)==id(lis2):\n",
    "    print('Both are assigned for same memory location')\n",
    "else:\n",
    "    print('No Both are assigned for Different memory location')"
   ]
  },
  {
   "cell_type": "code",
   "execution_count": 20,
   "id": "7b13784c-3219-4c9a-aad4-e252d068702c",
   "metadata": {},
   "outputs": [
    {
     "name": "stdout",
     "output_type": "stream",
     "text": [
      "before modification \n",
      "lis1= [4, 23, 6, 9] \n",
      "lis2= [4, 23, 6, 9]\n",
      "after modification \n",
      "lis1= [4, 23, 6, 9] \n",
      "lis2= [4, 12, 6, 9]\n",
      "2159878096768\n",
      "2159878098560\n",
      "No Both are assigned for Different memory location\n"
     ]
    }
   ],
   "source": [
    "# using shallow copy(.copy)\n",
    "\n",
    "lis1=[4,23,6,9]\n",
    "lis2=lis1.copy()     # If you do shallow copy the memory location get changed \n",
    "\n",
    "# now i am going to modify the lis2   where list 1 dosent effect this time because it is reffering to the different memroy location\n",
    "print('before modification \\nlis1=',lis1 ,'\\nlis2=',lis2)\n",
    "lis2[1]=12\n",
    "print('after modification \\nlis1=',lis1 ,'\\nlis2=',lis2)  \n",
    "\n",
    "\n",
    "# now let we check the memory location of lis1 and lis2\n",
    "print(id(lis1))\n",
    "print(id(lis2))\n",
    "if id(lis1)==id(lis2):\n",
    "    print('Both are assigned for same memory location')\n",
    "else:\n",
    "    print('No Both are assigned for Different memory location')"
   ]
  },
  {
   "cell_type": "code",
   "execution_count": 21,
   "id": "281cb05a-118a-4723-8c4e-1b3e301defb5",
   "metadata": {},
   "outputs": [
    {
     "name": "stdout",
     "output_type": "stream",
     "text": [
      "before modification \n",
      "lis1= [[4, 23, 6, 9], [12, 96, 15, 6]] \n",
      "lis2= [[4, 23, 6, 9], [12, 96, 15, 6]]\n",
      "after modification \n",
      "lis1= [[4, 23, 6, 9], [100, 96, 15, 6]] \n",
      "lis2= [[4, 23, 6, 9], [100, 96, 15, 6]]\n",
      "2159878109440\n",
      "2159878108736\n",
      "No Both are assigned for Different memory location\n",
      "before appending \n",
      "lis1= [[4, 23, 6, 9], [100, 96, 15, 6]] \n",
      "lis2= [[4, 23, 6, 9], [100, 96, 15, 6], [6, 89, 5, 10]]\n",
      "after appending \n",
      "lis1= [[4, 23, 6, 9], [100, 96, 15, 6]] \n",
      "lis2= [[4, 23, 6, 9], [100, 96, 15, 6], [6, 89, 5, 10]]\n"
     ]
    }
   ],
   "source": [
    "# if we want to work on nested list we cannot use shallow copy because it acts like an = copy operation\n",
    "# working on shallow copy nested list\n",
    "# here both are not reffering to the same memory location but reffering the same object inside the list but if you do any modification in nested list both are get effected\n",
    "# To over come this we work on deep copy \n",
    "\n",
    "\n",
    "lis1=[[4,23,6,9],[12,96,15,6]]\n",
    "lis2=lis1.copy()     # If you do shallow copy the memory location get changed \n",
    "\n",
    "# now i am going to modify the lis2   where list 1 get affect this time because we are working on nested list if you are modifying any thing in the nested list it is considered as an object inside the list and get affected for both list\n",
    "print('before modification \\nlis1=',lis1 ,'\\nlis2=',lis2)\n",
    "lis2[1][0]=100\n",
    "print('after modification \\nlis1=',lis1 ,'\\nlis2=',lis2)  \n",
    "\n",
    "\n",
    "# now let we check the memory location of lis1 and lis2\n",
    "print(id(lis1))\n",
    "print(id(lis2))\n",
    "if id(lis1)==id(lis2):\n",
    "    print('Both are assigned for same memory location')\n",
    "else:\n",
    "    print('No Both are assigned for Different memory location')\n",
    "    \n",
    "# let us append some value\n",
    "lis2.append([6,89,5,10])\n",
    "print('before appending \\nlis1=',lis1 ,'\\nlis2=',lis2)\n",
    "\n",
    "print('after appending \\nlis1=',lis1 ,'\\nlis2=',lis2)  \n",
    "\n",
    "# the lis1 wont get affected due to copy if you are modifying some object present inside the list then only the list get affected\n"
   ]
  },
  {
   "cell_type": "code",
   "execution_count": 22,
   "id": "59dbb94b-fdaa-4eb2-bd00-e18f4f4d4285",
   "metadata": {},
   "outputs": [
    {
     "name": "stdout",
     "output_type": "stream",
     "text": [
      "before modification \n",
      "lis1= [[4, 23, 6, 9], [12, 96, 15, 6]] \n",
      "lis2= [[4, 23, 6, 9], [12, 96, 15, 6]]\n",
      "after modification \n",
      "lis1= [[4, 23, 6, 9], [12, 96, 15, 6]] \n",
      "lis2= [[4, 23, 6, 9], [100, 96, 15, 6]]\n",
      "2159877887872\n",
      "2159878096704\n",
      "No Both are assigned for Different memory location\n"
     ]
    }
   ],
   "source": [
    "# Deep copy\n",
    "#if i want to work on deep copy we first want to import copy\n",
    "\n",
    "import copy\n",
    "\n",
    "\n",
    "lis1=[[4,23,6,9],[12,96,15,6]]\n",
    "lis2=copy.deepcopy(lis1)     # If you do deep copy the memory location get changed \n",
    "\n",
    "# now i am going to modify the lis2   where list 1 dosent effect this time because we are working on deep copy it is reffering to the different memroy location\n",
    "print('before modification \\nlis1=',lis1 ,'\\nlis2=',lis2)\n",
    "lis2[1][0]=100\n",
    "print('after modification \\nlis1=',lis1 ,'\\nlis2=',lis2)  \n",
    "\n",
    "\n",
    "# now let we check the memory location of lis1 and lis2\n",
    "print(id(lis1))\n",
    "print(id(lis2))\n",
    "if id(lis1)==id(lis2):\n",
    "    print('Both are assigned for same memory location')\n",
    "else:\n",
    "    print('No Both are assigned for Different memory location')\n",
    "    \n",
    "# here for each and every object they are reffering to the different momery location"
   ]
  },
  {
   "cell_type": "code",
   "execution_count": null,
   "id": "470d4f05-1b42-480b-be0f-d676f35c7545",
   "metadata": {},
   "outputs": [],
   "source": []
  },
  {
   "cell_type": "markdown",
   "id": "3e6fc928-30ea-4a6a-a1c7-f9ef0a962e1e",
   "metadata": {},
   "source": [
    "# 22. List and Dictionary Comprehension"
   ]
  },
  {
   "cell_type": "markdown",
   "id": "86dcdc07-db7a-4c18-bc4b-ff4ceceeb65a",
   "metadata": {},
   "source": [
    "### Syntax\n",
    "\n",
    "newlist = [expression for item in iterable]    # without any condition      \n",
    "newlist = [expression for item in iterable if condition == True]     # with one condition             \n",
    "newlist = [expression if condition == True else expression for item in iterable]    # using if and else statement     \n",
    "newlist = [expression if condition == True else expression  if condition == True else expression  for item in iterable]   # using if elif and else statement     \n",
    "\n",
    "Python List comprehension provides a much more short syntax for creating a new list based on the values of an existing list."
   ]
  },
  {
   "cell_type": "code",
   "execution_count": 23,
   "id": "70e61562-5770-4687-bec6-18066c4d172f",
   "metadata": {},
   "outputs": [
    {
     "name": "stdout",
     "output_type": "stream",
     "text": [
      "['EXCEL', 'MYSQL', 'PYTHON', 'MACHINE LEARNING']\n"
     ]
    }
   ],
   "source": [
    "# Will use formal for loop and will compare with list comprehension\n",
    "# will convert all the element in the list in upper case\n",
    "\n",
    "subjects = ['Excel','MySQL','Python','Machine Learning']\n",
    "new_subject = []\n",
    "\n",
    "for i in subjects:\n",
    "    new_subject.append(i.upper())\n",
    "print(new_subject)"
   ]
  },
  {
   "cell_type": "code",
   "execution_count": 24,
   "id": "18c9c3e9-dd41-4265-9906-5035e6983428",
   "metadata": {},
   "outputs": [
    {
     "name": "stdout",
     "output_type": "stream",
     "text": [
      "['EXCEL', 'MYSQL', 'PYTHON', 'MACHINE LEARNING']\n"
     ]
    }
   ],
   "source": [
    "# Now will use list comprehension to write the code in much more easier way\n",
    "\n",
    "new_subject = [i.upper()  for i in subjects]\n",
    "print(new_subject)"
   ]
  },
  {
   "cell_type": "markdown",
   "id": "4610d703-cfd5-4d4e-b8c7-b70d300c8837",
   "metadata": {},
   "source": [
    "### Condition\n",
    "\n",
    "The condition is like a filter that only accepts the items that valuate to True.\n"
   ]
  },
  {
   "cell_type": "code",
   "execution_count": 25,
   "id": "fc2b473c-cb12-4fc2-b965-4ed252a7bc36",
   "metadata": {},
   "outputs": [
    {
     "name": "stdout",
     "output_type": "stream",
     "text": [
      "Excel\n"
     ]
    }
   ],
   "source": [
    "# Lets print all the subjects which contains E in it    \n",
    "for i in subjects:\n",
    "    if 'E' in i:\n",
    "        print(i)     # You can see that it is printing only Excel because it is case sensitive "
   ]
  },
  {
   "cell_type": "code",
   "execution_count": 26,
   "id": "b55ef35b-11af-4d75-bec4-608edc2b55f4",
   "metadata": {},
   "outputs": [
    {
     "name": "stdout",
     "output_type": "stream",
     "text": [
      "Excel\n",
      "Machine Learning\n"
     ]
    }
   ],
   "source": [
    "# Will write the same code in different way\n",
    "for i in subjects:\n",
    "    if 'E' in i.upper():\n",
    "        print(i)"
   ]
  },
  {
   "cell_type": "code",
   "execution_count": 27,
   "id": "9eb977bf-86c8-48b0-91e6-fbfa95461bad",
   "metadata": {},
   "outputs": [
    {
     "data": {
      "text/plain": [
       "['Excel', 'Machine Learning']"
      ]
     },
     "execution_count": 27,
     "metadata": {},
     "output_type": "execute_result"
    }
   ],
   "source": [
    "# Now will use list comprehension to write the code in more consize way\n",
    "[i   for i in subjects if 'E' in i.upper()]"
   ]
  },
  {
   "cell_type": "markdown",
   "id": "6765a75c-70cd-4e91-838d-04b09d2de8b1",
   "metadata": {},
   "source": [
    "##### Now will try to use if and else statement "
   ]
  },
  {
   "cell_type": "code",
   "execution_count": 28,
   "id": "19e63e29-3f36-4e62-9bcd-aebf6fe847a3",
   "metadata": {},
   "outputs": [
    {
     "name": "stdout",
     "output_type": "stream",
     "text": [
      "1 Odd\n",
      "2 Even\n",
      "3 Odd\n",
      "4 Even\n",
      "5 Odd\n",
      "6 Even\n",
      "7 Odd\n",
      "8 Even\n",
      "9 Odd\n",
      "10 Even\n"
     ]
    }
   ],
   "source": [
    "for i in range(1,11):\n",
    "    if i%2==0:\n",
    "        print(i,'Even')\n",
    "    else :\n",
    "        print(i,'Odd')"
   ]
  },
  {
   "cell_type": "code",
   "execution_count": 29,
   "id": "303cfba6-f4e6-46a6-a1a7-d81c26c06ee5",
   "metadata": {},
   "outputs": [
    {
     "name": "stdout",
     "output_type": "stream",
     "text": [
      "[(1, 'Odd'), (2, 'Even'), (3, 'Odd'), (4, 'Even'), (5, 'Odd'), (6, 'Even'), (7, 'Odd'), (8, 'Even'), (9, 'Odd'), (10, 'Even')]\n"
     ]
    }
   ],
   "source": [
    "odd_even_check = [(i,'Even') if i%2==0 else (i,'Odd') for i in range(1,11)]\n",
    "print(odd_even_check)"
   ]
  },
  {
   "attachments": {
    "e0788f47-85df-497f-9c88-741bd832ee4d.png": {
     "image/png": "[encoded data removed]"
    }
   },
   "cell_type": "markdown",
   "id": "5b11a68c-dc19-4884-83c6-2e63b64d4af6",
   "metadata": {},
   "source": [
    "#### Assingment Question\n",
    "![image.png](attachment:e0788f47-85df-497f-9c88-741bd832ee4d.png)"
   ]
  },
  {
   "cell_type": "markdown",
   "id": "82934b1c-e086-4983-a95c-b75aa7f422fe",
   "metadata": {},
   "source": [
    "### Expected Output:\n",
    "\n",
    "For example, suppose the taxable income is 45000 the income tax payable is\n",
    "\n",
    "10000  *0% + 10000*    10%  + 25000    20% = $6000."
   ]
  },
  {
   "cell_type": "code",
   "execution_count": 30,
   "id": "3c084aa0-745c-4e19-80c9-0f41082ebd7a",
   "metadata": {},
   "outputs": [
    {
     "name": "stdin",
     "output_type": "stream",
     "text": [
      "Enter the income 45000\n"
     ]
    },
    {
     "data": {
      "text/plain": [
       "[6000.0]"
      ]
     },
     "execution_count": 30,
     "metadata": {},
     "output_type": "execute_result"
    }
   ],
   "source": [
    "#lis = [expression if condition == True else expression if condition == True else expression for item in iterable]\n",
    "a=int(input('Enter the income'))\n",
    "\n",
    "[ 'No Tax' if a<=10000 else (a-10000)*.1 if a>10000 and a<=20000 else ((10000*0.1)+(a-20000)*.2)]"
   ]
  },
  {
   "cell_type": "markdown",
   "id": "f8629fab-f437-4fb1-b812-ed25a793574b",
   "metadata": {},
   "source": [
    "## Assingments "
   ]
  },
  {
   "cell_type": "code",
   "execution_count": 31,
   "id": "8e89dd3a-53b2-4245-9fe1-81c2a4af7f2a",
   "metadata": {},
   "outputs": [],
   "source": [
    "string = \"Practice Problems to Drill List Comprehension in Your Head.\""
   ]
  },
  {
   "cell_type": "markdown",
   "id": "9444d53a-ebbf-48b5-8859-7f736172b998",
   "metadata": {},
   "source": [
    "1.\tFind all of the numbers from 1–1000 that are divisible by 8\n",
    "2.\tFind all of the numbers from 1–1000 that have a 6 in them\n",
    "3.\tCount the number of spaces in a string (use string above)\n",
    "4.\tRemove all of the vowels in a string (use string above)\n",
    "5.\tFind all of the words in a string that are less than 5 letters (use string above)\n",
    "6.\tUse a dictionary comprehension to count the length of each word in a sentence (use string above)"
   ]
  },
  {
   "cell_type": "code",
   "execution_count": 32,
   "id": "dd46f1b5-ace8-4a03-bde5-2279b57276a7",
   "metadata": {},
   "outputs": [
    {
     "name": "stdout",
     "output_type": "stream",
     "text": [
      "[8, 16, 24, 32, 40, 48, 56, 64, 72, 80, 88, 96, 104, 112, 120, 128, 136, 144, 152, 160, 168, 176, 184, 192, 200, 208, 216, 224, 232, 240, 248, 256, 264, 272, 280, 288, 296, 304, 312, 320, 328, 336, 344, 352, 360, 368, 376, 384, 392, 400, 408, 416, 424, 432, 440, 448, 456, 464, 472, 480, 488, 496, 504, 512, 520, 528, 536, 544, 552, 560, 568, 576, 584, 592, 600, 608, 616, 624, 632, 640, 648, 656, 664, 672, 680, 688, 696, 704, 712, 720, 728, 736, 744, 752, 760, 768, 776, 784, 792, 800, 808, 816, 824, 832, 840, 848, 856, 864, 872, 880, 888, 896, 904, 912, 920, 928, 936, 944, 952, 960, 968, 976, 984, 992, 1000]\n"
     ]
    }
   ],
   "source": [
    "# 1. Find all of the numbers from 1–1000 that are divisible by 8\n",
    "\n",
    "output = [i  for i in range(1,1001)  if i%8 == 0]\n",
    "print(output)"
   ]
  },
  {
   "cell_type": "code",
   "execution_count": 33,
   "id": "f6f9af29-e0a8-4d8b-9899-aba3a05f08d0",
   "metadata": {},
   "outputs": [
    {
     "name": "stdout",
     "output_type": "stream",
     "text": [
      "[6, 16, 26, 36, 46, 56, 60, 61, 62, 63, 64, 65, 66, 67, 68, 69, 76, 86, 96, 106, 116, 126, 136, 146, 156, 160, 161, 162, 163, 164, 165, 166, 167, 168, 169, 176, 186, 196, 206, 216, 226, 236, 246, 256, 260, 261, 262, 263, 264, 265, 266, 267, 268, 269, 276, 286, 296, 306, 316, 326, 336, 346, 356, 360, 361, 362, 363, 364, 365, 366, 367, 368, 369, 376, 386, 396, 406, 416, 426, 436, 446, 456, 460, 461, 462, 463, 464, 465, 466, 467, 468, 469, 476, 486, 496, 506, 516, 526, 536, 546, 556, 560, 561, 562, 563, 564, 565, 566, 567, 568, 569, 576, 586, 596, 600, 601, 602, 603, 604, 605, 606, 607, 608, 609, 610, 611, 612, 613, 614, 615, 616, 617, 618, 619, 620, 621, 622, 623, 624, 625, 626, 627, 628, 629, 630, 631, 632, 633, 634, 635, 636, 637, 638, 639, 640, 641, 642, 643, 644, 645, 646, 647, 648, 649, 650, 651, 652, 653, 654, 655, 656, 657, 658, 659, 660, 661, 662, 663, 664, 665, 666, 667, 668, 669, 670, 671, 672, 673, 674, 675, 676, 677, 678, 679, 680, 681, 682, 683, 684, 685, 686, 687, 688, 689, 690, 691, 692, 693, 694, 695, 696, 697, 698, 699, 706, 716, 726, 736, 746, 756, 760, 761, 762, 763, 764, 765, 766, 767, 768, 769, 776, 786, 796, 806, 816, 826, 836, 846, 856, 860, 861, 862, 863, 864, 865, 866, 867, 868, 869, 876, 886, 896, 906, 916, 926, 936, 946, 956, 960, 961, 962, 963, 964, 965, 966, 967, 968, 969, 976, 986, 996]\n"
     ]
    }
   ],
   "source": [
    "# 2. Find all of the numbers from 1–1000 that have a 6 in them\n",
    "\n",
    "output = [i  for i in range(1,1001) if '6' in str(i)]\n",
    "print(output)"
   ]
  },
  {
   "cell_type": "code",
   "execution_count": 34,
   "id": "c98c61cf-5a53-410d-a0ba-5a1a8d36f64c",
   "metadata": {},
   "outputs": [
    {
     "name": "stdout",
     "output_type": "stream",
     "text": [
      "8\n"
     ]
    }
   ],
   "source": [
    "# 3.Count the number of spaces in a string (use string above)\n",
    "output = len([i  for i in string if i==' '])\n",
    "print(output)"
   ]
  },
  {
   "cell_type": "code",
   "execution_count": 35,
   "id": "931dddd9-08a8-4e69-b6ea-1f17058d0c42",
   "metadata": {},
   "outputs": [
    {
     "name": "stdout",
     "output_type": "stream",
     "text": [
      "Prctc Prblms t Drll Lst Cmprhnsn n Yr Hd.\n"
     ]
    }
   ],
   "source": [
    "# 4.Remove all of the vowels in a string (use string above)\n",
    "output = ''.join([i  for i in string  if i.lower() not in 'aeiou'])\n",
    "print(output)"
   ]
  },
  {
   "cell_type": "code",
   "execution_count": 36,
   "id": "159c5280-e83a-4583-bf21-31803005af0a",
   "metadata": {},
   "outputs": [
    {
     "name": "stdout",
     "output_type": "stream",
     "text": [
      "['to', 'List', 'in', 'Your']\n"
     ]
    }
   ],
   "source": [
    "# 5.Find all of the words in a string that are less than 5 letters (use string above)\n",
    "\n",
    "output = [i for i in string.split()  if len(i)<5]\n",
    "print(output)"
   ]
  },
  {
   "cell_type": "code",
   "execution_count": 37,
   "id": "2a45f1fb-bd97-47f2-88c9-4aff13b91571",
   "metadata": {},
   "outputs": [
    {
     "name": "stdout",
     "output_type": "stream",
     "text": [
      "{'Practice': 8, 'Problems': 8, 'to': 2, 'Drill': 5, 'List': 4, 'Comprehension': 13, 'in': 2, 'Your': 4, 'Head.': 5}\n"
     ]
    }
   ],
   "source": [
    "# 6.Use a dictionary comprehension to count the length of each word in a sentence (use string above)\n",
    "\n",
    "output = {i:len(i)  for i in string.split()}\n",
    "print(output)"
   ]
  },
  {
   "cell_type": "markdown",
   "id": "0ced2a98-cc83-4840-a2a9-acbbaa79bf4a",
   "metadata": {},
   "source": [
    "# 23. Exception Handling in Python"
   ]
  },
  {
   "cell_type": "markdown",
   "id": "e23ba209-5194-4a32-8d32-7307892e67cb",
   "metadata": {},
   "source": [
    "Exception handling is a mechanism in Python to handle errors that occur during the execution of a program. It ensures that the program doesn’t crash and allows us to provide meaningful responses when errors happen.\n",
    "\n",
    "- Key Components of Exception Handling\n",
    "    - try Block: The code that may raise an exception is placed here.\n",
    "    - except Block: Handles the exception.\n",
    "    - else Block (Optional): Executes if no exception occurs.\n",
    "    - finally Block (Optional): Executes regardless of whether an exception occurs.\n"
   ]
  },
  {
   "cell_type": "markdown",
   "id": "d45f087c-4959-430d-8eff-cf791ffe2c3c",
   "metadata": {},
   "source": [
    "#### Example 1: Handling Division by Zero"
   ]
  },
  {
   "cell_type": "code",
   "execution_count": 42,
   "id": "82aa8b21-b1fd-46ba-b012-5fe485c940a8",
   "metadata": {},
   "outputs": [
    {
     "name": "stdin",
     "output_type": "stream",
     "text": [
      "Enter a number:  0\n"
     ]
    },
    {
     "name": "stdout",
     "output_type": "stream",
     "text": [
      "Error: You cannot divide by zero.\n",
      "Execution completed.\n"
     ]
    }
   ],
   "source": [
    "try:\n",
    "    num = int(input(\"Enter a number: \"))\n",
    "    result = 10 / num\n",
    "    print(f\"Result: {result}\")\n",
    "except ZeroDivisionError:\n",
    "    print(\"Error: You cannot divide by zero.\")\n",
    "except ValueError:\n",
    "    print(\"Error: Please enter a valid number.\")\n",
    "finally:\n",
    "    print(\"Execution completed.\")\n",
    "\n",
    "#Explanation:\n",
    "#If the user enters 0, a ZeroDivisionError is handled.\n",
    "#If the user enters non-numeric input, a ValueError is handled.\n",
    "#The finally block runs no matter what."
   ]
  },
  {
   "cell_type": "markdown",
   "id": "745e4efb-1e90-41aa-961f-0f3ab305b964",
   "metadata": {},
   "source": [
    "#### Example 2: Catching General Exceptions"
   ]
  },
  {
   "cell_type": "code",
   "execution_count": 44,
   "id": "ddbf0627-602e-4adf-9026-361ee2ef9aca",
   "metadata": {},
   "outputs": [
    {
     "name": "stdout",
     "output_type": "stream",
     "text": [
      "An error occurred: list index out of range\n"
     ]
    }
   ],
   "source": [
    "try:\n",
    "    lst = [1, 2, 3]\n",
    "    print(lst[5])  # Accessing an invalid index\n",
    "except Exception as e:\n",
    "    print(f\"An error occurred: {e}\")\n",
    "\n",
    "# Explanation:\n",
    "# Using Exception as a catch-all for errors allows us to handle any unexpected issues."
   ]
  },
  {
   "cell_type": "markdown",
   "id": "8ede3857-0ba9-48a7-9405-e201050955a5",
   "metadata": {},
   "source": [
    "#### Example 3: Using else and finally"
   ]
  },
  {
   "cell_type": "code",
   "execution_count": 50,
   "id": "9ec3122e-61cb-4274-8119-325ab288568d",
   "metadata": {},
   "outputs": [
    {
     "name": "stdin",
     "output_type": "stream",
     "text": [
      "Enter a number:  6\n"
     ]
    },
    {
     "name": "stdout",
     "output_type": "stream",
     "text": [
      "Square: 36\n",
      "Successfully calculated the square!\n",
      "Program execution completed.\n"
     ]
    },
    {
     "data": {
      "text/plain": [
       "'\\nOutput 1 (Valid Input):\\nEnter a number: 5\\nSquare: 25\\nSuccessfully calculated the square!\\nProgram execution completed.\\n\\nOutput 2 (Invalid Input):\\nEnter a number: hello\\nError: Input must be a number.\\nProgram execution completed.\\n\\nExplanation:\\n\\nThe else block runs only if no exception is raised.\\nThe finally block always executes, regardless of success or failure.\\n'"
      ]
     },
     "execution_count": 50,
     "metadata": {},
     "output_type": "execute_result"
    }
   ],
   "source": [
    "try:\n",
    "    num = int(input(\"Enter a number: \"))\n",
    "    print(f\"Square: {num ** 2}\")\n",
    "except ValueError:\n",
    "    print(\"Error: Input must be a number.\")\n",
    "else:\n",
    "    print(\"Successfully calculated the square!\")\n",
    "finally:\n",
    "    print(\"Program execution completed.\")\n",
    "\n",
    "'''\n",
    "Output 1 (Valid Input):\n",
    "Enter a number: 5\n",
    "Square: 25\n",
    "Successfully calculated the square!\n",
    "Program execution completed.\n",
    "\n",
    "Output 2 (Invalid Input):\n",
    "Enter a number: hello\n",
    "Error: Input must be a number.\n",
    "Program execution completed.\n",
    "\n",
    "Explanation:\n",
    "\n",
    "The else block runs only if no exception is raised.\n",
    "The finally block always executes, regardless of success or failure.\n",
    "'''"
   ]
  },
  {
   "cell_type": "markdown",
   "id": "adfb7057-4a86-4b3c-b60d-5fe42d0d8772",
   "metadata": {},
   "source": [
    "#### Example 4: Raising Custom Exceptions"
   ]
  },
  {
   "cell_type": "code",
   "execution_count": 52,
   "id": "159625a1-b418-43cd-bb2e-0760f5a6e9ea",
   "metadata": {},
   "outputs": [
    {
     "name": "stdin",
     "output_type": "stream",
     "text": [
      "Enter your age:  15\n"
     ]
    },
    {
     "name": "stdout",
     "output_type": "stream",
     "text": [
      "Error: Age must be 18 or above.\n"
     ]
    },
    {
     "data": {
      "text/plain": [
       "'\\nOutput 1 (Age < 18):\\nEnter your age: 15\\nError: Age must be 18 or above.\\n\\nOutput 2 (Age >= 18):\\nEnter your age: 20\\nYou are eligible.\\n\\nExplanation:\\nThe raise statement is used to manually trigger exceptions with a custom error message.\\n'"
      ]
     },
     "execution_count": 52,
     "metadata": {},
     "output_type": "execute_result"
    }
   ],
   "source": [
    "try:\n",
    "    age = int(input(\"Enter your age: \"))\n",
    "    if age < 18:\n",
    "        raise ValueError(\"Age must be 18 or above.\")\n",
    "    print(\"You are eligible.\")\n",
    "except ValueError as e:\n",
    "    print(f\"Error: {e}\")\n",
    "\n",
    "'''\n",
    "Output 1 (Age < 18):\n",
    "Enter your age: 15\n",
    "Error: Age must be 18 or above.\n",
    "\n",
    "Output 2 (Age >= 18):\n",
    "Enter your age: 20\n",
    "You are eligible.\n",
    "\n",
    "Explanation:\n",
    "The raise statement is used to manually trigger exceptions with a custom error message.\n",
    "'''"
   ]
  },
  {
   "cell_type": "markdown",
   "id": "8df78ba0-841b-4415-b3af-e08106e2ccf5",
   "metadata": {},
   "source": [
    "# 24. Regular Expressions"
   ]
  },
  {
   "cell_type": "markdown",
   "id": "d80c2c94-da7d-43e9-9068-c4785f6229c6",
   "metadata": {},
   "source": [
    "##### Regular Expressions (Regex) in Python\n",
    "- Regular expressions are powerful tools for pattern matching in strings. They are used to identify, search, or manipulate text based on specific patterns.\n",
    "- Python provides the re module to work with regular expressions.\n",
    "\n",
    "* Common Regex Functions in Python\n",
    "    - re.match(): Checks if the pattern matches at the beginning of the string.\n",
    "    - re.search(): Searches for the first occurrence of the pattern in the string.\n",
    "    - re.findall(): Returns all occurrences of the pattern in the string.\n",
    "    - re.sub(): Replaces occurrences of the pattern with a specified string.\n",
    "    - re.split(): Splits the string based on the pattern."
   ]
  },
  {
   "cell_type": "code",
   "execution_count": 53,
   "id": "6bc69bd6-b239-4743-a3a8-8b7133680dea",
   "metadata": {},
   "outputs": [
    {
     "name": "stdout",
     "output_type": "stream",
     "text": [
      "Pattern matched at the beginning!\n"
     ]
    }
   ],
   "source": [
    "# Example 1: Using re.match()\n",
    "\n",
    "import re\n",
    "\n",
    "pattern = r\"hello\"\n",
    "text = \"hello world\"\n",
    "result = re.match(pattern, text)\n",
    "\n",
    "if result:\n",
    "    print(\"Pattern matched at the beginning!\")\n",
    "else:\n",
    "    print(\"Pattern not matched.\")\n",
    "\n",
    "#Explanation:\n",
    "#The pattern hello is checked against the start of text."
   ]
  },
  {
   "cell_type": "code",
   "execution_count": 55,
   "id": "d9aa8577-1f7f-4351-a43c-cb82ce8cc25b",
   "metadata": {},
   "outputs": [
    {
     "name": "stdout",
     "output_type": "stream",
     "text": [
      "Pattern found!\n"
     ]
    }
   ],
   "source": [
    "# Example 2: Using re.search()\n",
    "import re\n",
    "\n",
    "pattern = r\"world\"\n",
    "text = \"hello world\"\n",
    "result = re.search(pattern, text)\n",
    "\n",
    "if result:\n",
    "    print(\"Pattern found!\")\n",
    "else:\n",
    "    print(\"Pattern not found.\")\n",
    "\n",
    "# Explanation:\n",
    "# The pattern world is searched anywhere in the string."
   ]
  },
  {
   "cell_type": "code",
   "execution_count": 56,
   "id": "59a93ce5-b512-4c41-9750-e176def53ea4",
   "metadata": {},
   "outputs": [
    {
     "name": "stdout",
     "output_type": "stream",
     "text": [
      "['45', '30']\n"
     ]
    }
   ],
   "source": [
    "# Example 3: Using re.findall()\n",
    "import re\n",
    "\n",
    "pattern = r\"\\d+\"  # Matches one or more digits\n",
    "text = \"The price is 45 dollars and 30 cents.\"\n",
    "result = re.findall(pattern, text)\n",
    "\n",
    "print(result)\n",
    "\n",
    "# Explanation:\n",
    "# The pattern \\d+ matches all numeric sequences in the text."
   ]
  },
  {
   "cell_type": "code",
   "execution_count": 57,
   "id": "62ba5b93-ffef-44e9-af5f-b5ccb53d0226",
   "metadata": {},
   "outputs": [
    {
     "name": "stdout",
     "output_type": "stream",
     "text": [
      "hello-world\n"
     ]
    }
   ],
   "source": [
    "# Example 4: Using re.sub()\n",
    "import re\n",
    "\n",
    "pattern = r\"\\s\"  # Matches any whitespace character\n",
    "text = \"hello world\"\n",
    "result = re.sub(pattern, \"-\", text)\n",
    "\n",
    "print(result)\n",
    "\n",
    "# Explanation:\n",
    "# All whitespace characters are replaced with a -."
   ]
  },
  {
   "cell_type": "code",
   "execution_count": 58,
   "id": "3d5f3d9a-66d8-452f-82f6-efea4f98f648",
   "metadata": {},
   "outputs": [
    {
     "name": "stdout",
     "output_type": "stream",
     "text": [
      "['apple', 'banana', 'cherry']\n"
     ]
    }
   ],
   "source": [
    "# Example 5: Using re.split()\n",
    "pattern = r\",\\s*\"  # Matches a comma followed by zero or more spaces\n",
    "text = \"apple, banana, cherry\"\n",
    "result = re.split(pattern, text)\n",
    "\n",
    "print(result)\n",
    "\n",
    "# Explanation:\n",
    "# The string is split at commas, ignoring spaces around them."
   ]
  },
  {
   "attachments": {
    "13fc5e5b-5079-4922-b9e9-adf5d4689367.png": {
     "image/png": "[encoded data removed]"
    }
   },
   "cell_type": "markdown",
   "id": "c8f64cf0-04ad-40a8-a319-f76d47931f5d",
   "metadata": {},
   "source": [
    "![image.png](attachment:13fc5e5b-5079-4922-b9e9-adf5d4689367.png)"
   ]
  },
  {
   "cell_type": "code",
   "execution_count": 59,
   "id": "74ad8552-6bf9-46f5-aded-3eba4893e260",
   "metadata": {},
   "outputs": [
    {
     "name": "stdout",
     "output_type": "stream",
     "text": [
      "Pattern matches the text!\n"
     ]
    }
   ],
   "source": [
    "# Example 6: Combining Patterns\n",
    "import re\n",
    "\n",
    "pattern = r\"^The.*\\d+$\"  # Starts with 'The', ends with a digit\n",
    "text = \"The price is 100\"\n",
    "result = re.match(pattern, text)\n",
    "\n",
    "if result:\n",
    "    print(\"Pattern matches the text!\")\n",
    "else:\n",
    "    print(\"Pattern does not match.\")\n",
    "\n",
    "# Explanation:\n",
    "# The string starts with The and ends with a digit, satisfying the pattern."
   ]
  },
  {
   "cell_type": "code",
   "execution_count": null,
   "id": "521c8504-ffce-432c-91cc-b4eed1f65db8",
   "metadata": {},
   "outputs": [],
   "source": []
  }
 ],
 "metadata": {
  "kernelspec": {
   "display_name": "Python 3 (ipykernel)",
   "language": "python",
   "name": "python3"
  },
  "language_info": {
   "codemirror_mode": {
    "name": "ipython",
    "version": 3
   },
   "file_extension": ".py",
   "mimetype": "text/x-python",
   "name": "python",
   "nbconvert_exporter": "python",
   "pygments_lexer": "ipython3",
   "version": "3.11.7"
  }
 },
 "nbformat": 4,
 "nbformat_minor": 5
}
