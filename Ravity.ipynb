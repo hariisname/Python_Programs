{
 "cells": [
  {
   "cell_type": "markdown",
   "id": "6e67984d",
   "metadata": {},
   "source": [
    "Section A:\n",
    "\n",
    "1. Create a tuple with the values 1, 2, and 3. Write a function to return the sum of the tuple elements. \n",
    "\n",
    "2. Write a Python program to create a list of squares of numbers from 1 to 10 using list comprehension. \n",
    "\n",
    "3. Write a program to print all even numbers from 1 to 10 using a for loop and if condition. \n",
    "\n",
    "4. Write a function that accepts any number of arguments and returns their sum. \n",
    "\n",
    "5. Write a Python program to find the elements that are unique to each of the following lists l1 and l2 \n",
    "\tl1=[1,10,3,4,5,2] \n",
    "\tl2=[1,2,3,8,9] \n"
   ]
  },
  {
   "cell_type": "code",
   "execution_count": 4,
   "id": "2bf286c6",
   "metadata": {},
   "outputs": [
    {
     "data": {
      "text/plain": [
       "6"
      ]
     },
     "execution_count": 4,
     "metadata": {},
     "output_type": "execute_result"
    }
   ],
   "source": [
    "# 1) Create a tuple with the values 1, 2, and 3. Write a function to return the sum of the tuple elements.\n",
    "def tup_sum(x):\n",
    "    tot=0\n",
    "    for i in x:\n",
    "        tot=tot+i\n",
    "    return tot\n",
    "tuple1=(1,2,3)\n",
    "result=tup_sum(tuple1)\n",
    "result"
   ]
  },
  {
   "cell_type": "code",
   "execution_count": 9,
   "id": "ddc1b5fc",
   "metadata": {},
   "outputs": [
    {
     "data": {
      "text/plain": [
       "[1, 4, 9, 16, 25, 36, 49, 64, 81, 100]"
      ]
     },
     "execution_count": 9,
     "metadata": {},
     "output_type": "execute_result"
    }
   ],
   "source": [
    "# 2) Write a Python program to create a list of squares of numbers from 1 to 10 using list comprehension.\n",
    "res=[i**2 for i in range(1,10+1)]\n",
    "res"
   ]
  },
  {
   "cell_type": "code",
   "execution_count": 12,
   "id": "b65d3025",
   "metadata": {},
   "outputs": [
    {
     "name": "stdout",
     "output_type": "stream",
     "text": [
      "2\n",
      "4\n",
      "6\n",
      "8\n",
      "10\n"
     ]
    }
   ],
   "source": [
    "# 3) Write a program to print all even numbers from 1 to 10 using a for loop and if condition.\n",
    "for i in range(1,10+1):\n",
    "    if i%2==0:\n",
    "        print(i)"
   ]
  },
  {
   "cell_type": "code",
   "execution_count": 18,
   "id": "637c8792",
   "metadata": {},
   "outputs": [
    {
     "data": {
      "text/plain": [
       "62"
      ]
     },
     "execution_count": 18,
     "metadata": {},
     "output_type": "execute_result"
    }
   ],
   "source": [
    "# 4) Write a function that accepts any number of arguments and returns their sum.\n",
    "def ret_sum(*x):\n",
    "    total1=0\n",
    "    for i in x:\n",
    "        total1=total1+i\n",
    "    return total1\n",
    "re=ret_sum(1,2,3,56)\n",
    "re"
   ]
  },
  {
   "cell_type": "code",
   "execution_count": 38,
   "id": "9b0deee8",
   "metadata": {},
   "outputs": [
    {
     "name": "stdout",
     "output_type": "stream",
     "text": [
      "Elements unique to l1 = [10, 4, 5] \n",
      "Elements unique to l2 = [8, 9]\n"
     ]
    }
   ],
   "source": [
    "'''\n",
    "5) Write a Python program to find the elements that are unique to each of the following \n",
    "lists l1 and l2 l1=[1,10,3,4,5,2] l2=[1,2,3,8,9]\n",
    "'''\n",
    "l1=[1,10,3,4,5,2]\n",
    "l2=[1,2,3,8,9]\n",
    "\n",
    "unique_l1=[]\n",
    "unique_l2=[]\n",
    "for i in l1:\n",
    "    if i not in l2:\n",
    "        unique_l1.append(i)\n",
    "for j in l2:\n",
    "    if j not in l1:\n",
    "        unique_l2.append(j)\n",
    "print(f\"Elements unique to l1 = {unique_l1} \\nElements unique to l2 = {unique_l2}\")"
   ]
  },
  {
   "cell_type": "markdown",
   "id": "3a2b8567",
   "metadata": {},
   "source": [
    "Section B:\n",
    "\n",
    "1. Given a list [1, 2, 3, 4, 5], use the filter function with a lambda expression to get the even numbers. \n",
    "\n",
    "2. Write a Python program to connect to a SQL database and fetch all records from a table named 'students'. \n",
    "\n",
    "3. Write a Python program that uses a try-except block to handle a division by zero exception. \n",
    "\n",
    "4. Write a lambda function to calculate the square of a number. \n",
    "\n",
    "5. a=[10,20,30,30,40,50] Return the list by removing the 30 values from the list.\n",
    "\toutput should be: a=[10,20,40,50]\n",
    "    \n",
    "6. Write a function that takes a string as input and returns a dictionary where keys are unique words in the string, and values are the frequencies of each word.\n",
    "\texample: \n",
    "\tinput_string = \"apple banana orange banana apple\"\n",
    "\tresult = word_frequency_counter(input_string)\n",
    "\tOutput: {'apple': 2, 'banana': 2, 'orange': 1}\n",
    "\n",
    "\n",
    "7. Write a function that merges two dictionaries. If there are common keys, sum their values.\n",
    "\texample:\n",
    "\tdict1 = {'a': 10, 'b': 20, 'c': 30}\n",
    "\tdict2 = {'b': 5, 'c': 15, 'd': 25}\n",
    "\tresult = merge_dictionaries(dict1, dict2)\n",
    "\tOutput: {'a': 10, 'b': 25, 'c': 45, 'd': 25}\n",
    "\n",
    "8. Create two data frames using the following two Dicts and solve the a and b.\n",
    "\tCar_Price = {'Company': ['Toyota', 'Honda', 'BMV', 'Audi'], 'Price': [23845, 17995, 135925 , 71400]} \n",
    "\tcar_Horsepower = {'Company': ['Toyota', 'Honda', 'BMV', 'Audi'], 'horsepower': [141, 80, 182 , 160]} \n",
    "\ta. Merge two data frames \n",
    "\tb. Append the second data frame as a new column to the first data frame. \n",
    "\n",
    "9. Use a loop to display elements from a given list present at odd index positions .\n",
    "\n",
    "10. Create a function that checks if input list which contains whole numbers are divisible by x (x is also your input along with list) and get the count of it.\n",
    "\texample: \n",
    "\ta=[1,10,23,24,36,89]\n",
    "\tx=4\n",
    "\toutput: count is 2 (24,36)\n"
   ]
  },
  {
   "cell_type": "code",
   "execution_count": 41,
   "id": "9eeccbfe",
   "metadata": {},
   "outputs": [
    {
     "data": {
      "text/plain": [
       "[2, 4]"
      ]
     },
     "execution_count": 41,
     "metadata": {},
     "output_type": "execute_result"
    }
   ],
   "source": [
    "# 1) Given a list [1, 2, 3, 4, 5], use the filter function with a lambda expression to get the even numbers.\n",
    "\n",
    "list2=[1, 2, 3, 4, 5]\n",
    "res=list(filter(lambda x:x%2==0,list2))\n",
    "res"
   ]
  },
  {
   "cell_type": "code",
   "execution_count": null,
   "id": "bcaf6b4a",
   "metadata": {},
   "outputs": [],
   "source": [
    "# 2) Write a Python program to connect to a SQL database and fetch all records from a table named 'students'.\n",
    "\n"
   ]
  },
  {
   "cell_type": "code",
   "execution_count": 50,
   "id": "42bd7a80",
   "metadata": {},
   "outputs": [],
   "source": [
    "# !pip install mysql-connector-python"
   ]
  },
  {
   "cell_type": "code",
   "execution_count": 51,
   "id": "2151b1ab",
   "metadata": {},
   "outputs": [
    {
     "name": "stdout",
     "output_type": "stream",
     "text": [
      "(1, 'mamtha', '70', '24')\n",
      "(2, 'Jeevan', '100', '24')\n",
      "(3, 'shravani', '96', '24')\n",
      "(4, 'Pranav', '45', '24')\n",
      "MySQL connection is closed\n"
     ]
    }
   ],
   "source": [
    "# 2) Write a Python program to connect to a SQL database and fetch all records from a table named 'students'.\n",
    "import mysql.connector\n",
    "\n",
    "# Connect to the MySQL Workbench database\n",
    "connection = mysql.connector.connect(\n",
    "    host=\"127.0.0.1\",\n",
    "    user=\"root\",\n",
    "    password=\"root\",\n",
    "    database=\"student\"\n",
    ")\n",
    "\n",
    "# Check if the connection is successful\n",
    "if connection.is_connected():\n",
    "    cursor = connection.cursor()\n",
    "\n",
    "    # Fetch all records from the 'students' table\n",
    "    cursor.execute(\"SELECT * FROM students\")\n",
    "    records = cursor.fetchall()\n",
    "\n",
    "    # Print the fetched records\n",
    "    for record in records:\n",
    "        print(record)\n",
    "\n",
    "    # Close the cursor and connection\n",
    "    cursor.close()\n",
    "    connection.close()\n",
    "    print(\"MySQL connection is closed\")\n",
    "else:\n",
    "    print(\"Error connecting to MySQL database\")\n"
   ]
  },
  {
   "cell_type": "code",
   "execution_count": 55,
   "id": "1f7a01db",
   "metadata": {},
   "outputs": [
    {
     "name": "stdout",
     "output_type": "stream",
     "text": [
      "Enter the dividend: 5\n",
      "Enter the divisor: 0\n",
      "Error: Division by zero!\n"
     ]
    }
   ],
   "source": [
    "# 3) Write a Python program that uses a try-except block to handle a division by zero exception.\n",
    "try:\n",
    "    dividend = int(input(\"Enter the dividend: \"))\n",
    "    divisor = int(input(\"Enter the divisor: \"))\n",
    "    res = dividend / divisor\n",
    "    print(\"Result of division:\", res)\n",
    "except ZeroDivisionError:\n",
    "    print(\"Error: Division by zero!\")"
   ]
  },
  {
   "cell_type": "code",
   "execution_count": 58,
   "id": "cb401376",
   "metadata": {},
   "outputs": [
    {
     "data": {
      "text/plain": [
       "49"
      ]
     },
     "execution_count": 58,
     "metadata": {},
     "output_type": "execute_result"
    }
   ],
   "source": [
    "# 4) Write a lambda function to calculate the square of a number.\n",
    "\n",
    "res=lambda x:x**2\n",
    "res(7)"
   ]
  },
  {
   "cell_type": "code",
   "execution_count": 60,
   "id": "c0d86972",
   "metadata": {},
   "outputs": [
    {
     "data": {
      "text/plain": [
       "[10, 20, 40, 50]"
      ]
     },
     "execution_count": 60,
     "metadata": {},
     "output_type": "execute_result"
    }
   ],
   "source": [
    "# 5) a=[10,20,30,30,40,50] Return the list by removing the 30 values from the list. output should be: a=[10,20,40,50]\n",
    "\n",
    "a=[10,20,30,30,40,50]\n",
    "def ret_lis(x):\n",
    "    temp=[]\n",
    "    for i in a:\n",
    "        if i !=30:\n",
    "            temp.append(i)\n",
    "    return temp\n",
    "op=ret_lis(a)\n",
    "op"
   ]
  },
  {
   "cell_type": "code",
   "execution_count": 67,
   "id": "7ce21772",
   "metadata": {},
   "outputs": [
    {
     "data": {
      "text/plain": [
       "{'apple': 2, 'banana': 2, 'orange': 1}"
      ]
     },
     "execution_count": 67,
     "metadata": {},
     "output_type": "execute_result"
    }
   ],
   "source": [
    "# 6) Write a function that takes a string as input and returns a dictionary where keys are unique \n",
    "# words in the string, and values are the frequencies of each word. example: \n",
    "# input_string = \"apple banana orange banana apple\" \n",
    "# result = word_frequency_counter(input_string) \n",
    "# Output: {'apple': 2, 'banana': 2, 'orange': 1}\n",
    "\n",
    "def word_frequency_counter(x):\n",
    "    dic={}\n",
    "    for i in x.split(\" \"):\n",
    "        if i in dic:\n",
    "            dic[i]+=1\n",
    "        else:\n",
    "            dic[i]=1\n",
    "    return dic\n",
    "input_string = \"apple banana orange banana apple\"\n",
    "word_frequency_counter(input_string)"
   ]
  },
  {
   "cell_type": "code",
   "execution_count": 70,
   "id": "9033ff0c",
   "metadata": {},
   "outputs": [
    {
     "data": {
      "text/plain": [
       "{'a': 10, 'b': 25, 'c': 45, 'd': 25}"
      ]
     },
     "execution_count": 70,
     "metadata": {},
     "output_type": "execute_result"
    }
   ],
   "source": [
    "# 7) Write a function that merges two dictionaries. If there are common keys, sum their values. example: \n",
    "# dict1 = {'a': 10, 'b': 20, 'c': 30} \n",
    "# dict2 = {'b': 5, 'c': 15, 'd': 25} \n",
    "# result = merge_dictionaries(dict1, dict2) \n",
    "# Output: {'a': 10, 'b': 25, 'c': 45, 'd': 25}\n",
    "\n",
    "def merge_dictionaries(dict1,dict2):\n",
    "    res={}\n",
    "    for key,value in dict1.items():\n",
    "        res[key]=value\n",
    "    for key,value in dict2.items():\n",
    "        if key in res:\n",
    "            res[key]+=value\n",
    "        else:\n",
    "            res[key]=value\n",
    "    return res\n",
    "\n",
    "dict1 = {'a': 10, 'b': 20, 'c': 30} \n",
    "dict2 = {'b': 5, 'c': 15, 'd': 25} \n",
    "result= merge_dictionaries(dict1,dict2)\n",
    "result"
   ]
  },
  {
   "cell_type": "code",
   "execution_count": 88,
   "id": "bc6251b7",
   "metadata": {},
   "outputs": [
    {
     "name": "stdout",
     "output_type": "stream",
     "text": [
      "With help of merge =\n",
      "   Company   Price  horsepower\n",
      "0  Toyota   23845         141\n",
      "1   Honda   17995          80\n",
      "2     BMV  135925         182\n",
      "3    Audi   71400         160\n",
      "After Performing Append =\n",
      "   Company   Price  horsepower\n",
      "0  Toyota   23845         141\n",
      "1   Honda   17995          80\n",
      "2     BMV  135925         182\n",
      "3    Audi   71400         160\n"
     ]
    }
   ],
   "source": [
    "# 8) Create two data frames using the following two Dicts and solve the a and b. \n",
    "# Car_Price = {'Company': ['Toyota', 'Honda', 'BMV', 'Audi'], 'Price': [23845, 17995, 135925 , 71400]} \n",
    "# car_Horsepower = {'Company': ['Toyota', 'Honda', 'BMV', 'Audi'], 'horsepower': [141, 80, 182 , 160]} \n",
    "# a. Merge two data frames \n",
    "# b. Append the second data frame as a new column to the first data frame.\n",
    "\n",
    "import pandas as pd\n",
    "Car_Price = {'Company': ['Toyota', 'Honda', 'BMV', 'Audi'],\n",
    "             'Price': [23845, 17995, 135925 , 71400]}\n",
    "car_Horsepower = {'Company': ['Toyota', 'Honda', 'BMV', 'Audi'], \n",
    "                  'horsepower': [141, 80, 182 , 160]} \n",
    "\n",
    "df1=pd.DataFrame(Car_Price)\n",
    "df2=pd.DataFrame(car_Horsepower)\n",
    "\n",
    "merge_df=pd.merge(df1,df2,on='Company',how='inner')\n",
    "df1['horsepower']=df2['horsepower']\n",
    "print(f\"With help of merge =\\n {merge_df}\")\n",
    "print(f\"After Performing Append =\\n {df1}\")"
   ]
  },
  {
   "cell_type": "code",
   "execution_count": 93,
   "id": "b5918453",
   "metadata": {},
   "outputs": [
    {
     "data": {
      "text/plain": [
       "[11, 13, 15, 17, 19]"
      ]
     },
     "execution_count": 93,
     "metadata": {},
     "output_type": "execute_result"
    }
   ],
   "source": [
    "# 9) Use a loop to display elements from a given list present at odd index positions .\n",
    "lis=[10,11,12,13,14,15,16,17,18,19,20]\n",
    "temp=[]\n",
    "for i in range(len(lis)):\n",
    "    if i%2==1:\n",
    "        temp.append(lis[i])\n",
    "temp"
   ]
  },
  {
   "cell_type": "code",
   "execution_count": 114,
   "id": "80a8890c",
   "metadata": {},
   "outputs": [
    {
     "name": "stdout",
     "output_type": "stream",
     "text": [
      "count is 2 ([24, 36])\n"
     ]
    }
   ],
   "source": [
    "# 10) Create a function that checks if input list which contains whole numbers are \n",
    "#  divisible by x (x is also your input along with list) and get the count of it. \n",
    "# example: a=[1,10,23,24,36,89] x=4 output: count is 2 (24,36)\n",
    "def fun(lis,num):\n",
    "    tem=[]\n",
    "    coun=0\n",
    "    for i in lis:\n",
    "        if i%num==0:\n",
    "            coun+=1\n",
    "            tem.append(i)\n",
    "    print(f\"count is {coun} ({tem})\")\n",
    "a=[1,10,23,24,36,89]\n",
    "x=4\n",
    "fun(a,x)\n"
   ]
  },
  {
   "cell_type": "markdown",
   "id": "09e2b501",
   "metadata": {},
   "source": [
    "Section C:\n",
    "\n",
    "1. Write a Python program to remove the common values of list1 from list2 and return same list2 by using List comprehension.\n",
    "\texample:\n",
    "\tlist1=['ab','cd','ef','gh']\n",
    "\tlist2=['cd','yy','ik','gh','ou']\n",
    "\toutput: list2=['yy','ik','ou']\n",
    "\n",
    "2. Create an inner function to calculate the addition in the following way \n",
    "\ta.Create an outer function that will accept two parameters, a and b \n",
    "\tb.Create an inner function inside an outer function that will calculate the addition of a and b \n",
    "\tc.At last, an outer function will add 5 into addition and return it \n",
    "\t\n",
    "3. Write a python program to calculate:\n",
    "   a. Duration of signal on (when Signal value is 1)\n",
    "   b. Duration of signal off (when Signal value is 0)\n",
    "   by using the following list of dictionaries (duration is in secs).\n",
    "   \n",
    "   list1=[{'signal_value': 1, 'duration': 10}                \n",
    "\t\t{'signal_value': 1, 'duration': 10}                                \n",
    "\t\t{'signal_value': 1, 'duration': 10}                                     \n",
    "\t\t{'signal_value': 0, 'duration': 10}                                     \n",
    "\t\t{'signal_value': 0, 'duration': 10}                                     \n",
    "\t\t{'signal_value': 1, 'duration': 10}                                     \n",
    "\t\t{'signal_value': 0, 'duration': 10}                                     \n",
    "\t\t{'signal_value': 1, 'duration': 10}                                     \n",
    "\t\t{'signal_value': 1, 'duration': 10}                                     \n",
    "\t\t{'signal_value': 1, 'duration': 10}                                     \n",
    "\t\t{'signal_value': 1, 'duration': 10}                                     \n",
    "\t\t{'signal_value': 0, 'duration': 10}                                     \n",
    "\t\t{'signal_value': 0, 'duration': 10}                                     \n",
    "\t\t{'signal_value': 0, 'duration': 10}                                     \n",
    "\t\t{'signal_value': 0, 'duration': 10}                                     \n",
    "\t\t{'signal_value': 1, 'duration': 10}                                     \n",
    "\t\t{'signal_value': 0, 'duration': 10}                                     \n",
    "\t\t{'signal_value': 1, 'duration': 10}                                     \n",
    "\t\t{'signal_value': 1, 'duration': 10}                                     \n",
    "\t\t{'signal_value': 0, 'duration': 10}]                                     \n",
    "\t\n",
    "\texample:                                     \n",
    "\tlist1=[{'signal_value': 1, 'duration': 10}                                     \n",
    "\t\t{'signal_value': 0, 'duration': 10}                                     \n",
    "\t\t{'signal_value': 1, 'duration': 10}                                     \n",
    "\t\t{'signal_value': 0, 'duration': 10}                                     \n",
    "\t\t{'signal_value': 0, 'duration': 10}                                     \n",
    "\t\t{'signal_value': 1, 'duration': 10}]                                     \n",
    "\t\t\n",
    "\tOutput of a: 30 (sum of duration when the signal is 1)                                     \n",
    "\toutput of b: 30 (sum of duration when the signal is 0)       \n",
    "    \n",
    "    \n",
    "4. Given a DataFrame with a 'Date' column, calculate the rolling average of the 'Value' column over a window of 3 days.     \n",
    "5. Given a square matrix A, compute its eigenvalues and eigenvectors using NumPy.              \n",
    "\t\t\n",
    "\n",
    "\t\n"
   ]
  },
  {
   "cell_type": "code",
   "execution_count": 118,
   "id": "e45fabfc",
   "metadata": {},
   "outputs": [
    {
     "name": "stdout",
     "output_type": "stream",
     "text": [
      "['yy', 'ik', 'ou']\n"
     ]
    }
   ],
   "source": [
    "# 1) Write a Python program to remove the common values of list1 from list2 and \n",
    "# return same list2 by using List comprehension. \n",
    "# example: list1=['ab','cd','ef','gh'] list2=['cd','yy','ik','gh','ou'] output: list2=['yy','ik','ou']\n",
    "list1=['ab','cd','ef','gh'] \n",
    "list2=['cd','yy','ik','gh','ou'] \n",
    "\n",
    "\n",
    "list2=[i for i in list2 if i not in list1]\n",
    "print(list2)"
   ]
  },
  {
   "cell_type": "code",
   "execution_count": 121,
   "id": "f06ba8fe",
   "metadata": {},
   "outputs": [
    {
     "name": "stdout",
     "output_type": "stream",
     "text": [
      "Result: 35\n"
     ]
    }
   ],
   "source": [
    "# 2) Create an inner function to calculate the addition in the following way \n",
    "# a.Create an outer function that will accept two parameters, a and b \n",
    "# b.Create an inner function inside an outer function that will calculate the addition of a and b \n",
    "# c.At last, an outer function will add 5 into addition and return it\n",
    "\n",
    "def out_function(a, b):\n",
    "    def in_function():\n",
    "        return a + b\n",
    "    \n",
    "    result = in_function() + 5\n",
    "    return result\n",
    "\n",
    "a = 10\n",
    "b = 20\n",
    "res = out_function(a, b)\n",
    "print(\"Result:\", res)\n"
   ]
  },
  {
   "cell_type": "code",
   "execution_count": 129,
   "id": "7c7d8c02",
   "metadata": {},
   "outputs": [
    {
     "name": "stdout",
     "output_type": "stream",
     "text": [
      "Output of a: 110\n",
      "Output of b: 90\n"
     ]
    }
   ],
   "source": [
    "# 3)\n",
    "list1 = [{'signal_value': 1, 'duration': 10},\n",
    "         {'signal_value': 1, 'duration': 10},\n",
    "         {'signal_value': 1, 'duration': 10},\n",
    "         {'signal_value': 0, 'duration': 10},\n",
    "         {'signal_value': 0, 'duration': 10},\n",
    "         {'signal_value': 1, 'duration': 10},\n",
    "         {'signal_value': 0, 'duration': 10},\n",
    "         {'signal_value': 1, 'duration': 10},\n",
    "         {'signal_value': 1, 'duration': 10},\n",
    "         {'signal_value': 1, 'duration': 10},\n",
    "         {'signal_value': 1, 'duration': 10},\n",
    "         {'signal_value': 0, 'duration': 10},\n",
    "         {'signal_value': 0, 'duration': 10},\n",
    "         {'signal_value': 0, 'duration': 10},\n",
    "         {'signal_value': 0, 'duration': 10},\n",
    "         {'signal_value': 1, 'duration': 10},\n",
    "         {'signal_value': 0, 'duration': 10},\n",
    "         {'signal_value': 1, 'duration': 10},\n",
    "         {'signal_value': 1, 'duration': 10},\n",
    "         {'signal_value': 0, 'duration': 10}]\n",
    "\n",
    "duration_signal_1=0\n",
    "duration_signal_0=0\n",
    "for i in list1:\n",
    "    if i['signal_value']==0:\n",
    "        duration_signal_0+=i['duration']\n",
    "    else:\n",
    "        duration_signal_1+=i['duration']\n",
    "print(\"Output of a:\", duration_signal_1)\n",
    "print(\"Output of b:\", duration_signal_0)"
   ]
  },
  {
   "cell_type": "code",
   "execution_count": 146,
   "id": "b4fe54e8",
   "metadata": {},
   "outputs": [
    {
     "data": {
      "text/html": [
       "<div>\n",
       "<style scoped>\n",
       "    .dataframe tbody tr th:only-of-type {\n",
       "        vertical-align: middle;\n",
       "    }\n",
       "\n",
       "    .dataframe tbody tr th {\n",
       "        vertical-align: top;\n",
       "    }\n",
       "\n",
       "    .dataframe thead th {\n",
       "        text-align: right;\n",
       "    }\n",
       "</style>\n",
       "<table border=\"1\" class=\"dataframe\">\n",
       "  <thead>\n",
       "    <tr style=\"text-align: right;\">\n",
       "      <th></th>\n",
       "      <th>Value</th>\n",
       "      <th>Rolling Average</th>\n",
       "    </tr>\n",
       "    <tr>\n",
       "      <th>Date</th>\n",
       "      <th></th>\n",
       "      <th></th>\n",
       "    </tr>\n",
       "  </thead>\n",
       "  <tbody>\n",
       "    <tr>\n",
       "      <th>2022-01-01</th>\n",
       "      <td>10</td>\n",
       "      <td>NaN</td>\n",
       "    </tr>\n",
       "    <tr>\n",
       "      <th>2022-01-02</th>\n",
       "      <td>20</td>\n",
       "      <td>NaN</td>\n",
       "    </tr>\n",
       "    <tr>\n",
       "      <th>2022-01-03</th>\n",
       "      <td>30</td>\n",
       "      <td>20.0</td>\n",
       "    </tr>\n",
       "    <tr>\n",
       "      <th>2022-01-04</th>\n",
       "      <td>40</td>\n",
       "      <td>30.0</td>\n",
       "    </tr>\n",
       "    <tr>\n",
       "      <th>2022-01-05</th>\n",
       "      <td>50</td>\n",
       "      <td>40.0</td>\n",
       "    </tr>\n",
       "  </tbody>\n",
       "</table>\n",
       "</div>"
      ],
      "text/plain": [
       "            Value  Rolling Average\n",
       "Date                              \n",
       "2022-01-01     10              NaN\n",
       "2022-01-02     20              NaN\n",
       "2022-01-03     30             20.0\n",
       "2022-01-04     40             30.0\n",
       "2022-01-05     50             40.0"
      ]
     },
     "execution_count": 146,
     "metadata": {},
     "output_type": "execute_result"
    }
   ],
   "source": [
    "# 4) Given a DataFrame with a 'Date' column, calculate the rolling average of the 'Value' column over a window of 3 days.\n",
    "data = {\n",
    "    'Date': ['2022-01-01', '2022-01-02', '2022-01-03', '2022-01-04', '2022-01-05'],\n",
    "    'Value': [10, 20, 30, 40, 50]\n",
    "}\n",
    "df = pd.DataFrame(data)\n",
    "\n",
    "df['Date'] = pd.to_datetime(df['Date'])\n",
    "\n",
    "df.set_index('Date', inplace=True)\n",
    "\n",
    "df['Rolling Average'] = df['Value'].rolling(window=3).mean()\n",
    "\n",
    "df"
   ]
  },
  {
   "cell_type": "code",
   "execution_count": 153,
   "id": "8df5bdaa",
   "metadata": {},
   "outputs": [
    {
     "name": "stdout",
     "output_type": "stream",
     "text": [
      "Eigenvalues:[5. 0.]\n",
      "\n",
      "Eigenvectors:\n",
      "[[ 0.9486833  -0.89442719]\n",
      " [ 0.31622777  0.4472136 ]]\n"
     ]
    }
   ],
   "source": [
    "# 5) Given a square matrix A, compute its eigenvalues and eigenvectors using NumPy.\n",
    "\n",
    "import numpy as np\n",
    "A = np.array([[3, 6], [1, 2]])\n",
    "\n",
    "eigenvalues = np.linalg.eigvals(A)\n",
    "eigenvectors = np.linalg.eig(A)[1]\n",
    "\n",
    "print(f\"Eigenvalues:{eigenvalues}\")\n",
    "print(f\"\\nEigenvectors:\\n{eigenvectors}\")\n"
   ]
  },
  {
   "cell_type": "code",
   "execution_count": null,
   "id": "395786ae",
   "metadata": {},
   "outputs": [],
   "source": []
  }
 ],
 "metadata": {
  "kernelspec": {
   "display_name": "Python 3 (ipykernel)",
   "language": "python",
   "name": "python3"
  },
  "language_info": {
   "codemirror_mode": {
    "name": "ipython",
    "version": 3
   },
   "file_extension": ".py",
   "mimetype": "text/x-python",
   "name": "python",
   "nbconvert_exporter": "python",
   "pygments_lexer": "ipython3",
   "version": "3.11.4"
  }
 },
 "nbformat": 4,
 "nbformat_minor": 5
}
