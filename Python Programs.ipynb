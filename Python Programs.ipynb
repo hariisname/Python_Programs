{
 "cells": [
  {
   "cell_type": "code",
   "execution_count": 1,
   "id": "d043b825",
   "metadata": {},
   "outputs": [
    {
     "name": "stdout",
     "output_type": "stream",
     "text": [
      "2024\n",
      "2028\n",
      "2032\n",
      "2036\n",
      "2040\n",
      "2044\n",
      "2048\n"
     ]
    }
   ],
   "source": [
    "for i in range(2024,2051):\n",
    "    if (i%400==0) or (i%4==0 and i%100!=0):\n",
    "        print(i)"
   ]
  },
  {
   "cell_type": "code",
   "execution_count": 4,
   "id": "0371c1ba",
   "metadata": {},
   "outputs": [
    {
     "name": "stdout",
     "output_type": "stream",
     "text": [
      "Counter({44: 2, 723: 1, 34: 1, 56: 1, 3: 1, 5: 1, 6: 1})\n",
      "Counter({44: 2, 723: 1, 34: 1, 56: 1, 3: 1, 5: 1, 6: 1})\n"
     ]
    }
   ],
   "source": [
    "from collections import Counter\n",
    "numb=[723,34,56,3,5,6,44,44]\n",
    "x=Counter(numb)\n",
    "print(Counter(numb))\n",
    "print(x)"
   ]
  },
  {
   "cell_type": "markdown",
   "id": "6c2e8647",
   "metadata": {},
   "source": [
    "# 1)Positive or Negative Number"
   ]
  },
  {
   "cell_type": "code",
   "execution_count": 18,
   "id": "7e83c2b0",
   "metadata": {},
   "outputs": [
    {
     "name": "stdout",
     "output_type": "stream",
     "text": [
      "enter a number to find positive or negative :-56\n",
      "num = -56 is not positive\n"
     ]
    }
   ],
   "source": [
    "x=input(\"enter a number to find positive or negative :\")\n",
    "num=int(x)\n",
    "if num<0:\n",
    "    print(f\"num = {num} is not positive\")\n",
    "else:\n",
    "    print(f\"num = {num} is positive\")"
   ]
  },
  {
   "cell_type": "markdown",
   "id": "d99c2769",
   "metadata": {},
   "source": [
    "# 2)Even or Odd Number"
   ]
  },
  {
   "cell_type": "code",
   "execution_count": 19,
   "id": "37c0ae9b",
   "metadata": {},
   "outputs": [
    {
     "name": "stdout",
     "output_type": "stream",
     "text": [
      "enter a number to find even or odd :45\n",
      "not even\n"
     ]
    }
   ],
   "source": [
    "num=input(\"enter a number to find even or odd :\")\n",
    "x=int(num)\n",
    "if x%2==0:\n",
    "    print(\"even\")\n",
    "else:\n",
    "    print(\"not even\")"
   ]
  },
  {
   "cell_type": "markdown",
   "id": "3053958d",
   "metadata": {},
   "source": [
    "# 3)Sum of Natural numbers"
   ]
  },
  {
   "cell_type": "code",
   "execution_count": 22,
   "id": "603422a1",
   "metadata": {},
   "outputs": [
    {
     "name": "stdout",
     "output_type": "stream",
     "text": [
      "enter a ending number for summing 0 to n number :5\n",
      "sum of natural numbers from 0 to 5 is = 15\n"
     ]
    }
   ],
   "source": [
    "x=input(\"enter a ending number for summing 0 to n number :\")\n",
    "x=int(x)\n",
    "total_sum=0\n",
    "for i in range(0,x+1):\n",
    "    total_sum += i\n",
    "print(f'sum of natural numbers from 0 to {x} is = {total_sum}')"
   ]
  },
  {
   "cell_type": "markdown",
   "id": "7f729a44",
   "metadata": {},
   "source": [
    "# 4)Sum of numbers in a given range"
   ]
  },
  {
   "cell_type": "code",
   "execution_count": 20,
   "id": "a5cde149",
   "metadata": {},
   "outputs": [
    {
     "name": "stdout",
     "output_type": "stream",
     "text": [
      "enter a starting and ending number by using',' for summing all numbers :1,5\n",
      "sum of natural numbers b/w 1 and 5 = 15\n"
     ]
    }
   ],
   "source": [
    "x,y=input(\"enter a starting and ending number by using',' for summing all numbers :\").split(',')\n",
    "x=int(x)\n",
    "y=int(y)\n",
    "summing=0\n",
    "for i in range(x,y+1):\n",
    "    summing=summing+i\n",
    "print(f'sum of natural numbers b/w {x} and {y} = {summing}')"
   ]
  },
  {
   "cell_type": "markdown",
   "id": "4c85ff49",
   "metadata": {},
   "source": [
    "# 5)Greatest of two numbers"
   ]
  },
  {
   "cell_type": "code",
   "execution_count": 24,
   "id": "797342eb",
   "metadata": {},
   "outputs": [
    {
     "name": "stdout",
     "output_type": "stream",
     "text": [
      "enter 1st number : 345\n",
      "enter 2nd number : 67\n",
      "greatest number is 345\n"
     ]
    }
   ],
   "source": [
    "x=int(input(\"enter 1st number : \"))\n",
    "y=int(input(\"enter 2nd number : \"))\n",
    "gratest=x\n",
    "if y>gratest:\n",
    "    gratest=y\n",
    "print(f\"greatest number is {gratest}\")"
   ]
  },
  {
   "cell_type": "markdown",
   "id": "b36f635b",
   "metadata": {},
   "source": [
    "# 6)Greatest of the Three numbers"
   ]
  },
  {
   "cell_type": "code",
   "execution_count": 29,
   "id": "21b63026",
   "metadata": {},
   "outputs": [
    {
     "name": "stdout",
     "output_type": "stream",
     "text": [
      "enter 3 number's by splitting ',' for finding biggest 23,4,6\n",
      "biggest = 23\n"
     ]
    }
   ],
   "source": [
    "x,y,z=input(\"enter 3 number's by splitting ',' for finding biggest \").split(',')\n",
    "x=int(x)\n",
    "y=int(y)\n",
    "z=int(z)\n",
    "biggest=0\n",
    "if x>y and x>z:\n",
    "    biggest=x\n",
    "elif y>x and y>z:\n",
    "    biggest=y\n",
    "else:\n",
    "    biggest=z\n",
    "print(f\"biggest = {biggest}\")"
   ]
  },
  {
   "cell_type": "code",
   "execution_count": 26,
   "id": "31258a54",
   "metadata": {},
   "outputs": [
    {
     "data": {
      "text/plain": [
       "3"
      ]
     },
     "execution_count": 26,
     "metadata": {},
     "output_type": "execute_result"
    }
   ],
   "source": [
    "num=[1,2,3]\n",
    "max(num)"
   ]
  },
  {
   "cell_type": "code",
   "execution_count": 75,
   "id": "8d9028eb",
   "metadata": {},
   "outputs": [
    {
     "name": "stdout",
     "output_type": "stream",
     "text": [
      "enter 3 number's by splitting ',' for finding biggest 1,23,5\n",
      "biggest = 23\n"
     ]
    }
   ],
   "source": [
    "x,y,z=input(\"enter 3 number's by splitting ',' for finding biggest \").split(',')\n",
    "x=int(x)\n",
    "y=int(y)\n",
    "z=int(z)\n",
    "biggest=x\n",
    "if y>biggest:\n",
    "    biggest=y\n",
    "if z>biggest:\n",
    "    biggest=z\n",
    "print(\"biggest =\",biggest)"
   ]
  },
  {
   "cell_type": "markdown",
   "id": "bb021034",
   "metadata": {},
   "source": [
    "# 7)Leep year or not"
   ]
  },
  {
   "cell_type": "code",
   "execution_count": 41,
   "id": "9f46cd67",
   "metadata": {},
   "outputs": [
    {
     "name": "stdout",
     "output_type": "stream",
     "text": [
      "enter a year to find leap year or not : 2020\n",
      "2020 is Leep Year\n"
     ]
    }
   ],
   "source": [
    "year=input(\"enter a year to find leap year or not : \")\n",
    "year=int(year)\n",
    "if (year%400==0)or(year%4==0 and year%100!=0):\n",
    "    print(f\"{year} is Leep Year\")\n",
    "else:\n",
    "    print(f\"{year} is not Leep Year\")"
   ]
  },
  {
   "cell_type": "code",
   "execution_count": 6,
   "id": "cf193100",
   "metadata": {},
   "outputs": [
    {
     "name": "stdout",
     "output_type": "stream",
     "text": [
      "enter a number start : 2000\n",
      "enter a number ending : 2023\n",
      "2000 2004 2008 2012 2016 2020 "
     ]
    }
   ],
   "source": [
    "start=int(input(\"enter a number start : \"))\n",
    "end=int(input(\"enter a number ending : \"))\n",
    "for i in range(start,end+1):\n",
    "    if (i%4==0 and i%100!=0)or (i%400==0):\n",
    "        print(i,end=\" \")"
   ]
  },
  {
   "cell_type": "markdown",
   "id": "52c63a10",
   "metadata": {},
   "source": [
    "# 8) Prime number or not"
   ]
  },
  {
   "cell_type": "code",
   "execution_count": 65,
   "id": "56b1a0b4",
   "metadata": {},
   "outputs": [
    {
     "name": "stdout",
     "output_type": "stream",
     "text": [
      "enter a number to find prime number or not : 9\n",
      "not prime\n"
     ]
    }
   ],
   "source": [
    "number=int(input(\"enter a number to find prime number or not : \"))\n",
    "for i in range(2,number):\n",
    "    if number%i==0:\n",
    "        print(\"not prime\")\n",
    "        break\n",
    "else:\n",
    "    print(\"prime\")"
   ]
  },
  {
   "cell_type": "code",
   "execution_count": 132,
   "id": "bac15d3c",
   "metadata": {},
   "outputs": [
    {
     "name": "stdout",
     "output_type": "stream",
     "text": [
      "enter a number to find prime number or not : 11\n",
      "count = 1\n",
      "prime\n"
     ]
    }
   ],
   "source": [
    "number=int(input(\"enter a number to find prime number or not : \"))\n",
    "count=1\n",
    "for i in range(2,number):\n",
    "    if number%i==0:\n",
    "        count+=1\n",
    "print(\"count =\",count)\n",
    "if count==1:\n",
    "    print(\"prime\")\n",
    "else:\n",
    "    print(\"not a prime\")"
   ]
  },
  {
   "cell_type": "code",
   "execution_count": 17,
   "id": "62783712",
   "metadata": {},
   "outputs": [
    {
     "name": "stdout",
     "output_type": "stream",
     "text": [
      "enter a number : 35\n",
      "divisible numbers are : \n",
      "5 7 \n",
      "So 35 is not prime\n"
     ]
    }
   ],
   "source": [
    "x=int(input(\"enter a number : \"))\n",
    "count=0\n",
    "print(\"divisible numbers are : \")\n",
    "for i in range(2,x):\n",
    "    if x%i==0:\n",
    "        print(i,end=\" \")\n",
    "        count+=1\n",
    "if count==0:\n",
    "    print(f\"{x}prime\")\n",
    "else:\n",
    "    print(f\"\\nSo {x} is not prime\")"
   ]
  },
  {
   "cell_type": "markdown",
   "id": "68739d77",
   "metadata": {},
   "source": [
    "# *) Extract prime numbers given a Number"
   ]
  },
  {
   "cell_type": "code",
   "execution_count": 156,
   "id": "5e5722f3",
   "metadata": {},
   "outputs": [
    {
     "name": "stdout",
     "output_type": "stream",
     "text": [
      "enter a number : 1234567890\n",
      "given numbers 1234567890\n",
      "prime numbers are : [1, 2, 3, 5, 7, 9]\n",
      "non-prime numbers are : [4, 6, 8, 0]\n"
     ]
    }
   ],
   "source": [
    "num=int(input(\"enter a number : \"))\n",
    "lis = [int(digit) for digit in str(num)]\n",
    "prime=[]\n",
    "non_prime=[]\n",
    "for i in lis:\n",
    "    if i==1 or i==2 or i==3 or i==5 or i==7 or i==9:\n",
    "        prime.append(i)\n",
    "    else:\n",
    "        non_prime.append(i)\n",
    "print(f\"given numbers {num}\")\n",
    "print(f\"prime numbers are : {prime}\")\n",
    "print(f\"non-prime numbers are : {non_prime}\")"
   ]
  },
  {
   "cell_type": "code",
   "execution_count": 19,
   "id": "deb3ac22",
   "metadata": {},
   "outputs": [
    {
     "name": "stdout",
     "output_type": "stream",
     "text": [
      "[1, 2, 3, 5, 7, 11, 13, 17, 19, 23, 29, 31, 37, 41, 43, 47, 53, 59, 61, 67, 71, 73, 79, 83, 89, 97, 101, 103, 107, 109, 113, 127, 131, 137, 139, 149, 151, 157, 163, 167, 173, 179, 181, 191, 193, 197, 199]\n"
     ]
    }
   ],
   "source": [
    "primeumbers=[]\n",
    "for i in range(1,200):\n",
    "    for j in range(2,i):\n",
    "        if i%j==0:\n",
    "            break\n",
    "    else:\n",
    "        primeumbers.append(i)\n",
    "print(primeumbers)"
   ]
  },
  {
   "cell_type": "markdown",
   "id": "2f127f15",
   "metadata": {},
   "source": [
    "# 9)Prime numbers given Range"
   ]
  },
  {
   "cell_type": "code",
   "execution_count": 167,
   "id": "465ca0fb",
   "metadata": {},
   "outputs": [
    {
     "name": "stdout",
     "output_type": "stream",
     "text": [
      "enter staring and ending numbers by using ',' for finding prime numbers1,11\n",
      "1\n",
      "2\n",
      "3\n",
      "5\n",
      "7\n"
     ]
    }
   ],
   "source": [
    "start,end=input(\"enter staring and ending numbers by using ',' for finding prime numbers\").split(\",\")\n",
    "start=int(start)\n",
    "end=int(end)\n",
    "for i in range(start,end):\n",
    "    for j in range(2,i):\n",
    "        if i%j==0:\n",
    "            break\n",
    "    else:\n",
    "        print(i)"
   ]
  },
  {
   "cell_type": "code",
   "execution_count": null,
   "id": "01dd73a6",
   "metadata": {},
   "outputs": [],
   "source": []
  },
  {
   "cell_type": "markdown",
   "id": "37e9b7d2",
   "metadata": {},
   "source": [
    "# 10) user entered number is special 2 digit or not"
   ]
  },
  {
   "cell_type": "code",
   "execution_count": 89,
   "id": "4594efe1",
   "metadata": {},
   "outputs": [
    {
     "name": "stdout",
     "output_type": "stream",
     "text": [
      "enter a number to find 2 digit or not : 59\n",
      "actual is 59 predicted as 59 so it is a special 2 digit number\n"
     ]
    }
   ],
   "source": [
    "# ex :- 59 --> 5+9+5*9=59 so it is a special 2 digit number  \n",
    "num=int(input(\"enter a number to find 2 digit or not : \"))\n",
    "d1=num//10\n",
    "d2=num%10\n",
    "tot=d1+d2+d1*d2\n",
    "if num==tot:\n",
    "    print(f'actual is {num} predicted as {tot} so it is a special 2 digit number')\n",
    "else:\n",
    "    print(f\"actual is {num} predicted as {tot} so it is a not special 2 digit number\")"
   ]
  },
  {
   "cell_type": "markdown",
   "id": "c5229169",
   "metadata": {},
   "source": [
    "# 11) user enterd 2 numbers are same or not"
   ]
  },
  {
   "cell_type": "code",
   "execution_count": 88,
   "id": "a7aa159b",
   "metadata": {},
   "outputs": [
    {
     "name": "stdout",
     "output_type": "stream",
     "text": [
      "enter 2 numbers by using ',' for finding 2 numbers are same or not 34,34\n",
      "34 and 34 are same\n"
     ]
    }
   ],
   "source": [
    "n1,n2=input(\"enter 2 numbers by using ',' for finding 2 numbers are same or not \").split(\",\")\n",
    "n1=int(n1)\n",
    "n2=int(n2)\n",
    "if n1==n2:\n",
    "    print(f\"{n1} and {n2} givenare same\")\n",
    "else:\n",
    "    print(f\"{n1} and {n2} are not same\")"
   ]
  },
  {
   "cell_type": "markdown",
   "id": "c38b285c",
   "metadata": {},
   "source": [
    "# 12) by entering 4 subjects marks predicting pass or fail"
   ]
  },
  {
   "cell_type": "code",
   "execution_count": 98,
   "id": "15722281",
   "metadata": {},
   "outputs": [
    {
     "name": "stdout",
     "output_type": "stream",
     "text": [
      "enter 4 subjects marks by using ',' to predict pass or fail :29,34,56,56\n",
      "fail\n"
     ]
    }
   ],
   "source": [
    "x1,x2,x3,x4=input(\"enter 4 subjects marks by using ',' to predict pass or fail :\").split(',')\n",
    "x1=int(x1)\n",
    "x2=int(x2)\n",
    "x3=int(x3)\n",
    "x4=int(x4)\n",
    "if (x1>=35 and x2>=35 and x3>=35 and x4>=35):\n",
    "    print(\"pass\")\n",
    "else:\n",
    "    print(\"fail\")"
   ]
  },
  {
   "cell_type": "markdown",
   "id": "2bab1e75",
   "metadata": {},
   "source": [
    "# 13) find weather Digit or number"
   ]
  },
  {
   "cell_type": "code",
   "execution_count": 111,
   "id": "42dbe4aa",
   "metadata": {},
   "outputs": [
    {
     "name": "stdout",
     "output_type": "stream",
     "text": [
      "enter a number :10\n",
      "number\n"
     ]
    }
   ],
   "source": [
    "x=int(input(\"enter a number :\"))\n",
    "if (x>=-9 and x<=9):\n",
    "    print(\"digit\")\n",
    "else:\n",
    "    print(\"number\")"
   ]
  },
  {
   "cell_type": "markdown",
   "id": "3073dbfa",
   "metadata": {},
   "source": [
    "# 14) read a month number and predict how many dayes"
   ]
  },
  {
   "cell_type": "code",
   "execution_count": 116,
   "id": "1760a726",
   "metadata": {},
   "outputs": [
    {
     "name": "stdout",
     "output_type": "stream",
     "text": [
      "enter a number : 4\n",
      "30 dayes\n"
     ]
    }
   ],
   "source": [
    "month=int(input(\"enter a number : \"))\n",
    "if (month >=1 and month <=12):\n",
    "    if (month==1 or month==3 or month==5 or month==7 or month==8 or month==10 or month==12):\n",
    "        print(\"31 dayes\")\n",
    "    elif month==2:\n",
    "        print(\"28 or 29 dayes\")\n",
    "    else:\n",
    "        print(\"30 dayes\")\n",
    "else:\n",
    "    print(\"please enter valid month number\")"
   ]
  },
  {
   "cell_type": "code",
   "execution_count": 160,
   "id": "cb199450",
   "metadata": {},
   "outputs": [
    {
     "data": {
      "text/plain": [
       "[1, 4, 3, 2, 5]"
      ]
     },
     "execution_count": 160,
     "metadata": {},
     "output_type": "execute_result"
    }
   ],
   "source": [
    "lis=[1,2,3,4,5]\n",
    "x=lis[1]\n",
    "y=lis[3]\n",
    "lis[1]=y\n",
    "lis[3]=x\n",
    "lis"
   ]
  },
  {
   "cell_type": "markdown",
   "id": "587d900a",
   "metadata": {},
   "source": [
    "# 15) Count the Frequency of Each element in a list"
   ]
  },
  {
   "cell_type": "code",
   "execution_count": 31,
   "id": "0049887a",
   "metadata": {},
   "outputs": [],
   "source": []
  },
  {
   "cell_type": "code",
   "execution_count": 23,
   "id": "2e0ff362",
   "metadata": {},
   "outputs": [
    {
     "data": {
      "text/plain": [
       "['Hari', 'Krishna', 'Hari', 'hari', 1, 2, 3, 4, 1, 2, 3, 234]"
      ]
     },
     "execution_count": 23,
     "metadata": {},
     "output_type": "execute_result"
    }
   ],
   "source": [
    "lis"
   ]
  },
  {
   "cell_type": "code",
   "execution_count": 22,
   "id": "269e6627",
   "metadata": {},
   "outputs": [
    {
     "name": "stdout",
     "output_type": "stream",
     "text": [
      "Hari --> 2\n",
      "Krishna --> 1\n",
      "hari --> 1\n",
      "1 --> 2\n",
      "2 --> 2\n",
      "3 --> 2\n",
      "4 --> 1\n",
      "234 --> 1\n"
     ]
    }
   ],
   "source": [
    "def count_freq(x):\n",
    "    dic={}\n",
    "    for i in x:\n",
    "        if i in dic:\n",
    "            dic[i]+=1\n",
    "        else:\n",
    "            dic[i]=1\n",
    "    for a,b in dic.items():\n",
    "        print(a,\"-->\",b)\n",
    "count_freq(lis)"
   ]
  },
  {
   "cell_type": "code",
   "execution_count": 8,
   "id": "43533027",
   "metadata": {},
   "outputs": [
    {
     "name": "stdout",
     "output_type": "stream",
     "text": [
      "1 ---> 2\n",
      "2 ---> 2\n",
      "3 ---> 2\n",
      "4 ---> 1\n",
      "5 ---> 1\n"
     ]
    }
   ],
   "source": [
    "lis=[1,2,3,4,5,1,2,3]\n",
    "def count_frequency(x):\n",
    "    freq={}\n",
    "    for i in x:\n",
    "        if i in freq:\n",
    "            freq[i]+=1\n",
    "        else:\n",
    "            freq[i]=1\n",
    "    for i,j in freq.items():\n",
    "        print(i,\"--->\",j)\n",
    "count_frequency(lis)"
   ]
  },
  {
   "cell_type": "code",
   "execution_count": 20,
   "id": "c11b07a2",
   "metadata": {},
   "outputs": [
    {
     "data": {
      "text/plain": [
       "['Hari', 'Krishna', 'Hari', 'hari', 1, 2, 3, 4, 1, 2, 3, 234]"
      ]
     },
     "execution_count": 20,
     "metadata": {},
     "output_type": "execute_result"
    }
   ],
   "source": [
    "lis"
   ]
  },
  {
   "cell_type": "code",
   "execution_count": 21,
   "id": "27b5d0e9",
   "metadata": {},
   "outputs": [
    {
     "name": "stdout",
     "output_type": "stream",
     "text": [
      "Hari --> 2\n",
      "Krishna --> 1\n",
      "hari --> 1\n",
      "1 --> 2\n",
      "2 --> 2\n",
      "3 --> 2\n",
      "4 --> 1\n",
      "234 --> 1\n"
     ]
    }
   ],
   "source": []
  },
  {
   "cell_type": "code",
   "execution_count": null,
   "id": "c3f1033f",
   "metadata": {},
   "outputs": [],
   "source": []
  },
  {
   "cell_type": "code",
   "execution_count": 25,
   "id": "5f02e5b7",
   "metadata": {},
   "outputs": [
    {
     "data": {
      "text/plain": [
       "Counter({'Hari': 2, 'Krishna': 1, 'hari': 1, 1: 2, 2: 2, 3: 2, 4: 1, 234: 1})"
      ]
     },
     "execution_count": 25,
     "metadata": {},
     "output_type": "execute_result"
    }
   ],
   "source": [
    "from collections import Counter\n",
    "Counter(lis)"
   ]
  },
  {
   "cell_type": "code",
   "execution_count": null,
   "id": "73e9b3a1",
   "metadata": {},
   "outputs": [],
   "source": []
  },
  {
   "cell_type": "code",
   "execution_count": 164,
   "id": "039eb6f0",
   "metadata": {},
   "outputs": [
    {
     "data": {
      "text/plain": [
       "Counter({1: 2, 2: 2, 3: 2, 4: 1, 5: 1, 345: 1, 56: 1})"
      ]
     },
     "execution_count": 164,
     "metadata": {},
     "output_type": "execute_result"
    }
   ],
   "source": [
    "from collections import Counter\n",
    "x=[1,2,3,4,5,1,345,2,3,56]\n",
    "Counter(x)"
   ]
  },
  {
   "cell_type": "code",
   "execution_count": 178,
   "id": "788af9fd",
   "metadata": {},
   "outputs": [
    {
     "name": "stdout",
     "output_type": "stream",
     "text": [
      "1 ---> 3\n",
      "2 ---> 3\n",
      "3 ---> 3\n",
      "4 ---> 3\n",
      "5 ---> 3\n",
      "6 ---> 1\n",
      "12 ---> 1\n",
      "hari ---> 1\n",
      "234 ---> 1\n",
      "23 ---> 1\n"
     ]
    }
   ],
   "source": [
    "def count_freq(x):\n",
    "    dictionary1={}\n",
    "    for i in x:\n",
    "        if i in dictionary1:\n",
    "            dictionary1[i]+=1\n",
    "        else:\n",
    "            dictionary1[i]=1\n",
    "    return dictionary1\n",
    "lis=[1,2,3,4,5,6,1,2,3,4,5,1,2,3,4,5,12,'hari',234,'23']\n",
    "res=count_freq(lis)\n",
    "for i,j in res.items():\n",
    "    print(i,\"--->\",j)"
   ]
  },
  {
   "cell_type": "code",
   "execution_count": null,
   "id": "4126e600",
   "metadata": {},
   "outputs": [],
   "source": []
  },
  {
   "cell_type": "code",
   "execution_count": null,
   "id": "48a4fbbf",
   "metadata": {},
   "outputs": [],
   "source": []
  },
  {
   "cell_type": "code",
   "execution_count": 1,
   "id": "71060404",
   "metadata": {},
   "outputs": [
    {
     "name": "stdout",
     "output_type": "stream",
     "text": [
      "Duplicated elements: [1, 2]\n"
     ]
    }
   ],
   "source": [
    "my_list = [1, 2, 3, 2, 4, 5, 6, 1]\n",
    "\n",
    "unique_set = set()\n",
    "duplicates_set = set()\n",
    "\n",
    "for item in my_list:\n",
    "    if item in unique_set:\n",
    "        duplicates_set.add(item)\n",
    "    else:\n",
    "        unique_set.add(item)\n",
    "\n",
    "print(\"Duplicated elements:\", list(duplicates_set))"
   ]
  },
  {
   "cell_type": "code",
   "execution_count": 28,
   "id": "1954f804",
   "metadata": {},
   "outputs": [
    {
     "name": "stdout",
     "output_type": "stream",
     "text": [
      "given list is : ['Hari', 'Krishna', 'Hari', 'hari', 1, 2, 3, 4, 1, 2, 3, 234]\n",
      "unique elements are : {1, 2, 3, 4, 'Hari', 234, 'Krishna', 'hari'}\n",
      "duplicated elements are : {1, 2, 3, 'Hari'}\n"
     ]
    }
   ],
   "source": [
    "def dup_uni(x):\n",
    "    dup=set()\n",
    "    unique=set()\n",
    "    for i in x:\n",
    "        if i in unique:\n",
    "            dup.add(i)\n",
    "        else:\n",
    "            unique.add(i)\n",
    "    print(f\"given list is : {x}\\nunique elements are : {unique}\\nduplicated elements are : {dup}\")\n",
    "dup_uni(lis)"
   ]
  },
  {
   "cell_type": "code",
   "execution_count": null,
   "id": "ced8ecac",
   "metadata": {},
   "outputs": [],
   "source": []
  },
  {
   "cell_type": "code",
   "execution_count": 11,
   "id": "07db6624",
   "metadata": {},
   "outputs": [
    {
     "name": "stdout",
     "output_type": "stream",
     "text": [
      "Duplicated elements are {1, 2, 3}\n"
     ]
    }
   ],
   "source": [
    "listt=[1,2,3,1,2,3,4,1,2,3]\n",
    "unique_set=set()\n",
    "duplicated_sset=set()\n",
    "for i in listt:\n",
    "    if i in unique_set:\n",
    "        duplicated_sset.add(i)\n",
    "    else:\n",
    "        unique_set.add(i)\n",
    "print(f\"Duplicated elements are {duplicated_sset}\")"
   ]
  },
  {
   "cell_type": "code",
   "execution_count": null,
   "id": "f2714d76",
   "metadata": {},
   "outputs": [],
   "source": []
  },
  {
   "cell_type": "code",
   "execution_count": null,
   "id": "c791f699",
   "metadata": {},
   "outputs": [],
   "source": []
  },
  {
   "cell_type": "code",
   "execution_count": null,
   "id": "a5eb9f5d",
   "metadata": {},
   "outputs": [],
   "source": []
  },
  {
   "cell_type": "code",
   "execution_count": null,
   "id": "e4858a12",
   "metadata": {},
   "outputs": [],
   "source": []
  },
  {
   "cell_type": "code",
   "execution_count": null,
   "id": "a5b1099e",
   "metadata": {},
   "outputs": [],
   "source": []
  },
  {
   "cell_type": "code",
   "execution_count": null,
   "id": "b195ca67",
   "metadata": {},
   "outputs": [],
   "source": []
  },
  {
   "cell_type": "code",
   "execution_count": null,
   "id": "0bb32733",
   "metadata": {},
   "outputs": [],
   "source": []
  },
  {
   "cell_type": "code",
   "execution_count": null,
   "id": "c0e9501a",
   "metadata": {},
   "outputs": [],
   "source": []
  },
  {
   "cell_type": "code",
   "execution_count": null,
   "id": "d3d39c5f",
   "metadata": {},
   "outputs": [],
   "source": []
  },
  {
   "cell_type": "code",
   "execution_count": null,
   "id": "fa3e5776",
   "metadata": {},
   "outputs": [],
   "source": []
  },
  {
   "cell_type": "code",
   "execution_count": null,
   "id": "ca606936",
   "metadata": {},
   "outputs": [],
   "source": []
  },
  {
   "cell_type": "code",
   "execution_count": null,
   "id": "3b0e5400",
   "metadata": {},
   "outputs": [],
   "source": []
  },
  {
   "cell_type": "code",
   "execution_count": null,
   "id": "6b388a5c",
   "metadata": {},
   "outputs": [],
   "source": []
  },
  {
   "cell_type": "code",
   "execution_count": null,
   "id": "07204ea5",
   "metadata": {},
   "outputs": [],
   "source": []
  },
  {
   "cell_type": "code",
   "execution_count": null,
   "id": "b5073304",
   "metadata": {},
   "outputs": [],
   "source": []
  },
  {
   "cell_type": "code",
   "execution_count": null,
   "id": "b0455d32",
   "metadata": {},
   "outputs": [],
   "source": []
  },
  {
   "cell_type": "code",
   "execution_count": null,
   "id": "17d82a4a",
   "metadata": {},
   "outputs": [],
   "source": []
  },
  {
   "cell_type": "code",
   "execution_count": null,
   "id": "f6f4f46e",
   "metadata": {},
   "outputs": [],
   "source": []
  },
  {
   "cell_type": "code",
   "execution_count": null,
   "id": "3a063750",
   "metadata": {},
   "outputs": [],
   "source": []
  },
  {
   "cell_type": "code",
   "execution_count": null,
   "id": "7a4380be",
   "metadata": {},
   "outputs": [],
   "source": []
  },
  {
   "cell_type": "code",
   "execution_count": null,
   "id": "34f89ce1",
   "metadata": {},
   "outputs": [],
   "source": []
  },
  {
   "cell_type": "code",
   "execution_count": null,
   "id": "152754b6",
   "metadata": {},
   "outputs": [],
   "source": []
  },
  {
   "cell_type": "code",
   "execution_count": null,
   "id": "62e370ca",
   "metadata": {},
   "outputs": [],
   "source": []
  },
  {
   "cell_type": "code",
   "execution_count": null,
   "id": "f6489fbf",
   "metadata": {},
   "outputs": [],
   "source": []
  },
  {
   "cell_type": "markdown",
   "id": "8bac28a6",
   "metadata": {},
   "source": [
    "1) replacing the numbers from a list\n",
    "2) frequency of each element from a list\n",
    "3) duplicated elements from the list"
   ]
  },
  {
   "cell_type": "code",
   "execution_count": 13,
   "id": "d4f3535e",
   "metadata": {},
   "outputs": [
    {
     "data": {
      "text/plain": [
       "[1, 4, 3, 2, 5]"
      ]
     },
     "execution_count": 13,
     "metadata": {},
     "output_type": "execute_result"
    }
   ],
   "source": [
    "# 1 replacing the numbers from a list\n",
    "lis=[1,2,3,4,5]\n",
    "x=lis[1]\n",
    "y=lis[3]\n",
    "lis[1]=y\n",
    "lis[3]=x\n",
    "lis"
   ]
  },
  {
   "cell_type": "code",
   "execution_count": 20,
   "id": "bed0f352",
   "metadata": {},
   "outputs": [
    {
     "name": "stdout",
     "output_type": "stream",
     "text": [
      "1 ---> 1\n",
      "4 ---> 1\n",
      "3 ---> 1\n",
      "2 ---> 1\n",
      "5 ---> 1\n"
     ]
    }
   ],
   "source": [
    "# 2) Frequency of each element\n",
    "def freq(x):\n",
    "    empty_dict={}\n",
    "    for i in x:\n",
    "        if i in empty_dict:\n",
    "            empty_dict[i]+=1\n",
    "        else:\n",
    "            empty_dict[i]=1\n",
    "    return empty_dict\n",
    "output=freq(lis)\n",
    "for i,j in output.items():\n",
    "    print(i,\"--->\",j)"
   ]
  },
  {
   "cell_type": "code",
   "execution_count": 27,
   "id": "4de8eda5",
   "metadata": {},
   "outputs": [
    {
     "name": "stdout",
     "output_type": "stream",
     "text": [
      "given elements are = [1, 2, 3, 1, 2, 34]\n",
      "unique elements are : [1, 2, 3, 34]\n",
      "Duplicated elements are : [1, 2]\n"
     ]
    }
   ],
   "source": [
    "# 3) duplicates in list\n",
    "list1=[1,2,3,1,2,34]\n",
    "unique=set()\n",
    "non_unique=set()\n",
    "for i in list1:\n",
    "    if i in unique:\n",
    "        non_unique.add(i)\n",
    "    else:\n",
    "        unique.add(i)\n",
    "print(\"given elements are =\",list1)\n",
    "print(\"unique elements are :\",list(unique))\n",
    "print(\"Duplicated elements are :\",list(non_unique))"
   ]
  },
  {
   "cell_type": "code",
   "execution_count": null,
   "id": "83454459",
   "metadata": {},
   "outputs": [],
   "source": []
  },
  {
   "cell_type": "code",
   "execution_count": 3,
   "id": "043ddb78",
   "metadata": {},
   "outputs": [
    {
     "name": "stdout",
     "output_type": "stream",
     "text": [
      "1 --> 3\n",
      "2 --> 3\n",
      "3 --> 3\n",
      "12 --> 1\n",
      "34 --> 1\n"
     ]
    }
   ],
   "source": [
    "lis=[1,2,3,1,2,3,1,2,3,12,34]\n",
    "def count_fre(x):\n",
    "    dic={}\n",
    "    for i in x:\n",
    "        if i in dic:\n",
    "            dic[i]+=1\n",
    "        else:\n",
    "            dic[i]=1\n",
    "    return dic\n",
    "res=count_fre(lis)\n",
    "for i,j in res.items():\n",
    "    print(i,\"-->\",j)\n",
    "        \n",
    "            "
   ]
  },
  {
   "cell_type": "code",
   "execution_count": 11,
   "id": "b45a6279",
   "metadata": {},
   "outputs": [
    {
     "name": "stdout",
     "output_type": "stream",
     "text": [
      "duplicate : {1}\n"
     ]
    }
   ],
   "source": [
    "lis=[1,2,3,4,5,6,7,1]\n",
    "unique=set()\n",
    "duplicated=set()\n",
    "for i in lis:\n",
    "    if i in unique:\n",
    "        duplicated.add(i)\n",
    "    else:\n",
    "        unique.add(i)\n",
    "print(\"duplicate :\",duplicated)"
   ]
  },
  {
   "cell_type": "code",
   "execution_count": 39,
   "id": "a35e2df1",
   "metadata": {},
   "outputs": [
    {
     "name": "stdout",
     "output_type": "stream",
     "text": [
      "enter a number to find prime or not prime : 54\n",
      "not prime\n"
     ]
    }
   ],
   "source": [
    "num=int(input(\"enter a number to find prime or not prime : \"))\n",
    "count=1\n",
    "for i in range(2,num):\n",
    "    if num%i==0:\n",
    "        count+=1\n",
    "if count==1:\n",
    "    print(\"prime\")\n",
    "else:\n",
    "    print(\"not prime\")"
   ]
  },
  {
   "cell_type": "code",
   "execution_count": 40,
   "id": "d5a7d116",
   "metadata": {},
   "outputs": [
    {
     "name": "stdout",
     "output_type": "stream",
     "text": [
      "enter starting & ending numbers by givibg ',' :1,1111\n",
      "1, 2, 3, 5, 7, 11, 13, 17, 19, 23, 29, 31, 37, 41, 43, 47, 53, 59, 61, 67, 71, 73, 79, 83, 89, 97, 101, 103, 107, 109, 113, 127, 131, 137, 139, 149, 151, 157, 163, 167, 173, 179, 181, 191, 193, 197, 199, 211, 223, 227, 229, 233, 239, 241, 251, 257, 263, 269, 271, 277, 281, 283, 293, 307, 311, 313, 317, 331, 337, 347, 349, 353, 359, 367, 373, 379, 383, 389, 397, 401, 409, 419, 421, 431, 433, 439, 443, 449, 457, 461, 463, 467, 479, 487, 491, 499, 503, 509, 521, 523, 541, 547, 557, 563, 569, 571, 577, 587, 593, 599, 601, 607, 613, 617, 619, 631, 641, 643, 647, 653, 659, 661, 673, 677, 683, 691, 701, 709, 719, 727, 733, 739, 743, 751, 757, 761, 769, 773, 787, 797, 809, 811, 821, 823, 827, 829, 839, 853, 857, 859, 863, 877, 881, 883, 887, 907, 911, 919, 929, 937, 941, 947, 953, 967, 971, 977, 983, 991, 997, 1009, 1013, 1019, 1021, 1031, 1033, 1039, 1049, 1051, 1061, 1063, 1069, 1087, 1091, 1093, 1097, 1103, 1109, "
     ]
    }
   ],
   "source": [
    "start,end=input(\"enter starting & ending numbers by givibg ',' :\").split(\",\")\n",
    "start=int(start)\n",
    "end=int(end)\n",
    "for i in range(start,end+1):\n",
    "    for j in range(2,i):\n",
    "        if i%j==0:\n",
    "            break\n",
    "    else:\n",
    "        print(i,end=\", \")"
   ]
  },
  {
   "cell_type": "code",
   "execution_count": null,
   "id": "328adda3",
   "metadata": {},
   "outputs": [],
   "source": []
  },
  {
   "cell_type": "code",
   "execution_count": null,
   "id": "e29cd3f2",
   "metadata": {},
   "outputs": [],
   "source": []
  },
  {
   "cell_type": "code",
   "execution_count": 5,
   "id": "0975cccb",
   "metadata": {},
   "outputs": [
    {
     "name": "stdout",
     "output_type": "stream",
     "text": [
      "element  no times repeated\n",
      "------- ------------------------\n",
      "Hari ---> 2\n",
      "Krishna ---> 1\n",
      "hari ---> 1\n",
      "1 ---> 2\n",
      "2 ---> 2\n",
      "3 ---> 2\n",
      "4 ---> 1\n",
      "234 ---> 1\n"
     ]
    }
   ],
   "source": [
    "def frequency(x):\n",
    "    dic={}\n",
    "    for i in x:\n",
    "        if i in dic:\n",
    "            dic[i]+=1\n",
    "        else:\n",
    "            dic[i]=1\n",
    "    print(\"element  no times repeated\\n------- ------------------------\")\n",
    "    for i,j in dic.items():\n",
    "        print(i,\"--->\",j)\n",
    "lis=[\"Hari\",\"Krishna\",\"Hari\",\"hari\",1,2,3,4,1,2,3,234]\n",
    "frequency(lis)"
   ]
  },
  {
   "cell_type": "code",
   "execution_count": 20,
   "id": "95c11e01",
   "metadata": {},
   "outputs": [
    {
     "name": "stdout",
     "output_type": "stream",
     "text": [
      "Original values :  [1, 2, 3, 4, 1, 2, 3, 12]\n",
      "Unique  values :  {1, 2, 3, 4, 12}\n",
      "Repeated  values :  {1, 2, 3}\n",
      "element  no times repeated\n",
      "------- ------------------------\n",
      "1 ---> 2\n",
      "2 ---> 2\n",
      "3 ---> 2\n",
      "4 ---> 1\n",
      "12 ---> 1\n"
     ]
    }
   ],
   "source": [
    "# duplicates or not\n",
    "def duplicates(x):\n",
    "    unique=set()\n",
    "    repeatedVa=set()\n",
    "    for i in x:\n",
    "        if i in unique:\n",
    "            repeatedVa.add(i)\n",
    "        else:\n",
    "            unique.add(i)\n",
    "    print(\"Original values : \",x)\n",
    "    print(\"Unique  values : \",unique)\n",
    "    print(\"Repeated  values : \",repeatedVa)\n",
    "l=[1,2,3,4,1,2,3,12]\n",
    "duplicates(l)\n",
    "frequency(l)"
   ]
  },
  {
   "cell_type": "code",
   "execution_count": 29,
   "id": "2e2961a5",
   "metadata": {},
   "outputs": [
    {
     "name": "stdout",
     "output_type": "stream",
     "text": [
      "enter a number for prime or not : 13\n",
      "prime\n"
     ]
    }
   ],
   "source": [
    "# prime number or not\n",
    "num = int(input(\"enter a number for prime or not : \"))\n",
    "count=1\n",
    "for i in range(2,num):\n",
    "    if num%i==0:\n",
    "        count+=1\n",
    "if count==1:\n",
    "    print(\"prime\")\n",
    "else:\n",
    "    print(\"not prime\")"
   ]
  },
  {
   "cell_type": "code",
   "execution_count": 35,
   "id": "af8577fc",
   "metadata": {},
   "outputs": [
    {
     "name": "stdout",
     "output_type": "stream",
     "text": [
      "enter starting and ending numbers by giving ',' for prime numbers : 1,1000\n",
      "1 2 3 5 7 11 13 17 19 23 29 31 37 41 43 47 53 59 61 67 71 73 79 83 89 97 101 103 107 109 113 127 131 137 139 149 151 157 163 167 173 179 181 191 193 197 199 211 223 227 229 233 239 241 251 257 263 269 271 277 281 283 293 307 311 313 317 331 337 347 349 353 359 367 373 379 383 389 397 401 409 419 421 431 433 439 443 449 457 461 463 467 479 487 491 499 503 509 521 523 541 547 557 563 569 571 577 587 593 599 601 607 613 617 619 631 641 643 647 653 659 661 673 677 683 691 701 709 719 727 733 739 743 751 757 761 769 773 787 797 809 811 821 823 827 829 839 853 857 859 863 877 881 883 887 907 911 919 929 937 941 947 953 967 971 977 983 991 997 "
     ]
    }
   ],
   "source": [
    "# prime numbers b/w ranges\n",
    "start,end=input(\"enter starting and ending numbers by giving ',' for prime numbers : \").split(\",\")\n",
    "start=int(start)\n",
    "end=int(end)\n",
    "for i in range(start,end+1):\n",
    "    for j in range(2,i):\n",
    "        if i%j==0:\n",
    "            break\n",
    "    else:\n",
    "        print(i,end=\" \")"
   ]
  },
  {
   "cell_type": "code",
   "execution_count": 1,
   "id": "6c6585b6",
   "metadata": {},
   "outputs": [
    {
     "data": {
      "text/plain": [
       "'hari'"
      ]
     },
     "execution_count": 1,
     "metadata": {},
     "output_type": "execute_result"
    }
   ],
   "source": [
    "name=\"irah\"\n",
    "name[::-1]"
   ]
  },
  {
   "cell_type": "code",
   "execution_count": 29,
   "id": "3edf812d",
   "metadata": {},
   "outputs": [
    {
     "name": "stdout",
     "output_type": "stream",
     "text": [
      "enter a string : hari\n",
      "irah\n"
     ]
    }
   ],
   "source": [
    "st=input(\"enter a string : \")\n",
    "print(st[::-1])\n"
   ]
  },
  {
   "cell_type": "markdown",
   "id": "01b851e5",
   "metadata": {},
   "source": [
    "# Reversing a Sting"
   ]
  },
  {
   "cell_type": "code",
   "execution_count": 19,
   "id": "1bfe7561",
   "metadata": {},
   "outputs": [
    {
     "name": "stdout",
     "output_type": "stream",
     "text": [
      "enter a name : hari\n"
     ]
    },
    {
     "data": {
      "text/plain": [
       "'irah'"
      ]
     },
     "execution_count": 19,
     "metadata": {},
     "output_type": "execute_result"
    }
   ],
   "source": [
    "name=input(\"enter a name : \")\n",
    "name[::-1]"
   ]
  },
  {
   "cell_type": "code",
   "execution_count": 20,
   "id": "4377699c",
   "metadata": {},
   "outputs": [
    {
     "name": "stdout",
     "output_type": "stream",
     "text": [
      "enter a name : iraha\n"
     ]
    },
    {
     "data": {
      "text/plain": [
       "'ahari'"
      ]
     },
     "execution_count": 20,
     "metadata": {},
     "output_type": "execute_result"
    }
   ],
   "source": [
    "def reverse_string(x):\n",
    "    reverse=''\n",
    "    for i in range(len(x) -1,-1,-1):\n",
    "        reverse +=x[i]\n",
    "    return reverse\n",
    "name=input(\"enter a name : \")\n",
    "reverse_string(name)"
   ]
  },
  {
   "cell_type": "code",
   "execution_count": 30,
   "id": "9c28cc7c",
   "metadata": {},
   "outputs": [
    {
     "name": "stdout",
     "output_type": "stream",
     "text": [
      "enter a string : fkh\n"
     ]
    },
    {
     "data": {
      "text/plain": [
       "'hkf'"
      ]
     },
     "execution_count": 30,
     "metadata": {},
     "output_type": "execute_result"
    }
   ],
   "source": [
    "def rev(x):\n",
    "    reverse_str=\"\"\n",
    "    for i in range(len(x) -1,-1,-1):\n",
    "        reverse_str+=x[i]\n",
    "    return reverse_str\n",
    "inp=input(\"enter a string : \")\n",
    "rev(inp)"
   ]
  },
  {
   "cell_type": "markdown",
   "id": "31451b08",
   "metadata": {},
   "source": [
    "# Palindrom or Not"
   ]
  },
  {
   "cell_type": "code",
   "execution_count": 27,
   "id": "dd3e2f20",
   "metadata": {},
   "outputs": [
    {
     "name": "stdout",
     "output_type": "stream",
     "text": [
      "enter a string for checking palindrom or not : hari\n",
      "it is not palindrom\n",
      "original =hari\n",
      "reversed =irah\n"
     ]
    }
   ],
   "source": [
    "name=input(\"enter a string for checking palindrom or not : \")\n",
    "if name==name[::-1]:\n",
    "    print(\"it is a palindrom\")\n",
    "else:\n",
    "    print(\"it is not palindrom\")\n",
    "print(f\"original ={name}\\nreversed ={name[::-1]}\")"
   ]
  },
  {
   "cell_type": "markdown",
   "id": "68466943",
   "metadata": {},
   "source": [
    "# Largest element in a Given List"
   ]
  },
  {
   "cell_type": "code",
   "execution_count": 41,
   "id": "1c4d7815",
   "metadata": {},
   "outputs": [
    {
     "name": "stdout",
     "output_type": "stream",
     "text": [
      "largest number is =76\n"
     ]
    }
   ],
   "source": [
    "lis=[23,45,76,34]\n",
    "largest=0\n",
    "for i in lis:\n",
    "    if i>largest:\n",
    "        largest=i\n",
    "print(f\"largest number is ={largest}\")"
   ]
  },
  {
   "cell_type": "code",
   "execution_count": 31,
   "id": "15f9beea",
   "metadata": {},
   "outputs": [
    {
     "name": "stdout",
     "output_type": "stream",
     "text": [
      "5\n"
     ]
    }
   ],
   "source": [
    "lis=[1,2,3,4,5]\n",
    "large=0\n",
    "for i in lis:\n",
    "    if i>large:\n",
    "        large=i\n",
    "print(large)"
   ]
  },
  {
   "cell_type": "code",
   "execution_count": 18,
   "id": "c9471620",
   "metadata": {},
   "outputs": [
    {
     "name": "stdout",
     "output_type": "stream",
     "text": [
      "[76, 45, 34, 23]\n"
     ]
    },
    {
     "data": {
      "text/plain": [
       "45"
      ]
     },
     "execution_count": 18,
     "metadata": {},
     "output_type": "execute_result"
    }
   ],
   "source": [
    "lis=[23,45,76,34]\n",
    "lis.sort(reverse=True)\n",
    "print(lis)\n",
    "lis[1]"
   ]
  },
  {
   "cell_type": "markdown",
   "id": "998edf6d",
   "metadata": {},
   "source": [
    "# Count the Occurance of Each element"
   ]
  },
  {
   "cell_type": "code",
   "execution_count": 45,
   "id": "a19a2908",
   "metadata": {},
   "outputs": [
    {
     "name": "stdout",
     "output_type": "stream",
     "text": [
      "12 ---> 2\n",
      "34 ---> 1\n",
      "5 ---> 1\n",
      "45 ---> 1\n",
      "7 ---> 1\n"
     ]
    }
   ],
   "source": [
    "def count_freq(x):\n",
    "    count={}\n",
    "    for i in x:\n",
    "        if i in count:\n",
    "            count[i]+=1\n",
    "        else:\n",
    "            count[i]=1\n",
    "    for i,j in count.items():\n",
    "        print(i,\"--->\",j)\n",
    "listt=[12,34,5,12,45,7]\n",
    "count_freq(listt)"
   ]
  },
  {
   "cell_type": "markdown",
   "id": "f7cdffb7",
   "metadata": {},
   "source": [
    "# Second largest in a list"
   ]
  },
  {
   "cell_type": "code",
   "execution_count": 46,
   "id": "95ac2e5a",
   "metadata": {},
   "outputs": [],
   "source": [
    "lis=[1,2,3,4,76,5,34,76,3,56,2,234,4]"
   ]
  },
  {
   "cell_type": "code",
   "execution_count": 51,
   "id": "1c36f0c5",
   "metadata": {},
   "outputs": [
    {
     "data": {
      "text/plain": [
       "56"
      ]
     },
     "execution_count": 51,
     "metadata": {},
     "output_type": "execute_result"
    }
   ],
   "source": [
    "lis.sort(reverse=True)\n",
    "se=set(lis)\n",
    "li=list(se)\n",
    "li.sort(reverse=True)\n",
    "li[2]"
   ]
  },
  {
   "cell_type": "code",
   "execution_count": null,
   "id": "4e04bc5f",
   "metadata": {},
   "outputs": [],
   "source": []
  },
  {
   "cell_type": "code",
   "execution_count": null,
   "id": "e8620634",
   "metadata": {},
   "outputs": [],
   "source": []
  },
  {
   "cell_type": "code",
   "execution_count": null,
   "id": "fa19b779",
   "metadata": {},
   "outputs": [],
   "source": []
  },
  {
   "cell_type": "code",
   "execution_count": 50,
   "id": "48f5571e",
   "metadata": {},
   "outputs": [
    {
     "data": {
      "text/plain": [
       "5"
      ]
     },
     "execution_count": 50,
     "metadata": {},
     "output_type": "execute_result"
    }
   ],
   "source": [
    "def second_largest(x):\n",
    "    for i in x:\n",
    "        x.sort(reverse=True)\n",
    "    return lis[1]\n",
    "lis=[1,2,3,4,5,6]\n",
    "second_largest(lis)"
   ]
  },
  {
   "cell_type": "code",
   "execution_count": 68,
   "id": "fc585c44",
   "metadata": {},
   "outputs": [
    {
     "name": "stdout",
     "output_type": "stream",
     "text": [
      "original List =[1, 3, 56, 3, 56, 67, 67]\n",
      "After Removing Duplicates List =[56, 1, 67, 3]\n",
      "the Sorted List is [67, 56, 3, 1]\n",
      "second largest element is = 56 \n"
     ]
    }
   ],
   "source": [
    "# Method --> 2\n",
    "lis=[1,3,56,3,56,67,67]\n",
    "print(f\"original List ={lis}\")\n",
    "lis=set(lis)\n",
    "lis=list(lis)\n",
    "print(f\"After Removing Duplicates List ={lis}\")\n",
    "for i in lis:\n",
    "    lis.sort(reverse=True)\n",
    "print(f\"the Sorted List is {lis}\")\n",
    "print(f\"second largest element is = {lis[1]} \")"
   ]
  },
  {
   "cell_type": "markdown",
   "id": "ed0455d0",
   "metadata": {},
   "source": [
    "# Removing a Duplicates"
   ]
  },
  {
   "cell_type": "code",
   "execution_count": 75,
   "id": "6f2f9a8f",
   "metadata": {},
   "outputs": [
    {
     "name": "stdout",
     "output_type": "stream",
     "text": [
      "original elements are : [1, 2, 3, 4, 4]\n",
      "unique elements are : {1, 2, 3, 4}\n",
      "Duplicate elements are : {4}\n"
     ]
    }
   ],
   "source": [
    "def remove_dup(x):\n",
    "    unique=set()\n",
    "    duplic=set()\n",
    "    for i in x:\n",
    "        if i in unique:\n",
    "            duplic.add(i)\n",
    "        else:\n",
    "            unique.add(i)\n",
    "    print(f\"original elements are : {x}\")\n",
    "    print(f\"unique elements are : {unique}\")\n",
    "    print(f\"Duplicate elements are : {duplic}\")\n",
    "lis=[1,2,3,4,4]\n",
    "remove_dup(lis)"
   ]
  },
  {
   "cell_type": "markdown",
   "id": "87ffa02e",
   "metadata": {},
   "source": [
    "# Factorial of a Given Number"
   ]
  },
  {
   "cell_type": "code",
   "execution_count": 81,
   "id": "b26a0a4e",
   "metadata": {},
   "outputs": [
    {
     "name": "stdout",
     "output_type": "stream",
     "text": [
      "enter a Number : 4\n",
      "Factorial of (4) = 24\n"
     ]
    }
   ],
   "source": [
    "number=int(input(\"enter a Number : \"))\n",
    "tot=1\n",
    "for i in range(2,number+1):\n",
    "    tot*=i\n",
    "print(f\"Factorial of ({number}) = {tot}\")"
   ]
  },
  {
   "cell_type": "code",
   "execution_count": 53,
   "id": "8630f82d",
   "metadata": {},
   "outputs": [
    {
     "data": {
      "text/plain": [
       "120"
      ]
     },
     "execution_count": 53,
     "metadata": {},
     "output_type": "execute_result"
    }
   ],
   "source": [
    "def facto(x):\n",
    "    if x==0 or x==1:\n",
    "        return 1\n",
    "    else:\n",
    "        return x*facto(x-1)\n",
    "facto(5)"
   ]
  },
  {
   "cell_type": "code",
   "execution_count": 20,
   "id": "fce60ed5",
   "metadata": {},
   "outputs": [
    {
     "data": {
      "text/plain": [
       "120"
      ]
     },
     "execution_count": 20,
     "metadata": {},
     "output_type": "execute_result"
    }
   ],
   "source": [
    "def fact(x):\n",
    "    if x==0 or x==1:\n",
    "        return 1\n",
    "    else:\n",
    "        return x*fact(x-1)\n",
    "fact(5)"
   ]
  },
  {
   "cell_type": "markdown",
   "id": "a82c52b6",
   "metadata": {},
   "source": [
    "# Number is Prime or not"
   ]
  },
  {
   "cell_type": "code",
   "execution_count": 85,
   "id": "1986db79",
   "metadata": {},
   "outputs": [
    {
     "name": "stdout",
     "output_type": "stream",
     "text": [
      "enter a number to check prime or not : 3\n",
      "3 is a Prime Number\n"
     ]
    }
   ],
   "source": [
    "num=int(input(\"enter a number to check prime or not : \"))\n",
    "count=1\n",
    "for i in range(2,num):\n",
    "    if num%i==0:\n",
    "        count+=1\n",
    "if count==1:\n",
    "    print(f\"{num} is a Prime Number\")\n",
    "else:\n",
    "    print(f\"{num} is not a Prime Number\")"
   ]
  },
  {
   "cell_type": "markdown",
   "id": "99050277",
   "metadata": {},
   "source": [
    "# Sum of all Numbers in a List"
   ]
  },
  {
   "cell_type": "code",
   "execution_count": 86,
   "id": "738beb79",
   "metadata": {},
   "outputs": [
    {
     "name": "stdout",
     "output_type": "stream",
     "text": [
      "15\n"
     ]
    }
   ],
   "source": [
    "lis=[1,2,3,4,5]\n",
    "sum=0\n",
    "for i in lis:\n",
    "    sum=sum+i\n",
    "print(sum)"
   ]
  },
  {
   "cell_type": "markdown",
   "id": "9cd9ccea",
   "metadata": {},
   "source": [
    "# common elements b/w 2 linst"
   ]
  },
  {
   "cell_type": "code",
   "execution_count": 88,
   "id": "041d8684",
   "metadata": {},
   "outputs": [
    {
     "data": {
      "text/plain": [
       "[1, 2]"
      ]
     },
     "execution_count": 88,
     "metadata": {},
     "output_type": "execute_result"
    }
   ],
   "source": [
    "def common_ele(x,y):\n",
    "    dup=[]\n",
    "    for i in y:\n",
    "        if i in x:\n",
    "            dup.append(i)\n",
    "    return dup\n",
    "lis1=[1,2,3]\n",
    "lis2=[1,23,4,2]\n",
    "common_ele(lis1,lis2)"
   ]
  },
  {
   "cell_type": "code",
   "execution_count": 55,
   "id": "39cd66b1",
   "metadata": {},
   "outputs": [
    {
     "name": "stdout",
     "output_type": "stream",
     "text": [
      "[1, 2]\n"
     ]
    }
   ],
   "source": [
    "lis1=[1,2,3]\n",
    "lis2=[1,23,4,2]\n",
    "dup=[]\n",
    "for i in lis1:\n",
    "    if i in lis2:\n",
    "        dup.append(i)\n",
    "print(dup)"
   ]
  },
  {
   "cell_type": "markdown",
   "id": "dc2ac705",
   "metadata": {},
   "source": [
    "# Removing all Vowels present in a String"
   ]
  },
  {
   "cell_type": "code",
   "execution_count": 91,
   "id": "9d69ffe3",
   "metadata": {},
   "outputs": [
    {
     "name": "stdout",
     "output_type": "stream",
     "text": [
      "enter a any name for removing Vowels : aeiouah\n",
      "h"
     ]
    }
   ],
   "source": [
    "stri=input(\"enter a any name for removing Vowels : \")\n",
    "for i in stri:\n",
    "    if i in ['A','E','I','O','U','a','e','i','o','u']:\n",
    "        continue\n",
    "    else:\n",
    "        print(i,end=\"\")"
   ]
  },
  {
   "cell_type": "code",
   "execution_count": 96,
   "id": "3183952a",
   "metadata": {},
   "outputs": [
    {
     "name": "stdout",
     "output_type": "stream",
     "text": [
      "hari\n"
     ]
    }
   ],
   "source": [
    "name=\"irah\"\n",
    "empty=''\n",
    "for i in range(len(name)-1,-1,-1):\n",
    "    empty+=name[i]\n",
    "print(empty)"
   ]
  },
  {
   "cell_type": "markdown",
   "id": "0a6fcd0e",
   "metadata": {},
   "source": [
    "# Sum of all Even numbers and Odd numbers"
   ]
  },
  {
   "cell_type": "code",
   "execution_count": 99,
   "id": "12fa970f",
   "metadata": {},
   "outputs": [
    {
     "name": "stdout",
     "output_type": "stream",
     "text": [
      "Sum of Even Numbers = 20\n",
      "Sum of Odd  Numbers = 25\n"
     ]
    }
   ],
   "source": [
    "lis=[1,2,3,4,5,6,7,8,9]\n",
    "sum_E=0\n",
    "sum_O=0\n",
    "for i in lis:\n",
    "    if i%2==0:\n",
    "        sum_E+=i\n",
    "    else:\n",
    "        sum_O+=i\n",
    "print(f\"Sum of Even Numbers = {sum_E}\")\n",
    "print(f\"Sum of Odd  Numbers = {sum_O}\")\n",
    "        "
   ]
  },
  {
   "cell_type": "markdown",
   "id": "ef23b8fd",
   "metadata": {},
   "source": [
    "# Product of All elements in a List"
   ]
  },
  {
   "cell_type": "code",
   "execution_count": 101,
   "id": "d9c8acac",
   "metadata": {},
   "outputs": [
    {
     "name": "stdout",
     "output_type": "stream",
     "text": [
      "product of all numbers in given list = 300\n"
     ]
    }
   ],
   "source": [
    "lis=[1,2,3,5,10]\n",
    "prod=1\n",
    "for i in lis:\n",
    "    prod*=i\n",
    "print(f\"product of all numbers in given list = {prod}\")"
   ]
  },
  {
   "cell_type": "markdown",
   "id": "b25b3344",
   "metadata": {},
   "source": [
    "# Sum of Digits"
   ]
  },
  {
   "cell_type": "code",
   "execution_count": 114,
   "id": "f9dcf9d8",
   "metadata": {},
   "outputs": [
    {
     "name": "stdout",
     "output_type": "stream",
     "text": [
      "enter a Number : 12345\n",
      "total = 15\n"
     ]
    }
   ],
   "source": [
    "num=int(input(\"enter a Number : \"))\n",
    "total=0\n",
    "while num>0:\n",
    "    x=num%10\n",
    "    total+=x\n",
    "    num//=10\n",
    "print(f\"total = {total}\")"
   ]
  },
  {
   "cell_type": "code",
   "execution_count": null,
   "id": "42071759",
   "metadata": {},
   "outputs": [],
   "source": []
  },
  {
   "cell_type": "markdown",
   "id": "78c0c611",
   "metadata": {},
   "source": [
    "# Remove all the duplicates from a String"
   ]
  },
  {
   "cell_type": "code",
   "execution_count": 56,
   "id": "6ec005a4",
   "metadata": {},
   "outputs": [
    {
     "name": "stdout",
     "output_type": "stream",
     "text": [
      "enter a stering : haaari\n",
      "set()\n"
     ]
    }
   ],
   "source": [
    "def remove_dup_str(x):\n",
    "    x=list(x)\n",
    "    unique=set()\n",
    "    dup=set()\n",
    "    for i in x:\n",
    "        if i in unique:\n",
    "            unique.add(i)\n",
    "        else:\n",
    "            dup.add(i)\n",
    "    print(unique)\n",
    "oop=input(\"enter a stering : \")\n",
    "remove_dup_str(oop)"
   ]
  },
  {
   "cell_type": "code",
   "execution_count": 61,
   "id": "05bc4868",
   "metadata": {},
   "outputs": [
    {
     "name": "stdout",
     "output_type": "stream",
     "text": [
      "irah\n"
     ]
    }
   ],
   "source": [
    "def remove_duplicates(input_str):\n",
    "    unique_chars = set(input_str)\n",
    "    result_str = ''.join(unique_chars)\n",
    "    return result_str\n",
    "\n",
    "# Example\n",
    "original_string = \"hariirahhari\"\n",
    "result = remove_duplicates(original_string)\n",
    "print(result)\n"
   ]
  },
  {
   "cell_type": "code",
   "execution_count": null,
   "id": "e8f763b1",
   "metadata": {},
   "outputs": [],
   "source": []
  },
  {
   "cell_type": "code",
   "execution_count": null,
   "id": "5a9db932",
   "metadata": {},
   "outputs": [],
   "source": []
  },
  {
   "cell_type": "code",
   "execution_count": 115,
   "id": "d9f2628f",
   "metadata": {},
   "outputs": [
    {
     "data": {
      "text/plain": [
       "'world hello ok'"
      ]
     },
     "execution_count": 115,
     "metadata": {},
     "output_type": "execute_result"
    }
   ],
   "source": [
    "def duplicated(s):\n",
    "    s1=s.split(' ')\n",
    "    count={}\n",
    "    for i in s1:\n",
    "        if i not in count:\n",
    "            count[i]=1\n",
    "        else:\n",
    "            s1.remove(i)\n",
    "    return ' '.join(s1)\n",
    "s=\"hello hello world hello ok\"\n",
    "duplicated(s)"
   ]
  },
  {
   "cell_type": "code",
   "execution_count": 3,
   "id": "3d541a0f",
   "metadata": {},
   "outputs": [
    {
     "name": "stdout",
     "output_type": "stream",
     "text": [
      "enter a name and index by providing ',' : Harikrishna,4\n",
      "krishna\n"
     ]
    }
   ],
   "source": [
    "# name from 2nd place\n",
    "def name(fname,start):\n",
    "    print(fname[start:])\n",
    "fname,number=input(\"enter a name and index by providing ',' : \").split(\",\")\n",
    "number=int(number)\n",
    "name(fname,number)"
   ]
  },
  {
   "cell_type": "code",
   "execution_count": 67,
   "id": "cc8ee486",
   "metadata": {},
   "outputs": [
    {
     "name": "stdout",
     "output_type": "stream",
     "text": [
      "enter name with position where it start : im not jeevan sir,5\n",
      "t jeevan sir\n"
     ]
    }
   ],
   "source": [
    "name,start=input(\"enter name with position where it start : \").split(\",\")\n",
    "start=int(start)\n",
    "print(name[start:])"
   ]
  },
  {
   "cell_type": "code",
   "execution_count": null,
   "id": "f558624d",
   "metadata": {},
   "outputs": [],
   "source": []
  }
 ],
 "metadata": {
  "kernelspec": {
   "display_name": "Python 3 (ipykernel)",
   "language": "python",
   "name": "python3"
  },
  "language_info": {
   "codemirror_mode": {
    "name": "ipython",
    "version": 3
   },
   "file_extension": ".py",
   "mimetype": "text/x-python",
   "name": "python",
   "nbconvert_exporter": "python",
   "pygments_lexer": "ipython3",
   "version": "3.11.4"
  }
 },
 "nbformat": 4,
 "nbformat_minor": 5
}
