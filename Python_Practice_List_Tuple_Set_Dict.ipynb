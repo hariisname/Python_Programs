{
 "cells": [
  {
   "cell_type": "markdown",
   "id": "222569d1",
   "metadata": {},
   "source": [
    "### 1) Introduction to Python\n",
    "### 2) Applications of Pythob\n",
    "### 3) IDE's\n",
    "### 4) Python Interpreter\n",
    "### 5) indentation & Comments\n",
    "### 6) Keywords\n",
    "### 7) variables - Identifiers\n",
    "### 8) Built-in Types\n",
    "### 9) Assigning tValues to Variables\n",
    "### 10) Input & Output Statements\n",
    "### 11) Operators\n",
    "### 12) Control Structures --> i)Conditional Statements ii) Jumping Statements iii) Loops\n",
    "### 13) Math & Random Modules\n",
    "### 14) List\n",
    "### 15) Tuple\n",
    "### 16) Strings\n",
    "### 17) Set\n",
    "### 18) Dictionary\n",
    "### 19) Functions\n",
    "### *) Numpy\n",
    "### *) Pandas"
   ]
  },
  {
   "cell_type": "markdown",
   "id": "a83d354a",
   "metadata": {},
   "source": [
    "# Math Module & Random Module"
   ]
  },
  {
   "cell_type": "markdown",
   "id": "f43818d5",
   "metadata": {},
   "source": [
    "### Mathematical Functions\n",
    "    - ceil(x)\n",
    "    - copysign(x,y)\n",
    "    - fabs(x)\n",
    "    - factorial(x)\n",
    "    - floor(x)\n",
    "    - fsum(iterable)\n",
    "    - gcd(x,y)\n",
    "    - pow(x,y)\n",
    "    - sqrt(x)\n",
    "    - sin(x)\n",
    "    - cos(x)\n",
    "    - tan(x)\n",
    "    - pi\n",
    "    - e\n",
    "    - tau\n",
    "    - inf\n",
    "    - nan"
   ]
  },
  {
   "cell_type": "code",
   "execution_count": 1,
   "id": "460893a4",
   "metadata": {},
   "outputs": [],
   "source": [
    "import math "
   ]
  },
  {
   "cell_type": "code",
   "execution_count": 2,
   "id": "9e0b5938",
   "metadata": {},
   "outputs": [
    {
     "data": {
      "text/plain": [
       "11"
      ]
     },
     "execution_count": 2,
     "metadata": {},
     "output_type": "execute_result"
    }
   ],
   "source": [
    "math.ceil(10.3)"
   ]
  },
  {
   "cell_type": "code",
   "execution_count": 3,
   "id": "fe9d0ca7",
   "metadata": {},
   "outputs": [
    {
     "data": {
      "text/plain": [
       "10"
      ]
     },
     "execution_count": 3,
     "metadata": {},
     "output_type": "execute_result"
    }
   ],
   "source": [
    "math.floor(10.4)"
   ]
  },
  {
   "cell_type": "code",
   "execution_count": 4,
   "id": "eb135306",
   "metadata": {},
   "outputs": [
    {
     "data": {
      "text/plain": [
       "10.0"
      ]
     },
     "execution_count": 4,
     "metadata": {},
     "output_type": "execute_result"
    }
   ],
   "source": [
    "a=10\n",
    "b=20\n",
    "math.copysign(a,b)"
   ]
  },
  {
   "cell_type": "code",
   "execution_count": 5,
   "id": "1e05f1e9",
   "metadata": {},
   "outputs": [
    {
     "data": {
      "text/plain": [
       "12.0"
      ]
     },
     "execution_count": 5,
     "metadata": {},
     "output_type": "execute_result"
    }
   ],
   "source": [
    "math.fabs(-12)"
   ]
  },
  {
   "cell_type": "code",
   "execution_count": 6,
   "id": "1cfa0340",
   "metadata": {},
   "outputs": [
    {
     "data": {
      "text/plain": [
       "120"
      ]
     },
     "execution_count": 6,
     "metadata": {},
     "output_type": "execute_result"
    }
   ],
   "source": [
    "math.factorial(5)"
   ]
  },
  {
   "cell_type": "code",
   "execution_count": 7,
   "id": "e2e6d7ee",
   "metadata": {},
   "outputs": [
    {
     "data": {
      "text/plain": [
       "40.5"
      ]
     },
     "execution_count": 7,
     "metadata": {},
     "output_type": "execute_result"
    }
   ],
   "source": [
    "math.fsum([10,20,5,5.5])  # iterable for only numeriacl values"
   ]
  },
  {
   "cell_type": "code",
   "execution_count": 8,
   "id": "33b0b2fb",
   "metadata": {},
   "outputs": [
    {
     "data": {
      "text/plain": [
       "1"
      ]
     },
     "execution_count": 8,
     "metadata": {},
     "output_type": "execute_result"
    }
   ],
   "source": [
    "math.gcd(3,10)"
   ]
  },
  {
   "cell_type": "code",
   "execution_count": 9,
   "id": "936e8429",
   "metadata": {},
   "outputs": [
    {
     "data": {
      "text/plain": [
       "32.0"
      ]
     },
     "execution_count": 9,
     "metadata": {},
     "output_type": "execute_result"
    }
   ],
   "source": [
    "math.pow(2,5) # function it will give float value most probably"
   ]
  },
  {
   "cell_type": "code",
   "execution_count": 10,
   "id": "995d9386",
   "metadata": {},
   "outputs": [
    {
     "data": {
      "text/plain": [
       "32"
      ]
     },
     "execution_count": 10,
     "metadata": {},
     "output_type": "execute_result"
    }
   ],
   "source": [
    "2**5        # "
   ]
  },
  {
   "cell_type": "code",
   "execution_count": 11,
   "id": "f25c4e7f",
   "metadata": {},
   "outputs": [
    {
     "data": {
      "text/plain": [
       "4.0"
      ]
     },
     "execution_count": 11,
     "metadata": {},
     "output_type": "execute_result"
    }
   ],
   "source": [
    "math.sqrt(16)"
   ]
  },
  {
   "cell_type": "code",
   "execution_count": 12,
   "id": "0a560ce7",
   "metadata": {},
   "outputs": [
    {
     "data": {
      "text/plain": [
       "-0.5440211108893698"
      ]
     },
     "execution_count": 12,
     "metadata": {},
     "output_type": "execute_result"
    }
   ],
   "source": [
    "math.sin(10)"
   ]
  },
  {
   "cell_type": "code",
   "execution_count": 13,
   "id": "4d0d331e",
   "metadata": {},
   "outputs": [
    {
     "data": {
      "text/plain": [
       "-0.8390715290764524"
      ]
     },
     "execution_count": 13,
     "metadata": {},
     "output_type": "execute_result"
    }
   ],
   "source": [
    "math.cos(10)"
   ]
  },
  {
   "cell_type": "code",
   "execution_count": 14,
   "id": "1c786849",
   "metadata": {},
   "outputs": [
    {
     "data": {
      "text/plain": [
       "0.6483608274590866"
      ]
     },
     "execution_count": 14,
     "metadata": {},
     "output_type": "execute_result"
    }
   ],
   "source": [
    "math.tan(10)"
   ]
  },
  {
   "cell_type": "code",
   "execution_count": 15,
   "id": "10cd25b2",
   "metadata": {},
   "outputs": [
    {
     "data": {
      "text/plain": [
       "3.141592653589793"
      ]
     },
     "execution_count": 15,
     "metadata": {},
     "output_type": "execute_result"
    }
   ],
   "source": [
    "math.pi"
   ]
  },
  {
   "cell_type": "code",
   "execution_count": 16,
   "id": "773f170b",
   "metadata": {},
   "outputs": [
    {
     "data": {
      "text/plain": [
       "6.283185307179586"
      ]
     },
     "execution_count": 16,
     "metadata": {},
     "output_type": "execute_result"
    }
   ],
   "source": [
    "math.tau"
   ]
  },
  {
   "cell_type": "code",
   "execution_count": 17,
   "id": "a4636ded",
   "metadata": {},
   "outputs": [
    {
     "data": {
      "text/plain": [
       "2.718281828459045"
      ]
     },
     "execution_count": 17,
     "metadata": {},
     "output_type": "execute_result"
    }
   ],
   "source": [
    "math.e"
   ]
  },
  {
   "cell_type": "code",
   "execution_count": 18,
   "id": "7744ae21",
   "metadata": {},
   "outputs": [
    {
     "data": {
      "text/plain": [
       "inf"
      ]
     },
     "execution_count": 18,
     "metadata": {},
     "output_type": "execute_result"
    }
   ],
   "source": [
    "math.inf"
   ]
  },
  {
   "cell_type": "code",
   "execution_count": 19,
   "id": "36370c11",
   "metadata": {},
   "outputs": [
    {
     "data": {
      "text/plain": [
       "nan"
      ]
     },
     "execution_count": 19,
     "metadata": {},
     "output_type": "execute_result"
    }
   ],
   "source": [
    "math.nan"
   ]
  },
  {
   "cell_type": "markdown",
   "id": "47b75052",
   "metadata": {},
   "source": [
    "### Random Functions\n",
    "    - choice(seq)\n",
    "    - randrange(start,stop,step)\n",
    "    - random()\n",
    "    - shuffle()\n",
    "    - uniform()"
   ]
  },
  {
   "cell_type": "code",
   "execution_count": 20,
   "id": "b6cd87a0",
   "metadata": {},
   "outputs": [],
   "source": [
    "import random"
   ]
  },
  {
   "cell_type": "code",
   "execution_count": 21,
   "id": "b1ff98e3",
   "metadata": {},
   "outputs": [
    {
     "data": {
      "text/plain": [
       "1"
      ]
     },
     "execution_count": 21,
     "metadata": {},
     "output_type": "execute_result"
    }
   ],
   "source": [
    "random.choice([1,2,3,4,5])"
   ]
  },
  {
   "cell_type": "code",
   "execution_count": 22,
   "id": "97b27e4a",
   "metadata": {},
   "outputs": [
    {
     "data": {
      "text/plain": [
       "19"
      ]
     },
     "execution_count": 22,
     "metadata": {},
     "output_type": "execute_result"
    }
   ],
   "source": [
    "random.randrange(1,20,2) # it will give integer value b/w ranges"
   ]
  },
  {
   "cell_type": "code",
   "execution_count": 23,
   "id": "b3255f0e",
   "metadata": {},
   "outputs": [
    {
     "data": {
      "text/plain": [
       "0.5789547955478554"
      ]
     },
     "execution_count": 23,
     "metadata": {},
     "output_type": "execute_result"
    }
   ],
   "source": [
    "random.random()  # random it will give float value b/w 0 to 1"
   ]
  },
  {
   "cell_type": "code",
   "execution_count": 24,
   "id": "7d75e65e",
   "metadata": {},
   "outputs": [
    {
     "data": {
      "text/plain": [
       "[3, 1, 6, 5, 2, 4]"
      ]
     },
     "execution_count": 24,
     "metadata": {},
     "output_type": "execute_result"
    }
   ],
   "source": [
    "l=[1,2,3,4,5,6]\n",
    "random.shuffle(l)\n",
    "l"
   ]
  },
  {
   "cell_type": "code",
   "execution_count": 25,
   "id": "87d4ac9a",
   "metadata": {},
   "outputs": [
    {
     "data": {
      "text/plain": [
       "17.595822705448015"
      ]
     },
     "execution_count": 25,
     "metadata": {},
     "output_type": "execute_result"
    }
   ],
   "source": [
    "random.uniform(1,20)   # samle like random it will give float value b/w ranges"
   ]
  },
  {
   "cell_type": "code",
   "execution_count": null,
   "id": "64fbb9dd",
   "metadata": {},
   "outputs": [],
   "source": []
  },
  {
   "cell_type": "markdown",
   "id": "7d86f812",
   "metadata": {},
   "source": [
    "# List\n",
    "    - list it can access multiple data-types\n",
    "    - list we can enclosed with square-braces([])\n",
    "    - we can define values with help of comma separated values\n",
    "    - list is a mutable :- we can modify a list as per our requirements"
   ]
  },
  {
   "cell_type": "markdown",
   "id": "1d47351c",
   "metadata": {},
   "source": [
    "    - creating List\n",
    "    - Accessing elements from list\n",
    "    - Slicing              :- extracting some portion from all ready existing data\n",
    "    - Reassigning List elements\n",
    "    - Deleting elements\n",
    "    - multidimentional List\n",
    "    - Basc Operations :- +, *, len, min, max, sum, membership, iterations\n",
    "    - list comprehension\n",
    "    - Built-in methods\n",
    "        * append() :- Adds an element 'x' to the end of the list.\n",
    "        * extend() :- Extends the list by appending elements from the iterable.\n",
    "        * insert() :- Inserts an element 'x' at a specified position 'i' in the list.\n",
    "        * remove() :- Removes the first occurrence of element 'x' from the list.\n",
    "        * pop()    :- Removes and returns the element at index 'i'. If 'i' is not provided, it removes and returns the \n",
    "                      last element.\n",
    "        * sort()   :- Sorts the elements of the list in ascending order. Optional parameters 'key' and 'reverse' \n",
    "                      allow customization.\n",
    "        * count()  :- Returns the number of occurrences of element 'x' in the list.\n",
    "        * index()  :- Returns the index of the first occurrence of element 'x'. Optional parameters 'start' and 'end'\n",
    "                      specify the search range.\n",
    "        * reverse():- Reverses the order of elements in the list in-place."
   ]
  },
  {
   "cell_type": "code",
   "execution_count": 26,
   "id": "6aa4f1a9",
   "metadata": {},
   "outputs": [],
   "source": [
    "# Creating a List\n",
    "a=[]"
   ]
  },
  {
   "cell_type": "code",
   "execution_count": 27,
   "id": "740ee7bc",
   "metadata": {},
   "outputs": [
    {
     "data": {
      "text/plain": [
       "list"
      ]
     },
     "execution_count": 27,
     "metadata": {},
     "output_type": "execute_result"
    }
   ],
   "source": [
    "type(a)"
   ]
  },
  {
   "cell_type": "code",
   "execution_count": 28,
   "id": "b75c4258",
   "metadata": {},
   "outputs": [],
   "source": [
    "a=list()"
   ]
  },
  {
   "cell_type": "code",
   "execution_count": 29,
   "id": "af3b7a23",
   "metadata": {},
   "outputs": [
    {
     "data": {
      "text/plain": [
       "list"
      ]
     },
     "execution_count": 29,
     "metadata": {},
     "output_type": "execute_result"
    }
   ],
   "source": [
    "type(a)"
   ]
  },
  {
   "cell_type": "code",
   "execution_count": 30,
   "id": "11b23a6f",
   "metadata": {},
   "outputs": [],
   "source": [
    "a=[10,20,30,40,\"hari\",3.556]  # sequence of elements :- multiple elements we are givong to a List "
   ]
  },
  {
   "cell_type": "code",
   "execution_count": 31,
   "id": "6695eef9",
   "metadata": {},
   "outputs": [
    {
     "data": {
      "text/plain": [
       "list"
      ]
     },
     "execution_count": 31,
     "metadata": {},
     "output_type": "execute_result"
    }
   ],
   "source": [
    "type(a)"
   ]
  },
  {
   "cell_type": "code",
   "execution_count": 32,
   "id": "8c607079",
   "metadata": {},
   "outputs": [
    {
     "data": {
      "text/plain": [
       "[10, 20, 30, 40, 'hari', 3.556]"
      ]
     },
     "execution_count": 32,
     "metadata": {},
     "output_type": "execute_result"
    }
   ],
   "source": [
    "a"
   ]
  },
  {
   "cell_type": "code",
   "execution_count": 33,
   "id": "1a557f22",
   "metadata": {},
   "outputs": [],
   "source": [
    "# List is Mutable"
   ]
  },
  {
   "cell_type": "code",
   "execution_count": 34,
   "id": "921df1bd",
   "metadata": {},
   "outputs": [
    {
     "data": {
      "text/plain": [
       "10"
      ]
     },
     "execution_count": 34,
     "metadata": {},
     "output_type": "execute_result"
    }
   ],
   "source": [
    "# Forword Index\n",
    "a[0] # accessing a element"
   ]
  },
  {
   "cell_type": "code",
   "execution_count": 35,
   "id": "87ae2463",
   "metadata": {},
   "outputs": [],
   "source": [
    "a[0]=100  # Modifying list index as per our required element"
   ]
  },
  {
   "cell_type": "code",
   "execution_count": 36,
   "id": "68875cab",
   "metadata": {},
   "outputs": [
    {
     "data": {
      "text/plain": [
       "[100, 20, 30, 40, 'hari', 3.556]"
      ]
     },
     "execution_count": 36,
     "metadata": {},
     "output_type": "execute_result"
    }
   ],
   "source": [
    "a"
   ]
  },
  {
   "cell_type": "code",
   "execution_count": 37,
   "id": "3818ba60",
   "metadata": {},
   "outputs": [
    {
     "data": {
      "text/plain": [
       "3.556"
      ]
     },
     "execution_count": 37,
     "metadata": {},
     "output_type": "execute_result"
    }
   ],
   "source": [
    "# Backword Index\n",
    "a[-1]"
   ]
  },
  {
   "cell_type": "code",
   "execution_count": 38,
   "id": "a8b02832",
   "metadata": {},
   "outputs": [
    {
     "data": {
      "text/plain": [
       "'hari'"
      ]
     },
     "execution_count": 38,
     "metadata": {},
     "output_type": "execute_result"
    }
   ],
   "source": [
    "a[-2]"
   ]
  },
  {
   "cell_type": "code",
   "execution_count": 39,
   "id": "27752cff",
   "metadata": {},
   "outputs": [
    {
     "data": {
      "text/plain": [
       "[100, 20]"
      ]
     },
     "execution_count": 39,
     "metadata": {},
     "output_type": "execute_result"
    }
   ],
   "source": [
    "# Slicing[start(default it will take 0):stop(by default it will take length of(list))]\n",
    "a[0:2]  # stop is excluding"
   ]
  },
  {
   "cell_type": "code",
   "execution_count": 40,
   "id": "f6517871",
   "metadata": {},
   "outputs": [
    {
     "data": {
      "text/plain": [
       "[100, 20, 30, 40, 'hari', 3.556]"
      ]
     },
     "execution_count": 40,
     "metadata": {},
     "output_type": "execute_result"
    }
   ],
   "source": [
    "a[:]  "
   ]
  },
  {
   "cell_type": "markdown",
   "id": "b6116d49",
   "metadata": {},
   "source": [
    "###### Reassigning List Elements"
   ]
  },
  {
   "cell_type": "code",
   "execution_count": 41,
   "id": "49cd7f7a",
   "metadata": {},
   "outputs": [
    {
     "data": {
      "text/plain": [
       "100"
      ]
     },
     "execution_count": 41,
     "metadata": {},
     "output_type": "execute_result"
    }
   ],
   "source": [
    "a[0]"
   ]
  },
  {
   "cell_type": "code",
   "execution_count": 42,
   "id": "d1070889",
   "metadata": {},
   "outputs": [],
   "source": [
    "a[0]=1000"
   ]
  },
  {
   "cell_type": "code",
   "execution_count": 43,
   "id": "bd0f20b7",
   "metadata": {},
   "outputs": [
    {
     "data": {
      "text/plain": [
       "[1000, 20, 30, 40, 'hari', 3.556]"
      ]
     },
     "execution_count": 43,
     "metadata": {},
     "output_type": "execute_result"
    }
   ],
   "source": [
    "a"
   ]
  },
  {
   "cell_type": "code",
   "execution_count": 44,
   "id": "63139316",
   "metadata": {},
   "outputs": [],
   "source": [
    "# Deleting element\n",
    "del a[2]"
   ]
  },
  {
   "cell_type": "code",
   "execution_count": 45,
   "id": "8fe00600",
   "metadata": {},
   "outputs": [
    {
     "data": {
      "text/plain": [
       "[1000, 20, 40, 'hari', 3.556]"
      ]
     },
     "execution_count": 45,
     "metadata": {},
     "output_type": "execute_result"
    }
   ],
   "source": [
    "a"
   ]
  },
  {
   "cell_type": "markdown",
   "id": "b48a0863",
   "metadata": {},
   "source": [
    "###### Multidimentional List"
   ]
  },
  {
   "cell_type": "code",
   "execution_count": 46,
   "id": "66af062b",
   "metadata": {},
   "outputs": [],
   "source": [
    "a=[[1,2,3],[4,5,6]]"
   ]
  },
  {
   "cell_type": "code",
   "execution_count": 47,
   "id": "82d30c70",
   "metadata": {},
   "outputs": [
    {
     "data": {
      "text/plain": [
       "[[1, 2, 3], [4, 5, 6]]"
      ]
     },
     "execution_count": 47,
     "metadata": {},
     "output_type": "execute_result"
    }
   ],
   "source": [
    "a"
   ]
  },
  {
   "cell_type": "code",
   "execution_count": 48,
   "id": "c24b3b38",
   "metadata": {},
   "outputs": [
    {
     "data": {
      "text/plain": [
       "[1, 2, 3]"
      ]
     },
     "execution_count": 48,
     "metadata": {},
     "output_type": "execute_result"
    }
   ],
   "source": [
    "a[0]"
   ]
  },
  {
   "cell_type": "code",
   "execution_count": 49,
   "id": "50cab5ce",
   "metadata": {},
   "outputs": [
    {
     "data": {
      "text/plain": [
       "2"
      ]
     },
     "execution_count": 49,
     "metadata": {},
     "output_type": "execute_result"
    }
   ],
   "source": [
    "a[0][1]  # 2 sub-scripts"
   ]
  },
  {
   "cell_type": "markdown",
   "id": "1a473fbf",
   "metadata": {},
   "source": [
    "### Basic Operations"
   ]
  },
  {
   "cell_type": "code",
   "execution_count": 50,
   "id": "779dccdb",
   "metadata": {},
   "outputs": [],
   "source": [
    "a=[10,20,30]\n",
    "b=[40,50,60]"
   ]
  },
  {
   "cell_type": "code",
   "execution_count": 51,
   "id": "b71ea5a4",
   "metadata": {},
   "outputs": [
    {
     "data": {
      "text/plain": [
       "[10, 20, 30, 40, 50, 60]"
      ]
     },
     "execution_count": 51,
     "metadata": {},
     "output_type": "execute_result"
    }
   ],
   "source": [
    "a+b # Concatination"
   ]
  },
  {
   "cell_type": "code",
   "execution_count": 52,
   "id": "64a5cffd",
   "metadata": {},
   "outputs": [
    {
     "data": {
      "text/plain": [
       "[10, 20, 30, 10, 20, 30, 10, 20, 30, 10, 20, 30]"
      ]
     },
     "execution_count": 52,
     "metadata": {},
     "output_type": "execute_result"
    }
   ],
   "source": [
    "a*4 # repitation"
   ]
  },
  {
   "cell_type": "code",
   "execution_count": 53,
   "id": "4418563f",
   "metadata": {},
   "outputs": [
    {
     "data": {
      "text/plain": [
       "[40, 50, 60, 40, 50, 60]"
      ]
     },
     "execution_count": 53,
     "metadata": {},
     "output_type": "execute_result"
    }
   ],
   "source": [
    "b*2"
   ]
  },
  {
   "cell_type": "code",
   "execution_count": 54,
   "id": "08b71d86",
   "metadata": {},
   "outputs": [
    {
     "data": {
      "text/plain": [
       "[10, 20, 30]"
      ]
     },
     "execution_count": 54,
     "metadata": {},
     "output_type": "execute_result"
    }
   ],
   "source": [
    "a"
   ]
  },
  {
   "cell_type": "code",
   "execution_count": 55,
   "id": "29eb5923",
   "metadata": {},
   "outputs": [
    {
     "data": {
      "text/plain": [
       "3"
      ]
     },
     "execution_count": 55,
     "metadata": {},
     "output_type": "execute_result"
    }
   ],
   "source": [
    "len(a)"
   ]
  },
  {
   "cell_type": "code",
   "execution_count": 56,
   "id": "df46c91f",
   "metadata": {},
   "outputs": [
    {
     "data": {
      "text/plain": [
       "10"
      ]
     },
     "execution_count": 56,
     "metadata": {},
     "output_type": "execute_result"
    }
   ],
   "source": [
    "min(a)"
   ]
  },
  {
   "cell_type": "code",
   "execution_count": 57,
   "id": "9f924ebe",
   "metadata": {},
   "outputs": [
    {
     "data": {
      "text/plain": [
       "30"
      ]
     },
     "execution_count": 57,
     "metadata": {},
     "output_type": "execute_result"
    }
   ],
   "source": [
    "max(a)"
   ]
  },
  {
   "cell_type": "code",
   "execution_count": 58,
   "id": "f973a32c",
   "metadata": {},
   "outputs": [
    {
     "data": {
      "text/plain": [
       "60"
      ]
     },
     "execution_count": 58,
     "metadata": {},
     "output_type": "execute_result"
    }
   ],
   "source": [
    "sum(a)"
   ]
  },
  {
   "cell_type": "code",
   "execution_count": 59,
   "id": "e474704a",
   "metadata": {},
   "outputs": [
    {
     "data": {
      "text/plain": [
       "True"
      ]
     },
     "execution_count": 59,
     "metadata": {},
     "output_type": "execute_result"
    }
   ],
   "source": [
    "# Membership :- in, not in\n",
    "10 in a"
   ]
  },
  {
   "cell_type": "code",
   "execution_count": 60,
   "id": "9e42591e",
   "metadata": {},
   "outputs": [
    {
     "data": {
      "text/plain": [
       "False"
      ]
     },
     "execution_count": 60,
     "metadata": {},
     "output_type": "execute_result"
    }
   ],
   "source": [
    "100 in a"
   ]
  },
  {
   "cell_type": "code",
   "execution_count": 61,
   "id": "20a65cef",
   "metadata": {},
   "outputs": [
    {
     "data": {
      "text/plain": [
       "True"
      ]
     },
     "execution_count": 61,
     "metadata": {},
     "output_type": "execute_result"
    }
   ],
   "source": [
    "100 not in a"
   ]
  },
  {
   "cell_type": "code",
   "execution_count": 62,
   "id": "05098730",
   "metadata": {},
   "outputs": [
    {
     "name": "stdout",
     "output_type": "stream",
     "text": [
      "10\n",
      "20\n",
      "30\n"
     ]
    }
   ],
   "source": [
    "for i in range(len(a)):\n",
    "    print(a[i])"
   ]
  },
  {
   "cell_type": "code",
   "execution_count": 63,
   "id": "7f64b4a2",
   "metadata": {},
   "outputs": [
    {
     "name": "stdout",
     "output_type": "stream",
     "text": [
      "10\n",
      "20\n",
      "30\n"
     ]
    }
   ],
   "source": [
    "for i in a:\n",
    "    print(i)"
   ]
  },
  {
   "cell_type": "markdown",
   "id": "7b40c0e7",
   "metadata": {},
   "source": [
    "### Built in functions"
   ]
  },
  {
   "cell_type": "code",
   "execution_count": 64,
   "id": "870a28bd",
   "metadata": {},
   "outputs": [],
   "source": [
    "a=[]"
   ]
  },
  {
   "cell_type": "code",
   "execution_count": 65,
   "id": "6d43b44b",
   "metadata": {},
   "outputs": [
    {
     "data": {
      "text/plain": [
       "[]"
      ]
     },
     "execution_count": 65,
     "metadata": {},
     "output_type": "execute_result"
    }
   ],
   "source": [
    "a"
   ]
  },
  {
   "cell_type": "code",
   "execution_count": 66,
   "id": "bb7b3fd9",
   "metadata": {},
   "outputs": [],
   "source": [
    "a.append(10)"
   ]
  },
  {
   "cell_type": "code",
   "execution_count": 67,
   "id": "2743a0df",
   "metadata": {},
   "outputs": [
    {
     "data": {
      "text/plain": [
       "[10]"
      ]
     },
     "execution_count": 67,
     "metadata": {},
     "output_type": "execute_result"
    }
   ],
   "source": [
    "a"
   ]
  },
  {
   "cell_type": "code",
   "execution_count": 68,
   "id": "e425776e",
   "metadata": {},
   "outputs": [],
   "source": [
    "a.append(10)"
   ]
  },
  {
   "cell_type": "code",
   "execution_count": 69,
   "id": "2e16ab43",
   "metadata": {},
   "outputs": [
    {
     "data": {
      "text/plain": [
       "[10, 10]"
      ]
     },
     "execution_count": 69,
     "metadata": {},
     "output_type": "execute_result"
    }
   ],
   "source": [
    "a"
   ]
  },
  {
   "cell_type": "code",
   "execution_count": 70,
   "id": "c1f9dd30",
   "metadata": {},
   "outputs": [],
   "source": [
    "a.append(20)"
   ]
  },
  {
   "cell_type": "code",
   "execution_count": 71,
   "id": "4c8c44c1",
   "metadata": {},
   "outputs": [],
   "source": [
    "a.extend([30,60,50,40])"
   ]
  },
  {
   "cell_type": "code",
   "execution_count": 72,
   "id": "30539118",
   "metadata": {},
   "outputs": [
    {
     "data": {
      "text/plain": [
       "[10, 10, 20, 30, 60, 50, 40]"
      ]
     },
     "execution_count": 72,
     "metadata": {},
     "output_type": "execute_result"
    }
   ],
   "source": [
    "a"
   ]
  },
  {
   "cell_type": "code",
   "execution_count": 73,
   "id": "f69f2559",
   "metadata": {},
   "outputs": [],
   "source": [
    "a.append([10,20])"
   ]
  },
  {
   "cell_type": "code",
   "execution_count": 74,
   "id": "f8d9a765",
   "metadata": {},
   "outputs": [
    {
     "data": {
      "text/plain": [
       "[10, 10, 20, 30, 60, 50, 40, [10, 20]]"
      ]
     },
     "execution_count": 74,
     "metadata": {},
     "output_type": "execute_result"
    }
   ],
   "source": [
    "a"
   ]
  },
  {
   "cell_type": "code",
   "execution_count": 75,
   "id": "be1e2747",
   "metadata": {},
   "outputs": [],
   "source": [
    "# Insert for specified index location :- insert(index,value)\n",
    "a.insert(1,222)"
   ]
  },
  {
   "cell_type": "code",
   "execution_count": 76,
   "id": "e01a609b",
   "metadata": {},
   "outputs": [
    {
     "data": {
      "text/plain": [
       "[10, 222, 10, 20, 30, 60, 50, 40, [10, 20]]"
      ]
     },
     "execution_count": 76,
     "metadata": {},
     "output_type": "execute_result"
    }
   ],
   "source": [
    "a"
   ]
  },
  {
   "cell_type": "code",
   "execution_count": 77,
   "id": "33318a8d",
   "metadata": {},
   "outputs": [],
   "source": [
    "a.remove(10)     # 1st occurance will be removed"
   ]
  },
  {
   "cell_type": "code",
   "execution_count": 78,
   "id": "4043924b",
   "metadata": {},
   "outputs": [
    {
     "data": {
      "text/plain": [
       "[222, 10, 20, 30, 60, 50, 40, [10, 20]]"
      ]
     },
     "execution_count": 78,
     "metadata": {},
     "output_type": "execute_result"
    }
   ],
   "source": [
    "a"
   ]
  },
  {
   "cell_type": "code",
   "execution_count": 79,
   "id": "2fd07478",
   "metadata": {},
   "outputs": [
    {
     "data": {
      "text/plain": [
       "[10, 20]"
      ]
     },
     "execution_count": 79,
     "metadata": {},
     "output_type": "execute_result"
    }
   ],
   "source": [
    "a.pop()  # last added element will be removed (or) we can mention index number"
   ]
  },
  {
   "cell_type": "code",
   "execution_count": 80,
   "id": "f42dd8fd",
   "metadata": {},
   "outputs": [
    {
     "data": {
      "text/plain": [
       "[222, 10, 20, 30, 60, 50, 40]"
      ]
     },
     "execution_count": 80,
     "metadata": {},
     "output_type": "execute_result"
    }
   ],
   "source": [
    "a"
   ]
  },
  {
   "cell_type": "code",
   "execution_count": 81,
   "id": "2bfc1481",
   "metadata": {},
   "outputs": [
    {
     "data": {
      "text/plain": [
       "222"
      ]
     },
     "execution_count": 81,
     "metadata": {},
     "output_type": "execute_result"
    }
   ],
   "source": [
    "a.pop(0)"
   ]
  },
  {
   "cell_type": "code",
   "execution_count": 82,
   "id": "ce7e61d5",
   "metadata": {},
   "outputs": [
    {
     "data": {
      "text/plain": [
       "[10, 20, 30, 60, 50, 40]"
      ]
     },
     "execution_count": 82,
     "metadata": {},
     "output_type": "execute_result"
    }
   ],
   "source": [
    "a"
   ]
  },
  {
   "cell_type": "code",
   "execution_count": 83,
   "id": "e4764513",
   "metadata": {},
   "outputs": [],
   "source": [
    "del a[0]  # here also we can give index number"
   ]
  },
  {
   "cell_type": "code",
   "execution_count": 84,
   "id": "9d13cd07",
   "metadata": {},
   "outputs": [
    {
     "data": {
      "text/plain": [
       "[20, 30, 60, 50, 40]"
      ]
     },
     "execution_count": 84,
     "metadata": {},
     "output_type": "execute_result"
    }
   ],
   "source": [
    "a"
   ]
  },
  {
   "cell_type": "code",
   "execution_count": 85,
   "id": "f084eba2",
   "metadata": {},
   "outputs": [],
   "source": [
    "del a # it will drop completely"
   ]
  },
  {
   "cell_type": "code",
   "execution_count": 87,
   "id": "411388a5",
   "metadata": {},
   "outputs": [
    {
     "ename": "NameError",
     "evalue": "name 'a' is not defined",
     "output_type": "error",
     "traceback": [
      "\u001b[1;31m---------------------------------------------------------------------------\u001b[0m",
      "\u001b[1;31mNameError\u001b[0m                                 Traceback (most recent call last)",
      "Cell \u001b[1;32mIn[87], line 1\u001b[0m\n\u001b[1;32m----> 1\u001b[0m a\n",
      "\u001b[1;31mNameError\u001b[0m: name 'a' is not defined"
     ]
    }
   ],
   "source": [
    "a"
   ]
  },
  {
   "cell_type": "code",
   "execution_count": 88,
   "id": "52355c83",
   "metadata": {},
   "outputs": [],
   "source": [
    "a=[1,2,3,4,5,6,7,8,9]"
   ]
  },
  {
   "cell_type": "code",
   "execution_count": 89,
   "id": "8ec8a1a2",
   "metadata": {},
   "outputs": [
    {
     "data": {
      "text/plain": [
       "[1, 2, 3, 4, 5, 6, 7, 8, 9]"
      ]
     },
     "execution_count": 89,
     "metadata": {},
     "output_type": "execute_result"
    }
   ],
   "source": [
    "a"
   ]
  },
  {
   "cell_type": "code",
   "execution_count": 90,
   "id": "44f75a4e",
   "metadata": {},
   "outputs": [],
   "source": [
    "import random"
   ]
  },
  {
   "cell_type": "code",
   "execution_count": 91,
   "id": "ffc7f25e",
   "metadata": {},
   "outputs": [],
   "source": [
    "random.shuffle(a)"
   ]
  },
  {
   "cell_type": "code",
   "execution_count": 92,
   "id": "a07c17d4",
   "metadata": {},
   "outputs": [
    {
     "data": {
      "text/plain": [
       "[6, 2, 9, 8, 4, 1, 5, 7, 3]"
      ]
     },
     "execution_count": 92,
     "metadata": {},
     "output_type": "execute_result"
    }
   ],
   "source": [
    "a"
   ]
  },
  {
   "cell_type": "code",
   "execution_count": 93,
   "id": "300ecc57",
   "metadata": {},
   "outputs": [],
   "source": [
    "a.sort()"
   ]
  },
  {
   "cell_type": "code",
   "execution_count": 94,
   "id": "faa5e422",
   "metadata": {},
   "outputs": [
    {
     "data": {
      "text/plain": [
       "[1, 2, 3, 4, 5, 6, 7, 8, 9]"
      ]
     },
     "execution_count": 94,
     "metadata": {},
     "output_type": "execute_result"
    }
   ],
   "source": [
    "a"
   ]
  },
  {
   "cell_type": "code",
   "execution_count": 95,
   "id": "36f3364d",
   "metadata": {},
   "outputs": [],
   "source": [
    "random.shuffle(a)"
   ]
  },
  {
   "cell_type": "code",
   "execution_count": 96,
   "id": "cb71431f",
   "metadata": {},
   "outputs": [
    {
     "data": {
      "text/plain": [
       "[2, 4, 5, 6, 9, 7, 1, 8, 3]"
      ]
     },
     "execution_count": 96,
     "metadata": {},
     "output_type": "execute_result"
    }
   ],
   "source": [
    "a"
   ]
  },
  {
   "cell_type": "code",
   "execution_count": 97,
   "id": "8540ef7c",
   "metadata": {},
   "outputs": [],
   "source": [
    "a.sort(reverse=True)"
   ]
  },
  {
   "cell_type": "code",
   "execution_count": 98,
   "id": "af37c55c",
   "metadata": {},
   "outputs": [
    {
     "data": {
      "text/plain": [
       "[9, 8, 7, 6, 5, 4, 3, 2, 1]"
      ]
     },
     "execution_count": 98,
     "metadata": {},
     "output_type": "execute_result"
    }
   ],
   "source": [
    "a"
   ]
  },
  {
   "cell_type": "code",
   "execution_count": 99,
   "id": "c462f380",
   "metadata": {},
   "outputs": [
    {
     "data": {
      "text/plain": [
       "[9,\n",
       " 8,\n",
       " 7,\n",
       " 6,\n",
       " 5,\n",
       " 4,\n",
       " 3,\n",
       " 2,\n",
       " 1,\n",
       " 9,\n",
       " 8,\n",
       " 7,\n",
       " 6,\n",
       " 5,\n",
       " 4,\n",
       " 3,\n",
       " 2,\n",
       " 1,\n",
       " 9,\n",
       " 8,\n",
       " 7,\n",
       " 6,\n",
       " 5,\n",
       " 4,\n",
       " 3,\n",
       " 2,\n",
       " 1]"
      ]
     },
     "execution_count": 99,
     "metadata": {},
     "output_type": "execute_result"
    }
   ],
   "source": [
    "a*3"
   ]
  },
  {
   "cell_type": "code",
   "execution_count": 100,
   "id": "8458bdf3",
   "metadata": {},
   "outputs": [
    {
     "data": {
      "text/plain": [
       "[9, 8, 7, 6, 5, 4, 3, 2, 1]"
      ]
     },
     "execution_count": 100,
     "metadata": {},
     "output_type": "execute_result"
    }
   ],
   "source": [
    "a"
   ]
  },
  {
   "cell_type": "code",
   "execution_count": 101,
   "id": "9f960a40",
   "metadata": {},
   "outputs": [],
   "source": [
    "a=a*2"
   ]
  },
  {
   "cell_type": "code",
   "execution_count": 102,
   "id": "839f1349",
   "metadata": {},
   "outputs": [
    {
     "data": {
      "text/plain": [
       "[9, 8, 7, 6, 5, 4, 3, 2, 1, 9, 8, 7, 6, 5, 4, 3, 2, 1]"
      ]
     },
     "execution_count": 102,
     "metadata": {},
     "output_type": "execute_result"
    }
   ],
   "source": [
    "a"
   ]
  },
  {
   "cell_type": "code",
   "execution_count": 103,
   "id": "7692239d",
   "metadata": {},
   "outputs": [
    {
     "data": {
      "text/plain": [
       "2"
      ]
     },
     "execution_count": 103,
     "metadata": {},
     "output_type": "execute_result"
    }
   ],
   "source": [
    "a.count(2)"
   ]
  },
  {
   "cell_type": "code",
   "execution_count": 104,
   "id": "dfdc7e6e",
   "metadata": {},
   "outputs": [
    {
     "data": {
      "text/plain": [
       "1"
      ]
     },
     "execution_count": 104,
     "metadata": {},
     "output_type": "execute_result"
    }
   ],
   "source": [
    "a.pop()"
   ]
  },
  {
   "cell_type": "code",
   "execution_count": 105,
   "id": "8268c9d9",
   "metadata": {},
   "outputs": [
    {
     "data": {
      "text/plain": [
       "1"
      ]
     },
     "execution_count": 105,
     "metadata": {},
     "output_type": "execute_result"
    }
   ],
   "source": [
    "a.count(1)"
   ]
  },
  {
   "cell_type": "code",
   "execution_count": 106,
   "id": "c22e35e6",
   "metadata": {},
   "outputs": [
    {
     "data": {
      "text/plain": [
       "0"
      ]
     },
     "execution_count": 106,
     "metadata": {},
     "output_type": "execute_result"
    }
   ],
   "source": [
    "a.index(9)   # 1st occurance element index "
   ]
  },
  {
   "cell_type": "code",
   "execution_count": 107,
   "id": "1a1beca0",
   "metadata": {},
   "outputs": [],
   "source": [
    "a.reverse()"
   ]
  },
  {
   "cell_type": "code",
   "execution_count": 108,
   "id": "329ddbdf",
   "metadata": {},
   "outputs": [
    {
     "data": {
      "text/plain": [
       "[2, 3, 4, 5, 6, 7, 8, 9, 1, 2, 3, 4, 5, 6, 7, 8, 9]"
      ]
     },
     "execution_count": 108,
     "metadata": {},
     "output_type": "execute_result"
    }
   ],
   "source": [
    "a"
   ]
  },
  {
   "cell_type": "code",
   "execution_count": 109,
   "id": "9e4077dd",
   "metadata": {},
   "outputs": [],
   "source": [
    "# List Comprehention\n",
    "a=[i**2 for i in range(0,100) if i%2==0]"
   ]
  },
  {
   "cell_type": "code",
   "execution_count": 110,
   "id": "9ee71787",
   "metadata": {},
   "outputs": [
    {
     "data": {
      "text/plain": [
       "[0,\n",
       " 4,\n",
       " 16,\n",
       " 36,\n",
       " 64,\n",
       " 100,\n",
       " 144,\n",
       " 196,\n",
       " 256,\n",
       " 324,\n",
       " 400,\n",
       " 484,\n",
       " 576,\n",
       " 676,\n",
       " 784,\n",
       " 900,\n",
       " 1024,\n",
       " 1156,\n",
       " 1296,\n",
       " 1444,\n",
       " 1600,\n",
       " 1764,\n",
       " 1936,\n",
       " 2116,\n",
       " 2304,\n",
       " 2500,\n",
       " 2704,\n",
       " 2916,\n",
       " 3136,\n",
       " 3364,\n",
       " 3600,\n",
       " 3844,\n",
       " 4096,\n",
       " 4356,\n",
       " 4624,\n",
       " 4900,\n",
       " 5184,\n",
       " 5476,\n",
       " 5776,\n",
       " 6084,\n",
       " 6400,\n",
       " 6724,\n",
       " 7056,\n",
       " 7396,\n",
       " 7744,\n",
       " 8100,\n",
       " 8464,\n",
       " 8836,\n",
       " 9216,\n",
       " 9604]"
      ]
     },
     "execution_count": 110,
     "metadata": {},
     "output_type": "execute_result"
    }
   ],
   "source": [
    "a"
   ]
  },
  {
   "cell_type": "markdown",
   "id": "bbf4f5ba",
   "metadata": {},
   "source": [
    "# Tuple\n",
    "    - set same like list data structure\n",
    "    - in tuple is a immutable :- we annot cahnge as per our requirement # cannot change, cannot add,cannot reassign\n",
    "    - in tuple we can given values with help of open paranthesis\n",
    "    - in tuple also we can store multiple datatypes\n",
    "    - in tuple we cannot modify structure, as per our requirements, still if we want to modify we need to convert list \n",
    "      and make modify and later again we will converted into tuple"
   ]
  },
  {
   "cell_type": "markdown",
   "id": "948a57cc",
   "metadata": {},
   "source": [
    "    - a[0] it is called subscript"
   ]
  },
  {
   "cell_type": "markdown",
   "id": "a18246ee",
   "metadata": {},
   "source": [
    "    - Creating a Tuple\n",
    "    - Accessing elements from Tuple\n",
    "    - Slicing\n",
    "    - Reassigning Tuple elements\n",
    "    - Deleting elements\n",
    "    - Nested Tuples\n",
    "    - Basic Operations :- +, *, len, min, max, sum, membership, iterations \n",
    "    - Built-In Methods\n",
    "        * count()\n",
    "        * index()\n",
    "        * enumarate()"
   ]
  },
  {
   "cell_type": "code",
   "execution_count": 111,
   "id": "70528765",
   "metadata": {},
   "outputs": [],
   "source": [
    "t=()"
   ]
  },
  {
   "cell_type": "code",
   "execution_count": 112,
   "id": "77a8b173",
   "metadata": {},
   "outputs": [
    {
     "data": {
      "text/plain": [
       "tuple"
      ]
     },
     "execution_count": 112,
     "metadata": {},
     "output_type": "execute_result"
    }
   ],
   "source": [
    "type(t)"
   ]
  },
  {
   "cell_type": "code",
   "execution_count": 113,
   "id": "a011a7fa",
   "metadata": {},
   "outputs": [],
   "source": [
    "t=tuple()"
   ]
  },
  {
   "cell_type": "code",
   "execution_count": 114,
   "id": "ad399df2",
   "metadata": {},
   "outputs": [
    {
     "data": {
      "text/plain": [
       "tuple"
      ]
     },
     "execution_count": 114,
     "metadata": {},
     "output_type": "execute_result"
    }
   ],
   "source": [
    "type(t)"
   ]
  },
  {
   "cell_type": "code",
   "execution_count": 115,
   "id": "1c62263b",
   "metadata": {},
   "outputs": [
    {
     "ename": "AttributeError",
     "evalue": "'tuple' object has no attribute 'append'",
     "output_type": "error",
     "traceback": [
      "\u001b[1;31m---------------------------------------------------------------------------\u001b[0m",
      "\u001b[1;31mAttributeError\u001b[0m                            Traceback (most recent call last)",
      "Cell \u001b[1;32mIn[115], line 1\u001b[0m\n\u001b[1;32m----> 1\u001b[0m t\u001b[38;5;241m.\u001b[39mappend(\u001b[38;5;241m10\u001b[39m)\n",
      "\u001b[1;31mAttributeError\u001b[0m: 'tuple' object has no attribute 'append'"
     ]
    }
   ],
   "source": [
    "t.append(10)"
   ]
  },
  {
   "cell_type": "code",
   "execution_count": 116,
   "id": "6c83f5e6",
   "metadata": {},
   "outputs": [],
   "source": [
    "t=(10,20,30,40,50)"
   ]
  },
  {
   "cell_type": "code",
   "execution_count": 117,
   "id": "2e9654bf",
   "metadata": {},
   "outputs": [
    {
     "data": {
      "text/plain": [
       "(10, 20, 30, 40, 50)"
      ]
     },
     "execution_count": 117,
     "metadata": {},
     "output_type": "execute_result"
    }
   ],
   "source": [
    "t"
   ]
  },
  {
   "cell_type": "code",
   "execution_count": 118,
   "id": "af5f569e",
   "metadata": {},
   "outputs": [
    {
     "data": {
      "text/plain": [
       "10"
      ]
     },
     "execution_count": 118,
     "metadata": {},
     "output_type": "execute_result"
    }
   ],
   "source": [
    "t[0]"
   ]
  },
  {
   "cell_type": "code",
   "execution_count": 119,
   "id": "cbe1846c",
   "metadata": {},
   "outputs": [
    {
     "data": {
      "text/plain": [
       "50"
      ]
     },
     "execution_count": 119,
     "metadata": {},
     "output_type": "execute_result"
    }
   ],
   "source": [
    "t[-1]"
   ]
  },
  {
   "cell_type": "code",
   "execution_count": 120,
   "id": "bd589e72",
   "metadata": {},
   "outputs": [
    {
     "data": {
      "text/plain": [
       "(20, 30)"
      ]
     },
     "execution_count": 120,
     "metadata": {},
     "output_type": "execute_result"
    }
   ],
   "source": [
    "t[1:3]"
   ]
  },
  {
   "cell_type": "code",
   "execution_count": 121,
   "id": "e541a1c4",
   "metadata": {},
   "outputs": [
    {
     "data": {
      "text/plain": [
       "(10, 20, 30, 40, 50)"
      ]
     },
     "execution_count": 121,
     "metadata": {},
     "output_type": "execute_result"
    }
   ],
   "source": [
    "# Reassigining not supported in tuple if we want convert list\n",
    "t"
   ]
  },
  {
   "cell_type": "code",
   "execution_count": 122,
   "id": "a97fe23c",
   "metadata": {},
   "outputs": [
    {
     "ename": "TypeError",
     "evalue": "'tuple' object does not support item assignment",
     "output_type": "error",
     "traceback": [
      "\u001b[1;31m---------------------------------------------------------------------------\u001b[0m",
      "\u001b[1;31mTypeError\u001b[0m                                 Traceback (most recent call last)",
      "Cell \u001b[1;32mIn[122], line 1\u001b[0m\n\u001b[1;32m----> 1\u001b[0m t[\u001b[38;5;241m0\u001b[39m]\u001b[38;5;241m=\u001b[39m\u001b[38;5;241m100\u001b[39m\n",
      "\u001b[1;31mTypeError\u001b[0m: 'tuple' object does not support item assignment"
     ]
    }
   ],
   "source": [
    "t[0]=100"
   ]
  },
  {
   "cell_type": "code",
   "execution_count": 123,
   "id": "2ad77f5e",
   "metadata": {},
   "outputs": [],
   "source": [
    "l=list(t)"
   ]
  },
  {
   "cell_type": "code",
   "execution_count": 124,
   "id": "330649fd",
   "metadata": {},
   "outputs": [
    {
     "data": {
      "text/plain": [
       "[10, 20, 30, 40, 50]"
      ]
     },
     "execution_count": 124,
     "metadata": {},
     "output_type": "execute_result"
    }
   ],
   "source": [
    "l"
   ]
  },
  {
   "cell_type": "code",
   "execution_count": 125,
   "id": "cc1fe46d",
   "metadata": {},
   "outputs": [],
   "source": [
    "l[0]=100"
   ]
  },
  {
   "cell_type": "code",
   "execution_count": 126,
   "id": "67b015cd",
   "metadata": {},
   "outputs": [
    {
     "data": {
      "text/plain": [
       "[100, 20, 30, 40, 50]"
      ]
     },
     "execution_count": 126,
     "metadata": {},
     "output_type": "execute_result"
    }
   ],
   "source": [
    "l"
   ]
  },
  {
   "cell_type": "code",
   "execution_count": 127,
   "id": "34163e52",
   "metadata": {},
   "outputs": [],
   "source": [
    "t=tuple(l)"
   ]
  },
  {
   "cell_type": "code",
   "execution_count": 128,
   "id": "a381f557",
   "metadata": {},
   "outputs": [
    {
     "data": {
      "text/plain": [
       "(100, 20, 30, 40, 50)"
      ]
     },
     "execution_count": 128,
     "metadata": {},
     "output_type": "execute_result"
    }
   ],
   "source": [
    "t"
   ]
  },
  {
   "cell_type": "code",
   "execution_count": 129,
   "id": "6e6ba9fa",
   "metadata": {},
   "outputs": [],
   "source": [
    "# Basic operations\n",
    "t1=(10,20,30)\n",
    "t2=(1,2,3)"
   ]
  },
  {
   "cell_type": "code",
   "execution_count": 130,
   "id": "6c9ce934",
   "metadata": {},
   "outputs": [
    {
     "data": {
      "text/plain": [
       "(10, 20, 30, 1, 2, 3)"
      ]
     },
     "execution_count": 130,
     "metadata": {},
     "output_type": "execute_result"
    }
   ],
   "source": [
    "t1+t2"
   ]
  },
  {
   "cell_type": "code",
   "execution_count": 131,
   "id": "5aba13cb",
   "metadata": {},
   "outputs": [
    {
     "data": {
      "text/plain": [
       "(10, 20, 30, 10, 20, 30)"
      ]
     },
     "execution_count": 131,
     "metadata": {},
     "output_type": "execute_result"
    }
   ],
   "source": [
    "t1*2"
   ]
  },
  {
   "cell_type": "code",
   "execution_count": 132,
   "id": "12512fee",
   "metadata": {},
   "outputs": [
    {
     "data": {
      "text/plain": [
       "(10, 20, 30)"
      ]
     },
     "execution_count": 132,
     "metadata": {},
     "output_type": "execute_result"
    }
   ],
   "source": [
    "t1"
   ]
  },
  {
   "cell_type": "code",
   "execution_count": 133,
   "id": "d230d992",
   "metadata": {},
   "outputs": [
    {
     "data": {
      "text/plain": [
       "3"
      ]
     },
     "execution_count": 133,
     "metadata": {},
     "output_type": "execute_result"
    }
   ],
   "source": [
    "len(t1)"
   ]
  },
  {
   "cell_type": "code",
   "execution_count": 134,
   "id": "f165cee2",
   "metadata": {},
   "outputs": [
    {
     "data": {
      "text/plain": [
       "10"
      ]
     },
     "execution_count": 134,
     "metadata": {},
     "output_type": "execute_result"
    }
   ],
   "source": [
    "min(t1)"
   ]
  },
  {
   "cell_type": "code",
   "execution_count": 135,
   "id": "a8ef03d7",
   "metadata": {},
   "outputs": [
    {
     "data": {
      "text/plain": [
       "30"
      ]
     },
     "execution_count": 135,
     "metadata": {},
     "output_type": "execute_result"
    }
   ],
   "source": [
    "max(t1)"
   ]
  },
  {
   "cell_type": "code",
   "execution_count": 136,
   "id": "6e863fab",
   "metadata": {},
   "outputs": [
    {
     "data": {
      "text/plain": [
       "6"
      ]
     },
     "execution_count": 136,
     "metadata": {},
     "output_type": "execute_result"
    }
   ],
   "source": [
    "sum(t2)"
   ]
  },
  {
   "cell_type": "code",
   "execution_count": 137,
   "id": "6d364161",
   "metadata": {},
   "outputs": [
    {
     "data": {
      "text/plain": [
       "True"
      ]
     },
     "execution_count": 137,
     "metadata": {},
     "output_type": "execute_result"
    }
   ],
   "source": [
    "10 in t1"
   ]
  },
  {
   "cell_type": "code",
   "execution_count": 138,
   "id": "e8fd882d",
   "metadata": {},
   "outputs": [
    {
     "name": "stdout",
     "output_type": "stream",
     "text": [
      "10\n",
      "20\n",
      "30\n"
     ]
    }
   ],
   "source": [
    "for i in t1:\n",
    "    print(i)"
   ]
  },
  {
   "cell_type": "code",
   "execution_count": 139,
   "id": "a192bfc9",
   "metadata": {},
   "outputs": [
    {
     "name": "stdout",
     "output_type": "stream",
     "text": [
      "10\n",
      "20\n",
      "30\n"
     ]
    }
   ],
   "source": [
    "for i in range(len(t1)):\n",
    "    print(t1[i])"
   ]
  },
  {
   "cell_type": "code",
   "execution_count": 140,
   "id": "f490fc9d",
   "metadata": {},
   "outputs": [],
   "source": [
    "t2=t2*3"
   ]
  },
  {
   "cell_type": "code",
   "execution_count": 141,
   "id": "2a5ee4a3",
   "metadata": {},
   "outputs": [
    {
     "data": {
      "text/plain": [
       "(1, 2, 3, 1, 2, 3, 1, 2, 3)"
      ]
     },
     "execution_count": 141,
     "metadata": {},
     "output_type": "execute_result"
    }
   ],
   "source": [
    "t2"
   ]
  },
  {
   "cell_type": "code",
   "execution_count": 142,
   "id": "bc90167b",
   "metadata": {},
   "outputs": [
    {
     "data": {
      "text/plain": [
       "3"
      ]
     },
     "execution_count": 142,
     "metadata": {},
     "output_type": "execute_result"
    }
   ],
   "source": [
    "t2.count(2)"
   ]
  },
  {
   "cell_type": "code",
   "execution_count": 143,
   "id": "872b23b9",
   "metadata": {},
   "outputs": [
    {
     "data": {
      "text/plain": [
       "1"
      ]
     },
     "execution_count": 143,
     "metadata": {},
     "output_type": "execute_result"
    }
   ],
   "source": [
    "t2.index(2) # index(element)"
   ]
  },
  {
   "cell_type": "code",
   "execution_count": 144,
   "id": "17c5d534",
   "metadata": {},
   "outputs": [],
   "source": [
    "# Nested Tuples\n",
    "t3=((10,20),(30,40,50))"
   ]
  },
  {
   "cell_type": "code",
   "execution_count": 145,
   "id": "bee92f8d",
   "metadata": {},
   "outputs": [
    {
     "data": {
      "text/plain": [
       "50"
      ]
     },
     "execution_count": 145,
     "metadata": {},
     "output_type": "execute_result"
    }
   ],
   "source": [
    "t3[1][2]"
   ]
  },
  {
   "cell_type": "code",
   "execution_count": 146,
   "id": "46f75036",
   "metadata": {},
   "outputs": [],
   "source": [
    "# inserting multiuple data types\n",
    "t4=(1,\"hari\",None,1.5,'k')"
   ]
  },
  {
   "cell_type": "code",
   "execution_count": 147,
   "id": "09fbbf11",
   "metadata": {},
   "outputs": [
    {
     "data": {
      "text/plain": [
       "(1, 'hari', None, 1.5, 'k')"
      ]
     },
     "execution_count": 147,
     "metadata": {},
     "output_type": "execute_result"
    }
   ],
   "source": [
    "t4"
   ]
  },
  {
   "cell_type": "code",
   "execution_count": 148,
   "id": "940f4860",
   "metadata": {},
   "outputs": [
    {
     "ename": "TypeError",
     "evalue": "'tuple' object doesn't support item deletion",
     "output_type": "error",
     "traceback": [
      "\u001b[1;31m---------------------------------------------------------------------------\u001b[0m",
      "\u001b[1;31mTypeError\u001b[0m                                 Traceback (most recent call last)",
      "Cell \u001b[1;32mIn[148], line 1\u001b[0m\n\u001b[1;32m----> 1\u001b[0m \u001b[38;5;28;01mdel\u001b[39;00m t1[\u001b[38;5;241m0\u001b[39m]\n",
      "\u001b[1;31mTypeError\u001b[0m: 'tuple' object doesn't support item deletion"
     ]
    }
   ],
   "source": [
    "del t1[0]"
   ]
  },
  {
   "cell_type": "code",
   "execution_count": 149,
   "id": "b46a8d55",
   "metadata": {},
   "outputs": [],
   "source": [
    "del t2"
   ]
  },
  {
   "cell_type": "code",
   "execution_count": 150,
   "id": "3d75d0ca",
   "metadata": {},
   "outputs": [
    {
     "ename": "NameError",
     "evalue": "name 't2' is not defined",
     "output_type": "error",
     "traceback": [
      "\u001b[1;31m---------------------------------------------------------------------------\u001b[0m",
      "\u001b[1;31mNameError\u001b[0m                                 Traceback (most recent call last)",
      "Cell \u001b[1;32mIn[150], line 1\u001b[0m\n\u001b[1;32m----> 1\u001b[0m t2\n",
      "\u001b[1;31mNameError\u001b[0m: name 't2' is not defined"
     ]
    }
   ],
   "source": [
    "t2"
   ]
  },
  {
   "cell_type": "markdown",
   "id": "7c7ca8a6",
   "metadata": {},
   "source": [
    "###### NOTE in only Tuple:-"
   ]
  },
  {
   "cell_type": "code",
   "execution_count": 151,
   "id": "1b6ac0cb",
   "metadata": {},
   "outputs": [],
   "source": [
    "t5=(23)  # it treate like a integer if we want to act this like a Tuple just place a , after inserting one leemnt"
   ]
  },
  {
   "cell_type": "code",
   "execution_count": 152,
   "id": "eb783311",
   "metadata": {},
   "outputs": [
    {
     "data": {
      "text/plain": [
       "int"
      ]
     },
     "execution_count": 152,
     "metadata": {},
     "output_type": "execute_result"
    }
   ],
   "source": [
    "type(t5)"
   ]
  },
  {
   "cell_type": "code",
   "execution_count": 153,
   "id": "5cfe7953",
   "metadata": {},
   "outputs": [],
   "source": [
    "t6=(56,)"
   ]
  },
  {
   "cell_type": "code",
   "execution_count": 154,
   "id": "a5c17874",
   "metadata": {},
   "outputs": [
    {
     "data": {
      "text/plain": [
       "tuple"
      ]
     },
     "execution_count": 154,
     "metadata": {},
     "output_type": "execute_result"
    }
   ],
   "source": [
    "type(t6)"
   ]
  },
  {
   "cell_type": "code",
   "execution_count": 3,
   "id": "d922b2a1",
   "metadata": {},
   "outputs": [
    {
     "name": "stdout",
     "output_type": "stream",
     "text": [
      "0 --> 10\n",
      "1 --> 20\n",
      "2 --> 10\n",
      "3 --> 30\n",
      "4 --> 40\n",
      "5 --> hari\n"
     ]
    }
   ],
   "source": [
    "l=(10,20,10,30,40,\"hari\")\n",
    "for i,j in enumerate(l):\n",
    "    print(i,\"-->\",j)"
   ]
  },
  {
   "cell_type": "markdown",
   "id": "d756589c",
   "metadata": {},
   "source": [
    "# String\n",
    "    - String is nothing but if we want to store a set of characters into one group it is called a sString\n",
    "    - String is a Immutable \n",
    "    - in string each character treated like a 1 element"
   ]
  },
  {
   "cell_type": "markdown",
   "id": "cdd93004",
   "metadata": {},
   "source": [
    "    - Creating a String\n",
    "    - Accessing elements from Strings\n",
    "    - Slicing\n",
    "    - Single, Double, Triple Quotes\n",
    "    - Format Method\n",
    "    - Basic Operations :- +, *, len, min, max, sum, membership, iterations\n",
    "    - Buil-In Methods\n",
    "        * capitalize(): Converts the first character to uppercase.\n",
    "        * center(width): Returns a centered string of specified width.\n",
    "        * count(substring, start, end): Returns the number of occurrences of a substring.\n",
    "        * endswith(suffix, start, end): Returns True if the string ends with the specified suffix.\n",
    "        * startswith(prefix, start, end): Returns True if the string starts with the specified prefix.\n",
    "        * find(substring, start, end): Returns the lowest index of the substring. Returns -1 if not found.\n",
    "        * index(substring, start, end): Like find(), but raises an exception if the substring is not found.\n",
    "        * rfind(substring, start, end): Returns the highest index of the substring.\n",
    "        * rindex(substring, start, end): Like rfind(), but raises an exception if the substring is not found.\n",
    "        * isalnum(): Returns True if all characters in the string are alphanumeric.\n",
    "        * isalpha(): Returns True if all characters in the string are alphabetic.\n",
    "        * isdigit(): Returns True if all characters in the string are digits.\n",
    "        * isspace(): Returns True if all characters in the string are whitespace.\n",
    "        * islower(): Returns True if all characters in the string are lowercase.\n",
    "        * isupper(): Returns True if all characters in the string are uppercase.\n",
    "        * istitle(): Returns True if the string is a titlecased string.\n",
    "        * ljust(width): Returns a left-justified version of the string.\n",
    "        * rjust(width): Returns a right-justified version of the string.\n",
    "        * lower(): Converts all characters to lowercase.\n",
    "        * upper(): Converts all characters to uppercase.\n",
    "        * strip(chars): Removes leading and trailing characters specified in the argument (defaults to whitespace).\n",
    "        * lstrip(chars): Removes leading characters specified in the argument (defaults to whitespace).\n",
    "        * rstrip(chars): Removes trailing characters specified in the argument (defaults to whitespace).\n",
    "        * max(): Returns the character with the highest ASCII value.\n",
    "        * min(): Returns the character with the lowest ASCII value.\n",
    "        * replace(old, new, count): Replaces occurrences of a substring with another substring.\n",
    "        * split(sep, maxsplit): Splits the string into a list of substrings.\n",
    "        * swapcase(): Swaps case of each character in the string.\n",
    "        * title(): Returns a titlecased version of the string.\n",
    "        * zfill(width): Pads the string with zeros on the left until it reaches the specified width."
   ]
  },
  {
   "cell_type": "code",
   "execution_count": 155,
   "id": "21e38ac5",
   "metadata": {},
   "outputs": [],
   "source": [
    "str=\"Python\""
   ]
  },
  {
   "cell_type": "code",
   "execution_count": 156,
   "id": "a9f7373c",
   "metadata": {},
   "outputs": [
    {
     "data": {
      "text/plain": [
       "str"
      ]
     },
     "execution_count": 156,
     "metadata": {},
     "output_type": "execute_result"
    }
   ],
   "source": [
    "type(str)"
   ]
  },
  {
   "cell_type": "code",
   "execution_count": 157,
   "id": "4a5e2f93",
   "metadata": {},
   "outputs": [
    {
     "data": {
      "text/plain": [
       "'P'"
      ]
     },
     "execution_count": 157,
     "metadata": {},
     "output_type": "execute_result"
    }
   ],
   "source": [
    "str[0]"
   ]
  },
  {
   "cell_type": "code",
   "execution_count": 158,
   "id": "e0d8ec6c",
   "metadata": {},
   "outputs": [
    {
     "data": {
      "text/plain": [
       "'n'"
      ]
     },
     "execution_count": 158,
     "metadata": {},
     "output_type": "execute_result"
    }
   ],
   "source": [
    "str[-1]"
   ]
  },
  {
   "cell_type": "code",
   "execution_count": 159,
   "id": "1a074b12",
   "metadata": {},
   "outputs": [
    {
     "data": {
      "text/plain": [
       "'Pyt'"
      ]
     },
     "execution_count": 159,
     "metadata": {},
     "output_type": "execute_result"
    }
   ],
   "source": [
    "str[0:3]"
   ]
  },
  {
   "cell_type": "code",
   "execution_count": 160,
   "id": "ab4f407b",
   "metadata": {},
   "outputs": [
    {
     "data": {
      "text/plain": [
       "'o'"
      ]
     },
     "execution_count": 160,
     "metadata": {},
     "output_type": "execute_result"
    }
   ],
   "source": [
    "str[-2]"
   ]
  },
  {
   "cell_type": "code",
   "execution_count": 161,
   "id": "de11ee11",
   "metadata": {},
   "outputs": [
    {
     "data": {
      "text/plain": [
       "'Welc'"
      ]
     },
     "execution_count": 161,
     "metadata": {},
     "output_type": "execute_result"
    }
   ],
   "source": [
    "str='Welcome to python Programming'\n",
    "str[0:4]"
   ]
  },
  {
   "cell_type": "code",
   "execution_count": 162,
   "id": "e1fff294",
   "metadata": {},
   "outputs": [
    {
     "ename": "SyntaxError",
     "evalue": "unterminated string literal (detected at line 2) (194800489.py, line 2)",
     "output_type": "error",
     "traceback": [
      "\u001b[1;36m  Cell \u001b[1;32mIn[162], line 2\u001b[1;36m\u001b[0m\n\u001b[1;33m    str='hari your's'\u001b[0m\n\u001b[1;37m                    ^\u001b[0m\n\u001b[1;31mSyntaxError\u001b[0m\u001b[1;31m:\u001b[0m unterminated string literal (detected at line 2)\n"
     ]
    }
   ],
   "source": [
    "# Single, Double, Triple Quotes\n",
    "str='hari your's'"
   ]
  },
  {
   "cell_type": "code",
   "execution_count": 163,
   "id": "13c35428",
   "metadata": {},
   "outputs": [],
   "source": [
    "str=\"hari your's\""
   ]
  },
  {
   "cell_type": "code",
   "execution_count": 164,
   "id": "c9e0d49b",
   "metadata": {},
   "outputs": [
    {
     "data": {
      "text/plain": [
       "\"hari your's\""
      ]
     },
     "execution_count": 164,
     "metadata": {},
     "output_type": "execute_result"
    }
   ],
   "source": [
    "str"
   ]
  },
  {
   "cell_type": "code",
   "execution_count": 165,
   "id": "6ba9a360",
   "metadata": {},
   "outputs": [
    {
     "data": {
      "text/plain": [
       "'hari\\nkrishna\\nkandukuru'"
      ]
     },
     "execution_count": 165,
     "metadata": {},
     "output_type": "execute_result"
    }
   ],
   "source": [
    "str=\"\"\"hari\n",
    "krishna\n",
    "kandukuru\"\"\"\n",
    "str"
   ]
  },
  {
   "cell_type": "code",
   "execution_count": 166,
   "id": "986f4df3",
   "metadata": {},
   "outputs": [
    {
     "name": "stdout",
     "output_type": "stream",
     "text": [
      "given string is : hari krishna python practice\n"
     ]
    }
   ],
   "source": [
    "# Formt Methods\n",
    "str=\"hari krishna python practice\"\n",
    "print(f\"given string is : {str}\")"
   ]
  },
  {
   "cell_type": "code",
   "execution_count": 167,
   "id": "fda022ff",
   "metadata": {},
   "outputs": [
    {
     "data": {
      "text/plain": [
       "'haripython'"
      ]
     },
     "execution_count": 167,
     "metadata": {},
     "output_type": "execute_result"
    }
   ],
   "source": [
    "# Basic operations\n",
    "s1='hari'\n",
    "s2='python'\n",
    "s1+s2"
   ]
  },
  {
   "cell_type": "code",
   "execution_count": 168,
   "id": "55a0a239",
   "metadata": {},
   "outputs": [
    {
     "data": {
      "text/plain": [
       "'hari python'"
      ]
     },
     "execution_count": 168,
     "metadata": {},
     "output_type": "execute_result"
    }
   ],
   "source": [
    "s1+\" \"+s2"
   ]
  },
  {
   "cell_type": "code",
   "execution_count": 169,
   "id": "144bb7a2",
   "metadata": {},
   "outputs": [
    {
     "data": {
      "text/plain": [
       "'hariharihari'"
      ]
     },
     "execution_count": 169,
     "metadata": {},
     "output_type": "execute_result"
    }
   ],
   "source": [
    "s1*3"
   ]
  },
  {
   "cell_type": "code",
   "execution_count": 170,
   "id": "19966c7f",
   "metadata": {},
   "outputs": [
    {
     "data": {
      "text/plain": [
       "'hari'"
      ]
     },
     "execution_count": 170,
     "metadata": {},
     "output_type": "execute_result"
    }
   ],
   "source": [
    "s1"
   ]
  },
  {
   "cell_type": "code",
   "execution_count": 171,
   "id": "e6907d38",
   "metadata": {},
   "outputs": [
    {
     "data": {
      "text/plain": [
       "6"
      ]
     },
     "execution_count": 171,
     "metadata": {},
     "output_type": "execute_result"
    }
   ],
   "source": [
    "len(s2)"
   ]
  },
  {
   "cell_type": "code",
   "execution_count": 172,
   "id": "18fecb82",
   "metadata": {},
   "outputs": [
    {
     "data": {
      "text/plain": [
       "'hari'"
      ]
     },
     "execution_count": 172,
     "metadata": {},
     "output_type": "execute_result"
    }
   ],
   "source": [
    "s1"
   ]
  },
  {
   "cell_type": "code",
   "execution_count": 173,
   "id": "7e553ea5",
   "metadata": {},
   "outputs": [
    {
     "data": {
      "text/plain": [
       "'a'"
      ]
     },
     "execution_count": 173,
     "metadata": {},
     "output_type": "execute_result"
    }
   ],
   "source": [
    "min(s1)"
   ]
  },
  {
   "cell_type": "code",
   "execution_count": 174,
   "id": "d9e843c9",
   "metadata": {},
   "outputs": [
    {
     "data": {
      "text/plain": [
       "'r'"
      ]
     },
     "execution_count": 174,
     "metadata": {},
     "output_type": "execute_result"
    }
   ],
   "source": [
    "max(s1)"
   ]
  },
  {
   "cell_type": "code",
   "execution_count": 175,
   "id": "fab26dbd",
   "metadata": {},
   "outputs": [
    {
     "ename": "TypeError",
     "evalue": "unsupported operand type(s) for +: 'int' and 'str'",
     "output_type": "error",
     "traceback": [
      "\u001b[1;31m---------------------------------------------------------------------------\u001b[0m",
      "\u001b[1;31mTypeError\u001b[0m                                 Traceback (most recent call last)",
      "Cell \u001b[1;32mIn[175], line 1\u001b[0m\n\u001b[1;32m----> 1\u001b[0m \u001b[38;5;28msum\u001b[39m(s1)\n",
      "\u001b[1;31mTypeError\u001b[0m: unsupported operand type(s) for +: 'int' and 'str'"
     ]
    }
   ],
   "source": [
    "sum(s1)"
   ]
  },
  {
   "cell_type": "code",
   "execution_count": 176,
   "id": "a22cf340",
   "metadata": {},
   "outputs": [
    {
     "data": {
      "text/plain": [
       "True"
      ]
     },
     "execution_count": 176,
     "metadata": {},
     "output_type": "execute_result"
    }
   ],
   "source": [
    "'a' in s1"
   ]
  },
  {
   "cell_type": "code",
   "execution_count": 177,
   "id": "c316e502",
   "metadata": {},
   "outputs": [
    {
     "name": "stdout",
     "output_type": "stream",
     "text": [
      "h\n",
      "a\n",
      "r\n",
      "i\n"
     ]
    }
   ],
   "source": [
    "for i in s1:\n",
    "    print(i)"
   ]
  },
  {
   "cell_type": "code",
   "execution_count": 178,
   "id": "d619fa12",
   "metadata": {},
   "outputs": [
    {
     "name": "stdout",
     "output_type": "stream",
     "text": [
      "h\n",
      "a\n",
      "r\n",
      "i\n"
     ]
    }
   ],
   "source": [
    "for i in range(len(s1)):\n",
    "    print(s1[i])"
   ]
  },
  {
   "cell_type": "code",
   "execution_count": 179,
   "id": "9eda5e8c",
   "metadata": {},
   "outputs": [
    {
     "data": {
      "text/plain": [
       "'hari'"
      ]
     },
     "execution_count": 179,
     "metadata": {},
     "output_type": "execute_result"
    }
   ],
   "source": [
    "s1"
   ]
  },
  {
   "cell_type": "code",
   "execution_count": 180,
   "id": "9eb2b85f",
   "metadata": {},
   "outputs": [
    {
     "data": {
      "text/plain": [
       "'h'"
      ]
     },
     "execution_count": 180,
     "metadata": {},
     "output_type": "execute_result"
    }
   ],
   "source": [
    "s1[0]"
   ]
  },
  {
   "cell_type": "code",
   "execution_count": 181,
   "id": "c3bf7afe",
   "metadata": {},
   "outputs": [
    {
     "ename": "TypeError",
     "evalue": "'str' object does not support item assignment",
     "output_type": "error",
     "traceback": [
      "\u001b[1;31m---------------------------------------------------------------------------\u001b[0m",
      "\u001b[1;31mTypeError\u001b[0m                                 Traceback (most recent call last)",
      "Cell \u001b[1;32mIn[181], line 1\u001b[0m\n\u001b[1;32m----> 1\u001b[0m s1[\u001b[38;5;241m0\u001b[39m]\u001b[38;5;241m=\u001b[39m\u001b[38;5;124m'\u001b[39m\u001b[38;5;124mk\u001b[39m\u001b[38;5;124m'\u001b[39m\n",
      "\u001b[1;31mTypeError\u001b[0m: 'str' object does not support item assignment"
     ]
    }
   ],
   "source": [
    "s1[0]='k'  # reassignment is not accepted because it is immutable"
   ]
  },
  {
   "cell_type": "code",
   "execution_count": 182,
   "id": "34d1d48b",
   "metadata": {},
   "outputs": [
    {
     "ename": "TypeError",
     "evalue": "'str' object doesn't support item deletion",
     "output_type": "error",
     "traceback": [
      "\u001b[1;31m---------------------------------------------------------------------------\u001b[0m",
      "\u001b[1;31mTypeError\u001b[0m                                 Traceback (most recent call last)",
      "Cell \u001b[1;32mIn[182], line 1\u001b[0m\n\u001b[1;32m----> 1\u001b[0m \u001b[38;5;28;01mdel\u001b[39;00m s1[\u001b[38;5;241m0\u001b[39m]\n",
      "\u001b[1;31mTypeError\u001b[0m: 'str' object doesn't support item deletion"
     ]
    }
   ],
   "source": [
    "del s1[0]"
   ]
  },
  {
   "cell_type": "code",
   "execution_count": 183,
   "id": "bf21c72e",
   "metadata": {},
   "outputs": [],
   "source": [
    "del s1"
   ]
  },
  {
   "cell_type": "code",
   "execution_count": 184,
   "id": "77cfa031",
   "metadata": {},
   "outputs": [
    {
     "ename": "NameError",
     "evalue": "name 's1' is not defined",
     "output_type": "error",
     "traceback": [
      "\u001b[1;31m---------------------------------------------------------------------------\u001b[0m",
      "\u001b[1;31mNameError\u001b[0m                                 Traceback (most recent call last)",
      "Cell \u001b[1;32mIn[184], line 1\u001b[0m\n\u001b[1;32m----> 1\u001b[0m s1\n",
      "\u001b[1;31mNameError\u001b[0m: name 's1' is not defined"
     ]
    }
   ],
   "source": [
    "s1"
   ]
  },
  {
   "cell_type": "code",
   "execution_count": 185,
   "id": "ae50cbe1",
   "metadata": {},
   "outputs": [
    {
     "name": "stdout",
     "output_type": "stream",
     "text": [
      "Welcome to python programming\n"
     ]
    }
   ],
   "source": [
    "# Built-in Methods\n",
    "# 1) capitalize(): Converts the first character to uppercase.\n",
    "s=\"welcome to python programming\"\n",
    "print(s.capitalize())"
   ]
  },
  {
   "cell_type": "code",
   "execution_count": 186,
   "id": "0ba07288",
   "metadata": {},
   "outputs": [
    {
     "name": "stdout",
     "output_type": "stream",
     "text": [
      "**********welcome to python programming***********\n"
     ]
    }
   ],
   "source": [
    "# 2) center(width): Returns a centered string of specified width.\n",
    "s=\"welcome to python programming\"\n",
    "print(s.center(50,\"*\"))"
   ]
  },
  {
   "cell_type": "code",
   "execution_count": 187,
   "id": "81ec9fb2",
   "metadata": {},
   "outputs": [
    {
     "name": "stdout",
     "output_type": "stream",
     "text": [
      "2\n"
     ]
    }
   ],
   "source": [
    "# 3) count(substring, start, end): Returns the number of occurrences of a substring.\n",
    "s=\"welcome to python programming\"\n",
    "print(s.count('o',1,10))"
   ]
  },
  {
   "cell_type": "code",
   "execution_count": 188,
   "id": "8697614f",
   "metadata": {},
   "outputs": [
    {
     "name": "stdout",
     "output_type": "stream",
     "text": [
      "False\n"
     ]
    }
   ],
   "source": [
    "# 4) endswith(suffix, start, end): Returns True if the string ends with the specified suffix.\n",
    "s=\"welcome to python programming\"\n",
    "print(s.endswith('a',1,10))"
   ]
  },
  {
   "cell_type": "code",
   "execution_count": 189,
   "id": "977d6013",
   "metadata": {},
   "outputs": [
    {
     "data": {
      "text/plain": [
       "'o'"
      ]
     },
     "execution_count": 189,
     "metadata": {},
     "output_type": "execute_result"
    }
   ],
   "source": [
    "s[9]"
   ]
  },
  {
   "cell_type": "code",
   "execution_count": 190,
   "id": "31e72944",
   "metadata": {},
   "outputs": [
    {
     "name": "stdout",
     "output_type": "stream",
     "text": [
      "False\n"
     ]
    }
   ],
   "source": [
    "# 5) startswith(prefix, start, end): Returns True if the string starts with the specified prefix.\n",
    "s=\"welcome to python programming\"\n",
    "print(s.startswith('a',1,10))"
   ]
  },
  {
   "cell_type": "code",
   "execution_count": 191,
   "id": "94e73179",
   "metadata": {},
   "outputs": [
    {
     "name": "stdout",
     "output_type": "stream",
     "text": [
      "-1\n"
     ]
    }
   ],
   "source": [
    "# 6) find(substring, start, end): Returns the lowest index of the substring. Returns -1 if not found.\n",
    "s=\"welcome to python programming\"\n",
    "print(s.find('hari'))"
   ]
  },
  {
   "cell_type": "markdown",
   "id": "0dbe528c",
   "metadata": {},
   "source": [
    "NOTE :- difference b/w find and index if the substring is not present in string find will throw as -1 output and index will throw an error as output"
   ]
  },
  {
   "cell_type": "code",
   "execution_count": 192,
   "id": "699415cd",
   "metadata": {},
   "outputs": [
    {
     "ename": "ValueError",
     "evalue": "substring not found",
     "output_type": "error",
     "traceback": [
      "\u001b[1;31m---------------------------------------------------------------------------\u001b[0m",
      "\u001b[1;31mValueError\u001b[0m                                Traceback (most recent call last)",
      "Cell \u001b[1;32mIn[192], line 2\u001b[0m\n\u001b[0;32m      1\u001b[0m s\u001b[38;5;241m=\u001b[39m\u001b[38;5;124m\"\u001b[39m\u001b[38;5;124mwelcome to python programming\u001b[39m\u001b[38;5;124m\"\u001b[39m\n\u001b[1;32m----> 2\u001b[0m \u001b[38;5;28mprint\u001b[39m(s\u001b[38;5;241m.\u001b[39mindex(\u001b[38;5;124m'\u001b[39m\u001b[38;5;124mhari\u001b[39m\u001b[38;5;124m'\u001b[39m))\n",
      "\u001b[1;31mValueError\u001b[0m: substring not found"
     ]
    }
   ],
   "source": [
    "s=\"welcome to python programming\"\n",
    "print(s.index('hari'))"
   ]
  },
  {
   "cell_type": "code",
   "execution_count": 193,
   "id": "a372137e",
   "metadata": {},
   "outputs": [
    {
     "name": "stdout",
     "output_type": "stream",
     "text": [
      "5\n"
     ]
    }
   ],
   "source": [
    "s=\"welcome to python programming\"\n",
    "print(s.find('m'))"
   ]
  },
  {
   "cell_type": "code",
   "execution_count": 194,
   "id": "de89495c",
   "metadata": {},
   "outputs": [
    {
     "name": "stdout",
     "output_type": "stream",
     "text": [
      "5\n"
     ]
    }
   ],
   "source": [
    "# 7) index(substring, start, end): Like find(), but raises an exception if the substring is not found.\n",
    "s=\"welcome to python programming\"\n",
    "print(s.index('m'))"
   ]
  },
  {
   "cell_type": "code",
   "execution_count": 195,
   "id": "d7f8b5c3",
   "metadata": {},
   "outputs": [
    {
     "name": "stdout",
     "output_type": "stream",
     "text": [
      "25\n"
     ]
    }
   ],
   "source": [
    "# 8) rfind(substring, start, end): Returns the highest index of the substring.\n",
    "s=\"welcome to python programming\"\n",
    "print(s.rfind('m'))"
   ]
  },
  {
   "cell_type": "code",
   "execution_count": 196,
   "id": "3422bf7b",
   "metadata": {},
   "outputs": [
    {
     "data": {
      "text/plain": [
       "'m'"
      ]
     },
     "execution_count": 196,
     "metadata": {},
     "output_type": "execute_result"
    }
   ],
   "source": [
    "s[25]"
   ]
  },
  {
   "cell_type": "code",
   "execution_count": 197,
   "id": "ded58d1c",
   "metadata": {},
   "outputs": [
    {
     "name": "stdout",
     "output_type": "stream",
     "text": [
      "25\n"
     ]
    }
   ],
   "source": [
    "# 9) rindex(substring, start, end): Like rfind(), but raises an exception if the substring is not found.\n",
    "s=\"welcome to python programming\"\n",
    "print(s.rindex('m'))"
   ]
  },
  {
   "cell_type": "code",
   "execution_count": 198,
   "id": "a570dfbb",
   "metadata": {},
   "outputs": [
    {
     "name": "stdout",
     "output_type": "stream",
     "text": [
      "False\n"
     ]
    }
   ],
   "source": [
    "# 10) isalnum(): Returns True if all characters in the string are alphanumeric.\n",
    "s='Haricme1325@gmail.com'\n",
    "print(s.isalnum())"
   ]
  },
  {
   "cell_type": "code",
   "execution_count": 199,
   "id": "bbe8e9ca",
   "metadata": {},
   "outputs": [
    {
     "name": "stdout",
     "output_type": "stream",
     "text": [
      "False\n"
     ]
    }
   ],
   "source": [
    "s=\"welcome to python programming 123\"\n",
    "print(s.isalnum())"
   ]
  },
  {
   "cell_type": "markdown",
   "id": "05ccd067",
   "metadata": {},
   "source": [
    "#### Note above program is getting error why, because space also caliculated as special character "
   ]
  },
  {
   "cell_type": "code",
   "execution_count": 200,
   "id": "82d942a9",
   "metadata": {},
   "outputs": [
    {
     "name": "stdout",
     "output_type": "stream",
     "text": [
      "True\n"
     ]
    }
   ],
   "source": [
    "s=\"programming123\"\n",
    "print(s.isalnum())"
   ]
  },
  {
   "cell_type": "code",
   "execution_count": 201,
   "id": "c1f1dd5f",
   "metadata": {},
   "outputs": [
    {
     "name": "stdout",
     "output_type": "stream",
     "text": [
      "True\n"
     ]
    }
   ],
   "source": [
    "s=\"programming\"\n",
    "print(s.isalnum())"
   ]
  },
  {
   "cell_type": "code",
   "execution_count": 202,
   "id": "ba549f36",
   "metadata": {},
   "outputs": [
    {
     "name": "stdout",
     "output_type": "stream",
     "text": [
      "True\n"
     ]
    }
   ],
   "source": [
    "s=\"123\"\n",
    "print(s.isalnum())"
   ]
  },
  {
   "cell_type": "code",
   "execution_count": 203,
   "id": "7d913959",
   "metadata": {},
   "outputs": [
    {
     "name": "stdout",
     "output_type": "stream",
     "text": [
      "True\n"
     ]
    }
   ],
   "source": [
    "# 11) isalpha(): Returns True if all characters in the string are alphabetic.\n",
    "s=\"programming\"\n",
    "print(s.isalpha())"
   ]
  },
  {
   "cell_type": "code",
   "execution_count": 204,
   "id": "4aebdaf7",
   "metadata": {},
   "outputs": [
    {
     "name": "stdout",
     "output_type": "stream",
     "text": [
      "False\n"
     ]
    }
   ],
   "source": [
    "s=\"programming123\"\n",
    "print(s.isalpha())"
   ]
  },
  {
   "cell_type": "code",
   "execution_count": 205,
   "id": "ad71cea8",
   "metadata": {},
   "outputs": [
    {
     "name": "stdout",
     "output_type": "stream",
     "text": [
      "False\n"
     ]
    }
   ],
   "source": [
    "# 12) isdigit(): Returns True if all characters in the string are digits.\n",
    "s=\"programming123\"\n",
    "print(s.isdigit())"
   ]
  },
  {
   "cell_type": "code",
   "execution_count": 206,
   "id": "becf756d",
   "metadata": {},
   "outputs": [
    {
     "name": "stdout",
     "output_type": "stream",
     "text": [
      "True\n"
     ]
    }
   ],
   "source": [
    "s=\"123\"\n",
    "print(s.isdigit())"
   ]
  },
  {
   "cell_type": "code",
   "execution_count": 207,
   "id": "45c58e8f",
   "metadata": {},
   "outputs": [
    {
     "name": "stdout",
     "output_type": "stream",
     "text": [
      "False\n"
     ]
    }
   ],
   "source": [
    "# 13) isspace(): Returns True if all characters in the string are whitespace.\n",
    "s=\"programming123\"\n",
    "print(s.isspace())"
   ]
  },
  {
   "cell_type": "code",
   "execution_count": 208,
   "id": "f7f4aa02",
   "metadata": {},
   "outputs": [
    {
     "name": "stdout",
     "output_type": "stream",
     "text": [
      "False\n"
     ]
    }
   ],
   "source": [
    "s=\" programming123\"\n",
    "print(s.isspace())"
   ]
  },
  {
   "cell_type": "code",
   "execution_count": 209,
   "id": "d1a0577f",
   "metadata": {},
   "outputs": [
    {
     "name": "stdout",
     "output_type": "stream",
     "text": [
      "False\n"
     ]
    }
   ],
   "source": [
    "s=\"  programming hari  \"\n",
    "print(s.isspace())"
   ]
  },
  {
   "cell_type": "code",
   "execution_count": 210,
   "id": "af09f302",
   "metadata": {},
   "outputs": [
    {
     "name": "stdout",
     "output_type": "stream",
     "text": [
      "True\n"
     ]
    }
   ],
   "source": [
    "s=\"  \"\n",
    "print(s.isspace())"
   ]
  },
  {
   "cell_type": "code",
   "execution_count": 211,
   "id": "d72bf133",
   "metadata": {},
   "outputs": [
    {
     "name": "stdout",
     "output_type": "stream",
     "text": [
      "True\n"
     ]
    }
   ],
   "source": [
    "# 14) islower(): Returns True if all characters in the string are lowercase.\n",
    "s=\"  programming hari  \"\n",
    "print(s.islower())"
   ]
  },
  {
   "cell_type": "code",
   "execution_count": 212,
   "id": "2235bc6a",
   "metadata": {},
   "outputs": [
    {
     "name": "stdout",
     "output_type": "stream",
     "text": [
      "True\n"
     ]
    }
   ],
   "source": [
    "s=\"programming hari123\"\n",
    "print(s.islower())"
   ]
  },
  {
   "cell_type": "code",
   "execution_count": 213,
   "id": "6564c5d3",
   "metadata": {},
   "outputs": [
    {
     "name": "stdout",
     "output_type": "stream",
     "text": [
      "False\n"
     ]
    }
   ],
   "source": [
    "s=\"Programming hari123\"\n",
    "print(s.islower())"
   ]
  },
  {
   "cell_type": "code",
   "execution_count": 214,
   "id": "fffc1e0c",
   "metadata": {},
   "outputs": [
    {
     "name": "stdout",
     "output_type": "stream",
     "text": [
      "False\n"
     ]
    }
   ],
   "source": [
    "# 15 isupper(): Returns True if all characters in the string are uppercase.\n",
    "s=\"Programming hari123\"\n",
    "print(s.isupper())"
   ]
  },
  {
   "cell_type": "code",
   "execution_count": 215,
   "id": "a66ea180",
   "metadata": {},
   "outputs": [
    {
     "name": "stdout",
     "output_type": "stream",
     "text": [
      "True\n"
     ]
    }
   ],
   "source": [
    "s=\"P123\"\n",
    "print(s.isupper())"
   ]
  },
  {
   "cell_type": "code",
   "execution_count": 216,
   "id": "978b5766",
   "metadata": {},
   "outputs": [
    {
     "name": "stdout",
     "output_type": "stream",
     "text": [
      "True\n"
     ]
    }
   ],
   "source": [
    "# 16) istitle(): Returns True if the string is a titlecased string.\n",
    "s=\"Programming Hari123\"\n",
    "print(s.istitle())"
   ]
  },
  {
   "cell_type": "code",
   "execution_count": 217,
   "id": "58d90863",
   "metadata": {},
   "outputs": [
    {
     "name": "stdout",
     "output_type": "stream",
     "text": [
      "False\n"
     ]
    }
   ],
   "source": [
    "s=\"Programming hari123\"\n",
    "print(s.istitle())"
   ]
  },
  {
   "cell_type": "code",
   "execution_count": 218,
   "id": "89ddead9",
   "metadata": {},
   "outputs": [
    {
     "name": "stdout",
     "output_type": "stream",
     "text": [
      "Programming hari12399999999999\n"
     ]
    }
   ],
   "source": [
    "# 17) ljust(width): Returns a left-justified version of the string. justified means same like center\n",
    "s=\"Programming hari123\"\n",
    "print(s.ljust(30,\"9\"))"
   ]
  },
  {
   "cell_type": "code",
   "execution_count": 219,
   "id": "ef40d3ed",
   "metadata": {},
   "outputs": [
    {
     "name": "stdout",
     "output_type": "stream",
     "text": [
      "99999999999Programming hari123\n"
     ]
    }
   ],
   "source": [
    "# 18) rjust(width): Returns a right-justified version of the string.\n",
    "s=\"Programming hari123\"\n",
    "print(s.rjust(30,\"9\"))"
   ]
  },
  {
   "cell_type": "code",
   "execution_count": 220,
   "id": "1926c7ea",
   "metadata": {},
   "outputs": [
    {
     "name": "stdout",
     "output_type": "stream",
     "text": [
      "harikrishna kandukuru 1325@\n"
     ]
    }
   ],
   "source": [
    "# 19) lower(): Converts all characters to lowercase.\n",
    "s=\"Harikrishna KANDUKURU 1325@\"\n",
    "print(s.lower())"
   ]
  },
  {
   "cell_type": "code",
   "execution_count": 221,
   "id": "cb2fbe0c",
   "metadata": {},
   "outputs": [
    {
     "name": "stdout",
     "output_type": "stream",
     "text": [
      "HARIKRISHNA KANDUKURU 1325@\n"
     ]
    }
   ],
   "source": [
    "# 20) upper(): Converts all characters to uppercase.\n",
    "s=\"Harikrishna KANDUKURU 1325@\"\n",
    "print(s.upper())"
   ]
  },
  {
   "cell_type": "code",
   "execution_count": 222,
   "id": "bc2d007a",
   "metadata": {},
   "outputs": [
    {
     "name": "stdout",
     "output_type": "stream",
     "text": [
      "before removing whiteSpacess length of String is :  35\n",
      "Harikrishna KANDUKURU 1325@\n",
      "after removing whiteSpacess length of String is :  27\n"
     ]
    }
   ],
   "source": [
    "# 21) strip(chars): Removes all the right & left side whitespacess\n",
    "s=\"      Harikrishna KANDUKURU 1325@  \"\n",
    "print(\"before removing whiteSpacess length of String is : \",len(s))\n",
    "print(s.strip())\n",
    "print(\"after removing whiteSpacess length of String is : \",len(s.strip()))"
   ]
  },
  {
   "cell_type": "code",
   "execution_count": 223,
   "id": "b511e53d",
   "metadata": {},
   "outputs": [
    {
     "name": "stdout",
     "output_type": "stream",
     "text": [
      "before removing whiteSpacess length of String is :  35\n",
      "Harikrishna KANDUKURU 1325@  \n",
      "after removing whiteSpacess length of String is :  29\n"
     ]
    }
   ],
   "source": [
    "# 22) lstrip(chars): Removes leading characters specified in the argument (defaults to whitespace).\n",
    "s=\"      Harikrishna KANDUKURU 1325@  \"\n",
    "print(\"before removing whiteSpacess length of String is : \",len(s))\n",
    "print(s.lstrip())\n",
    "print(\"after removing whiteSpacess length of String is : \",len(s.lstrip()))"
   ]
  },
  {
   "cell_type": "code",
   "execution_count": 224,
   "id": "ea74e843",
   "metadata": {},
   "outputs": [
    {
     "name": "stdout",
     "output_type": "stream",
     "text": [
      "before removing whiteSpacess length of String is :  35\n",
      "      Harikrishna KANDUKURU 1325@\n",
      "after removing whiteSpacess length of String is :  33\n"
     ]
    }
   ],
   "source": [
    "# 23) rstrip(chars): Removes trailing characters specified in the argument (defaults to whitespace).\n",
    "s=\"      Harikrishna KANDUKURU 1325@  \"\n",
    "print(\"before removing whiteSpacess length of String is : \",len(s))\n",
    "print(s.rstrip())\n",
    "print(\"after removing whiteSpacess length of String is : \",len(s.rstrip()))"
   ]
  },
  {
   "cell_type": "code",
   "execution_count": 225,
   "id": "0a3a8f23",
   "metadata": {},
   "outputs": [
    {
     "name": "stdout",
     "output_type": "stream",
     "text": [
      "s\n"
     ]
    }
   ],
   "source": [
    "# 24)  max(): Returns the character with the highest ASCII value\n",
    "s=\"Harikrishna KANDUKURU123\"\n",
    "print(max(s))"
   ]
  },
  {
   "cell_type": "code",
   "execution_count": 226,
   "id": "93be74c8",
   "metadata": {},
   "outputs": [
    {
     "name": "stdout",
     "output_type": "stream",
     "text": [
      "1\n"
     ]
    }
   ],
   "source": [
    "# 25)  min(): Returns the character with the lowest ASCII value\n",
    "s=\"HarikrishnaKANDUKURU123\"\n",
    "print(min(s))"
   ]
  },
  {
   "cell_type": "code",
   "execution_count": 227,
   "id": "5f274dd4",
   "metadata": {},
   "outputs": [
    {
     "name": "stdout",
     "output_type": "stream",
     "text": [
      "Hari krishna KANDUKURU 123 @ gmail%com\n"
     ]
    }
   ],
   "source": [
    "# 26) replace(old, new, count): Replaces occurrences of a substring with another substring.\n",
    "s=\"Hari krishna KANDUKURU 123 @ gmail.com\"\n",
    "print(s.replace('.','%'))"
   ]
  },
  {
   "cell_type": "code",
   "execution_count": 228,
   "id": "5a6bada0",
   "metadata": {},
   "outputs": [
    {
     "name": "stdout",
     "output_type": "stream",
     "text": [
      "Hari kri%shna% KAN.DUK.URU 123 @ gmail.com\n"
     ]
    }
   ],
   "source": [
    "s=\"Hari kri.shna. KAN.DUK.URU 123 @ gmail.com\"\n",
    "print(s.replace('.','%',2))"
   ]
  },
  {
   "cell_type": "code",
   "execution_count": 229,
   "id": "7f0d4670",
   "metadata": {},
   "outputs": [
    {
     "name": "stdout",
     "output_type": "stream",
     "text": [
      "['Hari kri', 'shna', ' KAN', 'DUK', 'URU 123 @ gmail', 'com']\n"
     ]
    }
   ],
   "source": [
    "# 27) split(sep, maxsplit): Splits the string into a list of substrings.\n",
    "s=\"Hari kri.shna. KAN.DUK.URU 123 @ gmail.com\"\n",
    "print(s.split('.'))"
   ]
  },
  {
   "cell_type": "code",
   "execution_count": 230,
   "id": "265520e4",
   "metadata": {},
   "outputs": [
    {
     "name": "stdout",
     "output_type": "stream",
     "text": [
      "['Hari kri', 'shna', ' KAN', 'DUK', 'URU 123 @ gmail.com']\n"
     ]
    }
   ],
   "source": [
    "s=\"Hari kri.shna. KAN.DUK.URU 123 @ gmail.com\"\n",
    "print(s.split('.',4))"
   ]
  },
  {
   "cell_type": "code",
   "execution_count": 231,
   "id": "0580f4a9",
   "metadata": {},
   "outputs": [
    {
     "name": "stdout",
     "output_type": "stream",
     "text": [
      "hARI KRI.SHNA. kan.duk.uru 123 @ GMAIL.COM\n"
     ]
    }
   ],
   "source": [
    "# 28) swapcase(): Swaps case of each character in the string. # lowers are converted into upper and upper are converted into lower\n",
    "s=\"Hari kri.shna. KAN.DUK.URU 123 @ gmail.com\"\n",
    "print(s.swapcase())"
   ]
  },
  {
   "cell_type": "code",
   "execution_count": 232,
   "id": "dd8511ab",
   "metadata": {},
   "outputs": [
    {
     "name": "stdout",
     "output_type": "stream",
     "text": [
      "Hari Kri.Shna. Kan.Duk.Uru 123 @ Gmail.Com\n"
     ]
    }
   ],
   "source": [
    "# 29) title(): Returns a titlecased version of the string.\n",
    "s=\"Hari kri.shna. KAN.DUK.URU 123 @ gmail.com\"\n",
    "print(s.title())"
   ]
  },
  {
   "cell_type": "code",
   "execution_count": 233,
   "id": "9a0a5395",
   "metadata": {
    "scrolled": true
   },
   "outputs": [
    {
     "name": "stdout",
     "output_type": "stream",
     "text": [
      "000000000000000000Hari kri.shna. KAN.DUK.URU 123 @ gmail.com\n"
     ]
    }
   ],
   "source": [
    "# 30) zfill(width): Pads the string with zeros on the left until it reaches the specified width.\n",
    "s=\"Hari kri.shna. KAN.DUK.URU 123 @ gmail.com\"\n",
    "print(s.zfill(60))"
   ]
  },
  {
   "cell_type": "markdown",
   "id": "e91d9f30",
   "metadata": {},
   "source": [
    "# Sets\n",
    "    - set is a data sctucture in python\n",
    "    - and sets are unOrdered\n",
    "    - sets wont support the indexing So no slicing\n",
    "    - sets are mutable we can change as per our requirements\n",
    "    - we can store multiple data types by providing comma separated values with curly braces{}\n",
    "    - sets wont allow duplicates and if we convert list into set that time may be duplicates are present in list, \n",
    "      set automatically drop duplicates\n",
    "    - Some performing mathematical operations we will use Sets like"
   ]
  },
  {
   "cell_type": "markdown",
   "id": "e0f39647",
   "metadata": {},
   "source": [
    "    - Creating Sets\n",
    "    - Set as an iterable\n",
    "    - Basec Operations\n",
    "        * add(element): Adds an element to the set.\n",
    "        * remove(element): Removes the specified element from the set. Raises an error if the element is not present.\n",
    "        * discard(element): Removes the specified element from the set. Does nothing if the element is not present.\n",
    "        * pop(): Removes and returns an arbitrary element from the set. Raises an error if the set is empty.\n",
    "        * clear(): Removes all elements from the set.\n",
    "        * len(): Returns the number of elements in the set.\n",
    "        * membership(element): Returns True if the element is present in the set, False otherwise.\n",
    "        * issubset(other_set): Returns True if the set is a subset of the specified set.\n",
    "        * issuperset(other_set): Returns True if the set is a superset of the specified set.\n",
    "        * union(other_set, ...): Returns a new set containing elements from the set and all specified sets.\n",
    "        * intersection(other_set, ...): Returns a new set containing common elements of the set and all specified sets.\n",
    "        * difference(other_set, ..): Returns a new set containing elements present in the set but not in the specified sets.\n",
    "        * copy(): Returns a shallow copy of the set.\n",
    "        * symmetric_difference(other_set): Returns a new set containing elements that are in either set, but not in both.\n",
    "        * update(other_set, ...): Updates the set with elements from itself and all specified sets.\n",
    "        * intersection_update(other_set, ...): Updates the set with the intersection of itself and all specified sets.\n",
    "        * difference_update(other_set, ...): Updates the set with the difference of itself and all specified sets.\n",
    "        * symmetric_difference_update(other_set): Updates the set with the symmetric difference of itself and the \n",
    "          specified set."
   ]
  },
  {
   "cell_type": "code",
   "execution_count": 234,
   "id": "ac5f9524",
   "metadata": {},
   "outputs": [],
   "source": [
    "s=()"
   ]
  },
  {
   "cell_type": "code",
   "execution_count": 235,
   "id": "a7615688",
   "metadata": {},
   "outputs": [
    {
     "data": {
      "text/plain": [
       "tuple"
      ]
     },
     "execution_count": 235,
     "metadata": {},
     "output_type": "execute_result"
    }
   ],
   "source": [
    "type(s)"
   ]
  },
  {
   "cell_type": "code",
   "execution_count": 236,
   "id": "88f6ee52",
   "metadata": {},
   "outputs": [],
   "source": [
    "s=set()"
   ]
  },
  {
   "cell_type": "code",
   "execution_count": 237,
   "id": "a2044921",
   "metadata": {},
   "outputs": [
    {
     "data": {
      "text/plain": [
       "set"
      ]
     },
     "execution_count": 237,
     "metadata": {},
     "output_type": "execute_result"
    }
   ],
   "source": [
    "type(s)"
   ]
  },
  {
   "cell_type": "code",
   "execution_count": 238,
   "id": "a7bbad94",
   "metadata": {},
   "outputs": [
    {
     "name": "stdout",
     "output_type": "stream",
     "text": [
      "{1, 2, 3, 4, 5, 40, 10, 50, 20, 30} \n",
      " <class 'set'>\n"
     ]
    }
   ],
   "source": [
    "# or\n",
    "s={10,20,30,40,50,1,2,3,4,5}\n",
    "print(s,\"\\n\",type(s))"
   ]
  },
  {
   "cell_type": "code",
   "execution_count": 239,
   "id": "2df531bf",
   "metadata": {},
   "outputs": [
    {
     "name": "stdout",
     "output_type": "stream",
     "text": [
      "{1, 2, 3, 4, 5, 40, 10, 50, 20, 30} \n",
      " <class 'set'>\n"
     ]
    }
   ],
   "source": [
    "# or\n",
    "s={10,20,30,40,40,40,50,1,2,3,4,5}\n",
    "print(s,\"\\n\",type(s))"
   ]
  },
  {
   "cell_type": "code",
   "execution_count": 240,
   "id": "0c8ca802",
   "metadata": {},
   "outputs": [],
   "source": [
    "s.add(99)"
   ]
  },
  {
   "cell_type": "code",
   "execution_count": 241,
   "id": "66fc4742",
   "metadata": {},
   "outputs": [],
   "source": [
    "s.add(100)"
   ]
  },
  {
   "cell_type": "code",
   "execution_count": 242,
   "id": "de953380",
   "metadata": {},
   "outputs": [
    {
     "data": {
      "text/plain": [
       "{1, 2, 3, 4, 5, 10, 20, 30, 40, 50, 99, 100}"
      ]
     },
     "execution_count": 242,
     "metadata": {},
     "output_type": "execute_result"
    }
   ],
   "source": [
    "s"
   ]
  },
  {
   "cell_type": "code",
   "execution_count": 243,
   "id": "7546d37e",
   "metadata": {},
   "outputs": [],
   "source": [
    "s.remove(2)"
   ]
  },
  {
   "cell_type": "code",
   "execution_count": 244,
   "id": "39621904",
   "metadata": {},
   "outputs": [
    {
     "data": {
      "text/plain": [
       "{1, 3, 4, 5, 10, 20, 30, 40, 50, 99, 100}"
      ]
     },
     "execution_count": 244,
     "metadata": {},
     "output_type": "execute_result"
    }
   ],
   "source": [
    "s"
   ]
  },
  {
   "cell_type": "code",
   "execution_count": 245,
   "id": "87c53649",
   "metadata": {},
   "outputs": [],
   "source": [
    "s.discard(3)"
   ]
  },
  {
   "cell_type": "code",
   "execution_count": 246,
   "id": "28da7b8a",
   "metadata": {},
   "outputs": [
    {
     "data": {
      "text/plain": [
       "{1, 4, 5, 10, 20, 30, 40, 50, 99, 100}"
      ]
     },
     "execution_count": 246,
     "metadata": {},
     "output_type": "execute_result"
    }
   ],
   "source": [
    "s"
   ]
  },
  {
   "cell_type": "markdown",
   "id": "ba182b68",
   "metadata": {},
   "source": [
    "Difference b/w remove and discard is :- remove Raises an error if the element is not present & discard Does nothing if the element is not present."
   ]
  },
  {
   "cell_type": "code",
   "execution_count": 247,
   "id": "4d0f013c",
   "metadata": {},
   "outputs": [
    {
     "ename": "KeyError",
     "evalue": "1000",
     "output_type": "error",
     "traceback": [
      "\u001b[1;31m---------------------------------------------------------------------------\u001b[0m",
      "\u001b[1;31mKeyError\u001b[0m                                  Traceback (most recent call last)",
      "Cell \u001b[1;32mIn[247], line 1\u001b[0m\n\u001b[1;32m----> 1\u001b[0m s\u001b[38;5;241m.\u001b[39mremove(\u001b[38;5;241m1000\u001b[39m)\n",
      "\u001b[1;31mKeyError\u001b[0m: 1000"
     ]
    }
   ],
   "source": [
    "s.remove(1000)"
   ]
  },
  {
   "cell_type": "code",
   "execution_count": 248,
   "id": "358696e0",
   "metadata": {},
   "outputs": [],
   "source": [
    "s.discard(1000)"
   ]
  },
  {
   "cell_type": "code",
   "execution_count": 249,
   "id": "8454cd7f",
   "metadata": {},
   "outputs": [
    {
     "data": {
      "text/plain": [
       "{1, 4, 5, 10, 20, 30, 40, 50, 99, 100}"
      ]
     },
     "execution_count": 249,
     "metadata": {},
     "output_type": "execute_result"
    }
   ],
   "source": [
    "s"
   ]
  },
  {
   "cell_type": "code",
   "execution_count": 250,
   "id": "ba1dfdd2",
   "metadata": {},
   "outputs": [
    {
     "data": {
      "text/plain": [
       "1"
      ]
     },
     "execution_count": 250,
     "metadata": {},
     "output_type": "execute_result"
    }
   ],
   "source": [
    "s.pop()   # based on set point of view it will remove the last element"
   ]
  },
  {
   "cell_type": "code",
   "execution_count": 251,
   "id": "c919d701",
   "metadata": {},
   "outputs": [
    {
     "data": {
      "text/plain": [
       "{4, 5, 10, 20, 30, 40, 50, 99, 100}"
      ]
     },
     "execution_count": 251,
     "metadata": {},
     "output_type": "execute_result"
    }
   ],
   "source": [
    "s"
   ]
  },
  {
   "cell_type": "code",
   "execution_count": 252,
   "id": "7a006adb",
   "metadata": {},
   "outputs": [],
   "source": [
    "s.clear()"
   ]
  },
  {
   "cell_type": "code",
   "execution_count": 253,
   "id": "df01f016",
   "metadata": {},
   "outputs": [
    {
     "data": {
      "text/plain": [
       "set()"
      ]
     },
     "execution_count": 253,
     "metadata": {},
     "output_type": "execute_result"
    }
   ],
   "source": [
    "s"
   ]
  },
  {
   "cell_type": "code",
   "execution_count": 254,
   "id": "2c79c9fe",
   "metadata": {},
   "outputs": [],
   "source": [
    "s={10,20,30}"
   ]
  },
  {
   "cell_type": "code",
   "execution_count": 255,
   "id": "967a1343",
   "metadata": {},
   "outputs": [
    {
     "data": {
      "text/plain": [
       "set"
      ]
     },
     "execution_count": 255,
     "metadata": {},
     "output_type": "execute_result"
    }
   ],
   "source": [
    "type(s)"
   ]
  },
  {
   "cell_type": "code",
   "execution_count": 256,
   "id": "ae072b1f",
   "metadata": {},
   "outputs": [
    {
     "ename": "TypeError",
     "evalue": "'set' object doesn't support item deletion",
     "output_type": "error",
     "traceback": [
      "\u001b[1;31m---------------------------------------------------------------------------\u001b[0m",
      "\u001b[1;31mTypeError\u001b[0m                                 Traceback (most recent call last)",
      "Cell \u001b[1;32mIn[256], line 1\u001b[0m\n\u001b[1;32m----> 1\u001b[0m \u001b[38;5;28;01mdel\u001b[39;00m s[\u001b[38;5;241m0\u001b[39m]\n",
      "\u001b[1;31mTypeError\u001b[0m: 'set' object doesn't support item deletion"
     ]
    }
   ],
   "source": [
    "del s[0]"
   ]
  },
  {
   "cell_type": "code",
   "execution_count": 257,
   "id": "bd779511",
   "metadata": {},
   "outputs": [],
   "source": [
    "del s"
   ]
  },
  {
   "cell_type": "code",
   "execution_count": 258,
   "id": "b38466f6",
   "metadata": {},
   "outputs": [
    {
     "ename": "NameError",
     "evalue": "name 's' is not defined",
     "output_type": "error",
     "traceback": [
      "\u001b[1;31m---------------------------------------------------------------------------\u001b[0m",
      "\u001b[1;31mNameError\u001b[0m                                 Traceback (most recent call last)",
      "Cell \u001b[1;32mIn[258], line 1\u001b[0m\n\u001b[1;32m----> 1\u001b[0m s\n",
      "\u001b[1;31mNameError\u001b[0m: name 's' is not defined"
     ]
    }
   ],
   "source": [
    "s"
   ]
  },
  {
   "cell_type": "code",
   "execution_count": 259,
   "id": "bccfea03",
   "metadata": {},
   "outputs": [
    {
     "data": {
      "text/plain": [
       "{1, 2, 3, 4, 10, 20, 30, 40, 1000}"
      ]
     },
     "execution_count": 259,
     "metadata": {},
     "output_type": "execute_result"
    }
   ],
   "source": [
    "s={10,20,30,1000,40,1,2,3,4}\n",
    "s"
   ]
  },
  {
   "cell_type": "code",
   "execution_count": 260,
   "id": "046cd8c1",
   "metadata": {},
   "outputs": [
    {
     "data": {
      "text/plain": [
       "9"
      ]
     },
     "execution_count": 260,
     "metadata": {},
     "output_type": "execute_result"
    }
   ],
   "source": [
    "len(s)"
   ]
  },
  {
   "cell_type": "code",
   "execution_count": 261,
   "id": "5b8b97c4",
   "metadata": {},
   "outputs": [
    {
     "data": {
      "text/plain": [
       "True"
      ]
     },
     "execution_count": 261,
     "metadata": {},
     "output_type": "execute_result"
    }
   ],
   "source": [
    "# membership\n",
    "10 in s"
   ]
  },
  {
   "cell_type": "code",
   "execution_count": 262,
   "id": "5467e186",
   "metadata": {},
   "outputs": [
    {
     "data": {
      "text/plain": [
       "True"
      ]
     },
     "execution_count": 262,
     "metadata": {},
     "output_type": "execute_result"
    }
   ],
   "source": [
    "2000 not in s"
   ]
  },
  {
   "cell_type": "code",
   "execution_count": 263,
   "id": "53fcedca",
   "metadata": {},
   "outputs": [
    {
     "ename": "TypeError",
     "evalue": "'set' object is not subscriptable",
     "output_type": "error",
     "traceback": [
      "\u001b[1;31m---------------------------------------------------------------------------\u001b[0m",
      "\u001b[1;31mTypeError\u001b[0m                                 Traceback (most recent call last)",
      "Cell \u001b[1;32mIn[263], line 1\u001b[0m\n\u001b[1;32m----> 1\u001b[0m s[\u001b[38;5;241m0\u001b[39m]\n",
      "\u001b[1;31mTypeError\u001b[0m: 'set' object is not subscriptable"
     ]
    }
   ],
   "source": [
    "s[0]"
   ]
  },
  {
   "cell_type": "code",
   "execution_count": 264,
   "id": "abbbeed0",
   "metadata": {},
   "outputs": [
    {
     "name": "stdout",
     "output_type": "stream",
     "text": [
      "1\n",
      "2\n",
      "3\n",
      "4\n",
      "1000\n",
      "40\n",
      "10\n",
      "20\n",
      "30\n"
     ]
    }
   ],
   "source": [
    "for i in s:\n",
    "    print(i)"
   ]
  },
  {
   "cell_type": "code",
   "execution_count": 265,
   "id": "c56c142f",
   "metadata": {},
   "outputs": [
    {
     "ename": "TypeError",
     "evalue": "'set' object is not subscriptable",
     "output_type": "error",
     "traceback": [
      "\u001b[1;31m---------------------------------------------------------------------------\u001b[0m",
      "\u001b[1;31mTypeError\u001b[0m                                 Traceback (most recent call last)",
      "Cell \u001b[1;32mIn[265], line 2\u001b[0m\n\u001b[0;32m      1\u001b[0m \u001b[38;5;28;01mfor\u001b[39;00m i \u001b[38;5;129;01min\u001b[39;00m \u001b[38;5;28mrange\u001b[39m(\u001b[38;5;28mlen\u001b[39m(s)):\n\u001b[1;32m----> 2\u001b[0m     \u001b[38;5;28mprint\u001b[39m(s[i])\n",
      "\u001b[1;31mTypeError\u001b[0m: 'set' object is not subscriptable"
     ]
    }
   ],
   "source": [
    "for i in range(len(s)):\n",
    "    print(s[i])"
   ]
  },
  {
   "cell_type": "code",
   "execution_count": 266,
   "id": "9e1b8c1f",
   "metadata": {},
   "outputs": [
    {
     "data": {
      "text/plain": [
       "True"
      ]
     },
     "execution_count": 266,
     "metadata": {},
     "output_type": "execute_result"
    }
   ],
   "source": [
    "# issubset(other_set): Returns True if the set is a subset of the specified set.\n",
    "s1={10,20,30}\n",
    "s2={10,20,30,40,50,60}\n",
    "s1.issubset(s2)"
   ]
  },
  {
   "cell_type": "code",
   "execution_count": 267,
   "id": "88157f11",
   "metadata": {},
   "outputs": [
    {
     "data": {
      "text/plain": [
       "False"
      ]
     },
     "execution_count": 267,
     "metadata": {},
     "output_type": "execute_result"
    }
   ],
   "source": [
    "# issuperset(other_set): Returns True if the set is a superset of the specified set.\n",
    "s1={10,20,30}\n",
    "s2={10,20,30,40,50,60}\n",
    "s1.issuperset(s2)"
   ]
  },
  {
   "cell_type": "code",
   "execution_count": 268,
   "id": "30318bb6",
   "metadata": {},
   "outputs": [
    {
     "data": {
      "text/plain": [
       "{10, 20, 30, 40, 50, 60}"
      ]
     },
     "execution_count": 268,
     "metadata": {},
     "output_type": "execute_result"
    }
   ],
   "source": [
    "# union(other_set, ...): Returns a new set containing elements from the set and all specified sets.\n",
    "s1={10,20,30}\n",
    "s2={10,20,30,40,50,60}\n",
    "s1.union(s2)"
   ]
  },
  {
   "cell_type": "code",
   "execution_count": 269,
   "id": "251ce474",
   "metadata": {},
   "outputs": [
    {
     "data": {
      "text/plain": [
       "{10, 20, 30}"
      ]
     },
     "execution_count": 269,
     "metadata": {},
     "output_type": "execute_result"
    }
   ],
   "source": [
    "# intersection(other_set, ...): Returns a new set containing common elements of the set and all specified sets.\n",
    "s1={10,20,30}\n",
    "s2={10,20,30,40,50,60}\n",
    "s1.intersection(s2)"
   ]
  },
  {
   "cell_type": "code",
   "execution_count": 270,
   "id": "7587b232",
   "metadata": {},
   "outputs": [
    {
     "data": {
      "text/plain": [
       "{40, 50, 60}"
      ]
     },
     "execution_count": 270,
     "metadata": {},
     "output_type": "execute_result"
    }
   ],
   "source": [
    "# difference(other_set, ..): Returns a new set containing elements present in the set but not in the specified sets.\n",
    "s1={10,20,30}\n",
    "s2={10,20,30,40,50,60}\n",
    "s2.difference(s1)"
   ]
  },
  {
   "cell_type": "code",
   "execution_count": 271,
   "id": "d34b9f61",
   "metadata": {},
   "outputs": [
    {
     "data": {
      "text/plain": [
       "{40, 50, 60, 100}"
      ]
     },
     "execution_count": 271,
     "metadata": {},
     "output_type": "execute_result"
    }
   ],
   "source": [
    "# symmetric_difference(other_set): Returns a new set containing elements that are in either set, but not in both.\n",
    "s1={10,20,30,100}\n",
    "s2={10,20,30,40,50,60}\n",
    "s1.symmetric_difference(s2)"
   ]
  },
  {
   "cell_type": "code",
   "execution_count": 272,
   "id": "fde6226a",
   "metadata": {},
   "outputs": [],
   "source": [
    "# update(other_set, ...): Updates the set with elements from itself and all specified sets.\n",
    "s1={10,20,30,100}\n",
    "s2={10,20,30,40,50,60}\n",
    "s1.update(s2)"
   ]
  },
  {
   "cell_type": "code",
   "execution_count": 273,
   "id": "1a714df3",
   "metadata": {},
   "outputs": [
    {
     "data": {
      "text/plain": [
       "{10, 20, 30, 40, 50, 60, 100}"
      ]
     },
     "execution_count": 273,
     "metadata": {},
     "output_type": "execute_result"
    }
   ],
   "source": [
    "s1"
   ]
  },
  {
   "cell_type": "code",
   "execution_count": 274,
   "id": "db1ddfab",
   "metadata": {},
   "outputs": [],
   "source": [
    "# intersection_update(other_set, ...): Updates the set with the intersection of itself and all specified sets.\n",
    "s1={10,20,30,100}\n",
    "s2={10,20,30,40,50,60}\n",
    "s1.intersection_update(s2)"
   ]
  },
  {
   "cell_type": "code",
   "execution_count": 275,
   "id": "1ffa58be",
   "metadata": {},
   "outputs": [
    {
     "data": {
      "text/plain": [
       "{10, 20, 30}"
      ]
     },
     "execution_count": 275,
     "metadata": {},
     "output_type": "execute_result"
    }
   ],
   "source": [
    "s1"
   ]
  },
  {
   "cell_type": "code",
   "execution_count": 276,
   "id": "bbced1b0",
   "metadata": {},
   "outputs": [],
   "source": [
    "# difference_update(other_set, ...): Updates the set with the difference of itself and all specified sets.\n",
    "s1={10,20,30,100}\n",
    "s2={10,20,30,40,50,60}\n",
    "s1.difference_update(s2)"
   ]
  },
  {
   "cell_type": "code",
   "execution_count": 277,
   "id": "561884c8",
   "metadata": {},
   "outputs": [
    {
     "data": {
      "text/plain": [
       "{100}"
      ]
     },
     "execution_count": 277,
     "metadata": {},
     "output_type": "execute_result"
    }
   ],
   "source": [
    "s1"
   ]
  },
  {
   "cell_type": "code",
   "execution_count": 278,
   "id": "5072df30",
   "metadata": {},
   "outputs": [],
   "source": [
    "# symmetric_difference_update(other_set): Updates the set with the symmetric difference of itself and the specified set.\n",
    "s1={10,20,30,100}\n",
    "s2={10,20,30,40,50,60}\n",
    "s1.symmetric_difference_update(s2)"
   ]
  },
  {
   "cell_type": "code",
   "execution_count": 279,
   "id": "b030f96c",
   "metadata": {},
   "outputs": [
    {
     "data": {
      "text/plain": [
       "{40, 50, 60, 100}"
      ]
     },
     "execution_count": 279,
     "metadata": {},
     "output_type": "execute_result"
    }
   ],
   "source": [
    "s1"
   ]
  },
  {
   "cell_type": "markdown",
   "id": "1da71706",
   "metadata": {},
   "source": [
    "# Dictionaries\n",
    "    - in dictionarys we will store elements(items) like key value pairs\n",
    "    - dictionary is a mutable \n",
    "    - in dictionary it can accept multiple data types\n",
    "    - in dictionary it won'nt accept duplicated keys\n",
    "    - we can access elements throuth keys "
   ]
  },
  {
   "cell_type": "markdown",
   "id": "b583acd1",
   "metadata": {},
   "source": [
    "    - Creating a Dictionary\n",
    "    - Accessing items from dictionary\n",
    "    - Updating Dictionary\n",
    "    - Reassigning items\n",
    "    - Deleting items\n",
    "    - Dictionary Comprehension\n",
    "    - Built-In Methods\n",
    "        * clear()\n",
    "        * copy()\n",
    "        * items()\n",
    "        * values()\n",
    "        * keys()\n",
    "        * update()"
   ]
  },
  {
   "cell_type": "code",
   "execution_count": 280,
   "id": "3b5140cd",
   "metadata": {},
   "outputs": [],
   "source": [
    "d={}"
   ]
  },
  {
   "cell_type": "code",
   "execution_count": 281,
   "id": "c8e7c419",
   "metadata": {},
   "outputs": [
    {
     "data": {
      "text/plain": [
       "dict"
      ]
     },
     "execution_count": 281,
     "metadata": {},
     "output_type": "execute_result"
    }
   ],
   "source": [
    "type(d)"
   ]
  },
  {
   "cell_type": "code",
   "execution_count": 282,
   "id": "454fa5ce",
   "metadata": {},
   "outputs": [],
   "source": [
    "d=dict()"
   ]
  },
  {
   "cell_type": "code",
   "execution_count": 283,
   "id": "a40f2875",
   "metadata": {},
   "outputs": [
    {
     "data": {
      "text/plain": [
       "dict"
      ]
     },
     "execution_count": 283,
     "metadata": {},
     "output_type": "execute_result"
    }
   ],
   "source": [
    "type(d)"
   ]
  },
  {
   "cell_type": "code",
   "execution_count": 284,
   "id": "530bf29b",
   "metadata": {},
   "outputs": [],
   "source": [
    "d={\"name\":'Hari',\"perc\":1000}"
   ]
  },
  {
   "cell_type": "code",
   "execution_count": 285,
   "id": "9cbd54d7",
   "metadata": {},
   "outputs": [
    {
     "data": {
      "text/plain": [
       "{'name': 'Hari', 'perc': 1000}"
      ]
     },
     "execution_count": 285,
     "metadata": {},
     "output_type": "execute_result"
    }
   ],
   "source": [
    "d"
   ]
  },
  {
   "cell_type": "code",
   "execution_count": 286,
   "id": "dd1dfc17",
   "metadata": {},
   "outputs": [
    {
     "data": {
      "text/plain": [
       "dict_items([('name', 'Hari'), ('perc', 1000)])"
      ]
     },
     "execution_count": 286,
     "metadata": {},
     "output_type": "execute_result"
    }
   ],
   "source": [
    "d.items()"
   ]
  },
  {
   "cell_type": "code",
   "execution_count": 287,
   "id": "c601c49f",
   "metadata": {},
   "outputs": [
    {
     "data": {
      "text/plain": [
       "dict_keys(['name', 'perc'])"
      ]
     },
     "execution_count": 287,
     "metadata": {},
     "output_type": "execute_result"
    }
   ],
   "source": [
    "d.keys()"
   ]
  },
  {
   "cell_type": "code",
   "execution_count": 288,
   "id": "ac84736f",
   "metadata": {},
   "outputs": [
    {
     "data": {
      "text/plain": [
       "dict_values(['Hari', 1000])"
      ]
     },
     "execution_count": 288,
     "metadata": {},
     "output_type": "execute_result"
    }
   ],
   "source": [
    "d.values()"
   ]
  },
  {
   "cell_type": "code",
   "execution_count": 289,
   "id": "8e5ac414",
   "metadata": {},
   "outputs": [
    {
     "data": {
      "text/plain": [
       "'Hari'"
      ]
     },
     "execution_count": 289,
     "metadata": {},
     "output_type": "execute_result"
    }
   ],
   "source": [
    "d['name']"
   ]
  },
  {
   "cell_type": "code",
   "execution_count": 290,
   "id": "660f9681",
   "metadata": {},
   "outputs": [
    {
     "data": {
      "text/plain": [
       "1000"
      ]
     },
     "execution_count": 290,
     "metadata": {},
     "output_type": "execute_result"
    }
   ],
   "source": [
    "d['perc']"
   ]
  },
  {
   "cell_type": "code",
   "execution_count": 291,
   "id": "ca6b0e1d",
   "metadata": {},
   "outputs": [],
   "source": [
    "d['perc']=70"
   ]
  },
  {
   "cell_type": "code",
   "execution_count": 292,
   "id": "76e5087d",
   "metadata": {},
   "outputs": [
    {
     "data": {
      "text/plain": [
       "{'name': 'Hari', 'perc': 70}"
      ]
     },
     "execution_count": 292,
     "metadata": {},
     "output_type": "execute_result"
    }
   ],
   "source": [
    "d"
   ]
  },
  {
   "cell_type": "code",
   "execution_count": 293,
   "id": "a2c6f7a4",
   "metadata": {},
   "outputs": [],
   "source": [
    "d['collage']='Imarticus Learning'"
   ]
  },
  {
   "cell_type": "code",
   "execution_count": 294,
   "id": "66911e6b",
   "metadata": {},
   "outputs": [
    {
     "data": {
      "text/plain": [
       "{'name': 'Hari', 'perc': 70, 'collage': 'Imarticus Learning'}"
      ]
     },
     "execution_count": 294,
     "metadata": {},
     "output_type": "execute_result"
    }
   ],
   "source": [
    "d"
   ]
  },
  {
   "cell_type": "code",
   "execution_count": 295,
   "id": "1623046a",
   "metadata": {},
   "outputs": [
    {
     "data": {
      "text/plain": [
       "3"
      ]
     },
     "execution_count": 295,
     "metadata": {},
     "output_type": "execute_result"
    }
   ],
   "source": [
    "len(d)"
   ]
  },
  {
   "cell_type": "code",
   "execution_count": 296,
   "id": "e0587b6a",
   "metadata": {},
   "outputs": [],
   "source": [
    "del d['collage']"
   ]
  },
  {
   "cell_type": "code",
   "execution_count": 297,
   "id": "d62f51f1",
   "metadata": {},
   "outputs": [
    {
     "data": {
      "text/plain": [
       "{'name': 'Hari', 'perc': 70}"
      ]
     },
     "execution_count": 297,
     "metadata": {},
     "output_type": "execute_result"
    }
   ],
   "source": [
    "d"
   ]
  },
  {
   "cell_type": "code",
   "execution_count": 298,
   "id": "376bed31",
   "metadata": {},
   "outputs": [
    {
     "data": {
      "text/plain": [
       "2"
      ]
     },
     "execution_count": 298,
     "metadata": {},
     "output_type": "execute_result"
    }
   ],
   "source": [
    "len(d)"
   ]
  },
  {
   "cell_type": "code",
   "execution_count": 299,
   "id": "0b0e14ad",
   "metadata": {},
   "outputs": [],
   "source": [
    "del d"
   ]
  },
  {
   "cell_type": "code",
   "execution_count": 300,
   "id": "c93ecf45",
   "metadata": {},
   "outputs": [
    {
     "ename": "NameError",
     "evalue": "name 'd' is not defined",
     "output_type": "error",
     "traceback": [
      "\u001b[1;31m---------------------------------------------------------------------------\u001b[0m",
      "\u001b[1;31mNameError\u001b[0m                                 Traceback (most recent call last)",
      "Cell \u001b[1;32mIn[300], line 1\u001b[0m\n\u001b[1;32m----> 1\u001b[0m d\n",
      "\u001b[1;31mNameError\u001b[0m: name 'd' is not defined"
     ]
    }
   ],
   "source": [
    "d"
   ]
  },
  {
   "cell_type": "code",
   "execution_count": 301,
   "id": "2b95852e",
   "metadata": {},
   "outputs": [],
   "source": [
    "d={\"name\":'Hari',\"perc\":1000}"
   ]
  },
  {
   "cell_type": "code",
   "execution_count": 302,
   "id": "b483ba4a",
   "metadata": {},
   "outputs": [
    {
     "data": {
      "text/plain": [
       "{'name': 'Hari', 'perc': 1000}"
      ]
     },
     "execution_count": 302,
     "metadata": {},
     "output_type": "execute_result"
    }
   ],
   "source": [
    "d"
   ]
  },
  {
   "cell_type": "code",
   "execution_count": 303,
   "id": "0ca6dc8e",
   "metadata": {},
   "outputs": [],
   "source": [
    "d.clear()"
   ]
  },
  {
   "cell_type": "code",
   "execution_count": 304,
   "id": "38ef1001",
   "metadata": {},
   "outputs": [
    {
     "data": {
      "text/plain": [
       "{}"
      ]
     },
     "execution_count": 304,
     "metadata": {},
     "output_type": "execute_result"
    }
   ],
   "source": [
    "d"
   ]
  },
  {
   "cell_type": "code",
   "execution_count": 305,
   "id": "b459a9cb",
   "metadata": {},
   "outputs": [],
   "source": [
    "d={\"name\":'Hari',\"perc\":1000}"
   ]
  },
  {
   "cell_type": "code",
   "execution_count": 306,
   "id": "a87de8dd",
   "metadata": {},
   "outputs": [],
   "source": [
    "d1={'collage':'Imarticus Learning'}"
   ]
  },
  {
   "cell_type": "code",
   "execution_count": 307,
   "id": "a85fcb4d",
   "metadata": {},
   "outputs": [],
   "source": [
    "d.update(d1)"
   ]
  },
  {
   "cell_type": "code",
   "execution_count": 308,
   "id": "5cca4722",
   "metadata": {},
   "outputs": [
    {
     "data": {
      "text/plain": [
       "{'name': 'Hari', 'perc': 1000, 'collage': 'Imarticus Learning'}"
      ]
     },
     "execution_count": 308,
     "metadata": {},
     "output_type": "execute_result"
    }
   ],
   "source": [
    "d"
   ]
  },
  {
   "cell_type": "code",
   "execution_count": 309,
   "id": "f75e1ca5",
   "metadata": {},
   "outputs": [],
   "source": [
    "d={i:i*2 for i in range(11)}"
   ]
  },
  {
   "cell_type": "code",
   "execution_count": 310,
   "id": "aa19dedb",
   "metadata": {},
   "outputs": [
    {
     "data": {
      "text/plain": [
       "{0: 0, 1: 2, 2: 4, 3: 6, 4: 8, 5: 10, 6: 12, 7: 14, 8: 16, 9: 18, 10: 20}"
      ]
     },
     "execution_count": 310,
     "metadata": {},
     "output_type": "execute_result"
    }
   ],
   "source": [
    "d"
   ]
  },
  {
   "cell_type": "code",
   "execution_count": null,
   "id": "f949d2a4",
   "metadata": {},
   "outputs": [],
   "source": []
  },
  {
   "cell_type": "code",
   "execution_count": null,
   "id": "498717bd",
   "metadata": {},
   "outputs": [],
   "source": []
  },
  {
   "cell_type": "code",
   "execution_count": null,
   "id": "abee46e2",
   "metadata": {},
   "outputs": [],
   "source": []
  },
  {
   "cell_type": "code",
   "execution_count": null,
   "id": "5d0a6fce",
   "metadata": {},
   "outputs": [],
   "source": []
  }
 ],
 "metadata": {
  "kernelspec": {
   "display_name": "Python 3 (ipykernel)",
   "language": "python",
   "name": "python3"
  },
  "language_info": {
   "codemirror_mode": {
    "name": "ipython",
    "version": 3
   },
   "file_extension": ".py",
   "mimetype": "text/x-python",
   "name": "python",
   "nbconvert_exporter": "python",
   "pygments_lexer": "ipython3",
   "version": "3.11.4"
  }
 },
 "nbformat": 4,
 "nbformat_minor": 5
}
